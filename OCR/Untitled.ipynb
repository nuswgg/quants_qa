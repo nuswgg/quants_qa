{
 "cells": [
  {
   "cell_type": "code",
   "execution_count": 4,
   "metadata": {},
   "outputs": [],
   "source": [
    "from cnocr import CnOcr"
   ]
  },
  {
   "cell_type": "code",
   "execution_count": 6,
   "metadata": {},
   "outputs": [],
   "source": [
    "img_fp = r\"20220921.jpg\""
   ]
  },
  {
   "cell_type": "code",
   "execution_count": 5,
   "metadata": {},
   "outputs": [
    {
     "name": "stderr",
     "output_type": "stream",
     "text": [
      "[WARNING 2022-09-22 22:50:58,036 _assert_and_prepare_model_files:167] no onnx file is found in C:\\Users\\nuswgg\\AppData\\Roaming\\cnocr\\2.2\\densenet_lite_136-fc \n",
      "100%|████████████████████████████████████████████████████████████████████████████| 5579/5579 [00:00<00:00, 8136.17KB/s]\n",
      "[WARNING 2022-09-22 22:51:01,640 _assert_and_prepare_model_files:124] can not find model file C:\\Users\\nuswgg\\AppData\\Roaming\\cnstd\\1.2\\ppocr\\ch_PP-OCRv3_det_infer.onnx \n",
      "2171KB [00:01, 1860.38KB/s]                                                                                            \n"
     ]
    }
   ],
   "source": [
    "ocr = CnOcr()  # 所有参数都使用默认值"
   ]
  },
  {
   "cell_type": "code",
   "execution_count": 7,
   "metadata": {},
   "outputs": [],
   "source": [
    "out = ocr.ocr(img_fp)"
   ]
  },
  {
   "cell_type": "code",
   "execution_count": 22,
   "metadata": {},
   "outputs": [
    {
     "data": {
      "text/plain": [
       "dict"
      ]
     },
     "execution_count": 22,
     "metadata": {},
     "output_type": "execute_result"
    }
   ],
   "source": [
    "type(out[1])"
   ]
  },
  {
   "cell_type": "code",
   "execution_count": 29,
   "metadata": {},
   "outputs": [
    {
     "data": {
      "text/plain": [
       "{'text': '名正（代丁）一',\n",
       " 'score': 0.6147772073745728,\n",
       " 'position': array([[526.,  80.],\n",
       "        [671.,  73.],\n",
       "        [672.,  96.],\n",
       "        [527., 104.]], dtype=float32)}"
      ]
     },
     "execution_count": 29,
     "metadata": {},
     "output_type": "execute_result"
    }
   ],
   "source": [
    "out[5]"
   ]
  },
  {
   "cell_type": "code",
   "execution_count": 23,
   "metadata": {},
   "outputs": [
    {
     "ename": "AttributeError",
     "evalue": "'dict' object has no attribute 'text'",
     "output_type": "error",
     "traceback": [
      "\u001b[1;31m---------------------------------------------------------------------------\u001b[0m",
      "\u001b[1;31mAttributeError\u001b[0m                            Traceback (most recent call last)",
      "\u001b[1;32m<ipython-input-23-146c25ce65a7>\u001b[0m in \u001b[0;36m<module>\u001b[1;34m\u001b[0m\n\u001b[1;32m----> 1\u001b[1;33m \u001b[0mout\u001b[0m\u001b[1;33m[\u001b[0m\u001b[1;36m0\u001b[0m\u001b[1;33m]\u001b[0m\u001b[1;33m.\u001b[0m\u001b[0mtext\u001b[0m\u001b[1;33m\u001b[0m\u001b[1;33m\u001b[0m\u001b[0m\n\u001b[0m",
      "\u001b[1;31mAttributeError\u001b[0m: 'dict' object has no attribute 'text'"
     ]
    }
   ],
   "source": [
    "out[0].text"
   ]
  },
  {
   "cell_type": "code",
   "execution_count": null,
   "metadata": {},
   "outputs": [],
   "source": []
  },
  {
   "cell_type": "code",
   "execution_count": null,
   "metadata": {},
   "outputs": [],
   "source": []
  },
  {
   "cell_type": "code",
   "execution_count": 2,
   "metadata": {},
   "outputs": [],
   "source": [
    "import os\n",
    "os.environ[\"KMP_DUPLICATE_LIB_OK\"]=\"TRUE\""
   ]
  },
  {
   "cell_type": "code",
   "execution_count": 2,
   "metadata": {},
   "outputs": [],
   "source": [
    "import easyocr"
   ]
  },
  {
   "cell_type": "code",
   "execution_count": 3,
   "metadata": {},
   "outputs": [
    {
     "name": "stderr",
     "output_type": "stream",
     "text": [
      "CUDA not available - defaulting to CPU. Note: This module is much faster with a GPU.\n",
      "Downloading detection model, please wait. This may take several minutes depending upon your network connection.\n"
     ]
    },
    {
     "name": "stdout",
     "output_type": "stream",
     "text": [
      "Progress: |██████████████████████████████████████████████████| 100.0% Complete['~~滚灭氮虏粱亘训-菅套r别名 (100个)', 'C=鱼', '序号', '药品别名', '止(代工)', '阿德福。酯胶蹩:岌)', '谥愈沙星胶亟', \"罗红'g崇分散岂\", '1戛安', '-甲氢氲普胶片', \"g力'盏\", '盐酸`西霉耋', '|寿比山', '酬达衄胶月', '安仁诺-', 'n曲康唑胶壅', '[瘤定二', '硝苤迦垩片', '琥乙红蛋耋岂', '心得安', '盐酸普萘恣尔庄', '-周康', '里碹唑荭f荭胶囊', ' ', '逍瘙', '~随酸-裂酯片', '世福盏', '习贡眨题粒', '生工', '双麽达莫片', '盐酸少璧碱', '[$立维', '碰酸氢氮吡橙Cn', '人生黄里磴唑片', '可_定', 'f伐他江锰甚', '薤宠片', '网奇鑫〉片', '绗活', '苤磺酸氢氢地垩片', '巫滴灵', '甲硝唑片', '阿托伐他江钙片', '22', '岣莫', '阿莫西林胶t', '佥', '盐酸地岔醢堂臣', '疝毒灵', '盐酸吗」胍片', '代', '缢沙坦眍蹇', '詈', '复\"氨酚烷dh', '值地乐克 (25\":', '酒石酸美挺恣欠', '初可立兑', '复方氨酚烷胺胶;', '富马酸比蓥恣企', '氨咖/敏胶l', '复丘三维亚迪酸胶龙', 'w', 'Pn1登耋苴', '氨醚少', '阿替恣尔片', '监酸溴己新', '氢氯嚷5片', '19', '{化', '羧里司坦戌', '速', '~呋噻米片', '枸椽酸喷托维林片', '宓佐}通一', '-螺内酯', '2', '疏酸沙工胶醒', '|维陋,遒', '-幽趸芦工片', '磷酸苤匝派林片', '廷新园', '硝苤地垩控[总', '|酸二氧嗉片', '立普妥', '阿抚`他讧钙芒', '西地碘片', '日壶@号', '亥和平苤啶z', '覆雎鲢匦', '', '醯三', 'r豳崴睡', '~吲]美辛胶囊', '皮炎平(红)', '夏立`酸地塞类趁毖葚_', '美:充', '醯急苤酸片', '匣多起-', '莫匹新罗较壹', '盈灭癔', '~及氯苤酸钠题鎏片', '79', '恩肤霜', '函酸氮笸他盏乳叠', '散列遒', '复方:乙酰氨基,片', '80', '皮康霜', '曲咪新乳音', '炎}喜廛', '~呲罗凿虚片', '肤液二', '哈西奈德澄u', '芬必得', '迈恣芬缓释眩囊', 'F粉', '-高锰酸靓粉', '雎固力', '硫酸氨基葡萄糙胶囊', '达觅宁乳膏二硝酸醚廛哩翌R', '遴本', '~对乙酰氨基酚缓释片', '|维肤膏', '氟轾忪缝86孔叠', '笞可', '美恣薏匮片', '鸡眼喜', '丛杨酸苤酚贮叠_', '四乐葚', '塞夹苴布胶霾', 'C皇尔', '工酸氢6可]秘到[', '衄苤杜', '鱼苎总苴胶', '派瑞松', '血安蠢德益虚唑叠', '吗工啦', '多潘立酮', '白内', '呲r壶垒钠滴眼,', '果昱片', '酚酝岢', '红润:', '蓥敏雏逾眼m', '[毯得乐', '3樘逡铋衄题粒', '|赴尔敏', '马酸氮苤那敏L', '易蜚安', '竺箍遴脂酰胆碱胶', '654-2', '通庭血莨蓥碱h', '`蠢乐', '蔺醛内苎', '优甲乐', '左甲状曝素钠丘', '蹩二', '地丕苤@杠菡', '羡迪康', '悲酸二「3', '思盛逵', '蒙/丕g剂', '隆遘', '盐酸萃乙双胍片', '4', '胃必迨一', '复》酸铋', '优隆糖', '橙列本豚片', '缃;颠 钽胶[', '[遒苤', '阿长波糖片', '安络血', '-竖上腚腚片', '鲟垩', '复丘氢蟹镪', 'LTP', '磷酸腺茸二钠片', '塞凫', '奥羲拉唑1逡Q', ':莱', '燕_罗宁a', '眩堂停', '-盐酸地芬尼名片', 'I0', 'l晕宝', '茶苤s雎茳', '宓笼 }', '-S牟啖唑丘', '利君沙', '蛊连耋', 'SOIg', '断雎舒']\n"
     ]
    }
   ],
   "source": [
    "#设置识别中英文两种语言\n",
    "reader = easyocr.Reader(['ch_sim','en'], gpu = True) # need to run only once to load model into memory\n",
    "result = reader.readtext(r\"20220921.jpg\", detail = 0)\n",
    "print(result)"
   ]
  },
  {
   "cell_type": "code",
   "execution_count": 6,
   "metadata": {},
   "outputs": [
    {
     "ename": "ModuleNotFoundError",
     "evalue": "No module named 'cnocr'",
     "output_type": "error",
     "traceback": [
      "\u001b[1;31m---------------------------------------------------------------------------\u001b[0m",
      "\u001b[1;31mModuleNotFoundError\u001b[0m                       Traceback (most recent call last)",
      "\u001b[1;32m<ipython-input-6-c84cab3eb956>\u001b[0m in \u001b[0;36m<module>\u001b[1;34m\u001b[0m\n\u001b[1;32m----> 1\u001b[1;33m \u001b[1;32mfrom\u001b[0m \u001b[0mcnocr\u001b[0m \u001b[1;32mimport\u001b[0m \u001b[0mCnOcr\u001b[0m\u001b[1;33m\u001b[0m\u001b[1;33m\u001b[0m\u001b[0m\n\u001b[0m",
      "\u001b[1;31mModuleNotFoundError\u001b[0m: No module named 'cnocr'"
     ]
    }
   ],
   "source": []
  },
  {
   "cell_type": "code",
   "execution_count": null,
   "metadata": {},
   "outputs": [],
   "source": [
    "!pip show cnocr"
   ]
  },
  {
   "cell_type": "code",
   "execution_count": null,
   "metadata": {},
   "outputs": [],
   "source": []
  }
 ],
 "metadata": {
  "kernelspec": {
   "display_name": "Python 3",
   "language": "python",
   "name": "python3"
  },
  "language_info": {
   "codemirror_mode": {
    "name": "ipython",
    "version": 3
   },
   "file_extension": ".py",
   "mimetype": "text/x-python",
   "name": "python",
   "nbconvert_exporter": "python",
   "pygments_lexer": "ipython3",
   "version": "3.8.5"
  },
  "toc": {
   "base_numbering": 1,
   "nav_menu": {},
   "number_sections": true,
   "sideBar": true,
   "skip_h1_title": false,
   "title_cell": "Table of Contents",
   "title_sidebar": "Contents",
   "toc_cell": false,
   "toc_position": {},
   "toc_section_display": true,
   "toc_window_display": false
  }
 },
 "nbformat": 4,
 "nbformat_minor": 4
}
