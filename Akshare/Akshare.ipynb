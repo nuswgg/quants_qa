{
 "cells": [
  {
   "cell_type": "code",
   "execution_count": 1,
   "metadata": {},
   "outputs": [],
   "source": [
    "import akshare as ak"
   ]
  },
  {
   "cell_type": "code",
   "execution_count": 2,
   "metadata": {},
   "outputs": [
    {
     "name": "stdout",
     "output_type": "stream",
     "text": [
      "Please waiting for about 10 seconds\n"
     ]
    }
   ],
   "source": [
    "amac_manager_info_df = ak.amac_manager_info()"
   ]
  },
  {
   "cell_type": "code",
   "execution_count": 10,
   "metadata": {},
   "outputs": [
    {
     "data": {
      "text/html": [
       "<div>\n",
       "<style scoped>\n",
       "    .dataframe tbody tr th:only-of-type {\n",
       "        vertical-align: middle;\n",
       "    }\n",
       "\n",
       "    .dataframe tbody tr th {\n",
       "        vertical-align: top;\n",
       "    }\n",
       "\n",
       "    .dataframe thead th {\n",
       "        text-align: right;\n",
       "    }\n",
       "</style>\n",
       "<table border=\"1\" class=\"dataframe\">\n",
       "  <thead>\n",
       "    <tr style=\"text-align: right;\">\n",
       "      <th></th>\n",
       "      <th>私募基金管理人名称</th>\n",
       "      <th>法定代表人/执行事务合伙人(委派代表)姓名</th>\n",
       "      <th>机构类型</th>\n",
       "      <th>注册地</th>\n",
       "      <th>登记编号</th>\n",
       "      <th>成立时间</th>\n",
       "      <th>登记时间</th>\n",
       "    </tr>\n",
       "  </thead>\n",
       "  <tbody>\n",
       "    <tr>\n",
       "      <th>0</th>\n",
       "      <td>平安道远投资管理（上海）有限公司</td>\n",
       "      <td>王彦</td>\n",
       "      <td>私募证券投资基金管理人</td>\n",
       "      <td>上海市</td>\n",
       "      <td>P1000182</td>\n",
       "      <td>2011-03-15</td>\n",
       "      <td>2014-03-17</td>\n",
       "    </tr>\n",
       "    <tr>\n",
       "      <th>1</th>\n",
       "      <td>上海重阳投资管理股份有限公司</td>\n",
       "      <td>王庆</td>\n",
       "      <td>私募证券投资基金管理人</td>\n",
       "      <td>上海市</td>\n",
       "      <td>P1000265</td>\n",
       "      <td>2009-06-26</td>\n",
       "      <td>2014-03-17</td>\n",
       "    </tr>\n",
       "    <tr>\n",
       "      <th>2</th>\n",
       "      <td>上海景林资产管理有限公司</td>\n",
       "      <td>高云程</td>\n",
       "      <td>私募证券投资基金管理人</td>\n",
       "      <td>上海市</td>\n",
       "      <td>P1000267</td>\n",
       "      <td>2012-06-06</td>\n",
       "      <td>2014-03-17</td>\n",
       "    </tr>\n",
       "    <tr>\n",
       "      <th>3</th>\n",
       "      <td>富舜资产管理（上海）有限公司</td>\n",
       "      <td>周楠</td>\n",
       "      <td>私募证券投资基金管理人</td>\n",
       "      <td>上海市</td>\n",
       "      <td>P1000268</td>\n",
       "      <td>2012-02-10</td>\n",
       "      <td>2014-03-17</td>\n",
       "    </tr>\n",
       "    <tr>\n",
       "      <th>4</th>\n",
       "      <td>深圳民森投资有限公司</td>\n",
       "      <td>蔡明</td>\n",
       "      <td>私募证券投资基金管理人</td>\n",
       "      <td>广东省</td>\n",
       "      <td>P1000269</td>\n",
       "      <td>2007-04-05</td>\n",
       "      <td>2014-03-17</td>\n",
       "    </tr>\n",
       "    <tr>\n",
       "      <th>...</th>\n",
       "      <td>...</td>\n",
       "      <td>...</td>\n",
       "      <td>...</td>\n",
       "      <td>...</td>\n",
       "      <td>...</td>\n",
       "      <td>...</td>\n",
       "      <td>...</td>\n",
       "    </tr>\n",
       "    <tr>\n",
       "      <th>95</th>\n",
       "      <td>深圳市泰瓴资产管理有限公司</td>\n",
       "      <td>张林涛</td>\n",
       "      <td>私募证券投资基金管理人</td>\n",
       "      <td>广东省</td>\n",
       "      <td>P1000392</td>\n",
       "      <td>2010-07-08</td>\n",
       "      <td>2014-04-01</td>\n",
       "    </tr>\n",
       "    <tr>\n",
       "      <th>96</th>\n",
       "      <td>上海泓湖投资管理有限公司</td>\n",
       "      <td>肖坚</td>\n",
       "      <td>私募证券投资基金管理人</td>\n",
       "      <td>上海市</td>\n",
       "      <td>P1000395</td>\n",
       "      <td>2010-03-04</td>\n",
       "      <td>2014-04-01</td>\n",
       "    </tr>\n",
       "    <tr>\n",
       "      <th>97</th>\n",
       "      <td>深圳和聚基金管理股份公司</td>\n",
       "      <td>申龙</td>\n",
       "      <td>私募证券投资基金管理人</td>\n",
       "      <td>广东省</td>\n",
       "      <td>P1000397</td>\n",
       "      <td>2010-03-01</td>\n",
       "      <td>2014-04-01</td>\n",
       "    </tr>\n",
       "    <tr>\n",
       "      <th>98</th>\n",
       "      <td>上海申毅投资股份有限公司</td>\n",
       "      <td>申毅</td>\n",
       "      <td>私募证券投资基金管理人</td>\n",
       "      <td>上海市</td>\n",
       "      <td>P1000404</td>\n",
       "      <td>2004-06-23</td>\n",
       "      <td>2014-04-01</td>\n",
       "    </tr>\n",
       "    <tr>\n",
       "      <th>99</th>\n",
       "      <td>深圳市上善御富资产管理有限公司</td>\n",
       "      <td>刘鹰</td>\n",
       "      <td>私募证券投资基金管理人</td>\n",
       "      <td>广东省</td>\n",
       "      <td>P1000415</td>\n",
       "      <td>2010-11-22</td>\n",
       "      <td>2014-04-01</td>\n",
       "    </tr>\n",
       "  </tbody>\n",
       "</table>\n",
       "<p>100 rows × 7 columns</p>\n",
       "</div>"
      ],
      "text/plain": [
       "           私募基金管理人名称 法定代表人/执行事务合伙人(委派代表)姓名         机构类型  注册地      登记编号  \\\n",
       "0   平安道远投资管理（上海）有限公司                    王彦  私募证券投资基金管理人  上海市  P1000182   \n",
       "1     上海重阳投资管理股份有限公司                    王庆  私募证券投资基金管理人  上海市  P1000265   \n",
       "2       上海景林资产管理有限公司                   高云程  私募证券投资基金管理人  上海市  P1000267   \n",
       "3     富舜资产管理（上海）有限公司                    周楠  私募证券投资基金管理人  上海市  P1000268   \n",
       "4         深圳民森投资有限公司                    蔡明  私募证券投资基金管理人  广东省  P1000269   \n",
       "..               ...                   ...          ...  ...       ...   \n",
       "95     深圳市泰瓴资产管理有限公司                   张林涛  私募证券投资基金管理人  广东省  P1000392   \n",
       "96      上海泓湖投资管理有限公司                    肖坚  私募证券投资基金管理人  上海市  P1000395   \n",
       "97      深圳和聚基金管理股份公司                    申龙  私募证券投资基金管理人  广东省  P1000397   \n",
       "98      上海申毅投资股份有限公司                    申毅  私募证券投资基金管理人  上海市  P1000404   \n",
       "99   深圳市上善御富资产管理有限公司                    刘鹰  私募证券投资基金管理人  广东省  P1000415   \n",
       "\n",
       "         成立时间       登记时间  \n",
       "0  2011-03-15 2014-03-17  \n",
       "1  2009-06-26 2014-03-17  \n",
       "2  2012-06-06 2014-03-17  \n",
       "3  2012-02-10 2014-03-17  \n",
       "4  2007-04-05 2014-03-17  \n",
       "..        ...        ...  \n",
       "95 2010-07-08 2014-04-01  \n",
       "96 2010-03-04 2014-04-01  \n",
       "97 2010-03-01 2014-04-01  \n",
       "98 2004-06-23 2014-04-01  \n",
       "99 2010-11-22 2014-04-01  \n",
       "\n",
       "[100 rows x 7 columns]"
      ]
     },
     "execution_count": 10,
     "metadata": {},
     "output_type": "execute_result"
    }
   ],
   "source": [
    "amac_manager_info_df"
   ]
  },
  {
   "cell_type": "code",
   "execution_count": 12,
   "metadata": {},
   "outputs": [
    {
     "data": {
      "text/plain": [
       "0"
      ]
     },
     "execution_count": 12,
     "metadata": {},
     "output_type": "execute_result"
    }
   ],
   "source": [
    "len(amac_manager_info_df[amac_manager_info_df['登记时间']>'2021-01-01'])"
   ]
  },
  {
   "cell_type": "code",
   "execution_count": 13,
   "metadata": {},
   "outputs": [
    {
     "data": {
      "text/plain": [
       "0"
      ]
     },
     "execution_count": 13,
     "metadata": {},
     "output_type": "execute_result"
    }
   ],
   "source": [
    "len(amac_manager_info_df[amac_manager_info_df['登记时间']>='2020-01-01' ] )"
   ]
  },
  {
   "cell_type": "markdown",
   "metadata": {},
   "source": [
    "# 证券公司集合资管产品公示"
   ]
  },
  {
   "cell_type": "code",
   "execution_count": 15,
   "metadata": {},
   "outputs": [
    {
     "name": "stdout",
     "output_type": "stream",
     "text": [
      "正在下载, 由于数据量比较大, 请等待大约 5 秒\n"
     ]
    }
   ],
   "source": [
    "amac_securities_info_df = ak.amac_securities_info()"
   ]
  },
  {
   "cell_type": "code",
   "execution_count": 16,
   "metadata": {},
   "outputs": [
    {
     "data": {
      "text/html": [
       "<div>\n",
       "<style scoped>\n",
       "    .dataframe tbody tr th:only-of-type {\n",
       "        vertical-align: middle;\n",
       "    }\n",
       "\n",
       "    .dataframe tbody tr th {\n",
       "        vertical-align: top;\n",
       "    }\n",
       "\n",
       "    .dataframe thead th {\n",
       "        text-align: right;\n",
       "    }\n",
       "</style>\n",
       "<table border=\"1\" class=\"dataframe\">\n",
       "  <thead>\n",
       "    <tr style=\"text-align: right;\">\n",
       "      <th></th>\n",
       "      <th>产品名称</th>\n",
       "      <th>产品编码</th>\n",
       "      <th>管理人名称</th>\n",
       "      <th>成立日期</th>\n",
       "      <th>到期时间</th>\n",
       "      <th>投资类型</th>\n",
       "      <th>是否分级</th>\n",
       "      <th>托管人名称</th>\n",
       "      <th>备案日期</th>\n",
       "      <th>运作状态</th>\n",
       "    </tr>\n",
       "  </thead>\n",
       "  <tbody>\n",
       "    <tr>\n",
       "      <th>0</th>\n",
       "      <td>国海证券启航2930号集合资产管理计划</td>\n",
       "      <td>STX030</td>\n",
       "      <td>国海证券股份有限公司</td>\n",
       "      <td>2022-07-15</td>\n",
       "      <td>2025-07-14</td>\n",
       "      <td>固定收益类</td>\n",
       "      <td>否</td>\n",
       "      <td>兴业银行股份有限公司</td>\n",
       "      <td>2022-07-15</td>\n",
       "      <td>正在运作</td>\n",
       "    </tr>\n",
       "    <tr>\n",
       "      <th>1</th>\n",
       "      <td>世纪证券融享18M006号集合资产管理计划</td>\n",
       "      <td>SVY866</td>\n",
       "      <td>世纪证券有限责任公司</td>\n",
       "      <td>2022-07-15</td>\n",
       "      <td>2032-07-14</td>\n",
       "      <td>固定收益类</td>\n",
       "      <td>否</td>\n",
       "      <td>兴业银行股份有限公司</td>\n",
       "      <td>2022-07-15</td>\n",
       "      <td>正在运作</td>\n",
       "    </tr>\n",
       "    <tr>\n",
       "      <th>2</th>\n",
       "      <td>国海证券扬帆双利105号集合资产管理计划</td>\n",
       "      <td>SVZ213</td>\n",
       "      <td>国海证券股份有限公司</td>\n",
       "      <td>2022-07-15</td>\n",
       "      <td>2032-07-14</td>\n",
       "      <td>固定收益类</td>\n",
       "      <td>否</td>\n",
       "      <td>中信银行股份有限公司</td>\n",
       "      <td>2022-07-15</td>\n",
       "      <td>正在运作</td>\n",
       "    </tr>\n",
       "    <tr>\n",
       "      <th>3</th>\n",
       "      <td>国泰君安君享交银国信1号集合资产管理计划</td>\n",
       "      <td>STX280</td>\n",
       "      <td>上海国泰君安证券资产管理有限公司</td>\n",
       "      <td>2022-07-14</td>\n",
       "      <td>2032-07-13</td>\n",
       "      <td>固定收益类</td>\n",
       "      <td>否</td>\n",
       "      <td>平安银行股份有限公司</td>\n",
       "      <td>2022-07-15</td>\n",
       "      <td>正在运作</td>\n",
       "    </tr>\n",
       "    <tr>\n",
       "      <th>4</th>\n",
       "      <td>华福证券-兴福安泰86号集合资产管理计划</td>\n",
       "      <td>SVN677</td>\n",
       "      <td>华福证券有限责任公司</td>\n",
       "      <td>2022-07-14</td>\n",
       "      <td>2024-01-13</td>\n",
       "      <td>固定收益类</td>\n",
       "      <td>否</td>\n",
       "      <td>兴业银行股份有限公司</td>\n",
       "      <td>2022-07-14</td>\n",
       "      <td>正在运作</td>\n",
       "    </tr>\n",
       "    <tr>\n",
       "      <th>...</th>\n",
       "      <td>...</td>\n",
       "      <td>...</td>\n",
       "      <td>...</td>\n",
       "      <td>...</td>\n",
       "      <td>...</td>\n",
       "      <td>...</td>\n",
       "      <td>...</td>\n",
       "      <td>...</td>\n",
       "      <td>...</td>\n",
       "      <td>...</td>\n",
       "    </tr>\n",
       "    <tr>\n",
       "      <th>95</th>\n",
       "      <td>省心享-华泰鹏泰博帆FOF13号集合资产管理计划</td>\n",
       "      <td>SVW923</td>\n",
       "      <td>华泰证券（上海）资产管理有限公司</td>\n",
       "      <td>2022-06-28</td>\n",
       "      <td>2032-06-27</td>\n",
       "      <td>混合类</td>\n",
       "      <td>否</td>\n",
       "      <td>南京银行股份有限公司</td>\n",
       "      <td>2022-07-04</td>\n",
       "      <td>正在运作</td>\n",
       "    </tr>\n",
       "    <tr>\n",
       "      <th>96</th>\n",
       "      <td>世纪证券赢嘉价值1号集合资产管理计划</td>\n",
       "      <td>SVU385</td>\n",
       "      <td>世纪证券有限责任公司</td>\n",
       "      <td>2022-06-28</td>\n",
       "      <td>2032-06-27</td>\n",
       "      <td>混合类</td>\n",
       "      <td>否</td>\n",
       "      <td>兴业银行股份有限公司</td>\n",
       "      <td>2022-06-28</td>\n",
       "      <td>正在运作</td>\n",
       "    </tr>\n",
       "    <tr>\n",
       "      <th>97</th>\n",
       "      <td>华福证券-兴福安泰81号集合资产管理计划</td>\n",
       "      <td>SVU857</td>\n",
       "      <td>华福证券有限责任公司</td>\n",
       "      <td>2022-06-28</td>\n",
       "      <td>2023-12-27</td>\n",
       "      <td>固定收益类</td>\n",
       "      <td>否</td>\n",
       "      <td>兴业银行股份有限公司</td>\n",
       "      <td>2022-06-28</td>\n",
       "      <td>正在运作</td>\n",
       "    </tr>\n",
       "    <tr>\n",
       "      <th>98</th>\n",
       "      <td>东方红中文1号集合资产管理计划</td>\n",
       "      <td>SVX788</td>\n",
       "      <td>上海东方证券资产管理有限公司</td>\n",
       "      <td>2022-06-28</td>\n",
       "      <td>2032-06-28</td>\n",
       "      <td>混合类</td>\n",
       "      <td>否</td>\n",
       "      <td>上海浦东发展银行股份有限公司</td>\n",
       "      <td>2022-06-29</td>\n",
       "      <td>正在运作</td>\n",
       "    </tr>\n",
       "    <tr>\n",
       "      <th>99</th>\n",
       "      <td>东证融汇汇聚25号集合资产管理计划</td>\n",
       "      <td>SVX827</td>\n",
       "      <td>东证融汇证券资产管理有限公司</td>\n",
       "      <td>2022-06-28</td>\n",
       "      <td>2023-07-06</td>\n",
       "      <td>固定收益类</td>\n",
       "      <td>否</td>\n",
       "      <td>兴业银行股份有限公司</td>\n",
       "      <td>2022-06-30</td>\n",
       "      <td>正在运作</td>\n",
       "    </tr>\n",
       "  </tbody>\n",
       "</table>\n",
       "<p>100 rows × 10 columns</p>\n",
       "</div>"
      ],
      "text/plain": [
       "                        产品名称    产品编码             管理人名称        成立日期  \\\n",
       "0        国海证券启航2930号集合资产管理计划  STX030        国海证券股份有限公司  2022-07-15   \n",
       "1      世纪证券融享18M006号集合资产管理计划  SVY866        世纪证券有限责任公司  2022-07-15   \n",
       "2       国海证券扬帆双利105号集合资产管理计划  SVZ213        国海证券股份有限公司  2022-07-15   \n",
       "3       国泰君安君享交银国信1号集合资产管理计划  STX280  上海国泰君安证券资产管理有限公司  2022-07-14   \n",
       "4       华福证券-兴福安泰86号集合资产管理计划  SVN677        华福证券有限责任公司  2022-07-14   \n",
       "..                       ...     ...               ...         ...   \n",
       "95  省心享-华泰鹏泰博帆FOF13号集合资产管理计划  SVW923  华泰证券（上海）资产管理有限公司  2022-06-28   \n",
       "96        世纪证券赢嘉价值1号集合资产管理计划  SVU385        世纪证券有限责任公司  2022-06-28   \n",
       "97      华福证券-兴福安泰81号集合资产管理计划  SVU857        华福证券有限责任公司  2022-06-28   \n",
       "98           东方红中文1号集合资产管理计划  SVX788    上海东方证券资产管理有限公司  2022-06-28   \n",
       "99         东证融汇汇聚25号集合资产管理计划  SVX827    东证融汇证券资产管理有限公司  2022-06-28   \n",
       "\n",
       "          到期时间   投资类型 是否分级           托管人名称        备案日期  运作状态  \n",
       "0   2025-07-14  固定收益类    否      兴业银行股份有限公司  2022-07-15  正在运作  \n",
       "1   2032-07-14  固定收益类    否      兴业银行股份有限公司  2022-07-15  正在运作  \n",
       "2   2032-07-14  固定收益类    否      中信银行股份有限公司  2022-07-15  正在运作  \n",
       "3   2032-07-13  固定收益类    否      平安银行股份有限公司  2022-07-15  正在运作  \n",
       "4   2024-01-13  固定收益类    否      兴业银行股份有限公司  2022-07-14  正在运作  \n",
       "..         ...    ...  ...             ...         ...   ...  \n",
       "95  2032-06-27    混合类    否      南京银行股份有限公司  2022-07-04  正在运作  \n",
       "96  2032-06-27    混合类    否      兴业银行股份有限公司  2022-06-28  正在运作  \n",
       "97  2023-12-27  固定收益类    否      兴业银行股份有限公司  2022-06-28  正在运作  \n",
       "98  2032-06-28    混合类    否  上海浦东发展银行股份有限公司  2022-06-29  正在运作  \n",
       "99  2023-07-06  固定收益类    否      兴业银行股份有限公司  2022-06-30  正在运作  \n",
       "\n",
       "[100 rows x 10 columns]"
      ]
     },
     "execution_count": 16,
     "metadata": {},
     "output_type": "execute_result"
    }
   ],
   "source": [
    "amac_securities_info_df"
   ]
  },
  {
   "cell_type": "markdown",
   "metadata": {},
   "source": [
    "# 证券公司直投基金"
   ]
  },
  {
   "cell_type": "code",
   "execution_count": 17,
   "metadata": {},
   "outputs": [
    {
     "data": {
      "text/html": [
       "<div>\n",
       "<style scoped>\n",
       "    .dataframe tbody tr th:only-of-type {\n",
       "        vertical-align: middle;\n",
       "    }\n",
       "\n",
       "    .dataframe tbody tr th {\n",
       "        vertical-align: top;\n",
       "    }\n",
       "\n",
       "    .dataframe thead th {\n",
       "        text-align: right;\n",
       "    }\n",
       "</style>\n",
       "<table border=\"1\" class=\"dataframe\">\n",
       "  <thead>\n",
       "    <tr style=\"text-align: right;\">\n",
       "      <th></th>\n",
       "      <th>产品编码</th>\n",
       "      <th>产品名称</th>\n",
       "      <th>直投子公司</th>\n",
       "      <th>管理机构</th>\n",
       "      <th>设立日期</th>\n",
       "    </tr>\n",
       "  </thead>\n",
       "  <tbody>\n",
       "    <tr>\n",
       "      <th>0</th>\n",
       "      <td>S32077</td>\n",
       "      <td>深圳市远盛发展一期股权投资企业（有限合伙）</td>\n",
       "      <td>招商证券股份有限公司直投子公司</td>\n",
       "      <td>深圳市远盛投资管理有限公司</td>\n",
       "      <td>2012-12-26</td>\n",
       "    </tr>\n",
       "    <tr>\n",
       "      <th>1</th>\n",
       "      <td>S32105</td>\n",
       "      <td>新疆华融天泽鼎鑫投资合伙企业（有限合伙）</td>\n",
       "      <td>华融证券股份有限公司直投子公司</td>\n",
       "      <td>华融天泽投资有限公司</td>\n",
       "      <td>2013-03-14</td>\n",
       "    </tr>\n",
       "    <tr>\n",
       "      <th>2</th>\n",
       "      <td>S32073</td>\n",
       "      <td>新疆广发信德广电夹层投资有限合伙企业</td>\n",
       "      <td>广发信德投资管理有限公司</td>\n",
       "      <td>新疆广发信德稳胜投资管理有限公司</td>\n",
       "      <td>2013-03-25</td>\n",
       "    </tr>\n",
       "    <tr>\n",
       "      <th>3</th>\n",
       "      <td>S32644</td>\n",
       "      <td>吉林省国家新材料产业创业投资有限责任公司</td>\n",
       "      <td>第一创业证券股份有限公司直投子公司</td>\n",
       "      <td>北京一创吉星创业投资管理有限公司</td>\n",
       "      <td>2013-05-24</td>\n",
       "    </tr>\n",
       "    <tr>\n",
       "      <th>4</th>\n",
       "      <td>S32067</td>\n",
       "      <td>赣州致发投资合伙企业（有限合伙）</td>\n",
       "      <td>招商证券股份有限公司直投子公司</td>\n",
       "      <td>江西致远发展投资管理有限公司</td>\n",
       "      <td>2013-07-09</td>\n",
       "    </tr>\n",
       "    <tr>\n",
       "      <th>...</th>\n",
       "      <td>...</td>\n",
       "      <td>...</td>\n",
       "      <td>...</td>\n",
       "      <td>...</td>\n",
       "      <td>...</td>\n",
       "    </tr>\n",
       "    <tr>\n",
       "      <th>95</th>\n",
       "      <td>S32144</td>\n",
       "      <td>深圳前海新时代宏图贰号投资基金合伙企业（有限合伙）</td>\n",
       "      <td>新时代证券有限责任公司直投子公司</td>\n",
       "      <td>北京新时代宏图基金管理有限公司</td>\n",
       "      <td>2016-01-15</td>\n",
       "    </tr>\n",
       "    <tr>\n",
       "      <th>96</th>\n",
       "      <td>S32127</td>\n",
       "      <td>合肥中安润信基金投资合伙企业（有限合伙）</td>\n",
       "      <td>中信建投证券股份有限公司直投子公司</td>\n",
       "      <td>北京润信中安投资管理有限公司</td>\n",
       "      <td>2016-01-15</td>\n",
       "    </tr>\n",
       "    <tr>\n",
       "      <th>97</th>\n",
       "      <td>S32357</td>\n",
       "      <td>南江贵银平滑资产管理中心（有限合伙）</td>\n",
       "      <td>华创证券有限责任公司直投子公司</td>\n",
       "      <td>贵州兴黔财富资本管理有限公司</td>\n",
       "      <td>2016-01-18</td>\n",
       "    </tr>\n",
       "    <tr>\n",
       "      <th>98</th>\n",
       "      <td>S32201</td>\n",
       "      <td>祺程（上海）投资中心（有限合伙）</td>\n",
       "      <td>中金智德股权投资管理有限公司</td>\n",
       "      <td>中金智徳股权投资管理有限公司</td>\n",
       "      <td>2016-01-19</td>\n",
       "    </tr>\n",
       "    <tr>\n",
       "      <th>99</th>\n",
       "      <td>S32381</td>\n",
       "      <td>苏州临湖投资中心（有限合伙）</td>\n",
       "      <td>中银国际投资有限责任公司</td>\n",
       "      <td>中银创富（上海）股权投资基金管理有限公司</td>\n",
       "      <td>2016-01-21</td>\n",
       "    </tr>\n",
       "  </tbody>\n",
       "</table>\n",
       "<p>100 rows × 5 columns</p>\n",
       "</div>"
      ],
      "text/plain": [
       "      产品编码                       产品名称              直投子公司  \\\n",
       "0   S32077      深圳市远盛发展一期股权投资企业（有限合伙）    招商证券股份有限公司直投子公司   \n",
       "1   S32105       新疆华融天泽鼎鑫投资合伙企业（有限合伙）    华融证券股份有限公司直投子公司   \n",
       "2   S32073         新疆广发信德广电夹层投资有限合伙企业       广发信德投资管理有限公司   \n",
       "3   S32644       吉林省国家新材料产业创业投资有限责任公司  第一创业证券股份有限公司直投子公司   \n",
       "4   S32067           赣州致发投资合伙企业（有限合伙）    招商证券股份有限公司直投子公司   \n",
       "..     ...                        ...                ...   \n",
       "95  S32144  深圳前海新时代宏图贰号投资基金合伙企业（有限合伙）   新时代证券有限责任公司直投子公司   \n",
       "96  S32127       合肥中安润信基金投资合伙企业（有限合伙）  中信建投证券股份有限公司直投子公司   \n",
       "97  S32357         南江贵银平滑资产管理中心（有限合伙）    华创证券有限责任公司直投子公司   \n",
       "98  S32201           祺程（上海）投资中心（有限合伙）     中金智德股权投资管理有限公司   \n",
       "99  S32381             苏州临湖投资中心（有限合伙）       中银国际投资有限责任公司   \n",
       "\n",
       "                    管理机构       设立日期  \n",
       "0          深圳市远盛投资管理有限公司 2012-12-26  \n",
       "1             华融天泽投资有限公司 2013-03-14  \n",
       "2       新疆广发信德稳胜投资管理有限公司 2013-03-25  \n",
       "3       北京一创吉星创业投资管理有限公司 2013-05-24  \n",
       "4         江西致远发展投资管理有限公司 2013-07-09  \n",
       "..                   ...        ...  \n",
       "95       北京新时代宏图基金管理有限公司 2016-01-15  \n",
       "96        北京润信中安投资管理有限公司 2016-01-15  \n",
       "97        贵州兴黔财富资本管理有限公司 2016-01-18  \n",
       "98        中金智徳股权投资管理有限公司 2016-01-19  \n",
       "99  中银创富（上海）股权投资基金管理有限公司 2016-01-21  \n",
       "\n",
       "[100 rows x 5 columns]"
      ]
     },
     "execution_count": 17,
     "metadata": {},
     "output_type": "execute_result"
    }
   ],
   "source": [
    "amac_aoin_info_df = ak.amac_aoin_info()\n",
    "amac_aoin_info_df"
   ]
  },
  {
   "cell_type": "markdown",
   "metadata": {},
   "source": [
    "# 主要央行利率"
   ]
  },
  {
   "cell_type": "markdown",
   "metadata": {},
   "source": [
    "美国央行利率"
   ]
  },
  {
   "cell_type": "code",
   "execution_count": 18,
   "metadata": {},
   "outputs": [],
   "source": [
    "us_int_rate_df = ak.macro_bank_usa_interest_rate()"
   ]
  },
  {
   "cell_type": "code",
   "execution_count": 19,
   "metadata": {},
   "outputs": [
    {
     "data": {
      "text/plain": [
       "1982-09-27    10.25\n",
       "1982-10-01    10.00\n",
       "1982-10-07     9.50\n",
       "1982-11-19     9.00\n",
       "1982-12-14     8.50\n",
       "              ...  \n",
       "2021-12-16     0.25\n",
       "2022-01-27     0.25\n",
       "2022-03-17     0.50\n",
       "2022-05-05     1.00\n",
       "2022-06-16     1.75\n",
       "Name: usa_interest_rate, Length: 263, dtype: float64"
      ]
     },
     "execution_count": 19,
     "metadata": {},
     "output_type": "execute_result"
    }
   ],
   "source": [
    "us_int_rate_df"
   ]
  },
  {
   "cell_type": "code",
   "execution_count": 20,
   "metadata": {},
   "outputs": [],
   "source": [
    "eu_int_rate_df = ak.macro_bank_euro_interest_rate()"
   ]
  },
  {
   "cell_type": "code",
   "execution_count": 21,
   "metadata": {},
   "outputs": [
    {
     "data": {
      "text/plain": [
       "1999-01-01    3.0\n",
       "1999-02-01    3.0\n",
       "1999-03-01    3.0\n",
       "1999-04-01    3.0\n",
       "1999-05-01    2.5\n",
       "             ... \n",
       "2021-12-16    0.0\n",
       "2022-02-03    0.0\n",
       "2022-03-10    0.0\n",
       "2022-04-14    0.0\n",
       "2022-06-09    0.0\n",
       "Name: euro_interest_rate, Length: 253, dtype: float64"
      ]
     },
     "execution_count": 21,
     "metadata": {},
     "output_type": "execute_result"
    }
   ],
   "source": [
    "eu_int_rate_df"
   ]
  },
  {
   "cell_type": "code",
   "execution_count": 10,
   "metadata": {},
   "outputs": [],
   "source": [
    "cn_int_rate_df = ak.macro_bank_china_interest_rate()"
   ]
  },
  {
   "cell_type": "code",
   "execution_count": 11,
   "metadata": {},
   "outputs": [],
   "source": [
    "uk_int_rate_df = ak.macro_bank_english_interest_rate()"
   ]
  },
  {
   "cell_type": "code",
   "execution_count": 12,
   "metadata": {},
   "outputs": [],
   "source": [
    "au_int_rate_df = ak.macro_bank_australia_interest_rate()"
   ]
  },
  {
   "cell_type": "code",
   "execution_count": 13,
   "metadata": {},
   "outputs": [],
   "source": [
    "jp_int_rate_df = ak.macro_bank_japan_interest_rate()"
   ]
  },
  {
   "cell_type": "code",
   "execution_count": 22,
   "metadata": {},
   "outputs": [],
   "source": [
    "import matplotlib as plt"
   ]
  },
  {
   "cell_type": "code",
   "execution_count": 28,
   "metadata": {},
   "outputs": [
    {
     "data": {
      "text/plain": [
       "<AxesSubplot:>"
      ]
     },
     "execution_count": 28,
     "metadata": {},
     "output_type": "execute_result"
    },
    {
     "data": {
      "image/png": "[encoded data removed]",
      "text/plain": [
       "<Figure size 432x288 with 1 Axes>"
      ]
     },
     "metadata": {
      "needs_background": "light"
     },
     "output_type": "display_data"
    }
   ],
   "source": [
    "us_int_rate_df.plot()"
   ]
  },
  {
   "cell_type": "code",
   "execution_count": 27,
   "metadata": {},
   "outputs": [
    {
     "data": {
      "text/plain": [
       "<AxesSubplot:>"
      ]
     },
     "execution_count": 27,
     "metadata": {},
     "output_type": "execute_result"
    },
    {
     "data": {
      "image/png": "[encoded data removed]",
      "text/plain": [
       "<Figure size 432x288 with 1 Axes>"
      ]
     },
     "metadata": {
      "needs_background": "light"
     },
     "output_type": "display_data"
    }
   ],
   "source": [
    "cn_int_rate_df.plot()"
   ]
  },
  {
   "cell_type": "code",
   "execution_count": 29,
   "metadata": {},
   "outputs": [
    {
     "data": {
      "text/plain": [
       "<AxesSubplot:>"
      ]
     },
     "execution_count": 29,
     "metadata": {},
     "output_type": "execute_result"
    },
    {
     "data": {
      "image/png": "[encoded data removed]",
      "text/plain": [
       "<Figure size 432x288 with 1 Axes>"
      ]
     },
     "metadata": {
      "needs_background": "light"
     },
     "output_type": "display_data"
    }
   ],
   "source": [
    "eu_int_rate_df.plot()"
   ]
  },
  {
   "cell_type": "code",
   "execution_count": 30,
   "metadata": {},
   "outputs": [
    {
     "data": {
      "text/plain": [
       "<AxesSubplot:>"
      ]
     },
     "execution_count": 30,
     "metadata": {},
     "output_type": "execute_result"
    },
    {
     "data": {
      "image/png": "[encoded data removed]",
      "text/plain": [
       "<Figure size 432x288 with 1 Axes>"
      ]
     },
     "metadata": {
      "needs_background": "light"
     },
     "output_type": "display_data"
    }
   ],
   "source": [
    "jp_int_rate_df.plot()"
   ]
  },
  {
   "cell_type": "code",
   "execution_count": 26,
   "metadata": {},
   "outputs": [
    {
     "data": {
      "text/plain": [
       "<AxesSubplot:>"
      ]
     },
     "execution_count": 26,
     "metadata": {},
     "output_type": "execute_result"
    },
    {
     "data": {
      "image/png": "[encoded data removed]",
      "text/plain": [
       "<Figure size 432x288 with 1 Axes>"
      ]
     },
     "metadata": {
      "needs_background": "light"
     },
     "output_type": "display_data"
    }
   ],
   "source": [
    "au_int_rate_df.plot()"
   ]
  },
  {
   "cell_type": "code",
   "execution_count": null,
   "metadata": {},
   "outputs": [],
   "source": []
  },
  {
   "cell_type": "code",
   "execution_count": null,
   "metadata": {},
   "outputs": [],
   "source": []
  },
  {
   "cell_type": "code",
   "execution_count": null,
   "metadata": {},
   "outputs": [],
   "source": []
  }
 ],
 "metadata": {
  "kernelspec": {
   "display_name": "py37",
   "language": "python",
   "name": "py37"
  },
  "language_info": {
   "codemirror_mode": {
    "name": "ipython",
    "version": 3
   },
   "file_extension": ".py",
   "mimetype": "text/x-python",
   "name": "python",
   "nbconvert_exporter": "python",
   "pygments_lexer": "ipython3",
   "version": "3.7.9"
  }
 },
 "nbformat": 4,
 "nbformat_minor": 4
}
