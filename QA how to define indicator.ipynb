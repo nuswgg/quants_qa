{
 "cells": [
  {
   "cell_type": "code",
   "execution_count": 1,
   "metadata": {},
   "outputs": [],
   "source": [
    "# -*- coding: utf-8 -*-\n",
    "import QUANTAXIS as QA\n",
    "import pandas as pd\n",
    "\n",
    "def MACD_JCSC(dataframe, SHORT=12, LONG=26, M=9):\n",
    "    \"\"\"\n",
    "    1.DIF向上突破DEA，买入信号参考。\n",
    "    2.DIF向下跌破DEA，卖出信号参考。\n",
    "    \"\"\"\n",
    "    CLOSE = dataframe.close\n",
    "    DIFF = QA.EMA(CLOSE, SHORT) - QA.EMA(CLOSE, LONG)\n",
    "    DEA = QA.EMA(DIFF, M)\n",
    "    MACD = 2*(DIFF-DEA)\n",
    "\n",
    "    CROSS_JC = QA.CROSS(DIFF, DEA)\n",
    "    CROSS_SC = QA.CROSS(DEA, DIFF)\n",
    "    ZERO = 0\n",
    "    return pd.DataFrame({'DIFF': DIFF, 'DEA': DEA, 'MACD': MACD, 'CROSS_JC': CROSS_JC, 'CROSS_SC': CROSS_SC, 'ZERO': ZERO})"
   ]
  },
  {
   "cell_type": "code",
   "execution_count": null,
   "metadata": {},
   "outputs": [],
   "source": []
  }
 ],
 "metadata": {
  "kernelspec": {
   "display_name": "Python 3",
   "language": "python",
   "name": "python3"
  },
  "language_info": {
   "codemirror_mode": {
    "name": "ipython",
    "version": 3
   },
   "file_extension": ".py",
   "mimetype": "text/x-python",
   "name": "python",
   "nbconvert_exporter": "python",
   "pygments_lexer": "ipython3",
   "version": "3.6.3"
  }
 },
 "nbformat": 4,
 "nbformat_minor": 2
}
