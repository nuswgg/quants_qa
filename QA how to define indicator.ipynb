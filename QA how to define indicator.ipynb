{
 "cells": [
  {
   "cell_type": "code",
   "execution_count": 1,
   "metadata": {},
   "outputs": [],
   "source": [
    "# -*- coding: utf-8 -*-\n",
    "import QUANTAXIS as QA\n",
    "import pandas as pd\n",
    "\n",
    "def MACD_JCSC(dataframe, SHORT=12, LONG=26, M=9):\n",
    "    \"\"\"\n",
    "    1.DIF向上突破DEA，买入信号参考。\n",
    "    2.DIF向下跌破DEA，卖出信号参考。\n",
    "    \"\"\"\n",
    "    CLOSE = dataframe.close\n",
    "    DIFF = QA.EMA(CLOSE, SHORT) - QA.EMA(CLOSE, LONG)\n",
    "    DEA = QA.EMA(DIFF, M)\n",
    "    MACD = 2*(DIFF-DEA)\n",
    "\n",
    "    CROSS_JC = QA.CROSS(DIFF, DEA)\n",
    "    CROSS_SC = QA.CROSS(DEA, DIFF)\n",
    "    ZERO = 0\n",
    "    return pd.DataFrame({'DIFF': DIFF, 'DEA': DEA, 'MACD': MACD, 'CROSS_JC': CROSS_JC, 'CROSS_SC': CROSS_SC, 'ZERO': ZERO})"
   ]
  },
  {
   "cell_type": "code",
   "execution_count": 2,
   "metadata": {},
   "outputs": [],
   "source": [
    "def QSDD(dataframe, SHORT=12, LONG=26, M=9):\n",
    "    \"\"\"\n",
    "    1.line_mid向上突破line_long，买入信号参考。\n",
    "    2.line_mid向下跌破line_long，卖出信号参考。\n",
    "    \"\"\"\n",
    "    OPEN = dataframe.open\n",
    "    HIGH = dataframe.high\n",
    "    LOW = dataframe.low\n",
    "    CLOSE = dataframe.close\n",
    "\n",
    "    # QSDD策略\n",
    "    # A = talib.MA(-100 * (talib.MAX(HIGH, 34) - CLOSE) / (talib.MAX(HIGH, 34) - talib.MIN(LOW, 34)), 19)\n",
    "    # B = -100 * (talib.MAX(HIGH, 14) - CLOSE) / (talib.MAX(HIGH, 14) - talib.MIN(LOW, 14))\n",
    "    # D = talib.EMA(-100 * (talib.MAX(HIGH, 34) - CLOSE) / (talib.MAX(HIGH, 34) - talib.MIN(LOW, 34)), 4)\n",
    "    A = QA.MA(-100 * (QA.HHV(HIGH, 34) - CLOSE) /\n",
    "              (QA.HHV(HIGH, 34) - QA.LLV(LOW, 34)), 19)\n",
    "    B = -100 * (QA.HHV(HIGH, 14) - CLOSE) / \\\n",
    "        (QA.HHV(HIGH, 14) - QA.LLV(LOW, 14))\n",
    "    D = QA.EMA(-100 * (QA.HHV(HIGH, 34) - CLOSE) /\n",
    "               (QA.HHV(HIGH, 34) - QA.LLV(LOW, 34)), 4)\n",
    "\n",
    "    line_long = A + 100\n",
    "    line_short = B + 100\n",
    "    line_mid = D + 100  # 信号线\n",
    "\n",
    "    CROSS_JC = QA.CROSS(line_mid, line_long)\n",
    "    CROSS_SC = QA.CROSS(line_long, line_mid)\n",
    "    return pd.DataFrame({'line_mid': line_mid, 'line_long': line_long, 'CROSS_JC': CROSS_JC, 'CROSS_SC': CROSS_SC})"
   ]
  },
  {
   "cell_type": "code",
   "execution_count": 3,
   "metadata": {},
   "outputs": [],
   "source": [
    "import QUANTAXIS as QA\n",
    "import numpy as np\n",
    "import talib\n",
    "import pandas as pd\n",
    "import scipy.signal as signal\n",
    "import matplotlib.pyplot as plt\n",
    "%matplotlib inline"
   ]
  },
  {
   "cell_type": "code",
   "execution_count": 4,
   "metadata": {},
   "outputs": [
    {
     "name": "stdout",
     "output_type": "stream",
     "text": [
      "['000001', '000002', '000063', '000066', '000069', '000100', '000157', '000166', '000333', '000338', '000425', '000538', '000568', '000596', '000625', '000627', '000651', '000656', '000661', '000671', '000703', '000708', '000709', '000723', '000725', '000728', '000768', '000776', '000783', '000786']\n"
     ]
    }
   ],
   "source": [
    "# 定义MACD函数\n",
    "def TA_MACD(prices, fastperiod=12, slowperiod=26, signalperiod=9):\n",
    "    '''\n",
    "    参数设置:\n",
    "        fastperiod = 12\n",
    "        slowperiod = 26\n",
    "        signalperiod = 9\n",
    "\n",
    "    返回: macd - dif, signal - dea, hist * 2 - bar, delta\n",
    "    '''\n",
    "    macd, signal, hist = talib.MACD(prices, \n",
    "                                    fastperiod=fastperiod, \n",
    "                                    slowperiod=slowperiod, \n",
    "                                    signalperiod=signalperiod)\n",
    "    delta = np.r_[np.nan, np.diff(hist * 2)]\n",
    "    return np.c_[macd, signal, hist * 2, delta]\n",
    "\n",
    "\n",
    "# 定义MA函数\n",
    "def TA_MA(prices, timeperiod=5):\n",
    "    '''\n",
    "    参数设置:\n",
    "        timeperiod = 5\n",
    "\n",
    "    返回: ma\n",
    "    '''\n",
    "    ma = talib.MA(prices, timeperiod=timeperiod)\n",
    "    return ma\n",
    "\n",
    "\n",
    "# 定义RSI函数\n",
    "def TA_RSI(prices, timeperiod=12):\n",
    "    '''\n",
    "    参数设置:\n",
    "        timeperiod = 12\n",
    "\n",
    "    返回: ma\n",
    "    '''\n",
    "    rsi = talib.RSI(prices, timeperiod=timeperiod)\n",
    "    delta = np.r_[np.nan, np.diff(rsi)]\n",
    "    return np.c_[rsi, delta]\n",
    "\n",
    "\n",
    "# 定义RSI函数\n",
    "def TA_BBANDS(prices, timeperiod=5, nbdevup=2, nbdevdn=2, matype=0):\n",
    "    '''\n",
    "    参数设置:\n",
    "        timeperiod = 5\n",
    "        nbdevup = 2\n",
    "        nbdevdn = 2\n",
    "\n",
    "    返回: up, middle, low\n",
    "    '''\n",
    "    up, middle, low = talib.BBANDS(prices, timeperiod, nbdevup, nbdevdn, matype)\n",
    "    ch = (up - low) / low\n",
    "    delta = np.r_[np.nan, np.diff(ch)]\n",
    "\n",
    "    ma30 = TA_MA(prices, timeperiod=30)\n",
    "    boll_band_channel_padding = (ma30 - low) / low\n",
    "    padding_delta = np.r_[np.nan, np.diff(boll_band_channel_padding)]\n",
    "    ch_ma30 = talib.MA(ch, timeperiod=30)\n",
    "    return np.c_[up, middle, low, ch, ch_ma30, delta, padding_delta]\n",
    "\n",
    "\n",
    "def TA_KDJ(hight, low, close, fastk_period=9, slowk_matype=0, slowk_period=3, slowd_period=3):\n",
    "    '''\n",
    "    参数设置:\n",
    "        fastk_period = 0\n",
    "        lowk_matype = 0, \n",
    "        slowk_period = 3, \n",
    "        slowd_period = 3\n",
    "\n",
    "    返回: K, D, J\n",
    "    '''\n",
    "    K, D = talib.STOCH(hight, low, close, fastk_period=fastk_period, slowk_matype=slowk_matype, slowk_period=slowk_period, slowd_period=slowd_period)\n",
    "    J = 3 * K - 2 * D\n",
    "    delta = np.r_[np.nan, np.diff(J)]\n",
    "    return np.c_[K, D, J, delta]\n",
    "\n",
    "\n",
    "def TA_CCI(high, low, close, timeperiod=14):\n",
    "    \"\"\"\n",
    "    名称：平均趋向指数的趋向指数\n",
    "    简介：使用ADXR指标，指标判断ADX趋势。\n",
    "    \"\"\"\n",
    "    real = talib.CCI(high, low, close, timeperiod=14)\n",
    "    delta = np.r_[np.nan, np.diff(real)]\n",
    "    return np.c_[real, delta]\n",
    "#获取全市场股票 list格式\n",
    "code  = QA.QA_fetch_stock_list_adv().code.tolist()\n",
    "codelist = QA.QA_fetch_stock_block_adv().get_block('沪深300').code\n",
    "print(codelist[0:30])\n",
    "\n",
    "# 获取全市场数据 QADataStruct格式\n",
    "data1 =  QA.QA_fetch_stock_day_adv(code, '2019-10-01','2020-02-18')\n",
    "data2 =  QA.QA_fetch_stock_day_adv(codelist, '2019-10-01','2020-02-18')"
   ]
  },
  {
   "cell_type": "code",
   "execution_count": 5,
   "metadata": {},
   "outputs": [],
   "source": [
    "# 写个指标 so easy\n",
    "def ifup20(data):\n",
    "    # QA内建指标计算 Python原生代码\n",
    "    return (QA.MA(data.close, 5)-QA.MA(data.close, 20)).dropna() > 0\n",
    "\n",
    "def ifup20_TA(data):\n",
    "    # TA-lib计算\n",
    "    return (TA_MA(data.close, 5)-TA_MA(data.close, 20)).dropna() > 0\n",
    "\n",
    "# apply到 QADataStruct上\n",
    "\n",
    "# 写个自定义指标 MAX_FACTOR QA内建指标计算 Python原生代码\n",
    "def ifmaxfactor_greater(data):\n",
    "    RSI = QA.QA_indicator_RSI(data)\n",
    "    CCI = QA.QA_indicator_CCI(data)\n",
    "    KDJ = QA.QA_indicator_KDJ(data)\n",
    "    MAX_FACTOR = CCI['CCI'] + (RSI['RSI1'] - 50) * 4 + (KDJ['KDJ_J'] - 50) * 4\n",
    "    MAX_FACTOR_delta = np.r_[np.nan, np.diff(MAX_FACTOR)]\n",
    "    REGRESSION_BASELINE = (RSI['RSI1'] - 50) * 4\n",
    "    return ((MAX_FACTOR+MAX_FACTOR_delta)-(REGRESSION_BASELINE-133)).dropna() > 0\n",
    "\n",
    "# 写个自定义指标 MAX_FACTOR TA-lib计算\n",
    "def ifmaxfactor_greater_TA(data):\n",
    "    RSI = TA_RSI(data.close)\n",
    "    CCI = TA_CCI(data.high, data.low, data.close)\n",
    "    KDJ = TA_KDJ(data.high, data.low, data.close)    \n",
    "    MAX_FACTOR = CCI[:,0] + (RSI[:,0] - 50) * 4 + (KDJ[:,2] - 50) * 4\n",
    "    MAX_FACTOR_delta = np.r_[np.nan, np.diff(MAX_FACTOR)]\n",
    "    REGRESSION_BASELINE = (RSI[:,0] - 50) * 4\n",
    "    return pd.DataFrame(((MAX_FACTOR+MAX_FACTOR_delta)-(REGRESSION_BASELINE-133)), index=data.index).dropna() > 0"
   ]
  },
  {
   "cell_type": "code",
   "execution_count": 6,
   "metadata": {},
   "outputs": [
    {
     "name": "stdout",
     "output_type": "stream",
     "text": [
      "6.56 s ± 402 ms per loop (mean ± std. dev. of 7 runs, 1 loop each)\n"
     ]
    }
   ],
   "source": [
    "%timeit ind1 = data1.add_func(ifup20)"
   ]
  },
  {
   "cell_type": "code",
   "execution_count": 7,
   "metadata": {},
   "outputs": [
    {
     "name": "stdout",
     "output_type": "stream",
     "text": [
      "4.48 s ± 44 ms per loop (mean ± std. dev. of 7 runs, 1 loop each)\n"
     ]
    }
   ],
   "source": [
    "%timeit ind1 = data1.add_func(ifup20_TA)"
   ]
  },
  {
   "cell_type": "code",
   "execution_count": 8,
   "metadata": {},
   "outputs": [
    {
     "name": "stdout",
     "output_type": "stream",
     "text": [
      "7.59 s ± 84.2 ms per loop (mean ± std. dev. of 7 runs, 1 loop each)\n"
     ]
    }
   ],
   "source": [
    "%timeit ind2 = data2.add_func(ifmaxfactor_greater)"
   ]
  },
  {
   "cell_type": "code",
   "execution_count": 9,
   "metadata": {},
   "outputs": [
    {
     "name": "stdout",
     "output_type": "stream",
     "text": [
      "1.24 s ± 36.3 ms per loop (mean ± std. dev. of 7 runs, 1 loop each)\n"
     ]
    }
   ],
   "source": [
    "%timeit ind2 = data2.add_func(ifmaxfactor_greater_TA)"
   ]
  },
  {
   "cell_type": "code",
   "execution_count": 10,
   "metadata": {},
   "outputs": [],
   "source": [
    "#!/usr/bin/env python3\n",
    "\n",
    "import datetime\n",
    "import os\n",
    "\n",
    "import pandas as pd\n",
    "\n",
    "import QUANTAXIS as QA\n",
    "\n",
    "# code_list = QA.QA_fetch_stock_list().index.tolist()\n",
    "code_list = [\"000001\", \"600000\"]\n",
    "current_date = str(datetime.date.today())\n",
    "current_daily_bar = pd.DataFrame()\n",
    "# 前置数据时间点\n",
    "start_date = QA.QA_util_get_pre_trade_date(current_date, n=100)\n",
    "# 前置数据准备\n",
    "daily_data = QA.QA_fetch_stock_day_adv(\n",
    "    code=code_list, start=start_date, end=current_date\n",
    ").to_qfq()\n",
    "\n",
    "# 方便计算，数据转换为相应透视数据\n",
    "closes = daily_data.pivot(\"close\")\n",
    "highs = daily_data.pivot(\"high\")\n",
    "lows = daily_data.pivot(\"low\")\n",
    "\n",
    "\n",
    "def get_short_strength(\n",
    "    highs: pd.DataFrame, lows: pd.DataFrame, closes: pd.DataFrame, period: int = 27\n",
    ") -> pd.Series:\n",
    "    \"\"\"\n",
    "    计算空方力量\n",
    "\n",
    "    :param highs: high 透视数据\n",
    "    :param closes: close 透视数据\n",
    "    :param period: 周期\n",
    "    \"\"\"\n",
    "    A = highs.apply(QA.HHV, N=period, axis=0)\n",
    "    B = lows.apply(QA.LLV, N=period, axis=0)\n",
    "    return 100 * (A.iloc[-1] - closes.ffill().iloc[-1]) / (A.iloc[-1] - B.iloc[-1])\n",
    "\n",
    "\n",
    "def get_long_strength(\n",
    "    highs: pd.DataFrame, lows: pd.DataFrame, closes: pd.DataFrame, period: int = 27\n",
    ") -> pd.Series:\n",
    "    \"\"\"\n",
    "    计算多方力量\n",
    "    \"\"\"\n",
    "    A = highs.apply(QA.HHV, N=period, axis=0)\n",
    "    B = lows.apply(QA.LLV, N=period, axis=0)\n",
    "    C = ((closes - B) / (A - B)).apply(QA.QAIndicator.base.SMA, N=5, M=1, axis=0) * 100\n",
    "    return (3 * C - 2 * C.apply(QA.QAIndicator.base.SMA, N=3, M=1)).iloc[-1]\n",
    "\n",
    "\n",
    "def get_RSV(\n",
    "    highs: pd.DataFrame, lows: pd.DataFrame, closes: pd.DataFrame, period: int = 30\n",
    ") -> pd.DataFrame:\n",
    "    \"\"\"\n",
    "    计算 RSV 值\n",
    "    \"\"\"\n",
    "    return (\n",
    "        100\n",
    "        * (closes - lows.apply(QA.LLV, N=period, axis=0))\n",
    "        / (highs.apply(QA.HHV, N=period, axis=0) - lows.apply(QA.LLV, N=period, axis=0))\n",
    "    )\n",
    "\n",
    "\n",
    "def get_KDJ(\n",
    "    highs: pd.DataFrame,\n",
    "    lows: pd.DataFrame,\n",
    "    closes: pd.DataFrame,\n",
    "    period: int = 30,\n",
    "    M1: int = 3,\n",
    "    M2: int = 3,\n",
    ") -> dict:\n",
    "    \"\"\"\n",
    "    获取 KDJ 值\n",
    "    \"\"\"\n",
    "    RSV = get_RSV(highs, lows, closes, period)\n",
    "    KDJ_K = RSV.apply(QA.QAIndicator.base.SMA, N=3, M=1, axis=0)\n",
    "    KDJ_D = KDJ_K.apply(QA.QAIndicator.base.SMA, N=3, M=1, axis=0)\n",
    "    KDJ_J = 3 * KDJ_K - 2 * KDJ_D\n",
    "    return {\"KDJ_K\": KDJ_K, \"KDJ_D\": KDJ_D, \"KDJ_J\": KDJ_J}"
   ]
  },
  {
   "cell_type": "code",
   "execution_count": null,
   "metadata": {},
   "outputs": [],
   "source": []
  },
  {
   "cell_type": "code",
   "execution_count": null,
   "metadata": {},
   "outputs": [],
   "source": []
  }
 ],
 "metadata": {
  "kernelspec": {
   "display_name": "Python 3",
   "language": "python",
   "name": "python3"
  },
  "language_info": {
   "codemirror_mode": {
    "name": "ipython",
    "version": 3
   },
   "file_extension": ".py",
   "mimetype": "text/x-python",
   "name": "python",
   "nbconvert_exporter": "python",
   "pygments_lexer": "ipython3",
   "version": "3.6.3"
  }
 },
 "nbformat": 4,
 "nbformat_minor": 2
}
