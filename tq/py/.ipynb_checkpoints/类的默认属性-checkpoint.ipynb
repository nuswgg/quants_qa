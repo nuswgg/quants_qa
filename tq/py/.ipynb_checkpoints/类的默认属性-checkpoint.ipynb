{
 "cells": [
  {
   "cell_type": "markdown",
   "metadata": {},
   "source": [
    "#  \\_\\_new\\_\\_"
   ]
  },
  {
   "cell_type": "code",
   "execution_count": 1,
   "metadata": {},
   "outputs": [],
   "source": [
    "# https://blog.csdn.net/yusuiyu/article/details/87867186"
   ]
  },
  {
   "cell_type": "code",
   "execution_count": 2,
   "metadata": {},
   "outputs": [],
   "source": [
    "# object类关于__new__()的定义如下："
   ]
  },
  {
   "cell_type": "code",
   "execution_count": null,
   "metadata": {},
   "outputs": [],
   "source": [
    "@staticmethod # known case of __new__\n",
    "    def __new__(cls, *more): # known special case of object.__new__\n",
    "        \"\"\" T.__new__(S, ...) -> a new object with type S, a subtype of T \"\"\"\n",
    "        pass\n",
    "# 参数说明：\n",
    "# （1）object将__new__()定义成静态方法。\n",
    "# （2）传入的参数至少一个cls参数，cls表示需要实例化的类。"
   ]
  },
  {
   "cell_type": "code",
   "execution_count": 40,
   "metadata": {},
   "outputs": [],
   "source": [
    "class A(): ## A(object)\n",
    "    def __init__(self, value):\n",
    "        print(\"into __init__\")\n",
    "        self.value = value\n",
    "    def __new__(cls, value):\n",
    "        print(\"into __new__\")\n",
    "        return object.__new__(cls)"
   ]
  },
  {
   "cell_type": "code",
   "execution_count": 41,
   "metadata": {},
   "outputs": [
    {
     "name": "stdout",
     "output_type": "stream",
     "text": [
      "into __new__\n",
      "into __init__\n"
     ]
    }
   ],
   "source": [
    "a=A(10) \n",
    "# 当实例A时，new 最先被调用"
   ]
  },
  {
   "cell_type": "code",
   "execution_count": 60,
   "metadata": {},
   "outputs": [],
   "source": [
    "class A(object):\n",
    "    def __init__(self, value):\n",
    "        print(\"into A __init__\")\n",
    "        self.value = value\n",
    "        \n",
    "    def __new__(cls,value):\n",
    "        print(\"into A __new__\")\n",
    "        return object.__new__(cls)\n",
    " "
   ]
  },
  {
   "cell_type": "code",
   "execution_count": 61,
   "metadata": {},
   "outputs": [
    {
     "name": "stdout",
     "output_type": "stream",
     "text": [
      "into A __new__\n",
      "into A __init__\n"
     ]
    }
   ],
   "source": [
    "a = A(10)"
   ]
  },
  {
   "cell_type": "code",
   "execution_count": 62,
   "metadata": {},
   "outputs": [],
   "source": [
    "class B(A):\n",
    "    def __init__(self, value):\n",
    "        print(\"into B __init__\")\n",
    "        self.value = value\n",
    "        \n",
    "    def __new__(cls, value):\n",
    "        print(\"into B __new__\")\n",
    "        return super(B, cls).__new__(cls,value)"
   ]
  },
  {
   "cell_type": "code",
   "execution_count": 63,
   "metadata": {},
   "outputs": [
    {
     "name": "stdout",
     "output_type": "stream",
     "text": [
      "into B __new__\n",
      "into A __new__\n",
      "into B __init__\n"
     ]
    }
   ],
   "source": [
    "b = B(10)"
   ]
  },
  {
   "cell_type": "code",
   "execution_count": null,
   "metadata": {},
   "outputs": [],
   "source": []
  },
  {
   "cell_type": "code",
   "execution_count": 42,
   "metadata": {},
   "outputs": [
    {
     "name": "stdout",
     "output_type": "stream",
     "text": [
      "__new__ called.\n",
      "__init__ called.\n",
      "<Person: piglei(24)>\n"
     ]
    }
   ],
   "source": [
    "class Person(object):\n",
    "    \"\"\"Silly Person\"\"\"\n",
    " \n",
    "    def __new__(cls, name, age):\n",
    "        print('__new__ called.')\n",
    "        return object.__new__(cls)\n",
    "#         return super(Person,cls).__new__(cls, name, age)\n",
    " \n",
    "    def __init__(self, name, age):\n",
    "        print('__init__ called.')\n",
    "        self.name = name\n",
    "        self.age = age\n",
    " \n",
    "    def __str__(self):\n",
    "        return '<Person: %s(%s)>' % (self.name, self.age)\n",
    " \n",
    "if __name__ == '__main__':\n",
    "    piglei = Person('piglei', 24)\n",
    "    print(piglei)"
   ]
  },
  {
   "cell_type": "code",
   "execution_count": 64,
   "metadata": {},
   "outputs": [],
   "source": [
    "class positiveinteger(int):\n",
    "    def __init__(self,val):\n",
    "        self.val=abs(val)"
   ]
  },
  {
   "cell_type": "code",
   "execution_count": 65,
   "metadata": {},
   "outputs": [],
   "source": [
    "# 想初始化一个永远正的值\n",
    "i = positiveinteger(-3)"
   ]
  },
  {
   "cell_type": "code",
   "execution_count": 66,
   "metadata": {},
   "outputs": [
    {
     "data": {
      "text/plain": [
       "-3"
      ]
     },
     "execution_count": 66,
     "metadata": {},
     "output_type": "execute_result"
    }
   ],
   "source": [
    "i"
   ]
  },
  {
   "cell_type": "code",
   "execution_count": 70,
   "metadata": {},
   "outputs": [],
   "source": [
    "class positiveinteger(int):\n",
    "    def __init__(self,val):\n",
    "        self.val=val\n",
    "    def __new__(cls,val):\n",
    "        return super(positiveinteger,cls).__new__(cls,abs(val))"
   ]
  },
  {
   "cell_type": "code",
   "execution_count": 71,
   "metadata": {},
   "outputs": [],
   "source": [
    "i = positiveinteger(-3)"
   ]
  },
  {
   "cell_type": "code",
   "execution_count": 72,
   "metadata": {},
   "outputs": [
    {
     "data": {
      "text/plain": [
       "3"
      ]
     },
     "execution_count": 72,
     "metadata": {},
     "output_type": "execute_result"
    }
   ],
   "source": [
    "i"
   ]
  },
  {
   "cell_type": "code",
   "execution_count": null,
   "metadata": {},
   "outputs": [],
   "source": [
    "# （1）在定义子类时没有重新定义__new__()时，Python默认是调用该类的直接父类的__new__()方法来构造该类的实例，如果该类的父类也没有重写__new__()，那么将一直按此规矩追溯至object的__new__()方法，因为object是所有新式类的基类。\n",
    "# （2）除了一项两个作用外，一般__new__()使用较少，能通过__init__()实现的尽量用__init__()实现。"
   ]
  },
  {
   "cell_type": "markdown",
   "metadata": {},
   "source": [
    "# \\_\\_str\\_\\_() 和 \\_\\_repr\\_\\_()"
   ]
  },
  {
   "cell_type": "code",
   "execution_count": 73,
   "metadata": {},
   "outputs": [],
   "source": [
    "class A:\n",
    "\tpass"
   ]
  },
  {
   "cell_type": "code",
   "execution_count": 75,
   "metadata": {},
   "outputs": [],
   "source": [
    "a = A()"
   ]
  },
  {
   "cell_type": "code",
   "execution_count": 76,
   "metadata": {},
   "outputs": [
    {
     "data": {
      "text/plain": [
       "<__main__.A at 0x24ce1c4ea00>"
      ]
     },
     "execution_count": 76,
     "metadata": {},
     "output_type": "execute_result"
    }
   ],
   "source": [
    "a"
   ]
  },
  {
   "cell_type": "code",
   "execution_count": 77,
   "metadata": {},
   "outputs": [
    {
     "name": "stdout",
     "output_type": "stream",
     "text": [
      "<__main__.A object at 0x0000024CE1C4EA00>\n"
     ]
    }
   ],
   "source": [
    "print(a)"
   ]
  },
  {
   "cell_type": "code",
   "execution_count": 78,
   "metadata": {},
   "outputs": [],
   "source": [
    "class A:\n",
    "\tdef __str__(self):       \n",
    "\t\treturn \"into __str__\"   "
   ]
  },
  {
   "cell_type": "code",
   "execution_count": 79,
   "metadata": {},
   "outputs": [],
   "source": [
    "a = A()"
   ]
  },
  {
   "cell_type": "code",
   "execution_count": 80,
   "metadata": {},
   "outputs": [
    {
     "data": {
      "text/plain": [
       "<__main__.A at 0x24ce1c4e0d0>"
      ]
     },
     "execution_count": 80,
     "metadata": {},
     "output_type": "execute_result"
    }
   ],
   "source": [
    "a"
   ]
  },
  {
   "cell_type": "code",
   "execution_count": 81,
   "metadata": {},
   "outputs": [
    {
     "name": "stdout",
     "output_type": "stream",
     "text": [
      "into __str__\n"
     ]
    }
   ],
   "source": [
    "# 用print会调用__str__方法，可以打印出__str__中的信息\n",
    "print(a)"
   ]
  },
  {
   "cell_type": "code",
   "execution_count": 82,
   "metadata": {},
   "outputs": [],
   "source": [
    "class A:\n",
    "\tdef __repr__(self):   \n",
    "\t\treturn \"into __repr__\""
   ]
  },
  {
   "cell_type": "code",
   "execution_count": 83,
   "metadata": {},
   "outputs": [],
   "source": [
    "a = A()"
   ]
  },
  {
   "cell_type": "code",
   "execution_count": 84,
   "metadata": {},
   "outputs": [
    {
     "data": {
      "text/plain": [
       "into __repr__"
      ]
     },
     "execution_count": 84,
     "metadata": {},
     "output_type": "execute_result"
    }
   ],
   "source": [
    "a"
   ]
  },
  {
   "cell_type": "code",
   "execution_count": 85,
   "metadata": {},
   "outputs": [
    {
     "name": "stdout",
     "output_type": "stream",
     "text": [
      "into __repr__\n"
     ]
    }
   ],
   "source": [
    "print(a)"
   ]
  },
  {
   "cell_type": "code",
   "execution_count": 86,
   "metadata": {},
   "outputs": [],
   "source": [
    "class A:\n",
    "\tdef __str__(self):\n",
    "\t\treturn \"into __str__\"\n",
    "\tdef __repr__(self):   \n",
    "\t\treturn \"into __repr__\"\n"
   ]
  },
  {
   "cell_type": "code",
   "execution_count": 87,
   "metadata": {},
   "outputs": [],
   "source": [
    "a = A()"
   ]
  },
  {
   "cell_type": "code",
   "execution_count": 88,
   "metadata": {},
   "outputs": [
    {
     "data": {
      "text/plain": [
       "into __repr__"
      ]
     },
     "execution_count": 88,
     "metadata": {},
     "output_type": "execute_result"
    }
   ],
   "source": [
    "a"
   ]
  },
  {
   "cell_type": "code",
   "execution_count": 90,
   "metadata": {},
   "outputs": [
    {
     "name": "stdout",
     "output_type": "stream",
     "text": [
      "into __str__\n"
     ]
    }
   ],
   "source": [
    "# print 优先调用 \\_\\_str\\\n",
    "print(a)"
   ]
  },
  {
   "cell_type": "markdown",
   "metadata": {},
   "source": [
    "# \\_\\_call\\_\\_"
   ]
  },
  {
   "cell_type": "code",
   "execution_count": 92,
   "metadata": {},
   "outputs": [
    {
     "data": {
      "text/plain": [
       "False"
      ]
     },
     "execution_count": 92,
     "metadata": {},
     "output_type": "execute_result"
    }
   ],
   "source": [
    "class test():\n",
    "  def method(self):\n",
    "    return 1\n",
    "a = test()\n",
    "callable(a)#false,代表实例a是不可被调用"
   ]
  },
  {
   "cell_type": "code",
   "execution_count": 95,
   "metadata": {},
   "outputs": [
    {
     "data": {
      "text/plain": [
       "True"
      ]
     },
     "execution_count": 95,
     "metadata": {},
     "output_type": "execute_result"
    }
   ],
   "source": [
    "class test():\n",
    "    def method(self):\n",
    "        return 1\n",
    "    def __call__(cls):\n",
    "        print('test is callale')\n",
    "a = test()\n",
    "callable(a)#true"
   ]
  },
  {
   "cell_type": "code",
   "execution_count": 98,
   "metadata": {},
   "outputs": [],
   "source": []
  },
  {
   "cell_type": "code",
   "execution_count": 99,
   "metadata": {},
   "outputs": [
    {
     "data": {
      "text/plain": [
       "<__main__.test at 0x24ce1c2d460>"
      ]
     },
     "execution_count": 99,
     "metadata": {},
     "output_type": "execute_result"
    }
   ],
   "source": [
    "a"
   ]
  },
  {
   "cell_type": "markdown",
   "metadata": {},
   "source": [
    "# super"
   ]
  },
  {
   "cell_type": "code",
   "execution_count": 116,
   "metadata": {},
   "outputs": [
    {
     "name": "stdout",
     "output_type": "stream",
     "text": [
      "Parent\n",
      "Child\n",
      "HelloWorld from Parent\n",
      "Child bar fuction\n",
      "I'm the parent.\n"
     ]
    }
   ],
   "source": [
    "#!/usr/bin/python\n",
    "# -*- coding: UTF-8 -*-\n",
    " \n",
    "class FooParent(object):\n",
    "    def __init__(self):\n",
    "        self.parent = 'I\\'m the parent.'\n",
    "        print ('Parent')\n",
    "    \n",
    "    def bar(self,message):\n",
    "        print (\"%s from Parent\" % message)\n",
    " \n",
    "class FooChild(FooParent):\n",
    "    def __init__(self):\n",
    "        # super(FooChild,self) 首先找到 FooChild 的父类（就是类 FooParent），然后把类 FooChild 的对象转换为类 FooParent 的对象\n",
    "        super().__init__()\n",
    "#         super(FooChild,self).__init__() # print parent twice\n",
    "\n",
    "        print ('Child')\n",
    "\n",
    "\n",
    "    def bar(self,message):\n",
    "        super(FooChild, self).bar(message)\n",
    "        print ('Child bar fuction')\n",
    "        print (self.parent)\n",
    " \n",
    "if __name__ == '__main__':\n",
    "    fooChild = FooChild()\n",
    "    fooChild.bar('HelloWorld')"
   ]
  },
  {
   "cell_type": "code",
   "execution_count": 113,
   "metadata": {},
   "outputs": [
    {
     "ename": "SyntaxError",
     "evalue": "invalid syntax (<ipython-input-113-e364096489b7>, line 4)",
     "output_type": "error",
     "traceback": [
      "\u001b[1;36m  File \u001b[1;32m\"<ipython-input-113-e364096489b7>\"\u001b[1;36m, line \u001b[1;32m4\u001b[0m\n\u001b[1;33m    HelloWorld from Parent\u001b[0m\n\u001b[1;37m               ^\u001b[0m\n\u001b[1;31mSyntaxError\u001b[0m\u001b[1;31m:\u001b[0m invalid syntax\n"
     ]
    }
   ],
   "source": [
    "Parent\n",
    "Parent\n",
    "Child\n",
    "HelloWorld from Parent\n",
    "Child bar fuction\n",
    "I'm the parent."
   ]
  },
  {
   "cell_type": "code",
   "execution_count": 122,
   "metadata": {},
   "outputs": [
    {
     "name": "stdout",
     "output_type": "stream",
     "text": [
      "Gran Parent\n",
      "Parent\n",
      "Child\n",
      "HelloWorld from Parent\n",
      "Child bar fuction\n",
      "I'm the parent.\n"
     ]
    }
   ],
   "source": [
    "#!/usr/bin/python\n",
    "# -*- coding: UTF-8 -*-\n",
    "\n",
    "class GranParent(object):\n",
    "    def __init__(self):\n",
    "        self.parent = 'I\\'m the gran parent.'\n",
    "        print ('Gran Parent')\n",
    "    \n",
    "    def bar(self,message):\n",
    "        print (\"%s from Parent\" % message)   \n",
    "        \n",
    "class FooParent(GranParent):\n",
    "    def __init__(self):\n",
    "        super().__init__()\n",
    "        self.parent = 'I\\'m the parent.'\n",
    "        print ('Parent')\n",
    "    \n",
    "    def bar(self,message):\n",
    "        print (\"%s from Parent\" % message)\n",
    " \n",
    "class FooChild(FooParent):\n",
    "    def __init__(self):\n",
    "        # super(FooChild,self) 首先找到 FooChild 的父类（就是类 FooParent），然后把类 FooChild 的对象转换为类 FooParent 的对象\n",
    "#         super().__init__()\n",
    "        super(FooChild,self).__init__() # print parent twice\n",
    "        print ('Child')\n",
    "\n",
    "\n",
    "    def bar(self,message):\n",
    "        super(FooChild, self).bar(message)\n",
    "        print ('Child bar fuction')\n",
    "        print (self.parent)\n",
    " \n",
    "if __name__ == '__main__':\n",
    "    fooChild = FooChild()\n",
    "    fooChild.bar('HelloWorld')"
   ]
  },
  {
   "cell_type": "markdown",
   "metadata": {},
   "source": [
    "# metaclass"
   ]
  },
  {
   "cell_type": "markdown",
   "metadata": {},
   "source": [
    "https://www.jianshu.com/p/224ffcb8e73e"
   ]
  },
  {
   "cell_type": "code",
   "execution_count": 128,
   "metadata": {},
   "outputs": [],
   "source": [
    "# 动态创建class"
   ]
  },
  {
   "cell_type": "code",
   "execution_count": 123,
   "metadata": {},
   "outputs": [],
   "source": [
    "def dynamic_class_creater(name):\n",
    "...     if name == 'name1':\n",
    "...         class class1(object):\n",
    "...             pass\n",
    "...         return class1\n",
    "...     else:\n",
    "...         class class2(object):\n",
    "...             pass\n",
    "...         return class2"
   ]
  },
  {
   "cell_type": "code",
   "execution_count": 124,
   "metadata": {},
   "outputs": [],
   "source": [
    "first_class = dynamic_class_creater('name1')"
   ]
  },
  {
   "cell_type": "code",
   "execution_count": 125,
   "metadata": {},
   "outputs": [
    {
     "name": "stdout",
     "output_type": "stream",
     "text": [
      "<class '__main__.dynamic_class_creater.<locals>.class1'>\n"
     ]
    }
   ],
   "source": [
    "print(first_class)"
   ]
  },
  {
   "cell_type": "code",
   "execution_count": 126,
   "metadata": {},
   "outputs": [
    {
     "name": "stdout",
     "output_type": "stream",
     "text": [
      "<__main__.dynamic_class_creater.<locals>.class1 object at 0x0000024CE1E0E460>\n"
     ]
    }
   ],
   "source": [
    "print(first_class())"
   ]
  },
  {
   "cell_type": "code",
   "execution_count": null,
   "metadata": {},
   "outputs": [],
   "source": []
  }
 ],
 "metadata": {
  "kernelspec": {
   "display_name": "Python 3",
   "language": "python",
   "name": "python3"
  },
  "language_info": {
   "codemirror_mode": {
    "name": "ipython",
    "version": 3
   },
   "file_extension": ".py",
   "mimetype": "text/x-python",
   "name": "python",
   "nbconvert_exporter": "python",
   "pygments_lexer": "ipython3",
   "version": "3.8.5"
  }
 },
 "nbformat": 4,
 "nbformat_minor": 4
}
