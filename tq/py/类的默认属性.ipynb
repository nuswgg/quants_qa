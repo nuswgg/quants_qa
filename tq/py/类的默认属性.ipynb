{
 "cells": [
  {
   "cell_type": "markdown",
   "metadata": {},
   "source": [
    "# Python中的类元编程"
   ]
  },
  {
   "cell_type": "code",
   "execution_count": 134,
   "metadata": {},
   "outputs": [],
   "source": [
    "def record_factory(cls_name,field_names):\n",
    "    print('def starts')\n",
    "    try:\n",
    "        field_names=field_names.replace(',',' ').split()\n",
    "    except AttributeError:\n",
    "        pass\n",
    "    field_names=tuple(field_names)#使用属性名构建元组，这将成为新的__slots__。\n",
    "\n",
    "    def __init__(self,*args,**kwards):#通过字典解析输入数据，然后将值赋给新建的类的属性。\n",
    "        print('__init__ is running')\n",
    "#         print('cls name {0}'.format(self))  #{:} need __format__\n",
    "        attrs=dict(zip(self.__slots__,args))\n",
    "        attrs.update(kwards)\n",
    "        for key,value in attrs.items():\n",
    "            setattr(self,key,value)\n",
    "\n",
    "    def __iter__(self):#迭代特殊方法的思想在于让解释器查询到属性对应的值。\n",
    "        print('__iter__ is running')\n",
    "        for name in self.__slots__:\n",
    "            yield getattr(self,name)#实现迭代的方法在于：通过内置getattr方法获取已经初始化的类属性对应的值。\n",
    "    def __repr__(self):#返回一个合适的字符串。\n",
    "        print('__repr__ is running')\n",
    "        msg=', '.join('{}={!r}'.format(*i) for i in zip(self.__slots__,self))  #!r to show ''\n",
    "        print(list(zip(self.__slots__,self)))\n",
    "        return '{}({})'.format(self.__class__.__name__,msg)\n",
    "    \n",
    "    def __str__(self):\n",
    "        print(\"__str__ is running\")\n",
    "        pass\n",
    "\n",
    "    cls_attrs=dict(__slots__=field_names,\n",
    "                   __init__=__init__,\n",
    "                  __iter__=__iter__,\n",
    "                   __repr__=__repr__)\n",
    "    print('def end')\n",
    "    return type(cls_name,(object,),cls_attrs)#使用type构造方法构建新类并返回，注意object后的逗号很重要。\n"
   ]
  },
  {
   "cell_type": "code",
   "execution_count": 135,
   "metadata": {},
   "outputs": [
    {
     "name": "stdout",
     "output_type": "stream",
     "text": [
      "def starts\n",
      "def end\n"
     ]
    }
   ],
   "source": [
    "animal=record_factory('animal','name,age,price') # 创立一个实例类  不会触发定义的函数"
   ]
  },
  {
   "cell_type": "code",
   "execution_count": 136,
   "metadata": {},
   "outputs": [
    {
     "name": "stdout",
     "output_type": "stream",
     "text": [
      "__init__ is running\n"
     ]
    }
   ],
   "source": [
    "dog=animal('dog','Bob','1000') #用实例的类创立子类，会调用__init__"
   ]
  },
  {
   "cell_type": "code",
   "execution_count": 89,
   "metadata": {},
   "outputs": [
    {
     "name": "stdout",
     "output_type": "stream",
     "text": [
      "__repr__ is running\n",
      "__iter__ is running\n",
      "__iter__ is running\n",
      "[('name', 'dog'), ('age', 'Bob'), ('price', '1000')]\n"
     ]
    },
    {
     "data": {
      "text/plain": [
       "animal(name='dog', age='Bob', price='1000')"
      ]
     },
     "execution_count": 89,
     "metadata": {},
     "output_type": "execute_result"
    }
   ],
   "source": [
    "dog"
   ]
  },
  {
   "cell_type": "code",
   "execution_count": 33,
   "metadata": {},
   "outputs": [
    {
     "name": "stdout",
     "output_type": "stream",
     "text": [
      "__repr__ is running\n",
      "__iter__ is running\n",
      "animal(name='dog', age='Bob', price='1000')\n"
     ]
    }
   ],
   "source": [
    "print(dog)#构造animal实例对象"
   ]
  },
  {
   "cell_type": "code",
   "execution_count": null,
   "metadata": {},
   "outputs": [],
   "source": [
    "\n",
    "a,b,_=dog#可以实现预期的拆包赋值\n",
    "print(a,b）"
   ]
  },
  {
   "cell_type": "code",
   "execution_count": 70,
   "metadata": {},
   "outputs": [],
   "source": [
    "a = [1,2,3]\n",
    "b = [4,5,6]\n",
    "c = [4,5,6,7,8]"
   ]
  },
  {
   "cell_type": "code",
   "execution_count": 83,
   "metadata": {},
   "outputs": [],
   "source": [
    "zipped = zip(a,b) "
   ]
  },
  {
   "cell_type": "code",
   "execution_count": 78,
   "metadata": {},
   "outputs": [
    {
     "data": {
      "text/plain": [
       "[(1, 4), (2, 5), (3, 6)]"
      ]
     },
     "execution_count": 78,
     "metadata": {},
     "output_type": "execute_result"
    }
   ],
   "source": [
    "list(zip(a,c) )"
   ]
  },
  {
   "cell_type": "code",
   "execution_count": 84,
   "metadata": {},
   "outputs": [
    {
     "data": {
      "text/plain": [
       "[(1, 2, 3), (4, 5, 6)]"
      ]
     },
     "execution_count": 84,
     "metadata": {},
     "output_type": "execute_result"
    }
   ],
   "source": [
    "list(zip(*zipped))"
   ]
  },
  {
   "cell_type": "code",
   "execution_count": null,
   "metadata": {},
   "outputs": [],
   "source": []
  },
  {
   "cell_type": "code",
   "execution_count": 273,
   "metadata": {},
   "outputs": [],
   "source": [
    "class A():\n",
    "    a=1"
   ]
  },
  {
   "cell_type": "code",
   "execution_count": 279,
   "metadata": {},
   "outputs": [
    {
     "data": {
      "text/plain": [
       "['__class__',\n",
       " '__delattr__',\n",
       " '__dict__',\n",
       " '__dir__',\n",
       " '__doc__',\n",
       " '__eq__',\n",
       " '__format__',\n",
       " '__ge__',\n",
       " '__getattribute__',\n",
       " '__gt__',\n",
       " '__hash__',\n",
       " '__init__',\n",
       " '__init_subclass__',\n",
       " '__le__',\n",
       " '__lt__',\n",
       " '__module__',\n",
       " '__ne__',\n",
       " '__new__',\n",
       " '__reduce__',\n",
       " '__reduce_ex__',\n",
       " '__repr__',\n",
       " '__setattr__',\n",
       " '__sizeof__',\n",
       " '__str__',\n",
       " '__subclasshook__',\n",
       " '__weakref__',\n",
       " 'a']"
      ]
     },
     "execution_count": 279,
     "metadata": {},
     "output_type": "execute_result"
    }
   ],
   "source": [
    "dir(A)"
   ]
  },
  {
   "cell_type": "code",
   "execution_count": 271,
   "metadata": {},
   "outputs": [
    {
     "data": {
      "text/plain": [
       "'A'"
      ]
     },
     "execution_count": 271,
     "metadata": {},
     "output_type": "execute_result"
    }
   ],
   "source": [
    "A.__name__"
   ]
  },
  {
   "cell_type": "code",
   "execution_count": 274,
   "metadata": {},
   "outputs": [
    {
     "data": {
      "text/plain": [
       "(object,)"
      ]
     },
     "execution_count": 274,
     "metadata": {},
     "output_type": "execute_result"
    }
   ],
   "source": [
    "A.__bases__"
   ]
  },
  {
   "cell_type": "code",
   "execution_count": null,
   "metadata": {},
   "outputs": [],
   "source": [
    "A."
   ]
  },
  {
   "cell_type": "code",
   "execution_count": 281,
   "metadata": {},
   "outputs": [
    {
     "data": {
      "text/plain": [
       "mappingproxy({'__module__': '__main__',\n",
       "              'a': 1,\n",
       "              '__dict__': <attribute '__dict__' of 'A' objects>,\n",
       "              '__weakref__': <attribute '__weakref__' of 'A' objects>,\n",
       "              '__doc__': None})"
      ]
     },
     "execution_count": 281,
     "metadata": {},
     "output_type": "execute_result"
    }
   ],
   "source": [
    "A.__dict__"
   ]
  },
  {
   "cell_type": "code",
   "execution_count": 277,
   "metadata": {},
   "outputs": [
    {
     "data": {
      "text/plain": [
       "'__main__'"
      ]
     },
     "execution_count": 277,
     "metadata": {},
     "output_type": "execute_result"
    }
   ],
   "source": [
    "A.__module__"
   ]
  },
  {
   "cell_type": "code",
   "execution_count": 278,
   "metadata": {},
   "outputs": [
    {
     "data": {
      "text/plain": [
       "type"
      ]
     },
     "execution_count": 278,
     "metadata": {},
     "output_type": "execute_result"
    }
   ],
   "source": [
    "A.__class__"
   ]
  },
  {
   "cell_type": "code",
   "execution_count": null,
   "metadata": {},
   "outputs": [],
   "source": []
  },
  {
   "cell_type": "markdown",
   "metadata": {},
   "source": [
    "#  \\_\\_new\\_\\_"
   ]
  },
  {
   "cell_type": "code",
   "execution_count": 1,
   "metadata": {},
   "outputs": [],
   "source": [
    "# https://blog.csdn.net/yusuiyu/article/details/87867186"
   ]
  },
  {
   "cell_type": "code",
   "execution_count": 2,
   "metadata": {},
   "outputs": [],
   "source": [
    "# object类关于__new__()的定义如下："
   ]
  },
  {
   "cell_type": "code",
   "execution_count": null,
   "metadata": {},
   "outputs": [],
   "source": [
    "@staticmethod # known case of __new__\n",
    "    def __new__(cls, *more): # known special case of object.__new__\n",
    "        \"\"\" T.__new__(S, ...) -> a new object with type S, a subtype of T \"\"\"\n",
    "        pass\n",
    "# 参数说明：\n",
    "# （1）object将__new__()定义成静态方法。\n",
    "# （2）传入的参数至少一个cls参数，cls表示需要实例化的类。"
   ]
  },
  {
   "cell_type": "code",
   "execution_count": 40,
   "metadata": {},
   "outputs": [],
   "source": [
    "class A(): ## A(object)\n",
    "    def __init__(self, value):\n",
    "        print(\"into __init__\")\n",
    "        self.value = value\n",
    "    def __new__(cls, value):\n",
    "        print(\"into __new__\")\n",
    "        return object.__new__(cls)"
   ]
  },
  {
   "cell_type": "code",
   "execution_count": 41,
   "metadata": {},
   "outputs": [
    {
     "name": "stdout",
     "output_type": "stream",
     "text": [
      "into __new__\n",
      "into __init__\n"
     ]
    }
   ],
   "source": [
    "a=A(10) \n",
    "# 当实例A时，new 最先被调用"
   ]
  },
  {
   "cell_type": "code",
   "execution_count": 60,
   "metadata": {},
   "outputs": [],
   "source": [
    "class A(object):\n",
    "    def __init__(self, value):\n",
    "        print(\"into A __init__\")\n",
    "        self.value = value\n",
    "        \n",
    "    def __new__(cls,value):\n",
    "        print(\"into A __new__\")\n",
    "        return object.__new__(cls)\n",
    " "
   ]
  },
  {
   "cell_type": "code",
   "execution_count": 61,
   "metadata": {},
   "outputs": [
    {
     "name": "stdout",
     "output_type": "stream",
     "text": [
      "into A __new__\n",
      "into A __init__\n"
     ]
    }
   ],
   "source": [
    "a = A(10)"
   ]
  },
  {
   "cell_type": "code",
   "execution_count": 62,
   "metadata": {},
   "outputs": [],
   "source": [
    "class B(A):\n",
    "    def __init__(self, value):\n",
    "        print(\"into B __init__\")\n",
    "        self.value = value\n",
    "        \n",
    "    def __new__(cls, value):\n",
    "        print(\"into B __new__\")\n",
    "        return super(B, cls).__new__(cls,value)"
   ]
  },
  {
   "cell_type": "code",
   "execution_count": 63,
   "metadata": {},
   "outputs": [
    {
     "name": "stdout",
     "output_type": "stream",
     "text": [
      "into B __new__\n",
      "into A __new__\n",
      "into B __init__\n"
     ]
    }
   ],
   "source": [
    "b = B(10)"
   ]
  },
  {
   "cell_type": "code",
   "execution_count": null,
   "metadata": {},
   "outputs": [],
   "source": []
  },
  {
   "cell_type": "code",
   "execution_count": 42,
   "metadata": {},
   "outputs": [
    {
     "name": "stdout",
     "output_type": "stream",
     "text": [
      "__new__ called.\n",
      "__init__ called.\n",
      "<Person: piglei(24)>\n"
     ]
    }
   ],
   "source": [
    "class Person(object):\n",
    "    \"\"\"Silly Person\"\"\"\n",
    " \n",
    "    def __new__(cls, name, age):\n",
    "        print('__new__ called.')\n",
    "        return object.__new__(cls)\n",
    "#         return super(Person,cls).__new__(cls, name, age)\n",
    " \n",
    "    def __init__(self, name, age):\n",
    "        print('__init__ called.')\n",
    "        self.name = name\n",
    "        self.age = age\n",
    " \n",
    "    def __str__(self):\n",
    "        return '<Person: %s(%s)>' % (self.name, self.age)\n",
    " \n",
    "if __name__ == '__main__':\n",
    "    piglei = Person('piglei', 24)\n",
    "    print(piglei)"
   ]
  },
  {
   "cell_type": "code",
   "execution_count": 64,
   "metadata": {},
   "outputs": [],
   "source": [
    "class positiveinteger(int):\n",
    "    def __init__(self,val):\n",
    "        self.val=abs(val)"
   ]
  },
  {
   "cell_type": "code",
   "execution_count": 65,
   "metadata": {},
   "outputs": [],
   "source": [
    "# 想初始化一个永远正的值\n",
    "i = positiveinteger(-3)"
   ]
  },
  {
   "cell_type": "code",
   "execution_count": 66,
   "metadata": {},
   "outputs": [
    {
     "data": {
      "text/plain": [
       "-3"
      ]
     },
     "execution_count": 66,
     "metadata": {},
     "output_type": "execute_result"
    }
   ],
   "source": [
    "i"
   ]
  },
  {
   "cell_type": "code",
   "execution_count": 292,
   "metadata": {},
   "outputs": [],
   "source": [
    "class positiveinteger(int):\n",
    "    def __init__(self,val):\n",
    "        self.val=val\n",
    "    def __new__(cls,val):\n",
    "#         return int.__new__(cls,abs(val))\n",
    "        return super(positiveinteger,cls).__new__(cls,abs(val))"
   ]
  },
  {
   "cell_type": "code",
   "execution_count": 290,
   "metadata": {},
   "outputs": [],
   "source": [
    "i = positiveinteger(-3)"
   ]
  },
  {
   "cell_type": "code",
   "execution_count": 291,
   "metadata": {},
   "outputs": [
    {
     "data": {
      "text/plain": [
       "3"
      ]
     },
     "execution_count": 291,
     "metadata": {},
     "output_type": "execute_result"
    }
   ],
   "source": [
    "i"
   ]
  },
  {
   "cell_type": "code",
   "execution_count": null,
   "metadata": {},
   "outputs": [],
   "source": [
    "# （1）在定义子类时没有重新定义__new__()时，Python默认是调用该类的直接父类的__new__()方法来构造该类的实例，如果该类的父类也没有重写__new__()，那么将一直按此规矩追溯至object的__new__()方法，因为object是所有新式类的基类。\n",
    "# （2）除了一项两个作用外，一般__new__()使用较少，能通过__init__()实现的尽量用__init__()实现。"
   ]
  },
  {
   "cell_type": "markdown",
   "metadata": {},
   "source": [
    "# \\_\\_str\\_\\_() 和 \\_\\_repr\\_\\_()"
   ]
  },
  {
   "cell_type": "code",
   "execution_count": 73,
   "metadata": {},
   "outputs": [],
   "source": [
    "class A:\n",
    "\tpass"
   ]
  },
  {
   "cell_type": "code",
   "execution_count": 75,
   "metadata": {},
   "outputs": [],
   "source": [
    "a = A()"
   ]
  },
  {
   "cell_type": "code",
   "execution_count": 76,
   "metadata": {},
   "outputs": [
    {
     "data": {
      "text/plain": [
       "<__main__.A at 0x24ce1c4ea00>"
      ]
     },
     "execution_count": 76,
     "metadata": {},
     "output_type": "execute_result"
    }
   ],
   "source": [
    "a"
   ]
  },
  {
   "cell_type": "code",
   "execution_count": 77,
   "metadata": {},
   "outputs": [
    {
     "name": "stdout",
     "output_type": "stream",
     "text": [
      "<__main__.A object at 0x0000024CE1C4EA00>\n"
     ]
    }
   ],
   "source": [
    "print(a)"
   ]
  },
  {
   "cell_type": "code",
   "execution_count": 78,
   "metadata": {},
   "outputs": [],
   "source": [
    "class A:\n",
    "\tdef __str__(self):       \n",
    "\t\treturn \"into __str__\"   "
   ]
  },
  {
   "cell_type": "code",
   "execution_count": 79,
   "metadata": {},
   "outputs": [],
   "source": [
    "a = A()"
   ]
  },
  {
   "cell_type": "code",
   "execution_count": 80,
   "metadata": {},
   "outputs": [
    {
     "data": {
      "text/plain": [
       "<__main__.A at 0x24ce1c4e0d0>"
      ]
     },
     "execution_count": 80,
     "metadata": {},
     "output_type": "execute_result"
    }
   ],
   "source": [
    "a"
   ]
  },
  {
   "cell_type": "code",
   "execution_count": 81,
   "metadata": {},
   "outputs": [
    {
     "name": "stdout",
     "output_type": "stream",
     "text": [
      "into __str__\n"
     ]
    }
   ],
   "source": [
    "# 用print会调用__str__方法，可以打印出__str__中的信息\n",
    "print(a)"
   ]
  },
  {
   "cell_type": "code",
   "execution_count": 82,
   "metadata": {},
   "outputs": [],
   "source": [
    "class A:\n",
    "\tdef __repr__(self):   \n",
    "\t\treturn \"into __repr__\""
   ]
  },
  {
   "cell_type": "code",
   "execution_count": 83,
   "metadata": {},
   "outputs": [],
   "source": [
    "a = A()"
   ]
  },
  {
   "cell_type": "code",
   "execution_count": 84,
   "metadata": {},
   "outputs": [
    {
     "data": {
      "text/plain": [
       "into __repr__"
      ]
     },
     "execution_count": 84,
     "metadata": {},
     "output_type": "execute_result"
    }
   ],
   "source": [
    "a"
   ]
  },
  {
   "cell_type": "code",
   "execution_count": 85,
   "metadata": {},
   "outputs": [
    {
     "name": "stdout",
     "output_type": "stream",
     "text": [
      "into __repr__\n"
     ]
    }
   ],
   "source": [
    "print(a)"
   ]
  },
  {
   "cell_type": "code",
   "execution_count": 86,
   "metadata": {},
   "outputs": [],
   "source": [
    "class A:\n",
    "\tdef __str__(self):\n",
    "\t\treturn \"into __str__\"\n",
    "\tdef __repr__(self):   \n",
    "\t\treturn \"into __repr__\"\n"
   ]
  },
  {
   "cell_type": "code",
   "execution_count": 87,
   "metadata": {},
   "outputs": [],
   "source": [
    "a = A()"
   ]
  },
  {
   "cell_type": "code",
   "execution_count": 88,
   "metadata": {},
   "outputs": [
    {
     "data": {
      "text/plain": [
       "into __repr__"
      ]
     },
     "execution_count": 88,
     "metadata": {},
     "output_type": "execute_result"
    }
   ],
   "source": [
    "a"
   ]
  },
  {
   "cell_type": "code",
   "execution_count": 90,
   "metadata": {},
   "outputs": [
    {
     "name": "stdout",
     "output_type": "stream",
     "text": [
      "into __str__\n"
     ]
    }
   ],
   "source": [
    "# print 优先调用 \\_\\_str\\\n",
    "print(a)"
   ]
  },
  {
   "cell_type": "markdown",
   "metadata": {},
   "source": [
    "# \\_\\_call\\_\\_"
   ]
  },
  {
   "cell_type": "code",
   "execution_count": 92,
   "metadata": {},
   "outputs": [
    {
     "data": {
      "text/plain": [
       "False"
      ]
     },
     "execution_count": 92,
     "metadata": {},
     "output_type": "execute_result"
    }
   ],
   "source": [
    "class test():\n",
    "  def method(self):\n",
    "    return 1\n",
    "a = test()\n",
    "callable(a)#false,代表实例a是不可被调用"
   ]
  },
  {
   "cell_type": "code",
   "execution_count": 95,
   "metadata": {},
   "outputs": [
    {
     "data": {
      "text/plain": [
       "True"
      ]
     },
     "execution_count": 95,
     "metadata": {},
     "output_type": "execute_result"
    }
   ],
   "source": [
    "class test():\n",
    "    def method(self):\n",
    "        return 1\n",
    "    def __call__(cls):\n",
    "        print('test is callale')\n",
    "a = test()\n",
    "callable(a)#true"
   ]
  },
  {
   "cell_type": "code",
   "execution_count": 98,
   "metadata": {},
   "outputs": [],
   "source": []
  },
  {
   "cell_type": "code",
   "execution_count": 99,
   "metadata": {},
   "outputs": [
    {
     "data": {
      "text/plain": [
       "<__main__.test at 0x24ce1c2d460>"
      ]
     },
     "execution_count": 99,
     "metadata": {},
     "output_type": "execute_result"
    }
   ],
   "source": [
    "a"
   ]
  },
  {
   "cell_type": "markdown",
   "metadata": {},
   "source": [
    "# super"
   ]
  },
  {
   "cell_type": "code",
   "execution_count": 116,
   "metadata": {},
   "outputs": [
    {
     "name": "stdout",
     "output_type": "stream",
     "text": [
      "Parent\n",
      "Child\n",
      "HelloWorld from Parent\n",
      "Child bar fuction\n",
      "I'm the parent.\n"
     ]
    }
   ],
   "source": [
    "#!/usr/bin/python\n",
    "# -*- coding: UTF-8 -*-\n",
    " \n",
    "class FooParent(object):\n",
    "    def __init__(self):\n",
    "        self.parent = 'I\\'m the parent.'\n",
    "        print ('Parent')\n",
    "    \n",
    "    def bar(self,message):\n",
    "        print (\"%s from Parent\" % message)\n",
    " \n",
    "class FooChild(FooParent):\n",
    "    def __init__(self):\n",
    "        # super(FooChild,self) 首先找到 FooChild 的父类（就是类 FooParent），然后把类 FooChild 的对象转换为类 FooParent 的对象\n",
    "        super().__init__()\n",
    "#         super(FooChild,self).__init__() # print parent twice\n",
    "\n",
    "        print ('Child')\n",
    "\n",
    "\n",
    "    def bar(self,message):\n",
    "        super(FooChild, self).bar(message)\n",
    "        print ('Child bar fuction')\n",
    "        print (self.parent)\n",
    " \n",
    "if __name__ == '__main__':\n",
    "    fooChild = FooChild()\n",
    "    fooChild.bar('HelloWorld')"
   ]
  },
  {
   "cell_type": "code",
   "execution_count": 113,
   "metadata": {},
   "outputs": [
    {
     "ename": "SyntaxError",
     "evalue": "invalid syntax (<ipython-input-113-e364096489b7>, line 4)",
     "output_type": "error",
     "traceback": [
      "\u001b[1;36m  File \u001b[1;32m\"<ipython-input-113-e364096489b7>\"\u001b[1;36m, line \u001b[1;32m4\u001b[0m\n\u001b[1;33m    HelloWorld from Parent\u001b[0m\n\u001b[1;37m               ^\u001b[0m\n\u001b[1;31mSyntaxError\u001b[0m\u001b[1;31m:\u001b[0m invalid syntax\n"
     ]
    }
   ],
   "source": [
    "Parent\n",
    "Parent\n",
    "Child\n",
    "HelloWorld from Parent\n",
    "Child bar fuction\n",
    "I'm the parent."
   ]
  },
  {
   "cell_type": "code",
   "execution_count": 122,
   "metadata": {},
   "outputs": [
    {
     "name": "stdout",
     "output_type": "stream",
     "text": [
      "Gran Parent\n",
      "Parent\n",
      "Child\n",
      "HelloWorld from Parent\n",
      "Child bar fuction\n",
      "I'm the parent.\n"
     ]
    }
   ],
   "source": [
    "#!/usr/bin/python\n",
    "# -*- coding: UTF-8 -*-\n",
    "\n",
    "class GranParent(object):\n",
    "    def __init__(self):\n",
    "        self.parent = 'I\\'m the gran parent.'\n",
    "        print ('Gran Parent')\n",
    "    \n",
    "    def bar(self,message):\n",
    "        print (\"%s from Parent\" % message)   \n",
    "        \n",
    "class FooParent(GranParent):\n",
    "    def __init__(self):\n",
    "        super().__init__()\n",
    "        self.parent = 'I\\'m the parent.'\n",
    "        print ('Parent')\n",
    "    \n",
    "    def bar(self,message):\n",
    "        print (\"%s from Parent\" % message)\n",
    " \n",
    "class FooChild(FooParent):\n",
    "    def __init__(self):\n",
    "        # super(FooChild,self) 首先找到 FooChild 的父类（就是类 FooParent），然后把类 FooChild 的对象转换为类 FooParent 的对象\n",
    "#         super().__init__()\n",
    "        super(FooChild,self).__init__() # print parent twice\n",
    "        print ('Child')\n",
    "\n",
    "\n",
    "    def bar(self,message):\n",
    "        super(FooChild, self).bar(message)\n",
    "        print ('Child bar fuction')\n",
    "        print (self.parent)\n",
    " \n",
    "if __name__ == '__main__':\n",
    "    fooChild = FooChild()\n",
    "    fooChild.bar('HelloWorld')"
   ]
  },
  {
   "cell_type": "markdown",
   "metadata": {},
   "source": [
    "# metaclass"
   ]
  },
  {
   "cell_type": "markdown",
   "metadata": {},
   "source": [
    "https://www.jianshu.com/p/224ffcb8e73e"
   ]
  },
  {
   "cell_type": "markdown",
   "metadata": {},
   "source": [
    "## 动态创建class"
   ]
  },
  {
   "cell_type": "code",
   "execution_count": 130,
   "metadata": {},
   "outputs": [],
   "source": [
    "def dynamic_class_creater(name):\n",
    "...     if name == 'name1':\n",
    "...         class class1(object):\n",
    "...             pass\n",
    "...         return class1\n",
    "...     else:\n",
    "...         class class2(object):\n",
    "...             pass\n",
    "...         return class2"
   ]
  },
  {
   "cell_type": "code",
   "execution_count": 131,
   "metadata": {},
   "outputs": [],
   "source": [
    "first_class = dynamic_class_creater('name1')"
   ]
  },
  {
   "cell_type": "code",
   "execution_count": 132,
   "metadata": {},
   "outputs": [
    {
     "name": "stdout",
     "output_type": "stream",
     "text": [
      "<class '__main__.dynamic_class_creater.<locals>.class1'>\n"
     ]
    }
   ],
   "source": [
    "print(first_class)"
   ]
  },
  {
   "cell_type": "code",
   "execution_count": 126,
   "metadata": {},
   "outputs": [
    {
     "name": "stdout",
     "output_type": "stream",
     "text": [
      "<__main__.dynamic_class_creater.<locals>.class1 object at 0x0000024CE1E0E460>\n"
     ]
    }
   ],
   "source": [
    "print(first_class())"
   ]
  },
  {
   "cell_type": "code",
   "execution_count": 134,
   "metadata": {},
   "outputs": [
    {
     "name": "stdout",
     "output_type": "stream",
     "text": [
      "<class 'int'>\n"
     ]
    }
   ],
   "source": [
    "print(type(1))"
   ]
  },
  {
   "cell_type": "code",
   "execution_count": 135,
   "metadata": {},
   "outputs": [
    {
     "name": "stdout",
     "output_type": "stream",
     "text": [
      "<class 'type'>\n"
     ]
    }
   ],
   "source": [
    "print(type(first_class))"
   ]
  },
  {
   "cell_type": "markdown",
   "metadata": {},
   "source": [
    "我们创建的class都是type的类，其实type可以创建class。  \n",
    "type()函数可以接收class的描述来作为参数并返回所生的class object。  "
   ]
  },
  {
   "cell_type": "code",
   "execution_count": null,
   "metadata": {},
   "outputs": [],
   "source": [
    "# type 用法\n",
    "type(class_name,tuple_of_parent_class,dict_of_attribute_names_and_values)"
   ]
  },
  {
   "cell_type": "markdown",
   "metadata": {},
   "source": [
    "tuple_of_parent_class用来表示继承关系，可以为空.  \n",
    "第三个参数用来描述我们所要创建的类所应该具有的attribute。"
   ]
  },
  {
   "cell_type": "code",
   "execution_count": 136,
   "metadata": {},
   "outputs": [],
   "source": [
    "class class_example(object):\n",
    "...     pass"
   ]
  },
  {
   "cell_type": "code",
   "execution_count": 137,
   "metadata": {},
   "outputs": [
    {
     "name": "stdout",
     "output_type": "stream",
     "text": [
      "<class '__main__.class_example'>\n"
     ]
    }
   ],
   "source": [
    "print(class_example)"
   ]
  },
  {
   "cell_type": "code",
   "execution_count": 138,
   "metadata": {},
   "outputs": [],
   "source": [
    "class_example = type('class_example', (), {})"
   ]
  },
  {
   "cell_type": "code",
   "execution_count": 139,
   "metadata": {},
   "outputs": [
    {
     "name": "stdout",
     "output_type": "stream",
     "text": [
      "<class '__main__.class_example'>\n"
     ]
    }
   ],
   "source": [
    "print(class_example)"
   ]
  },
  {
   "cell_type": "code",
   "execution_count": 140,
   "metadata": {},
   "outputs": [
    {
     "name": "stdout",
     "output_type": "stream",
     "text": [
      "<__main__.class_example object at 0x0000024CE1E0EDC0>\n"
     ]
    }
   ],
   "source": [
    "print(class_example()) # get a instance of the class"
   ]
  },
  {
   "cell_type": "code",
   "execution_count": 141,
   "metadata": {},
   "outputs": [],
   "source": [
    "class_example = type('class_example', (), {'attr': 1})"
   ]
  },
  {
   "cell_type": "code",
   "execution_count": 142,
   "metadata": {},
   "outputs": [
    {
     "name": "stdout",
     "output_type": "stream",
     "text": [
      "<class '__main__.class_example'>\n"
     ]
    }
   ],
   "source": [
    "print(class_example)"
   ]
  },
  {
   "cell_type": "code",
   "execution_count": 143,
   "metadata": {},
   "outputs": [
    {
     "name": "stdout",
     "output_type": "stream",
     "text": [
      "1\n"
     ]
    }
   ],
   "source": [
    "print(class_example.attr)"
   ]
  },
  {
   "cell_type": "code",
   "execution_count": 144,
   "metadata": {},
   "outputs": [
    {
     "name": "stdout",
     "output_type": "stream",
     "text": [
      "<__main__.class_example object at 0x0000024CE1E0E610>\n"
     ]
    }
   ],
   "source": [
    "print(class_example())"
   ]
  },
  {
   "cell_type": "code",
   "execution_count": 145,
   "metadata": {},
   "outputs": [
    {
     "name": "stdout",
     "output_type": "stream",
     "text": [
      "1\n"
     ]
    }
   ],
   "source": [
    "print(class_example().attr)"
   ]
  },
  {
   "cell_type": "code",
   "execution_count": null,
   "metadata": {},
   "outputs": [],
   "source": [
    "# type 返回的class 等同于下面\n",
    "class class_example(object):\n",
    "...     attr = 1"
   ]
  },
  {
   "cell_type": "code",
   "execution_count": 146,
   "metadata": {},
   "outputs": [],
   "source": [
    "child_example = type('child_example',(class_example,),{})"
   ]
  },
  {
   "cell_type": "code",
   "execution_count": 147,
   "metadata": {},
   "outputs": [
    {
     "name": "stdout",
     "output_type": "stream",
     "text": [
      "<class '__main__.child_example'>\n"
     ]
    }
   ],
   "source": [
    "print(child_example)"
   ]
  },
  {
   "cell_type": "code",
   "execution_count": 148,
   "metadata": {},
   "outputs": [],
   "source": [
    "# 等同于 \n",
    "class child_example(class_example):\n",
    "    pass"
   ]
  },
  {
   "cell_type": "code",
   "execution_count": 149,
   "metadata": {},
   "outputs": [
    {
     "name": "stdout",
     "output_type": "stream",
     "text": [
      "<class '__main__.child_example'>\n"
     ]
    }
   ],
   "source": [
    "print(child_example)"
   ]
  },
  {
   "cell_type": "code",
   "execution_count": 150,
   "metadata": {},
   "outputs": [],
   "source": [
    "#我们甚至可以动态创建包括方法的类。只要我们创建好方法并将其赋给相应的attribute即可："
   ]
  },
  {
   "cell_type": "code",
   "execution_count": 156,
   "metadata": {},
   "outputs": [],
   "source": [
    "def echo(self):\n",
    "    print(self.attr)"
   ]
  },
  {
   "cell_type": "code",
   "execution_count": 157,
   "metadata": {},
   "outputs": [],
   "source": [
    "child_example = type('child_example',(class_example,),{'echo':echo})"
   ]
  },
  {
   "cell_type": "code",
   "execution_count": 158,
   "metadata": {},
   "outputs": [
    {
     "data": {
      "text/plain": [
       "False"
      ]
     },
     "execution_count": 158,
     "metadata": {},
     "output_type": "execute_result"
    }
   ],
   "source": [
    "hasattr(class_example,'echo')"
   ]
  },
  {
   "cell_type": "code",
   "execution_count": 159,
   "metadata": {},
   "outputs": [
    {
     "data": {
      "text/plain": [
       "True"
      ]
     },
     "execution_count": 159,
     "metadata": {},
     "output_type": "execute_result"
    }
   ],
   "source": [
    "hasattr(child_example,'echo')"
   ]
  },
  {
   "cell_type": "code",
   "execution_count": 161,
   "metadata": {},
   "outputs": [
    {
     "name": "stdout",
     "output_type": "stream",
     "text": [
      "1\n"
     ]
    }
   ],
   "source": [
    "child_example().echo()"
   ]
  },
  {
   "cell_type": "code",
   "execution_count": 162,
   "metadata": {},
   "outputs": [],
   "source": [
    "#同样，我们也可以先动态创建一个class，然后再赋给其新的方法："
   ]
  },
  {
   "cell_type": "code",
   "execution_count": 163,
   "metadata": {},
   "outputs": [],
   "source": [
    "child_example = type('child_example', (class_example,), {})"
   ]
  },
  {
   "cell_type": "code",
   "execution_count": 164,
   "metadata": {},
   "outputs": [],
   "source": [
    "def another_method(self):\n",
    "...     print('another method')"
   ]
  },
  {
   "cell_type": "code",
   "execution_count": 165,
   "metadata": {},
   "outputs": [],
   "source": [
    "child_example.another_method = another_method"
   ]
  },
  {
   "cell_type": "code",
   "execution_count": 166,
   "metadata": {},
   "outputs": [
    {
     "data": {
      "text/plain": [
       "True"
      ]
     },
     "execution_count": 166,
     "metadata": {},
     "output_type": "execute_result"
    }
   ],
   "source": [
    "hasattr(child_example,'another_method')"
   ]
  },
  {
   "cell_type": "code",
   "execution_count": 167,
   "metadata": {},
   "outputs": [
    {
     "name": "stdout",
     "output_type": "stream",
     "text": [
      "another method\n"
     ]
    }
   ],
   "source": [
    "child_example().another_method()"
   ]
  },
  {
   "cell_type": "markdown",
   "metadata": {},
   "source": [
    "## 究竟什么是metaclass？"
   ]
  },
  {
   "cell_type": "code",
   "execution_count": 168,
   "metadata": {},
   "outputs": [],
   "source": [
    "#metaclass就是Python中用来创建class object的class"
   ]
  },
  {
   "cell_type": "code",
   "execution_count": 171,
   "metadata": {},
   "outputs": [
    {
     "ename": "SyntaxError",
     "evalue": "invalid syntax (<ipython-input-171-f7efa40c236c>, line 1)",
     "output_type": "error",
     "traceback": [
      "\u001b[1;36m  File \u001b[1;32m\"<ipython-input-171-f7efa40c236c>\"\u001b[1;36m, line \u001b[1;32m1\u001b[0m\n\u001b[1;33m    class=metaclass()\u001b[0m\n\u001b[1;37m         ^\u001b[0m\n\u001b[1;31mSyntaxError\u001b[0m\u001b[1;31m:\u001b[0m invalid syntax\n"
     ]
    }
   ],
   "source": [
    "class=metaclass()\n",
    "object = class()"
   ]
  },
  {
   "cell_type": "code",
   "execution_count": 172,
   "metadata": {},
   "outputs": [],
   "source": [
    "#包括int, string, function, class在内，Python中所有的东西都是object，  \n",
    "#而所有的object都是被相应的class创造的。"
   ]
  },
  {
   "cell_type": "code",
   "execution_count": 173,
   "metadata": {},
   "outputs": [
    {
     "data": {
      "text/plain": [
       "int"
      ]
     },
     "execution_count": 173,
     "metadata": {},
     "output_type": "execute_result"
    }
   ],
   "source": [
    "age = 24\n",
    "age.__class__"
   ]
  },
  {
   "cell_type": "code",
   "execution_count": 174,
   "metadata": {},
   "outputs": [
    {
     "data": {
      "text/plain": [
       "str"
      ]
     },
     "execution_count": 174,
     "metadata": {},
     "output_type": "execute_result"
    }
   ],
   "source": [
    "name = 'bob'\n",
    "name.__class__"
   ]
  },
  {
   "cell_type": "code",
   "execution_count": 176,
   "metadata": {},
   "outputs": [
    {
     "data": {
      "text/plain": [
       "function"
      ]
     },
     "execution_count": 176,
     "metadata": {},
     "output_type": "execute_result"
    }
   ],
   "source": [
    "def foo(): pass\n",
    "foo.__class__"
   ]
  },
  {
   "cell_type": "code",
   "execution_count": 178,
   "metadata": {},
   "outputs": [
    {
     "data": {
      "text/plain": [
       "__main__.Bar"
      ]
     },
     "execution_count": 178,
     "metadata": {},
     "output_type": "execute_result"
    }
   ],
   "source": [
    "class Bar(object): pass\n",
    "bar = Bar()\n",
    "bar.__class__"
   ]
  },
  {
   "cell_type": "code",
   "execution_count": 180,
   "metadata": {},
   "outputs": [
    {
     "data": {
      "text/plain": [
       "type"
      ]
     },
     "execution_count": 180,
     "metadata": {},
     "output_type": "execute_result"
    }
   ],
   "source": [
    "age.__class__.__class__"
   ]
  },
  {
   "cell_type": "code",
   "execution_count": 181,
   "metadata": {},
   "outputs": [
    {
     "data": {
      "text/plain": [
       "type"
      ]
     },
     "execution_count": 181,
     "metadata": {},
     "output_type": "execute_result"
    }
   ],
   "source": [
    "name.__class__.__class__"
   ]
  },
  {
   "cell_type": "code",
   "execution_count": 182,
   "metadata": {},
   "outputs": [
    {
     "data": {
      "text/plain": [
       "type"
      ]
     },
     "execution_count": 182,
     "metadata": {},
     "output_type": "execute_result"
    }
   ],
   "source": [
    "foo.__class__.__class__"
   ]
  },
  {
   "cell_type": "code",
   "execution_count": 183,
   "metadata": {},
   "outputs": [
    {
     "data": {
      "text/plain": [
       "type"
      ]
     },
     "execution_count": 183,
     "metadata": {},
     "output_type": "execute_result"
    }
   ],
   "source": [
    "bar.__class__.__class__"
   ]
  },
  {
   "cell_type": "code",
   "execution_count": 184,
   "metadata": {},
   "outputs": [],
   "source": [
    "#所有的class都来自于type，type作为metaclass创建了以上所有的class obj。"
   ]
  },
  {
   "cell_type": "markdown",
   "metadata": {},
   "source": [
    "## 类的__metaclass__ attribute"
   ]
  },
  {
   "cell_type": "code",
   "execution_count": 185,
   "metadata": {},
   "outputs": [],
   "source": [
    "#当定义class的时候，我们可以使用__metaclass__ attribute来指定用来初始化当前class的metaclass。"
   ]
  },
  {
   "cell_type": "code",
   "execution_count": null,
   "metadata": {},
   "outputs": [],
   "source": [
    "class Foo(object):\n",
    "    __metaclass__ = something\n",
    "    [other statements...]"
   ]
  },
  {
   "cell_type": "code",
   "execution_count": null,
   "metadata": {},
   "outputs": [],
   "source": [
    "class Foo(Bar):\n",
    "    pass"
   ]
  },
  {
   "cell_type": "markdown",
   "metadata": {},
   "source": [
    "1. 在Foo中寻找\\_\\_metaclass\\_\\_, 如果存在就在内存创建名为Foo的obj  \n",
    "2. 如果不存在\\_\\_metaclass\\_\\_,如果没有继承，则会寻找module级别的\\_\\_metaclass\\_\\_  \n",
    "3. 如果step 2没有找到，则会用父类的metaclass来创建  \n"
   ]
  },
  {
   "cell_type": "markdown",
   "metadata": {},
   "source": [
    "在class中定义的__metaclass__ attribute并不会被子类继承。被子类继承的是母类的metaclass，也就是母类的.__class__ attribute。比如上面的例子中，Bar.__class__将会被Foo继承。也就是说，如果Bar定义了一个__metaclass__ attribute来使用type()创建Bar的class object（而非使用type.__new__()），那么Bar的子类，也就是Foo，并不会继承这一行为。"
   ]
  },
  {
   "cell_type": "markdown",
   "metadata": {},
   "source": [
    "## 自定义metaclass"
   ]
  },
  {
   "cell_type": "markdown",
   "metadata": {},
   "source": [
    "metaclass的主要目的是在class被创建的时候对生成的class进行自动的动态修改。"
   ]
  },
  {
   "cell_type": "code",
   "execution_count": 315,
   "metadata": {},
   "outputs": [],
   "source": [
    "# the metaclass will automatically get passed the same argument \n",
    "# that is passed to `type()`\n",
    "def upper_attr(class_name, class_parents, class_attr):\n",
    "    '''Return a class object, with the list of its attribute turned into \n",
    "    uppercase.\n",
    "    '''\n",
    "    # pick up any attribute that doesn't start with '__' and turn it into uppercase.\n",
    "    uppercase_attr = {}\n",
    "    for name, val in class_attr.items():\n",
    "        if name.startswith('__'):\n",
    "            uppercase_attr[name] = val\n",
    "        else:\n",
    "            uppercase_attr[name.upper()] = val\n",
    "    print('metaclass work')\n",
    "    # let `type` do the class creation\n",
    "    return type(class_name, class_parents, uppercase_attr)"
   ]
  },
  {
   "cell_type": "code",
   "execution_count": 331,
   "metadata": {},
   "outputs": [
    {
     "name": "stdout",
     "output_type": "stream",
     "text": [
      "metaclass work\n"
     ]
    }
   ],
   "source": [
    "class Foo(object):\n",
    "    # this __metaclass__ will affect the creation of this new style class\n",
    "#     __metaclass__ = upper_attr  # not working\n",
    "    bar = 'bar'\n",
    "    __metaclass__ = upper_attr('Foo',(),{'bar':bar})"
   ]
  },
  {
   "cell_type": "code",
   "execution_count": 208,
   "metadata": {},
   "outputs": [
    {
     "name": "stdout",
     "output_type": "stream",
     "text": [
      "metaclass work\n"
     ]
    }
   ],
   "source": [
    "foo = upper_attr('Foo',(),{'bar':bar})"
   ]
  },
  {
   "cell_type": "code",
   "execution_count": 332,
   "metadata": {},
   "outputs": [],
   "source": [
    "foo = Foo()"
   ]
  },
  {
   "cell_type": "code",
   "execution_count": 333,
   "metadata": {},
   "outputs": [
    {
     "data": {
      "text/plain": [
       "True"
      ]
     },
     "execution_count": 333,
     "metadata": {},
     "output_type": "execute_result"
    }
   ],
   "source": [
    "hasattr(foo,'bar')"
   ]
  },
  {
   "cell_type": "code",
   "execution_count": 334,
   "metadata": {},
   "outputs": [
    {
     "data": {
      "text/plain": [
       "False"
      ]
     },
     "execution_count": 334,
     "metadata": {},
     "output_type": "execute_result"
    }
   ],
   "source": [
    "hasattr(foo,'BAR')"
   ]
  },
  {
   "cell_type": "code",
   "execution_count": 206,
   "metadata": {},
   "outputs": [
    {
     "data": {
      "text/plain": [
       "True"
      ]
     },
     "execution_count": 206,
     "metadata": {},
     "output_type": "execute_result"
    }
   ],
   "source": [
    "hasattr(Foo(),'bar')"
   ]
  },
  {
   "cell_type": "code",
   "execution_count": 207,
   "metadata": {},
   "outputs": [
    {
     "data": {
      "text/plain": [
       "False"
      ]
     },
     "execution_count": 207,
     "metadata": {},
     "output_type": "execute_result"
    }
   ],
   "source": [
    "hasattr(Foo(),'BAR')"
   ]
  },
  {
   "cell_type": "code",
   "execution_count": 196,
   "metadata": {},
   "outputs": [
    {
     "data": {
      "text/plain": [
       "__main__.Foo"
      ]
     },
     "execution_count": 196,
     "metadata": {},
     "output_type": "execute_result"
    }
   ],
   "source": [
    "Foo().__class__"
   ]
  },
  {
   "cell_type": "markdown",
   "metadata": {},
   "source": [
    "我们通过继承type的方式实现一个真正的class形式的metaclass"
   ]
  },
  {
   "cell_type": "code",
   "execution_count": 200,
   "metadata": {},
   "outputs": [],
   "source": [
    "# remember that `type` is actually a just a class like int or str\n",
    "# so we can inherit from it.\n",
    "\n",
    "class UpperAttrMetaclass(type):\n",
    "    '''\n",
    "    __new__ is the method called before __init__\n",
    "    It's the function that actually creates the object and returns it.\n",
    "    __init__ only initialize the object passed as a parameter.\n",
    "    We rarely use __new__, except when we want to control how the object\n",
    "    is created.\n",
    "    For a metaclass, the object created is a class. And since we want to \n",
    "    customize it, we need to override __new__.\n",
    "    We can also do something by overriding __init__ to get customized initialization\n",
    "    process as well.\n",
    "    Advanced usage involves override __call__, but we won't talk about this here.\n",
    "    '''\n",
    "    def __new__(upperattr_metaclass, class_name, class_parents, class_attr):\n",
    "        uppercase_attr = {}\n",
    "        for name, val in class_attr.items():\n",
    "            if name.startswith('__'):\n",
    "                uppercase_attr[name] = val\n",
    "            else:\n",
    "                uppercase_attr[name.upper()] = val\n",
    "        return type(class_name, class_parents, uppercase_attr)"
   ]
  },
  {
   "cell_type": "code",
   "execution_count": 212,
   "metadata": {},
   "outputs": [],
   "source": [
    "# OOP 做法\n",
    "class UpperAttrMetaclass(type):\n",
    "    def __new__(upperattr_metaclass, class_name, class_parents, class_attr):\n",
    "        uppercase_attr = {}\n",
    "        for name, val in class_attr.items():\n",
    "            if name.startswith('__'):\n",
    "                uppercase_attr[name] = val\n",
    "            else:\n",
    "                uppercase_attr[name.upper()] = val\n",
    "        # basic OOP. Reuse the parent's `__new__()`\n",
    "        return type.__new__(upperattr_metaclass, class_name, class_parents, uppercase_attr)"
   ]
  },
  {
   "cell_type": "markdown",
   "metadata": {},
   "source": [
    "我们注意到，__new__所接收的参数中有一个额外的upperattr_metaclass。\n",
    "这没有什么特别的。如同\\_\\_init\\_\\_总是接收调用它的object作为第一个参数一样\n",
    "（惯例上用self来命名\\_\\_init\\_\\_所接收的第一个参数），\n",
    "\\_\\_new\\_\\_总是接收其被定义在内的class作为第一个参数，\n",
    "就像类方法总是接收其被定义的class作为第一个参数一样\n",
    "（惯例上用cls命名类方法所接收的第一个参数）\n"
   ]
  },
  {
   "cell_type": "markdown",
   "metadata": {},
   "source": [
    "清楚起见，这里给出的例子的变量和方法名都很长。\n",
    "但在实际的应用中，类似于使用self和cls代替第一个参数"
   ]
  },
  {
   "cell_type": "code",
   "execution_count": 335,
   "metadata": {},
   "outputs": [],
   "source": [
    "class UpperAttrMetaclass(type):\n",
    "    def __new__(cls, cls_name, bases, attr_dict):\n",
    "        uppercase_attr = {}\n",
    "        for name, val in attr_dict.items():\n",
    "            if name.startswith('__'):\n",
    "                uppercase_attr[name] = val\n",
    "            else:\n",
    "                uppercase_attr[name.upper()] = val\n",
    "        return type.__new__(cls, cls_name, bases, uppercase_attr)"
   ]
  },
  {
   "cell_type": "code",
   "execution_count": 336,
   "metadata": {},
   "outputs": [],
   "source": [
    "class UpperAttrMetaclass(type):\n",
    "    def __new__(cls, cls_name, bases, attr_dict):\n",
    "        uppercase_attr = {}\n",
    "        for name, val in attr_dict.items():\n",
    "            if name.startswith('__'):\n",
    "                uppercase_attr[name] = val\n",
    "            else:\n",
    "                uppercase_attr[name.upper()] = val\n",
    "        return super(UpperAttrMetaclass, cls).__new__(cls, cls_name, bases, uppercase_attr)"
   ]
  },
  {
   "cell_type": "code",
   "execution_count": 337,
   "metadata": {},
   "outputs": [],
   "source": [
    "class test(UpperAttrMetaclass):\n",
    "    bar = 'bar'"
   ]
  },
  {
   "cell_type": "code",
   "execution_count": 339,
   "metadata": {},
   "outputs": [
    {
     "data": {
      "text/plain": [
       "type"
      ]
     },
     "execution_count": 339,
     "metadata": {},
     "output_type": "execute_result"
    }
   ],
   "source": [
    "test.__class__"
   ]
  },
  {
   "cell_type": "code",
   "execution_count": 338,
   "metadata": {},
   "outputs": [
    {
     "data": {
      "text/plain": [
       "['__abstractmethods__',\n",
       " '__base__',\n",
       " '__bases__',\n",
       " '__basicsize__',\n",
       " '__call__',\n",
       " '__class__',\n",
       " '__delattr__',\n",
       " '__dict__',\n",
       " '__dictoffset__',\n",
       " '__dir__',\n",
       " '__doc__',\n",
       " '__eq__',\n",
       " '__flags__',\n",
       " '__format__',\n",
       " '__ge__',\n",
       " '__getattribute__',\n",
       " '__gt__',\n",
       " '__hash__',\n",
       " '__init__',\n",
       " '__init_subclass__',\n",
       " '__instancecheck__',\n",
       " '__itemsize__',\n",
       " '__le__',\n",
       " '__lt__',\n",
       " '__module__',\n",
       " '__mro__',\n",
       " '__name__',\n",
       " '__ne__',\n",
       " '__new__',\n",
       " '__prepare__',\n",
       " '__qualname__',\n",
       " '__reduce__',\n",
       " '__reduce_ex__',\n",
       " '__repr__',\n",
       " '__setattr__',\n",
       " '__sizeof__',\n",
       " '__str__',\n",
       " '__subclasscheck__',\n",
       " '__subclasses__',\n",
       " '__subclasshook__',\n",
       " '__text_signature__',\n",
       " '__weakrefoffset__',\n",
       " 'bar',\n",
       " 'mro']"
      ]
     },
     "execution_count": 338,
     "metadata": {},
     "output_type": "execute_result"
    }
   ],
   "source": [
    "dir(test)"
   ]
  },
  {
   "cell_type": "code",
   "execution_count": 213,
   "metadata": {},
   "outputs": [],
   "source": [
    "def make_hook(f):\n",
    "    \"\"\"Decorator to turn 'foo' method into '__foo__'\"\"\"\n",
    "    f.is_hook = 1\n",
    "    return f"
   ]
  },
  {
   "cell_type": "code",
   "execution_count": 215,
   "metadata": {},
   "outputs": [],
   "source": [
    "class MyType(type):\n",
    "    def __new__(cls, name, bases, attrs):\n",
    " \n",
    "        if name.startswith('None'):\n",
    "            return None\n",
    " \n",
    "        # Go over attributes and see if they should be renamed.\n",
    "        newattrs = {}\n",
    "        for attrname, attrvalue in attrs.iteritems():\n",
    "            if getattr(attrvalue, 'is_hook', 0):\n",
    "                newattrs['__%s__' % attrname] = attrvalue\n",
    "            else:\n",
    "                newattrs[attrname] = attrvalue\n",
    " \n",
    "        return super(MyType, cls).__new__(cls, name, bases, newattrs)\n",
    "    \n",
    "    def __init__(self, name, bases, attrs):\n",
    "        super(MyType, self).__init__(name, bases, attrs)\n",
    " \n",
    "        # classregistry.register(self, self.interfaces)\n",
    "        print \"Would register class %s now.\" % self\n",
    "\n",
    "\n",
    "    def __add__(self, other):\n",
    "        class AutoClass(self, other):\n",
    "            pass\n",
    "        return AutoClass\n",
    "        # Alternatively, to autogenerate the classname as well as the class:\n",
    "        # return type(self.__name__ + other.__name__, (self, other), {})\n",
    " \n",
    "    def unregister(self):\n",
    "        # classregistry.unregister(self)\n",
    "        print \"Would unregister class %s now.\" % self\n",
    "\n",
    "               "
   ]
  },
  {
   "cell_type": "code",
   "execution_count": 216,
   "metadata": {},
   "outputs": [],
   "source": [
    "class MyObject:\n",
    "    __metaclass__ = MyType"
   ]
  },
  {
   "cell_type": "code",
   "execution_count": 217,
   "metadata": {},
   "outputs": [],
   "source": [
    "class NoneSample(MyObject):\n",
    "    pass\n"
   ]
  },
  {
   "cell_type": "code",
   "execution_count": 219,
   "metadata": {},
   "outputs": [
    {
     "name": "stdout",
     "output_type": "stream",
     "text": [
      "<class 'type'> <class '__main__.NoneSample'>\n"
     ]
    }
   ],
   "source": [
    "# Will print \"NoneType None\"\n",
    "print(type(NoneSample), repr(NoneSample))"
   ]
  },
  {
   "cell_type": "code",
   "execution_count": 221,
   "metadata": {},
   "outputs": [],
   "source": [
    "class Example(MyObject):\n",
    "    def __init__(self, value):\n",
    "        self.value = value\n",
    "    @make_hook\n",
    "    def add(self, other):\n",
    "        return self.__class__(self.value + other.value)"
   ]
  },
  {
   "cell_type": "code",
   "execution_count": null,
   "metadata": {},
   "outputs": [],
   "source": []
  },
  {
   "cell_type": "code",
   "execution_count": 229,
   "metadata": {},
   "outputs": [],
   "source": [
    "class Pair:\n",
    "    def __init__(self, x, y):\n",
    "        self.x = x\n",
    "        self.y = y\n",
    "    def __repr__(self):\n",
    "        return 'Pair({0.x}, {0.y})'.format(self)\n",
    "#         return 'Pair({0.x!r}, {0.y!r})'.format(self)\n",
    "    def __str__(self):\n",
    "        return '({0.x}, {0.y})'.format(self)\n",
    "#         return '({0.x!s}, {0.y!s})'.format(self)"
   ]
  },
  {
   "cell_type": "code",
   "execution_count": 230,
   "metadata": {},
   "outputs": [],
   "source": [
    "p = Pair(3,4)"
   ]
  },
  {
   "cell_type": "code",
   "execution_count": 227,
   "metadata": {},
   "outputs": [
    {
     "data": {
      "text/plain": [
       "Pair(3, 4)"
      ]
     },
     "execution_count": 227,
     "metadata": {},
     "output_type": "execute_result"
    }
   ],
   "source": [
    "p"
   ]
  },
  {
   "cell_type": "code",
   "execution_count": 231,
   "metadata": {},
   "outputs": [
    {
     "name": "stdout",
     "output_type": "stream",
     "text": [
      "(3, 4)\n"
     ]
    }
   ],
   "source": [
    "print(p)"
   ]
  },
  {
   "cell_type": "code",
   "execution_count": 253,
   "metadata": {},
   "outputs": [],
   "source": [
    "_formats = {\n",
    "    'ymd' : '{d.year}-{d.month}-{d.day}',\n",
    "    'mdy' : '{d.month}/{d.day}/{d.year}',\n",
    "    'dmy' : '{d.day}/{d.month}/{d.year}'\n",
    "}\n",
    "class Date:\n",
    "    def __init__(self, year, month, day):\n",
    "        self.year = year\n",
    "        self.month = month\n",
    "        self.day = day\n",
    "    def __format__(self, code):\n",
    "        if code == '':\n",
    "            code = 'ymd'\n",
    "        fmt = _formats[code]\n",
    "        return fmt.format(d=self)"
   ]
  },
  {
   "cell_type": "code",
   "execution_count": 233,
   "metadata": {},
   "outputs": [],
   "source": [
    "fmt = _formats['ymd']"
   ]
  },
  {
   "cell_type": "code",
   "execution_count": 235,
   "metadata": {},
   "outputs": [
    {
     "data": {
      "text/plain": [
       "str"
      ]
     },
     "execution_count": 235,
     "metadata": {},
     "output_type": "execute_result"
    }
   ],
   "source": [
    "type(fmt)"
   ]
  },
  {
   "cell_type": "code",
   "execution_count": 236,
   "metadata": {},
   "outputs": [
    {
     "data": {
      "text/plain": [
       "dict"
      ]
     },
     "execution_count": 236,
     "metadata": {},
     "output_type": "execute_result"
    }
   ],
   "source": [
    "type(_formats)"
   ]
  },
  {
   "cell_type": "code",
   "execution_count": 254,
   "metadata": {},
   "outputs": [],
   "source": [
    "d = Date(2012, 12, 21)"
   ]
  },
  {
   "cell_type": "code",
   "execution_count": 257,
   "metadata": {},
   "outputs": [
    {
     "data": {
      "text/plain": [
       "'12/21/2012'"
      ]
     },
     "execution_count": 257,
     "metadata": {},
     "output_type": "execute_result"
    }
   ],
   "source": [
    "format(d,'mdy')"
   ]
  },
  {
   "cell_type": "markdown",
   "metadata": {},
   "source": [
    "## 通过一个实例来理解 metaclass"
   ]
  },
  {
   "cell_type": "markdown",
   "metadata": {},
   "source": [
    "https://zhuanlan.zhihu.com/p/98440398"
   ]
  },
  {
   "cell_type": "code",
   "execution_count": 295,
   "metadata": {},
   "outputs": [],
   "source": [
    "class Mymeta(type):\n",
    "...:     def __init__(self, name, bases, dic):\n",
    "...:         super().__init__(name, bases, dic)\n",
    "...:         print('===>Mymeta.__init__')\n",
    "...:         print(self.__name__)\n",
    "...:         print(dic)\n",
    "...:         print(self.yaml_tag)\n",
    "...: \n",
    "...:     def __new__(cls, *args, **kwargs):\n",
    "...:         print('===>Mymeta.__new__')\n",
    "...:         print(cls.__name__)\n",
    "...:         return type.__new__(cls, *args, **kwargs)\n",
    "...: \n",
    "...:     def __call__(cls, *args, **kwargs):\n",
    "...:         print('===>Mymeta.__call__')\n",
    "...:         obj = cls.__new__(cls)\n",
    "...:         cls.__init__(cls, *args, **kwargs)\n",
    "...:         return obj"
   ]
  },
  {
   "cell_type": "code",
   "execution_count": 313,
   "metadata": {},
   "outputs": [],
   "source": [
    "class Mymeta(type):\n",
    "...:     def __init__(self, name, bases, dic):\n",
    "...:         super().__init__(name, bases, dic)\n",
    "...:         print('===>Mymeta.__init__')\n",
    "...:         print(self.__name__)\n",
    "...:         print(dic)\n",
    "...:         print(self.yaml_tag)\n",
    "...: \n",
    "...:     def __new__(self, *args, **kwargs):\n",
    "...:         print('===>Mymeta.__new__')\n",
    "...:         print(self.__name__)\n",
    "...:         return type.__new__(self, *args, **kwargs)\n",
    "...: \n",
    "...:     def __call__(self, *args, **kwargs):\n",
    "...:         print('===>Mymeta.__call__')\n",
    "...:         obj = self.__new__(cls)\n",
    "...:         cls.__init__(self, *args, **kwargs)\n",
    "...:         return obj"
   ]
  },
  {
   "cell_type": "code",
   "execution_count": 314,
   "metadata": {},
   "outputs": [
    {
     "name": "stdout",
     "output_type": "stream",
     "text": [
      "===>Mymeta.__new__\n",
      "Mymeta\n",
      "===>Mymeta.__init__\n",
      "Foo\n",
      "{'__module__': '__main__', '__qualname__': 'Foo', 'yaml_tag': '!Foo', '__init__': <function Foo.__init__ at 0x0000024CE4118A60>}\n",
      "!Foo\n"
     ]
    }
   ],
   "source": [
    "class Foo(metaclass=Mymeta):\n",
    "     yaml_tag = '!Foo'\n",
    " \n",
    "     def __init__(self, name):\n",
    "        print('Foo.__init__')\n",
    "        self.name = name\n",
    " \n",
    "#      def __new__(cls, *args, **kwargs):\n",
    "#         print('Foo.__new__')\n",
    "#         return super().__new__(cls, *args, **kwargs)        \n",
    "#         return object.__new__(cls)"
   ]
  },
  {
   "cell_type": "code",
   "execution_count": 306,
   "metadata": {},
   "outputs": [
    {
     "name": "stdout",
     "output_type": "stream",
     "text": [
      "===>Mymeta.__new__\n",
      "Mymeta\n",
      "===>Mymeta.__init__\n",
      "Foo\n",
      "{'__module__': '__main__', '__qualname__': 'Foo', 'yaml_tag': '!Foo', '__init__': <function Foo.__init__ at 0x0000024CE4118AF0>, '__new__': <function Foo.__new__ at 0x0000024CE41189D0>, '__classcell__': <cell at 0x0000024CE4695A00: Mymeta object at 0x0000024CE129EC50>}\n",
      "!Foo\n"
     ]
    }
   ],
   "source": [
    "class Foo(metaclass=Mymeta):\n",
    "     yaml_tag = '!Foo'\n",
    " \n",
    "     def __init__(self, name):\n",
    "        print('Foo.__init__')\n",
    "        self.name = name\n",
    " \n",
    "     def __new__(cls, *args, **kwargs):\n",
    "        print('Foo.__new__')\n",
    "        return super().__new__(cls, *args, **kwargs)        \n",
    "#         return object.__new__(cls)"
   ]
  },
  {
   "cell_type": "code",
   "execution_count": null,
   "metadata": {},
   "outputs": [],
   "source": [
    "第一，所有的 Python 的用户定义类，都是 type 这个类的实例。"
   ]
  },
  {
   "cell_type": "code",
   "execution_count": 307,
   "metadata": {},
   "outputs": [],
   "source": [
    "class MyClass: pass\n",
    "instance = MyClass()"
   ]
  },
  {
   "cell_type": "code",
   "execution_count": 311,
   "metadata": {},
   "outputs": [
    {
     "data": {
      "text/plain": [
       "__main__.MyClass"
      ]
     },
     "execution_count": 311,
     "metadata": {},
     "output_type": "execute_result"
    }
   ],
   "source": [
    "instance.__class__\n",
    "# type(instance)"
   ]
  },
  {
   "cell_type": "code",
   "execution_count": 312,
   "metadata": {},
   "outputs": [
    {
     "data": {
      "text/plain": [
       "type"
      ]
     },
     "execution_count": 312,
     "metadata": {},
     "output_type": "execute_result"
    }
   ],
   "source": [
    "instance.__class__.__class__"
   ]
  },
  {
   "cell_type": "markdown",
   "metadata": {},
   "source": [
    "第二，用户自定义类，只不过是 type 类的 \\_\\_call\\_\\_ 运算符重载"
   ]
  },
  {
   "cell_type": "code",
   "execution_count": null,
   "metadata": {},
   "outputs": [],
   "source": [
    "class MyClass:\n",
    "    data = 1\n",
    "# 等同于\n",
    "class = type(classname, superclasses, attributedict)"
   ]
  },
  {
   "cell_type": "markdown",
   "metadata": {},
   "source": [
    " type(classname, superclasses, attributedict)，就是 type 的 __call__ 运算符重载，它会进一步调用："
   ]
  },
  {
   "cell_type": "code",
   "execution_count": null,
   "metadata": {},
   "outputs": [],
   "source": [
    "type.__new__(typeclass, classname, superclasses, attributedict)\n",
    "type.__init__(class, classname, superclasses, attributedict)"
   ]
  },
  {
   "cell_type": "code",
   "execution_count": null,
   "metadata": {},
   "outputs": [],
   "source": []
  },
  {
   "cell_type": "code",
   "execution_count": null,
   "metadata": {},
   "outputs": [],
   "source": []
  },
  {
   "cell_type": "code",
   "execution_count": null,
   "metadata": {},
   "outputs": [],
   "source": []
  },
  {
   "cell_type": "code",
   "execution_count": null,
   "metadata": {},
   "outputs": [],
   "source": []
  }
 ],
 "metadata": {
  "kernelspec": {
   "display_name": "Python 3",
   "language": "python",
   "name": "python3"
  },
  "language_info": {
   "codemirror_mode": {
    "name": "ipython",
    "version": 3
   },
   "file_extension": ".py",
   "mimetype": "text/x-python",
   "name": "python",
   "nbconvert_exporter": "python",
   "pygments_lexer": "ipython3",
   "version": "3.8.5"
  }
 },
 "nbformat": 4,
 "nbformat_minor": 4
}
