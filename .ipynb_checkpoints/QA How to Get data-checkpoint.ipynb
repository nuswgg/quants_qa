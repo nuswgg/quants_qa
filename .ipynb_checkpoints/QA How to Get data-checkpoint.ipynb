{
 "cells": [
  {
   "cell_type": "code",
   "execution_count": 1,
   "metadata": {},
   "outputs": [],
   "source": [
    "import QUANTAXIS as QA\n",
    "import pandas as pd\n",
    "import tushare as ts\n",
    "import numpy as np\n",
    "# import TA-Lib as ta\n",
    "import scipy.signal as signal\n",
    "import matplotlib.pyplot as plt"
   ]
  },
  {
   "cell_type": "code",
   "execution_count": 5,
   "metadata": {},
   "outputs": [
    {
     "data": {
      "text/html": [
       "<div>\n",
       "<style scoped>\n",
       "    .dataframe tbody tr th:only-of-type {\n",
       "        vertical-align: middle;\n",
       "    }\n",
       "\n",
       "    .dataframe tbody tr th {\n",
       "        vertical-align: top;\n",
       "    }\n",
       "\n",
       "    .dataframe thead th {\n",
       "        text-align: right;\n",
       "    }\n",
       "</style>\n",
       "<table border=\"1\" class=\"dataframe\">\n",
       "  <thead>\n",
       "    <tr style=\"text-align: right;\">\n",
       "      <th></th>\n",
       "      <th>code</th>\n",
       "      <th>decimal_point</th>\n",
       "      <th>name</th>\n",
       "      <th>pre_close</th>\n",
       "      <th>sec</th>\n",
       "      <th>sse</th>\n",
       "      <th>volunit</th>\n",
       "    </tr>\n",
       "    <tr>\n",
       "      <th>code</th>\n",
       "      <th></th>\n",
       "      <th></th>\n",
       "      <th></th>\n",
       "      <th></th>\n",
       "      <th></th>\n",
       "      <th></th>\n",
       "      <th></th>\n",
       "    </tr>\n",
       "  </thead>\n",
       "  <tbody>\n",
       "    <tr>\n",
       "      <th>000001</th>\n",
       "      <td>000001</td>\n",
       "      <td>2</td>\n",
       "      <td>平安银行</td>\n",
       "      <td>1688.027500</td>\n",
       "      <td>stock_cn</td>\n",
       "      <td>sz</td>\n",
       "      <td>100</td>\n",
       "    </tr>\n",
       "    <tr>\n",
       "      <th>000002</th>\n",
       "      <td>000002</td>\n",
       "      <td>2</td>\n",
       "      <td>万 科Ａ</td>\n",
       "      <td>27.480000</td>\n",
       "      <td>stock_cn</td>\n",
       "      <td>sz</td>\n",
       "      <td>100</td>\n",
       "    </tr>\n",
       "    <tr>\n",
       "      <th>000004</th>\n",
       "      <td>000004</td>\n",
       "      <td>2</td>\n",
       "      <td>国农科技</td>\n",
       "      <td>26.780001</td>\n",
       "      <td>stock_cn</td>\n",
       "      <td>sz</td>\n",
       "      <td>100</td>\n",
       "    </tr>\n",
       "  </tbody>\n",
       "</table>\n",
       "</div>"
      ],
      "text/plain": [
       "          code  decimal_point  name    pre_close       sec sse  volunit\n",
       "code                                                                   \n",
       "000001  000001              2  平安银行  1688.027500  stock_cn  sz      100\n",
       "000002  000002              2  万 科Ａ    27.480000  stock_cn  sz      100\n",
       "000004  000004              2  国农科技    26.780001  stock_cn  sz      100"
      ]
     },
     "execution_count": 5,
     "metadata": {},
     "output_type": "execute_result"
    }
   ],
   "source": [
    "cn_stk_list = QA.QA_fetch_stock_list()\n",
    "cn_stk_list.head(3)"
   ]
  },
  {
   "cell_type": "code",
   "execution_count": null,
   "metadata": {},
   "outputs": [],
   "source": [
    "cn_stk_list = cn_stk_list[~cn_stk_list['name'].str.contains()]"
   ]
  },
  {
   "cell_type": "code",
   "execution_count": 6,
   "metadata": {},
   "outputs": [],
   "source": [
    "ss = 'string123'"
   ]
  },
  {
   "cell_type": "code",
   "execution_count": null,
   "metadata": {},
   "outputs": [],
   "source": []
  },
  {
   "cell_type": "code",
   "execution_count": null,
   "metadata": {},
   "outputs": [],
   "source": []
  }
 ],
 "metadata": {
  "kernelspec": {
   "display_name": "Python 3",
   "language": "python",
   "name": "python3"
  },
  "language_info": {
   "codemirror_mode": {
    "name": "ipython",
    "version": 3
   },
   "file_extension": ".py",
   "mimetype": "text/x-python",
   "name": "python",
   "nbconvert_exporter": "python",
   "pygments_lexer": "ipython3",
   "version": "3.6.3"
  }
 },
 "nbformat": 4,
 "nbformat_minor": 2
}
