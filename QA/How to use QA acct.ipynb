{
 "cells": [
  {
   "cell_type": "code",
   "execution_count": null,
   "metadata": {},
   "outputs": [],
   "source": []
  },
  {
   "cell_type": "code",
   "execution_count": null,
   "metadata": {},
   "outputs": [],
   "source": [
    "#!/usr/bin/env python\n",
    "# coding: utf-8\n",
    "\n",
    "import QUANTAXIS as QA\n",
    "from QIFIAccount.QAQIFIAccount import QIFI_Account,ORDER_DIRECTION\n",
    "from qaenv import  mongo_ip\n",
    "\n",
    "acc=QIFI_Account(username='test3',password='test3',model='BACKTEST',trade_host=mongo_ip)\n",
    "\n",
    "acc.initial()\n",
    "\n",
    "\n",
    "acc.datetime='2021-01-28 11:30:00'\n",
    "\n",
    "od=acc.send_order(code='000001',amount=1000,price=22.53,towards=QA.ORDER_DIRECTION.BUY)\n",
    "\n",
    "\n",
    "acc.make_deal(od)\n",
    "\n",
    "\n",
    "\n",
    "acc.settle()\n",
    "\n",
    "\n",
    "acc.on_price_change('000001',23.09,datetime='2021-01-29 15:00:00')\n",
    "\n",
    "acc.settle()\n",
    "acc.on_price_change('000001',24.55,datetime='2021-02-01 15:00:00')\n",
    "acc.settle()\n",
    "\n",
    "\n",
    "acc.on_price_change('000001',23.28,datetime='2021-02-02 15:00:00')\n",
    "acc.settle()\n",
    "\n",
    "\n",
    "acc.on_price_change('000001',25.07,datetime='2021-02-03 14:00:00')\n",
    "\n",
    "\n",
    "acc.on_price_change('000001',24.95,datetime='2021-02-03 15:00:00')\n",
    "od=acc.send_order(code='000001',amount=1000,price=24.95,towards=QA.ORDER_DIRECTION.SELL,datetime='2021-02-03 15:00:00')\n",
    "acc.make_deal(od)\n",
    "acc.settle()"
   ]
  }
 ],
 "metadata": {
  "kernelspec": {
   "display_name": "Python 3",
   "language": "python",
   "name": "python3"
  },
  "language_info": {
   "codemirror_mode": {
    "name": "ipython",
    "version": 3
   },
   "file_extension": ".py",
   "mimetype": "text/x-python",
   "name": "python",
   "nbconvert_exporter": "python",
   "pygments_lexer": "ipython3",
   "version": "3.8.5"
  }
 },
 "nbformat": 4,
 "nbformat_minor": 4
}
