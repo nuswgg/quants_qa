{
 "cells": [
  {
   "cell_type": "markdown",
   "metadata": {},
   "source": [
    "QAStrategyCTABase\n",
    "\n",
    "http://www.yutiansut.com:3000/topic/5dd3d33b0c8e672840f3feed"
   ]
  },
  {
   "cell_type": "code",
   "execution_count": 1,
   "metadata": {},
   "outputs": [
    {
     "name": "stdout",
     "output_type": "stream",
     "text": [
      "jqdatasdk not installed\n"
     ]
    }
   ],
   "source": [
    "import QUANTAXIS as QA"
   ]
  },
  {
   "cell_type": "markdown",
   "metadata": {},
   "source": [
    "Video example"
   ]
  },
  {
   "cell_type": "code",
   "execution_count": 4,
   "metadata": {},
   "outputs": [],
   "source": [
    "import pandas as pd"
   ]
  },
  {
   "cell_type": "code",
   "execution_count": 13,
   "metadata": {},
   "outputs": [],
   "source": [
    "def strategy001(data,N=40,mu=1):\n",
    "    MP = QA.MA((data.high+data.low+data.close)/3,N)\n",
    "    TR = pd.concat([abs(data.high-data.low),abs(data.high-data.close.shift(1)),abs(data.low-data.close.shift(1))],axis=1).max(axis=1)\n",
    "    upBand = MP+mu*QA.MA(TR,N)\n",
    "    dnBand = MP + mu*QA.MA(TR,N)\n",
    "    FP = MP\n",
    "    return pd.DataFrame({'MP':MP,'TR':TR,'upBand':upBand,'dnBand':dnBand})"
   ]
  },
  {
   "cell_type": "code",
   "execution_count": 19,
   "metadata": {},
   "outputs": [],
   "source": [
    "def EMAs(data,n1=20,n2=40,n3=60,n4=80):\n",
    "    ema1 = QA.EMA(data.close,n1)\n",
    "    ema2 = QA.EMA(data.close,n2)\n",
    "    ema3 = QA.EMA(data.close,n3)\n",
    "    ema4 = QA.EMA(data.close,n4)\n",
    "    return pd.DataFrame({'ema1':ema1,'ema2':ema2,'ema3':ema3,'ema4':ema4})"
   ]
  },
  {
   "cell_type": "code",
   "execution_count": 14,
   "metadata": {},
   "outputs": [],
   "source": [
    "data = QA.QA_fetch_stock_day_adv('000001','2020-06-01','2020-12-31')"
   ]
  },
  {
   "cell_type": "code",
   "execution_count": 15,
   "metadata": {},
   "outputs": [
    {
     "name": "stderr",
     "output_type": "stream",
     "text": [
      "d:\\ProgramData\\Anaconda3\\lib\\site-packages\\QUANTAXIS\\QAData\\base_datastruct.py:841: FutureWarning: The `squeeze` parameter is deprecated and will be removed in a future version.\n",
      "  return self.data.groupby(\n"
     ]
    }
   ],
   "source": [
    "ind = data.add_func(strategy001)"
   ]
  },
  {
   "cell_type": "code",
   "execution_count": 16,
   "metadata": {},
   "outputs": [],
   "source": [
    "xs = QA.QA_DataStruct_Indicators(ind)"
   ]
  },
  {
   "cell_type": "code",
   "execution_count": 17,
   "metadata": {},
   "outputs": [],
   "source": [
    "xs.get_timerange?"
   ]
  },
  {
   "cell_type": "code",
   "execution_count": 18,
   "metadata": {},
   "outputs": [
    {
     "name": "stdout",
     "output_type": "stream",
     "text": [
      "                          MP    TR     upBand     dnBand\n",
      "date       code                                         \n",
      "2020-12-25 000001  18.563000  0.46  19.202000  19.202000\n",
      "2020-12-28 000001  18.585167  0.90  19.228667  19.228667\n",
      "2020-12-29 000001  18.611583  0.60  19.252333  19.252333\n",
      "2020-12-30 000001  18.631250  0.48  19.271000  19.271000\n",
      "2020-12-31 000001  18.666250  0.56  19.296000  19.296000\n"
     ]
    }
   ],
   "source": [
    "print(ind.tail())"
   ]
  },
  {
   "cell_type": "code",
   "execution_count": null,
   "metadata": {},
   "outputs": [],
   "source": []
  },
  {
   "cell_type": "code",
   "execution_count": 2,
   "metadata": {},
   "outputs": [],
   "source": [
    "import QAStrategy\n",
    "from QAStrategy.qactabase import QAStrategyCTABase"
   ]
  },
  {
   "cell_type": "code",
   "execution_count": 3,
   "metadata": {},
   "outputs": [],
   "source": [
    "class x(QAStrategyCTABase):\n",
    "    def on_bar(self, data):\n",
    "        \n",
    "        print(data)"
   ]
  },
  {
   "cell_type": "markdown",
   "metadata": {},
   "source": [
    "Create new Account"
   ]
  },
  {
   "cell_type": "code",
   "execution_count": 10,
   "metadata": {},
   "outputs": [],
   "source": [
    "account = x(code= 'rb2005',frequence='1min', strategy_id='testfordebug4')"
   ]
  },
  {
   "cell_type": "code",
   "execution_count": 5,
   "metadata": {},
   "outputs": [
    {
     "ename": "AttributeError",
     "evalue": "'x' object has no attribute 'running_mode'",
     "output_type": "error",
     "traceback": [
      "\u001b[1;31m---------------------------------------------------------------------------\u001b[0m",
      "\u001b[1;31mAttributeError\u001b[0m                            Traceback (most recent call last)",
      "\u001b[1;32m<ipython-input-5-70c664bd95aa>\u001b[0m in \u001b[0;36m<module>\u001b[1;34m\u001b[0m\n\u001b[1;32m----> 1\u001b[1;33m \u001b[0maccount\u001b[0m\u001b[1;33m.\u001b[0m\u001b[0msend_order\u001b[0m\u001b[1;33m(\u001b[0m\u001b[1;34m'BUY'\u001b[0m\u001b[1;33m,\u001b[0m\u001b[1;34m'OPEN'\u001b[0m\u001b[1;33m,\u001b[0m\u001b[1;36m3350\u001b[0m\u001b[1;33m,\u001b[0m \u001b[1;36m1\u001b[0m\u001b[1;33m)\u001b[0m\u001b[1;33m\u001b[0m\u001b[1;33m\u001b[0m\u001b[0m\n\u001b[0m",
      "\u001b[1;32md:\\ProgramData\\Anaconda3\\lib\\site-packages\\QAStrategy\\qactabase.py\u001b[0m in \u001b[0;36msend_order\u001b[1;34m(self, direction, offset, price, volume, order_id, code)\u001b[0m\n\u001b[0;32m    722\u001b[0m             \u001b[0mprice\u001b[0m \u001b[1;33m=\u001b[0m \u001b[0mprice\u001b[0m\u001b[1;33m.\u001b[0m\u001b[0mvalues\u001b[0m\u001b[1;33m[\u001b[0m\u001b[1;36m0\u001b[0m\u001b[1;33m]\u001b[0m\u001b[1;33m\u001b[0m\u001b[1;33m\u001b[0m\u001b[0m\n\u001b[0;32m    723\u001b[0m \u001b[1;33m\u001b[0m\u001b[0m\n\u001b[1;32m--> 724\u001b[1;33m         \u001b[1;32mif\u001b[0m \u001b[0mself\u001b[0m\u001b[1;33m.\u001b[0m\u001b[0mrunning_mode\u001b[0m \u001b[1;33m==\u001b[0m \u001b[1;34m'sim'\u001b[0m\u001b[1;33m:\u001b[0m\u001b[1;33m\u001b[0m\u001b[1;33m\u001b[0m\u001b[0m\n\u001b[0m\u001b[0;32m    725\u001b[0m             \u001b[1;31m# 在此处拦截无法下单的订单\u001b[0m\u001b[1;33m\u001b[0m\u001b[1;33m\u001b[0m\u001b[1;33m\u001b[0m\u001b[0m\n\u001b[0;32m    726\u001b[0m             \u001b[1;32mif\u001b[0m \u001b[1;33m(\u001b[0m\u001b[0mdirection\u001b[0m \u001b[1;33m==\u001b[0m \u001b[1;34m'BUY'\u001b[0m \u001b[1;32mand\u001b[0m \u001b[0mself\u001b[0m\u001b[1;33m.\u001b[0m\u001b[0mlatest_price\u001b[0m\u001b[1;33m[\u001b[0m\u001b[0mcode\u001b[0m\u001b[1;33m]\u001b[0m \u001b[1;33m<=\u001b[0m \u001b[0mprice\u001b[0m\u001b[1;33m)\u001b[0m \u001b[1;32mor\u001b[0m \u001b[1;33m(\u001b[0m\u001b[0mdirection\u001b[0m \u001b[1;33m==\u001b[0m \u001b[1;34m'SELL'\u001b[0m \u001b[1;32mand\u001b[0m \u001b[0mself\u001b[0m\u001b[1;33m.\u001b[0m\u001b[0mlatest_price\u001b[0m\u001b[1;33m[\u001b[0m\u001b[0mcode\u001b[0m\u001b[1;33m]\u001b[0m \u001b[1;33m>=\u001b[0m \u001b[0mprice\u001b[0m\u001b[1;33m)\u001b[0m\u001b[1;33m:\u001b[0m\u001b[1;33m\u001b[0m\u001b[1;33m\u001b[0m\u001b[0m\n",
      "\u001b[1;31mAttributeError\u001b[0m: 'x' object has no attribute 'running_mode'"
     ]
    }
   ],
   "source": [
    "account.send_order('BUY','OPEN',3350, 1)"
   ]
  },
  {
   "cell_type": "code",
   "execution_count": 10,
   "metadata": {},
   "outputs": [
    {
     "data": {
      "text/plain": [
       "['BarsSinceEntryLong',\n",
       " 'BarsSinceEntryShort',\n",
       " 'EntryPriceLong',\n",
       " 'EntryPriceShort',\n",
       " '__class__',\n",
       " '__delattr__',\n",
       " '__dict__',\n",
       " '__dir__',\n",
       " '__doc__',\n",
       " '__eq__',\n",
       " '__format__',\n",
       " '__ge__',\n",
       " '__getattribute__',\n",
       " '__gt__',\n",
       " '__hash__',\n",
       " '__init__',\n",
       " '__init_subclass__',\n",
       " '__le__',\n",
       " '__lt__',\n",
       " '__module__',\n",
       " '__ne__',\n",
       " '__new__',\n",
       " '__reduce__',\n",
       " '__reduce_ex__',\n",
       " '__repr__',\n",
       " '__setattr__',\n",
       " '__sizeof__',\n",
       " '__str__',\n",
       " '__subclasshook__',\n",
       " '__weakref__',\n",
       " '_debug_sim',\n",
       " '_on_1min_bar',\n",
       " 'add_subscriber',\n",
       " 'bar_id',\n",
       " 'callback',\n",
       " 'check_order',\n",
       " 'control_status',\n",
       " 'daily_func',\n",
       " 'debug',\n",
       " 'debug_currenttick',\n",
       " 'debug_histick',\n",
       " 'debug_sim',\n",
       " 'debug_t0',\n",
       " 'force_close',\n",
       " 'get_cash',\n",
       " 'get_code',\n",
       " 'get_code_marketdata',\n",
       " 'get_current_marketdata',\n",
       " 'get_exchange',\n",
       " 'get_positions',\n",
       " 'ind2str',\n",
       " 'load_strategy',\n",
       " 'market_data',\n",
       " 'market_datetime',\n",
       " 'old_data',\n",
       " 'on_15min_bar',\n",
       " 'on_1min_bar',\n",
       " 'on_30min_bar',\n",
       " 'on_5min_bar',\n",
       " 'on_bar',\n",
       " 'on_dailyclose',\n",
       " 'on_dailyopen',\n",
       " 'on_deal',\n",
       " 'on_ordererror',\n",
       " 'on_sync',\n",
       " 'on_tick',\n",
       " 'order_handler',\n",
       " 'plot',\n",
       " 'receive_simpledeal',\n",
       " 'risk_check',\n",
       " 'run',\n",
       " 'run_backtest',\n",
       " 'run_sim',\n",
       " 'second_callback',\n",
       " 'send_order',\n",
       " 'subscribe_data',\n",
       " 'subscribe_multi',\n",
       " 'subscriber_list',\n",
       " 'tick_callback',\n",
       " 'upcoming_data',\n",
       " 'update',\n",
       " 'update_account',\n",
       " 'user_init',\n",
       " 'x1']"
      ]
     },
     "execution_count": 10,
     "metadata": {},
     "output_type": "execute_result"
    }
   ],
   "source": [
    "dir(QAStrategyCTABase)"
   ]
  },
  {
   "cell_type": "code",
   "execution_count": 17,
   "metadata": {},
   "outputs": [],
   "source": [
    "from QAStrategy.qastockbase import QAStrategyStockBase"
   ]
  },
  {
   "cell_type": "code",
   "execution_count": 19,
   "metadata": {},
   "outputs": [],
   "source": [
    "#example\n",
    "import random\n",
    "class strategy(QAStrategyStockBase):\n",
    "    def on_bar(self, data):\n",
    "        print(data)\n",
    "\n",
    "        \n",
    "        code = data.name[1]\n",
    "        pos = self.get_positions(code)\n",
    "        print('---------------under is 当前全市场的market_data --------------')\n",
    "        \n",
    "        print(self.get_current_marketdata())\n",
    "        print('---------------under is 当前品种的market_data --------------')\n",
    "        print(self.get_code_marketdata(code))\n",
    "        print(code)\n",
    "        \n",
    "        \n",
    "        \n",
    "        if random.random() > 0.5:\n",
    "            self.send_order('BUY', 'OPEN', code, price=data['close'], volume=1000)\n",
    "        else:\n",
    "            if pos.volume_long > 0:\n",
    "                self.send_order('SELL', 'CLOSE', code, price=data['close'], volume=pos.volume_long)\n",
    "            \n",
    "        print('---------------under is 账户情况和持仓情况 -------------------')\n",
    "        print(self.get_positions(code).message)\n",
    "        print(self.acc.history_table)\n",
    "            \n",
    "        #print(self.running_time)\n",
    "        input()"
   ]
  },
  {
   "cell_type": "code",
   "execution_count": 6,
   "metadata": {},
   "outputs": [
    {
     "name": "stderr",
     "output_type": "stream",
     "text": [
      "QUANTAXIS>> QA something wrong with date\n"
     ]
    },
    {
     "name": "stdout",
     "output_type": "stream",
     "text": [
      "QAACCPRO: reload from DATABASE\n",
      "QAACCOUNT: THIS ACCOUNT DOESNOT HAVE ANY TRADE\n",
      "QAACCOUNT: THIS ACCOUNT DOESNOT HAVE ANY TRADE\n",
      "{}\n",
      "QAACCOUNT: THIS ACCOUNT DOESNOT HAVE ANY TRADE\n",
      "QAACCOUNT: THIS ACCOUNT DOESNOT HAVE ANY TRADE\n",
      "< QA_AccountPRO a3916de0-bd28-4b9c-bea1-94d91f1744ac market: future_cn>\n",
      "future_cn\n",
      "QAACCOUNT: THIS ACCOUNT DOESNOT HAVE ANY TRADE\n",
      "QAACCOUNT: THIS ACCOUNT DOESNOT HAVE ANY TRADE\n",
      "QAACCOUNT: THIS ACCOUNT DOESNOT HAVE ANY TRADE\n",
      "QAACCOUNT: THIS ACCOUNT DOESNOT HAVE ANY TRADE\n",
      "QA Error QA_fetch_future_day_adv parameter code=[] start=None end=None call QA_fetch_future_day return None\n",
      "QAACCOUNT: THIS ACCOUNT DOESNOT HAVE ANY TRADE\n"
     ]
    },
    {
     "ename": "ValueError",
     "evalue": "min() arg is an empty sequence",
     "output_type": "error",
     "traceback": [
      "\u001b[1;31m---------------------------------------------------------------------------\u001b[0m",
      "\u001b[1;31mValueError\u001b[0m                                Traceback (most recent call last)",
      "\u001b[1;32m<ipython-input-6-9fee3d557086>\u001b[0m in \u001b[0;36m<module>\u001b[1;34m\u001b[0m\n\u001b[0;32m     31\u001b[0m strategy = CCI(code='rb2005', frequence='1min',\n\u001b[0;32m     32\u001b[0m                 strategy_id='a3916de0-bd28-4b9c-bea1-94d91f1744ac')\n\u001b[1;32m---> 33\u001b[1;33m \u001b[0mstrategy\u001b[0m\u001b[1;33m.\u001b[0m\u001b[0mrun_backtest\u001b[0m\u001b[1;33m(\u001b[0m\u001b[1;33m)\u001b[0m\u001b[1;33m\u001b[0m\u001b[1;33m\u001b[0m\u001b[0m\n\u001b[0m",
      "\u001b[1;32md:\\ProgramData\\Anaconda3\\lib\\site-packages\\QAStrategy\\qactabase.py\u001b[0m in \u001b[0;36mrun_backtest\u001b[1;34m(self)\u001b[0m\n\u001b[0;32m    190\u001b[0m         \u001b[0mself\u001b[0m\u001b[1;33m.\u001b[0m\u001b[0macc\u001b[0m\u001b[1;33m.\u001b[0m\u001b[0msave\u001b[0m\u001b[1;33m(\u001b[0m\u001b[1;33m)\u001b[0m\u001b[1;33m\u001b[0m\u001b[1;33m\u001b[0m\u001b[0m\n\u001b[0;32m    191\u001b[0m \u001b[1;33m\u001b[0m\u001b[0m\n\u001b[1;32m--> 192\u001b[1;33m         \u001b[0mrisk\u001b[0m \u001b[1;33m=\u001b[0m \u001b[0mQA_Risk\u001b[0m\u001b[1;33m(\u001b[0m\u001b[0mself\u001b[0m\u001b[1;33m.\u001b[0m\u001b[0macc\u001b[0m\u001b[1;33m)\u001b[0m\u001b[1;33m\u001b[0m\u001b[1;33m\u001b[0m\u001b[0m\n\u001b[0m\u001b[0;32m    193\u001b[0m         \u001b[0mrisk\u001b[0m\u001b[1;33m.\u001b[0m\u001b[0msave\u001b[0m\u001b[1;33m(\u001b[0m\u001b[1;33m)\u001b[0m\u001b[1;33m\u001b[0m\u001b[1;33m\u001b[0m\u001b[0m\n\u001b[0;32m    194\u001b[0m \u001b[1;33m\u001b[0m\u001b[0m\n",
      "\u001b[1;32md:\\ProgramData\\Anaconda3\\lib\\site-packages\\QUANTAXIS\\QAARP\\QARisk.py\u001b[0m in \u001b[0;36m__init__\u001b[1;34m(self, account, benchmark_code, benchmark_type, if_fq, market_data, auto_reload)\u001b[0m\n\u001b[0;32m    182\u001b[0m                         axis=1) + self.account.daily_cash.set_index('date').cash).fillna(method='pad')\n\u001b[0;32m    183\u001b[0m             \u001b[1;32melse\u001b[0m\u001b[1;33m:\u001b[0m\u001b[1;33m\u001b[0m\u001b[1;33m\u001b[0m\u001b[0m\n\u001b[1;32m--> 184\u001b[1;33m                 self._assets = self.account.daily_cash.set_index(\n\u001b[0m\u001b[0;32m    185\u001b[0m                     'date').cash.fillna(method='pad')\n\u001b[0;32m    186\u001b[0m \u001b[1;33m\u001b[0m\u001b[0m\n",
      "\u001b[1;32md:\\ProgramData\\Anaconda3\\lib\\site-packages\\QUANTAXIS\\QAARP\\QAAccountPro.py\u001b[0m in \u001b[0;36mdaily_cash\u001b[1;34m(self)\u001b[0m\n\u001b[0;32m    634\u001b[0m             pd.Series(\n\u001b[0;32m    635\u001b[0m                 \u001b[0mdata\u001b[0m\u001b[1;33m=\u001b[0m\u001b[1;32mNone\u001b[0m\u001b[1;33m,\u001b[0m\u001b[1;33m\u001b[0m\u001b[1;33m\u001b[0m\u001b[0m\n\u001b[1;32m--> 636\u001b[1;33m                 \u001b[0mindex\u001b[0m\u001b[1;33m=\u001b[0m\u001b[0mpd\u001b[0m\u001b[1;33m.\u001b[0m\u001b[0mto_datetime\u001b[0m\u001b[1;33m(\u001b[0m\u001b[0mself\u001b[0m\u001b[1;33m.\u001b[0m\u001b[0mtrade_range_max\u001b[0m\u001b[1;33m)\u001b[0m\u001b[1;33m.\u001b[0m\u001b[0mset_names\u001b[0m\u001b[1;33m(\u001b[0m\u001b[1;34m'date'\u001b[0m\u001b[1;33m)\u001b[0m\u001b[1;33m,\u001b[0m\u001b[1;33m\u001b[0m\u001b[1;33m\u001b[0m\u001b[0m\n\u001b[0m\u001b[0;32m    637\u001b[0m                 \u001b[0mname\u001b[0m\u001b[1;33m=\u001b[0m\u001b[1;34m'predrop'\u001b[0m\u001b[1;33m\u001b[0m\u001b[1;33m\u001b[0m\u001b[0m\n\u001b[0;32m    638\u001b[0m             )\n",
      "\u001b[1;32md:\\ProgramData\\Anaconda3\\lib\\site-packages\\QUANTAXIS\\QAARP\\QAAccountPro.py\u001b[0m in \u001b[0;36mtrade_range_max\u001b[1;34m(self)\u001b[0m\n\u001b[0;32m    437\u001b[0m     \u001b[1;33m@\u001b[0m\u001b[0mproperty\u001b[0m\u001b[1;33m\u001b[0m\u001b[1;33m\u001b[0m\u001b[0m\n\u001b[0;32m    438\u001b[0m     \u001b[1;32mdef\u001b[0m \u001b[0mtrade_range_max\u001b[0m\u001b[1;33m(\u001b[0m\u001b[0mself\u001b[0m\u001b[1;33m)\u001b[0m\u001b[1;33m:\u001b[0m\u001b[1;33m\u001b[0m\u001b[1;33m\u001b[0m\u001b[0m\n\u001b[1;32m--> 439\u001b[1;33m         \u001b[1;32mif\u001b[0m \u001b[0mself\u001b[0m\u001b[1;33m.\u001b[0m\u001b[0mstart_date\u001b[0m \u001b[1;33m<\u001b[0m \u001b[0mstr\u001b[0m\u001b[1;33m(\u001b[0m\u001b[0mmin\u001b[0m\u001b[1;33m(\u001b[0m\u001b[0mself\u001b[0m\u001b[1;33m.\u001b[0m\u001b[0mtime_index_max\u001b[0m\u001b[1;33m)\u001b[0m\u001b[1;33m)\u001b[0m\u001b[1;33m[\u001b[0m\u001b[1;36m0\u001b[0m\u001b[1;33m:\u001b[0m\u001b[1;36m10\u001b[0m\u001b[1;33m]\u001b[0m\u001b[1;33m:\u001b[0m\u001b[1;33m\u001b[0m\u001b[1;33m\u001b[0m\u001b[0m\n\u001b[0m\u001b[0;32m    440\u001b[0m             \u001b[1;32mreturn\u001b[0m \u001b[0mQA_util_get_trade_range\u001b[0m\u001b[1;33m(\u001b[0m\u001b[0mself\u001b[0m\u001b[1;33m.\u001b[0m\u001b[0mstart_date\u001b[0m\u001b[1;33m,\u001b[0m \u001b[0mself\u001b[0m\u001b[1;33m.\u001b[0m\u001b[0mend_date\u001b[0m\u001b[1;33m)\u001b[0m\u001b[1;33m\u001b[0m\u001b[1;33m\u001b[0m\u001b[0m\n\u001b[0;32m    441\u001b[0m         \u001b[1;32melse\u001b[0m\u001b[1;33m:\u001b[0m\u001b[1;33m\u001b[0m\u001b[1;33m\u001b[0m\u001b[0m\n",
      "\u001b[1;31mValueError\u001b[0m: min() arg is an empty sequence"
     ]
    }
   ],
   "source": [
    "#example \n",
    "from QAStrategy import QAStrategyCTABase\n",
    "import QUANTAXIS as QA\n",
    "\n",
    "class CCI(QAStrategyCTABase):\n",
    "    def on_bar(self, bar):\n",
    "        \"\"\"你的大部分策略逻辑都是在此写的\n",
    "        \"\"\"\n",
    "        res = self.cci()  \n",
    "        print(res.iloc[-1])\n",
    "        if res.CCI[-1] < -100:\n",
    "            print('LONG')\n",
    "            if self.positions.volume_long == 0:\n",
    "                self.send_order('BUY', 'OPEN', price=bar['close'], volume=1)\n",
    "            if self.positions.volume_short > 0:\n",
    "                self.send_order('BUY', 'CLOSE', price=bar['close'], volume=1)\n",
    "\n",
    "        elif res.CCI[-1] > 100:\n",
    "            print('SHORT')\n",
    "            if self.positions.volume_short == 0:\n",
    "                self.send_order('SELL', 'OPEN', price=bar['close'], volume=1)\n",
    "            if self.positions.volume_long > 0:\n",
    "                self.send_order('SELL', 'CLOSE', price=bar['close'], volume=1)\n",
    "\n",
    "    def cci(self,):\n",
    "        \"\"\"你可以自定义你想要的函数\n",
    "        \"\"\"\n",
    "        return QA.QA_indicator_CCI(self.market_data, 61)\n",
    "\n",
    "\n",
    "strategy = CCI(code='rb2005', frequence='1min',\n",
    "                strategy_id='a3916de0-bd28-4b9c-bea1-94d91f1744ac')\n",
    "strategy.run_backtest()"
   ]
  },
  {
   "cell_type": "code",
   "execution_count": 21,
   "metadata": {},
   "outputs": [],
   "source": [
    "# coding:utf-8\n",
    "#\n",
    "# The MIT License (MIT)\n",
    "#\n",
    "# Copyright (c) 2018-2020 azai/Rgveda/GolemQuant\n",
    "#\n",
    "# Permission is hereby granted, free of charge, to any person obtaining a copy\n",
    "# of this software and associated documentation files (the \"Software\"), to deal\n",
    "# in the Software without restriction, including without limitation the rights\n",
    "# to use, copy, modify, merge, publish, distribute, sublicense, and/or sell\n",
    "# copies of the Software, and to permit persons to whom the Software is\n",
    "# furnished to do so, subject to the following conditions:\n",
    "#\n",
    "# The above copyright notice and this permission notice shall be included in\n",
    "# all\n",
    "# copies or substantial portions of the Software.\n",
    "#\n",
    "# THE SOFTWARE IS PROVIDED \"AS IS\", WITHOUT WARRANTY OF ANY KIND, EXPRESS OR\n",
    "# IMPLIED, INCLUDING BUT NOT LIMITED TO THE WARRANTIES OF MERCHANTABILITY,\n",
    "# FITNESS FOR A PARTICULAR PURPOSE AND NONINFRINGEMENT.  IN NO EVENT SHALL THE\n",
    "# AUTHORS OR COPYRIGHT HOLDERS BE LIABLE FOR ANY CLAIM, DAMAGES OR OTHER\n",
    "# LIABILITY, WHETHER IN AN ACTION OF CONTRACT, TORT OR OTHERWISE, ARISING FROM,\n",
    "# OUT OF OR IN CONNECTION WITH THE SOFTWARE OR THE USE OR OTHER DEALINGS IN THE\n",
    "# SOFTWARE.\n",
    "\"\"\"\n",
    "基于 QUANTAXIS 的 DataStruct.add_func 使用，也可以单独使用处理 Kline数据，基于RSRS择时，\n",
    "RSRS(阻力支撑相对强度)择时策略研究，\n",
    "聚宽： https://www.joinquant.com/view/community/detail/df07581179e8a3c73e46978cb52d7448?type=best\n",
    "\"\"\"\n",
    "\n",
    "import pandas as pd\n",
    "import os\n",
    "import datetime\n",
    "import numpy as np \n",
    "import statsmodels.formula.api as sml\n",
    "\n",
    "import matplotlib.pyplot as plt\n",
    "import scipy.stats as scs\n",
    "import matplotlib.mlab as mlab\n",
    "\n",
    "#import statsmodels.api as sm\n",
    "#from pandas.stats.api import ols\n",
    "try:\n",
    "    import QUANTAXIS as QA\n",
    "    from QUANTAXIS.QAIndicator.talib_numpy import *\n",
    "except:\n",
    "    print('PLEASE run \"pip install QUANTAXIS\" to call these modules')\n",
    "    pass\n",
    "\n",
    "import statsmodels.api as sm"
   ]
  },
  {
   "cell_type": "code",
   "execution_count": 22,
   "metadata": {},
   "outputs": [],
   "source": [
    "def pre_rsrs_data_func(data, N=18, M=252):\n",
    "    \"\"\"\n",
    "    准备数据\n",
    "    \"\"\"\n",
    "    highs = data.high.values\n",
    "    lows = data.low.values\n",
    "    start_t = datetime.datetime.now()\n",
    "    print(start_t)\n",
    "\n",
    "    # 斜率\n",
    "    data['beta'] = 0\n",
    "    data['R2'] = 0\n",
    "    beta_rsquared = np.zeros((len(data), 2),)\n",
    "\n",
    "    for i in range(len(highs))[N:]:\n",
    "        data_high = highs[i - N:i]\n",
    "        data_low = lows[i - N:i]\n",
    "        X = sm.add_constant(data_low)\n",
    "        model = sm.OLS(data_high,X)\n",
    "        results = model.fit()\n",
    "\n",
    "        # beta = low\n",
    "        if (len(results.params) > 1):\n",
    "            beta_rsquared[i, 0] = results.params[1]\n",
    "        else:\n",
    "            beta_rsquared[i, 0] = results.params[0]\n",
    "        beta_rsquared[i, 1] = results.rsquared\n",
    "\n",
    "    data[['beta', 'R2']] = beta_rsquared\n",
    "\n",
    "    # 日收益率\n",
    "    data['ret'] = data.close.pct_change(1)\n",
    "    \n",
    "    # 标准分\n",
    "    data['beta_norm'] = data['beta'].rolling(M).apply(lambda x:scs.zscore(x.values)[-1])\n",
    "\n",
    "    beta = data.columns.get_loc('beta')\n",
    "    beta_norm = data.columns.get_loc('beta_norm')\n",
    "    data.iloc[:min(M, len(highs)), beta_norm] = scs.zscore(data.iloc[:min(M, len(highs)), beta].values)\n",
    "    data['RSRS_R2'] = data.beta_norm * data.R2\n",
    "    data = data.fillna(0)\n",
    "    \n",
    "    # 右偏标准分\n",
    "    data['beta_right'] = data.RSRS_R2 * data.beta\n",
    "\n",
    "    end_t = datetime.datetime.now()\n",
    "    print(end_t, 'spent:{}'.format((end_t - start_t)))\n",
    "    return data"
   ]
  },
  {
   "cell_type": "code",
   "execution_count": 23,
   "metadata": {},
   "outputs": [],
   "source": [
    "def pre_rsrs_data_v1_func(data, N=18, M=252):\n",
    "    \"\"\"\n",
    "    准备数据\n",
    "    \"\"\"\n",
    "    highs = data.high\n",
    "    start_t = datetime.datetime.now()\n",
    "    print(start_t)\n",
    "\n",
    "    # 斜率\n",
    "    data['beta'] = 0\n",
    "    data['R2'] = 0\n",
    "    beta_rsquared = np.zeros((len(data), 2),)\n",
    "\n",
    "    for i in range(N - 1, len(highs) - 1):\n",
    "    #for i in range(len(highs))[N:]:\n",
    "        df_ne = data.iloc[i - N + 1:i + 1, :]\n",
    "        model = sml.ols(formula='high~low', data = df_ne)\n",
    "        result = model.fit()\n",
    "\n",
    "        # beta = low\n",
    "        beta_rsquared[i + 1, 0] = result.params[1]\n",
    "        beta_rsquared[i + 1, 1] = result.rsquared\n",
    "\n",
    "    data[['beta', 'R2']] = beta_rsquared\n",
    "\n",
    "    # 日收益率\n",
    "    data['ret'] = data.close.pct_change(1)\n",
    "    \n",
    "    # 标准分\n",
    "    data['beta_norm'] = (data['beta'] - data.beta.rolling(M).mean().shift(1)) / data.beta.rolling(M).std().shift(1)\n",
    "\n",
    "    beta_norm = data.columns.get_loc('beta_norm')\n",
    "    beta = data.columns.get_loc('beta')\n",
    "    for i in range(min(M, len(highs))):\n",
    "        data.iat[i, beta_norm] = (data.iat[i, beta] - data.iloc[:i - 1, beta].mean()) / data.iloc[:i - 1, beta].std() if (data.iloc[:i - 1, beta].std() != 0) else np.nan\n",
    "\n",
    "    data.iat[2, beta_norm] = 0\n",
    "    data['RSRS_R2'] = data.beta_norm * data.R2\n",
    "    data = data.fillna(0)\n",
    "    \n",
    "    # 右偏标准分\n",
    "    data['beta_right'] = data.RSRS_R2 * data.beta\n",
    "    end_t = datetime.datetime.now()\n",
    "    print(end_t, 'spent:{}'.format((end_t - start_t)))\n",
    "    return data"
   ]
  },
  {
   "cell_type": "code",
   "execution_count": 24,
   "metadata": {},
   "outputs": [],
   "source": [
    "def pre_rsrs_data_v2_func(data, N=18, M=252):\n",
    "    \"\"\"\n",
    "    准备数据\n",
    "    \"\"\"\n",
    "    highs = data.high\n",
    "\n",
    "    # 斜率\n",
    "    data['beta'] = 0\n",
    "    data['R2'] = 0\n",
    "    beta_rsquared = np.zeros((len(data), 2),)\n",
    "\n",
    "    for i in range(N - 1, len(highs) - 1):\n",
    "    #for i in range(len(highs))[N:]:\n",
    "        df_ne = data.iloc[i - N + 1:i + 1, :]\n",
    "        model = sml.ols(formula='high~low',data = df_ne)\n",
    "        result = model.fit()\n",
    "\n",
    "        # beta = low\n",
    "        beta_rsquared[i + 1, 0] = result.params[1]\n",
    "        beta_rsquared[i + 1, 1] = result.rsquared\n",
    "\n",
    "    data[['beta', 'R2']] = beta_rsquared\n",
    "\n",
    "    # 日收益率\n",
    "    data['ret'] = data.close.pct_change(1)\n",
    "    \n",
    "    # 标准分\n",
    "    #data['beta_norm'] = (data['beta'] - data.beta.rolling(M).mean().shift(1))\n",
    "    #/ data.beta.rolling(M).std().shift(1)\n",
    "    data['beta_norm'] = data['beta'].rolling(M).apply(lambda x:scs.zscore(x.values)[-1])\n",
    "\n",
    "    beta = data.columns.get_loc('beta')\n",
    "    beta_norm = data.columns.get_loc('beta_norm')\n",
    "    data.iloc[:min(M, len(highs)), beta_norm] = scs.zscore(data.iloc[:min(M, len(highs)), beta].values)\n",
    "    #beta_norm = data.columns.get_loc('beta_norm')\n",
    "    #beta = data.columns.get_loc('beta')\n",
    "    #for i in range(min(M, len(highs))):\n",
    "    # data.iat[i, beta_norm] = (data.iat[i, beta] - data.iloc[:i - 1,\n",
    "    # beta].mean()) / data.iloc[:i - 1, beta].std() if (data.iloc[:i - 1,\n",
    "    # beta].std() != 0) else np.nan\n",
    "\n",
    "    #data.iat[2, beta_norm] = 0\n",
    "    data['RSRS_R2'] = data.beta_norm * data.R2\n",
    "    data = data.fillna(0)\n",
    "    \n",
    "    # 右偏标准分\n",
    "    data['beta_right'] = data.RSRS_R2 * data.beta\n",
    "\n",
    "    return data"
   ]
  },
  {
   "cell_type": "code",
   "execution_count": 25,
   "metadata": {},
   "outputs": [],
   "source": [
    "def RSRS1(price, S1=1.0, S2=0.8):\n",
    "    \"\"\"\n",
    "    斜率指标交易策略标准分策略\n",
    "    \"\"\"\n",
    "    data = price.copy()\n",
    "    data['flag'] = 0 # 买卖标记\n",
    "    data['position'] = 0 # 持仓标记\n",
    "\n",
    "    beta = data.columns.get_loc('beta')\n",
    "    flag = data.columns.get_loc('flag')\n",
    "    position_col = data.columns.get_loc('position')\n",
    "\n",
    "    position = 0 # 是否持仓，持仓：1，不持仓：0\n",
    "    for i in range(1,data.shape[0] - 1):\n",
    "        # 开仓\n",
    "        if data.iat[i, beta] > S1 and position == 0:\n",
    "            data.iat[i, flag] = 1\n",
    "            data.iat[i + 1, position_col] = 1\n",
    "            position = 1\n",
    "\n",
    "        # 平仓\n",
    "        elif data.iat[i, beta] < S2 and position == 1: \n",
    "            data.iat[i, flag] = -1\n",
    "            data.iat[i + 1, position_col] = 0     \n",
    "            position = 0\n",
    "        \n",
    "        # 保持\n",
    "        else:\n",
    "            data.iat[i + 1, position_col] = data.iat[i, position_col]\n",
    "        \n",
    "    data['nav'] = (1 + data.close.pct_change(1).fillna(0) * data.position).cumprod() \n",
    "        \n",
    "    return(data)"
   ]
  },
  {
   "cell_type": "code",
   "execution_count": 26,
   "metadata": {},
   "outputs": [],
   "source": [
    "def RSRS2(price,\n",
    "          S=0.7):\n",
    "    \"\"\"\n",
    "    标准分策略\n",
    "    \"\"\"\n",
    "    data = price.copy()\n",
    "    data['flag'] = 0 # 买卖标记\n",
    "    data['position'] = 0 # 持仓标记\n",
    "\n",
    "    beta_norm = data.columns.get_loc('beta_norm')\n",
    "    flag = data.columns.get_loc('flag')\n",
    "    position_col = data.columns.get_loc('position')\n",
    "\n",
    "    position = 0 # 是否持仓，持仓：1，不持仓：0\n",
    "    for i in range(1,data.shape[0] - 1):\n",
    "        # 开仓\n",
    "        if data.iat[i, beta_norm] > S and position == 0:\n",
    "            data.iat[i, flag] = 1\n",
    "            data.iat[i + 1, position_col] = 1\n",
    "            position = 1\n",
    "        # 平仓\n",
    "        elif data.iat[i, beta_norm] < -S and position == 1: \n",
    "            data.iat[i, flag] = -1\n",
    "            data.iat[i + 1, position_col] = 0     \n",
    "            position = 0\n",
    "        \n",
    "        # 保持\n",
    "        else:\n",
    "            data.iat[i + 1, position_col] = data.iat[i, position_col]\n",
    "        \n",
    "    data['nav'] = (1 + data.close.pct_change(1).fillna(0) * data.position).cumprod() \n",
    "           \n",
    "    return(data)"
   ]
  },
  {
   "cell_type": "code",
   "execution_count": 27,
   "metadata": {},
   "outputs": [],
   "source": [
    "def RSRS3(HS300,S=0.7):\n",
    "    \"\"\"\n",
    "    修正标准分策略\n",
    "    \"\"\"\n",
    "    data = HS300.copy()\n",
    "    data['flag'] = 0 # 买卖标记\n",
    "    data['position'] = 0 # 持仓标记\n",
    "\n",
    "    RSRS_R2 = data.columns.get_loc('RSRS_R2')\n",
    "    flag = data.columns.get_loc('flag')\n",
    "    position_col = data.columns.get_loc('position')\n",
    "\n",
    "    position = 0 # 是否持仓，持仓：1，不持仓：0\n",
    "    for i in range(1,data.shape[0] - 1):\n",
    "        # 开仓\n",
    "        if data.iat[i, RSRS_R2] > S and position == 0:\n",
    "            data.iat[i, flag] = 1\n",
    "            data.iat[i + 1, position_col] = 1\n",
    "            position = 1\n",
    "        # 平仓\n",
    "        elif data.iat[i, RSRS_R2] < -S and position == 1: \n",
    "            data.iat[i, flag] = -1\n",
    "            data.iat[i + 1, position_col] = 0      \n",
    "            position = 0\n",
    "        # 保持\n",
    "        else:\n",
    "            data.iat[i + 1, position_col] = data.iat[i, position_col]\n",
    "        \n",
    "    data['nav'] = (1 + data.close.pct_change(1).fillna(0) * data.position).cumprod() \n",
    "           \n",
    "    return(data)\n"
   ]
  },
  {
   "cell_type": "code",
   "execution_count": 28,
   "metadata": {},
   "outputs": [],
   "source": [
    "def RSRS4(price,\n",
    "          S=0.7):\n",
    "    \"\"\"\n",
    "    #右偏标准分策略\n",
    "    \"\"\"\n",
    "    data = price.copy()\n",
    "    data['flag'] = 0 # 买卖标记\n",
    "    data['position'] = 0 # 持仓标记\n",
    "\n",
    "    beta_right = data.columns.get_loc('beta_right')\n",
    "    flag = data.columns.get_loc('flag')\n",
    "    position_col = data.columns.get_loc('position')\n",
    "\n",
    "    position = 0 # 是否持仓，持仓：1，不持仓：0\n",
    "    for i in range(1,data.shape[0] - 1):\n",
    "        \n",
    "        # 开仓\n",
    "        if data.iat[i, beta_right] > S and position == 0:\n",
    "            data.iat[i, flag] = 1\n",
    "            data.iat[i + 1, position_col] = 1\n",
    "            position = 1\n",
    "        # 平仓\n",
    "        elif data.iat[i, beta_right] < -S and position == 1: \n",
    "            data.iat[i, flag] = -1\n",
    "            data.iat[i + 1, position_col] = 0     \n",
    "            position = 0\n",
    "        \n",
    "        # 保持\n",
    "        else:\n",
    "            data.iat[i + 1, position_col] = data.iat[i, position_col]     \n",
    "        \n",
    "    data['nav'] = (1 + data.close.pct_change(1).fillna(0) * data.position).cumprod() \n",
    "           \n",
    "    return(data)"
   ]
  },
  {
   "cell_type": "code",
   "execution_count": null,
   "metadata": {},
   "outputs": [],
   "source": [
    "# if __name__ == '__main__':"
   ]
  },
  {
   "cell_type": "code",
   "execution_count": 29,
   "metadata": {},
   "outputs": [],
   "source": [
    "codelist = ['512690', '510900', '513100', '510300', \n",
    "                '512980', '512170', '515000', '512800',\n",
    "                '159941', '159994', '515050', '159920',\n",
    "                '159952', '159987', '159805', '159997',\n",
    "                '159919',]"
   ]
  },
  {
   "cell_type": "code",
   "execution_count": 30,
   "metadata": {},
   "outputs": [],
   "source": [
    "codelist = ['510300']"
   ]
  },
  {
   "cell_type": "code",
   "execution_count": 31,
   "metadata": {},
   "outputs": [],
   "source": [
    "# 获取ETF/股票中文名称，只是为了看得方便，交易策略并不需要ETF/股票中文名称\n",
    "#stock_names = QA.QA_fetch_etf_name(codelist)\n",
    "#codename = [stock_names.at[code, 'name'] for code in codelist]\n",
    "\n",
    "## 读取 ETF基金 日线，存在index_day中\n",
    "#data_day = QA.QA_fetch_index_day_adv(codelist,\n",
    "#    start='2010-01-01',\n",
    "#    end='{}'.format(datetime.date.today()))\n",
    "\n",
    "codelist = ['600519']\n",
    "#codelist = ['600239']\n",
    "#codelist = ['600338']\n",
    "#codelist = ['000671']"
   ]
  },
  {
   "cell_type": "code",
   "execution_count": 32,
   "metadata": {},
   "outputs": [],
   "source": [
    "# 获取股票中文名称，只是为了看得方便，交易策略并不需要股票中文名称\n",
    "stock_names = QA.QA_fetch_stock_name(codelist)\n",
    "codename = [stock_names.at[code, 'name'] for code in codelist]\n",
    "\n",
    "data_day = QA.QA_fetch_stock_day_adv(codelist,\n",
    "                                    '2008-01-01',\n",
    "                                    '{}'.format(datetime.date.today(),)).to_qfq()"
   ]
  },
  {
   "cell_type": "code",
   "execution_count": 33,
   "metadata": {},
   "outputs": [
    {
     "name": "stderr",
     "output_type": "stream",
     "text": [
      "d:\\ProgramData\\Anaconda3\\lib\\site-packages\\QUANTAXIS\\QAData\\base_datastruct.py:841: FutureWarning: The `squeeze` parameter is deprecated and will be removed in a future version.\n",
      "  return self.data.groupby(\n"
     ]
    },
    {
     "name": "stdout",
     "output_type": "stream",
     "text": [
      "2021-03-07 09:31:20.473838\n",
      "2021-03-07 09:31:31.158398 spent:0:00:10.684560\n",
      "RSRS1_T 交易次数 =  53.5\n",
      "策略净值为=  17.667809756726115\n"
     ]
    }
   ],
   "source": [
    "indices_rsrsT = data_day.add_func(pre_rsrs_data_v1_func)\n",
    "resultT = RSRS1(indices_rsrsT)\n",
    "num = resultT.flag.abs().sum() / 2\n",
    "nav = resultT.nav[resultT.shape[0] - 1]\n",
    "print('RSRS1_T 交易次数 = ',num)\n",
    "print('策略净值为= ',nav)"
   ]
  },
  {
   "cell_type": "code",
   "execution_count": 34,
   "metadata": {},
   "outputs": [
    {
     "name": "stdout",
     "output_type": "stream",
     "text": [
      "RSRS2_T 交易次数 =  53.5\n",
      "策略净值为=  4.927536713591832\n"
     ]
    }
   ],
   "source": [
    "resultT2 = RSRS2(indices_rsrsT)\n",
    "num = resultT2.flag.abs().sum() / 2\n",
    "nav = resultT2.nav[resultT2.shape[0] - 1]\n",
    "ret_year = (nav - 1)\n",
    "print('RSRS2_T 交易次数 = ',num)\n",
    "print('策略净值为= ',nav)"
   ]
  },
  {
   "cell_type": "code",
   "execution_count": 36,
   "metadata": {},
   "outputs": [
    {
     "name": "stdout",
     "output_type": "stream",
     "text": [
      "RSRS3_T 交易次数 =  41.5\n",
      "策略净值为=  4.9615959793404185\n"
     ]
    }
   ],
   "source": [
    "resultT3 = RSRS3(indices_rsrsT)\n",
    "num = resultT3.flag.abs().sum() / 2\n",
    "nav = resultT3.nav[resultT.shape[0] - 1]\n",
    "ret_year = (nav - 1)\n",
    "print('RSRS3_T 交易次数 = ',num)\n",
    "print('策略净值为= ',nav)"
   ]
  },
  {
   "cell_type": "code",
   "execution_count": 37,
   "metadata": {},
   "outputs": [
    {
     "name": "stdout",
     "output_type": "stream",
     "text": [
      "RSRS4_T 交易次数 =  32.5\n",
      "策略净值为=  6.590099063572403\n"
     ]
    }
   ],
   "source": [
    "resultT4 = RSRS4(indices_rsrsT)\n",
    "num = resultT4.flag.abs().sum() / 2\n",
    "nav = resultT4.nav[resultT.shape[0] - 1]\n",
    "ret_year = (nav - 1)\n",
    "print('RSRS4_T 交易次数 = ',num)\n",
    "print('策略净值为= ',nav)"
   ]
  },
  {
   "cell_type": "code",
   "execution_count": 38,
   "metadata": {},
   "outputs": [
    {
     "name": "stdout",
     "output_type": "stream",
     "text": [
      "2021-03-07 09:33:53.954184\n",
      "2021-03-07 09:33:55.148908 spent:0:00:01.194724\n",
      "                          open         high          low        close  \\\n",
      "date       code                                                         \n",
      "2008-01-02 600519   139.217804   140.407595   135.538038   136.163599   \n",
      "2008-01-03 600519   136.335321   139.217804   129.883465   131.336973   \n",
      "2008-01-04 600519   130.018390   132.520631   127.565213   132.005463   \n",
      "2008-01-07 600519   132.158787   134.311450   128.767269   130.220777   \n",
      "2008-01-08 600519   129.405096   133.446705   127.933189   131.876672   \n",
      "...                        ...          ...          ...          ...   \n",
      "2021-03-01 600519  2179.000000  2179.000000  2120.000000  2158.000000   \n",
      "2021-03-02 600519  2180.000000  2180.000000  2033.000000  2058.000000   \n",
      "2021-03-03 600519  2040.000000  2149.770000  2033.000000  2140.000000   \n",
      "2021-03-04 600519  2095.000000  2096.000000  2010.100000  2033.000000   \n",
      "2021-03-05 600519  2000.000000  2095.000000  1988.000000  2060.110000   \n",
      "\n",
      "                    volume        amount       adj      beta        R2  \\\n",
      "date       code                                                          \n",
      "2008-01-02 600519  19085.0  4.284869e+08  0.613294  0.000000  0.000000   \n",
      "2008-01-03 600519  29799.0  6.383612e+08  0.613294  0.000000  0.000000   \n",
      "2008-01-04 600519  33303.0  7.047330e+08  0.613294  0.000000  0.000000   \n",
      "2008-01-07 600519  30409.0  6.460790e+08  0.613294  0.000000  0.000000   \n",
      "2008-01-08 600519  32218.0  6.821666e+08  0.613294  0.000000  0.000000   \n",
      "...                    ...           ...       ...       ...       ...   \n",
      "2021-03-01 600519  44916.0  9.686946e+09  1.000000  1.145963  0.950622   \n",
      "2021-03-02 600519  70764.0  1.479670e+10  1.000000  1.144651  0.949017   \n",
      "2021-03-03 600519  54215.0  1.136669e+10  1.000000  1.089022  0.936900   \n",
      "2021-03-04 600519  65088.0  1.329730e+10  1.000000  1.061080  0.938203   \n",
      "2021-03-05 600519  63779.0  1.310032e+10  1.000000  1.054576  0.944196   \n",
      "\n",
      "                        ret  beta_norm   RSRS_R2  beta_right  \n",
      "date       code                                               \n",
      "2008-01-02 600519  0.000000  -3.094572 -0.000000   -0.000000  \n",
      "2008-01-03 600519 -0.035447  -3.094572 -0.000000   -0.000000  \n",
      "2008-01-04 600519  0.005090  -3.094572 -0.000000   -0.000000  \n",
      "2008-01-07 600519 -0.013520  -3.094572 -0.000000   -0.000000  \n",
      "2008-01-08 600519  0.012716  -3.094572 -0.000000   -0.000000  \n",
      "...                     ...        ...       ...         ...  \n",
      "2021-03-01 600519  0.016591   1.656841  1.575030    1.804925  \n",
      "2021-03-02 600519 -0.046339   1.630728  1.547589    1.771450  \n",
      "2021-03-03 600519  0.039845   1.182483  1.107868    1.206493  \n",
      "2021-03-04 600519 -0.050000   0.954520  0.895533    0.950232  \n",
      "2021-03-05 600519  0.013335   0.896032  0.846029    0.892203  \n",
      "\n",
      "[3196 rows x 13 columns]\n"
     ]
    }
   ],
   "source": [
    "indices_rsrs = data_day.add_func(pre_rsrs_data_func)\n",
    "result = RSRS1(indices_rsrs)\n",
    "print(indices_rsrs)"
   ]
  },
  {
   "cell_type": "code",
   "execution_count": 42,
   "metadata": {},
   "outputs": [],
   "source": [
    "##斜率数据分布\n",
    "# plt.figure(figsize=(15,5))\n",
    "# plt.hist(indices['beta'], bins= 100, range= None, normed= False, weights=\\\n",
    "# None, cumulative= False,\\\n",
    "#         bottom= None, histtype= 'bar', align= 'mid', orientation=\\\n",
    "#         'vertical', rwidth= None, log= False, color= 'g',\\\n",
    "#         label='直方图', stacked= False)"
   ]
  },
  {
   "cell_type": "code",
   "execution_count": 43,
   "metadata": {},
   "outputs": [],
   "source": [
    "##RSRS标准分和右偏变准分分布\n",
    "#plt.figure(figsize=(15,5))\n",
    "#plt.hist(indices['beta_norm'], bins= 100, range= None, normed= False,\n",
    "#weights= None, cumulative= False,\n",
    "#         bottom= None, histtype= 'bar', align= 'mid', orientation=\n",
    "#         'vertical', rwidth= None, log= False, color= 'g',\n",
    "#         label='直方图', stacked= False)\n",
    "\n",
    "#plt.figure(figsize=(15,5))\n",
    "#plt.hist(indices['RSRS_R2'], bins= 100, range= None, normed= False,\n",
    "#weights= None, cumulative= False,\n",
    "#         bottom= None, histtype= 'bar', align= 'mid', orientation=\n",
    "#         'vertical', rwidth= None, log= False, color= 'g',\n",
    "#         label='直方图', stacked= False)\n",
    "#plt.show()"
   ]
  },
  {
   "cell_type": "code",
   "execution_count": 44,
   "metadata": {},
   "outputs": [
    {
     "name": "stdout",
     "output_type": "stream",
     "text": [
      "RSRS1 交易次数 =  53.5\n",
      "策略净值为=  17.667809756726115\n",
      "                     close       ret      beta        R2  beta_norm   RSRS_R2  \\\n",
      "date       code                                                                 \n",
      "2020-12-18 600519  1845.00 -0.010994  1.045695  0.943027   1.236817  1.166352   \n",
      "2020-12-21 600519  1842.50 -0.001355  1.040651  0.946871   1.184234  1.121317   \n",
      "2020-12-22 600519  1881.00  0.020896  1.044297  0.948122   1.206687  1.144086   \n",
      "2020-12-23 600519  1841.65 -0.020920  1.060649  0.938380   1.337306  1.254901   \n",
      "2020-12-24 600519  1830.34 -0.006141  1.088478  0.881450   1.562883  1.377603   \n",
      "2020-12-25 600519  1830.00 -0.000186  1.077685  0.833213   1.457263  1.214210   \n",
      "2020-12-28 600519  1873.00  0.023497  1.032219  0.775158   1.060579  0.822116   \n",
      "2020-12-29 600519  1867.00 -0.003203  0.967118  0.680099   0.501225  0.340883   \n",
      "2020-12-30 600519  1933.00  0.035351  0.780371  0.499259  -1.087332 -0.542860   \n",
      "2020-12-31 600519  1998.00  0.033626  0.924803  0.474135   0.143058  0.067829   \n",
      "2021-01-04 600519  1997.00 -0.000501  1.077986  0.750134   1.435594  1.076888   \n",
      "2021-01-05 600519  2059.45  0.031272  0.976998  0.838724   0.571111  0.479004   \n",
      "2021-01-06 600519  2100.00  0.019690  1.067078  0.890779   1.328252  1.183179   \n",
      "2021-01-07 600519  2140.00  0.019048  1.126096  0.931076   1.813423  1.688434   \n",
      "2021-01-08 600519  2090.00 -0.023364  1.109844  0.949338   1.668912  1.584361   \n",
      "2021-01-11 600519  2099.73  0.004656  1.118600  0.960640   1.725730  1.657805   \n",
      "2021-01-12 600519  2160.90  0.029132  1.130782  0.964218   1.809701  1.744945   \n",
      "2021-01-13 600519  2164.00  0.001435  1.118489  0.968878   1.690037  1.637440   \n",
      "2021-01-14 600519  2134.00 -0.013863  1.070278  0.967370   1.271865  1.230365   \n",
      "2021-01-15 600519  2082.00 -0.024367  1.043235  0.968864   1.036158  1.003896   \n",
      "2021-01-18 600519  2063.00 -0.009126  1.033645  0.968390   0.947548  0.917596   \n",
      "2021-01-19 600519  2009.41 -0.025977  1.026314  0.965684   0.878705  0.848552   \n",
      "2021-01-20 600519  2040.63  0.015537  1.048485  0.963932   1.058280  1.020110   \n",
      "2021-01-21 600519  2070.00  0.014393  1.057558  0.957038   1.126287  1.077899   \n",
      "2021-01-22 600519  2079.95  0.004807  1.040977  0.941611   0.979442  0.922253   \n",
      "2021-01-25 600519  2175.00  0.045698  1.038835  0.917301   0.955479  0.876462   \n",
      "2021-01-26 600519  2141.89 -0.015223  0.994560  0.882229   0.579507  0.511257   \n",
      "2021-01-27 600519  2089.00 -0.024693  0.965332  0.831182   0.331485  0.275524   \n",
      "2021-01-28 600519  2088.00 -0.000479  0.922148  0.777376  -0.032153 -0.024995   \n",
      "2021-01-29 600519  2116.18  0.013496  0.800014  0.768529  -1.053672 -0.809777   \n",
      "2021-02-01 600519  2109.32 -0.003242  0.773274  0.721613  -1.268787 -0.915574   \n",
      "2021-02-02 600519  2145.00  0.016915  0.794300  0.737885  -1.085492 -0.800968   \n",
      "2021-02-03 600519  2189.91  0.020937  0.780322  0.734317  -1.193768 -0.876604   \n",
      "2021-02-04 600519  2320.85  0.059792  0.803452  0.784727  -0.994095 -0.780093   \n",
      "2021-02-05 600519  2313.00 -0.003382  1.056714  0.812382   1.105961  0.898463   \n",
      "2021-02-08 600519  2368.80  0.024125  1.045706  0.891904   1.007634  0.898713   \n",
      "2021-02-09 600519  2456.43  0.036993  1.035646  0.930027   0.917672  0.853460   \n",
      "2021-02-10 600519  2601.00  0.058854  1.072104  0.953625   1.209232  1.153155   \n",
      "2021-02-18 600519  2471.00 -0.049981  1.107037  0.976887   1.484106  1.449804   \n",
      "2021-02-19 600519  2460.00 -0.004452  1.146884  0.978953   1.792943  1.755207   \n",
      "2021-02-22 600519  2288.02 -0.069911  1.164359  0.982595   1.913961  1.880649   \n",
      "2021-02-23 600519  2307.00  0.008295  1.197201  0.972056   2.152748  2.092591   \n",
      "2021-02-24 600519  2189.00 -0.051149  1.192108  0.969297   2.084669  2.020664   \n",
      "2021-02-25 600519  2150.00 -0.017816  1.168338  0.954522   1.872538  1.787378   \n",
      "2021-02-26 600519  2122.78 -0.012660  1.171377  0.953456   1.875282  1.787998   \n",
      "2021-03-01 600519  2158.00  0.016591  1.145963  0.950622   1.656841  1.575030   \n",
      "2021-03-02 600519  2058.00 -0.046339  1.144651  0.949017   1.630728  1.547589   \n",
      "2021-03-03 600519  2140.00  0.039845  1.089022  0.936900   1.182483  1.107868   \n",
      "2021-03-04 600519  2033.00 -0.050000  1.061080  0.938203   0.954520  0.895533   \n",
      "2021-03-05 600519  2060.11  0.013335  1.054576  0.944196   0.896032  0.846029   \n",
      "\n",
      "                   flag  position        nav  \n",
      "date       code                               \n",
      "2020-12-18 600519     0         1  17.925367  \n",
      "2020-12-21 600519     0         1  17.901078  \n",
      "2020-12-22 600519     0         1  18.275130  \n",
      "2020-12-23 600519     0         1  17.892819  \n",
      "2020-12-24 600519     0         1  17.782935  \n",
      "2020-12-25 600519     0         1  17.779632  \n",
      "2020-12-28 600519     0         1  18.197405  \n",
      "2020-12-29 600519     0         1  18.139111  \n",
      "2020-12-30 600519    -1         1  18.780343  \n",
      "2020-12-31 600519     0         0  18.780343  \n",
      "2021-01-04 600519     1         0  18.780343  \n",
      "2021-01-05 600519     0         1  19.367641  \n",
      "2021-01-06 600519     0         1  19.748984  \n",
      "2021-01-07 600519     0         1  20.125155  \n",
      "2021-01-08 600519     0         1  19.654941  \n",
      "2021-01-11 600519     0         1  19.746445  \n",
      "2021-01-12 600519     0         1  20.321705  \n",
      "2021-01-13 600519     0         1  20.350858  \n",
      "2021-01-14 600519     0         1  20.068730  \n",
      "2021-01-15 600519     0         1  19.579707  \n",
      "2021-01-18 600519     0         1  19.401026  \n",
      "2021-01-19 600519     0         1  18.897051  \n",
      "2021-01-20 600519     0         1  19.190652  \n",
      "2021-01-21 600519     0         1  19.466856  \n",
      "2021-01-22 600519     0         1  19.560428  \n",
      "2021-01-25 600519     0         1  20.454305  \n",
      "2021-01-26 600519     0         1  20.142929  \n",
      "2021-01-27 600519     0         1  19.645537  \n",
      "2021-01-28 600519     0         1  19.636133  \n",
      "2021-01-29 600519     0         1  19.901145  \n",
      "2021-02-01 600519    -1         1  19.836632  \n",
      "2021-02-02 600519     0         0  19.836632  \n",
      "2021-02-03 600519     0         0  19.836632  \n",
      "2021-02-04 600519     0         0  19.836632  \n",
      "2021-02-05 600519     1         0  19.836632  \n",
      "2021-02-08 600519     0         1  20.315181  \n",
      "2021-02-09 600519     0         1  21.066709  \n",
      "2021-02-10 600519     0         1  22.306563  \n",
      "2021-02-18 600519     0         1  21.191664  \n",
      "2021-02-19 600519     0         1  21.097326  \n",
      "2021-02-22 600519     0         1  19.622400  \n",
      "2021-02-23 600519     0         1  19.785175  \n",
      "2021-02-24 600519     0         1  18.773190  \n",
      "2021-02-25 600519     0         1  18.438720  \n",
      "2021-02-26 600519     0         1  18.205277  \n",
      "2021-03-01 600519     0         1  18.507329  \n",
      "2021-03-02 600519     0         1  17.649714  \n",
      "2021-03-03 600519     0         1  18.352958  \n",
      "2021-03-04 600519     0         1  17.435310  \n",
      "2021-03-05 600519     0         1  17.667810  \n"
     ]
    }
   ],
   "source": [
    "num = result.flag.abs().sum() / 2\n",
    "nav = result.nav[result.shape[0] - 1]\n",
    "print('RSRS1 交易次数 = ',num)\n",
    "print('策略净值为= ',nav)\n",
    "print(result[['close', 'ret' ,'beta', 'R2', 'beta_norm', 'RSRS_R2', 'flag', 'position', 'nav']].tail(50))"
   ]
  },
  {
   "cell_type": "code",
   "execution_count": 45,
   "metadata": {},
   "outputs": [
    {
     "name": "stdout",
     "output_type": "stream",
     "text": [
      "RSRS2 交易次数 =  56.5\n",
      "策略净值为=  6.717673316788562\n"
     ]
    }
   ],
   "source": [
    "result2 = RSRS2(indices_rsrs)\n",
    "num = result2.flag.abs().sum() / 2\n",
    "nav = result2.nav[result.shape[0] - 1]\n",
    "ret_year = (nav - 1)\n",
    "print('RSRS2 交易次数 = ',num)\n",
    "print('策略净值为= ',nav)"
   ]
  },
  {
   "cell_type": "code",
   "execution_count": 46,
   "metadata": {},
   "outputs": [
    {
     "name": "stdout",
     "output_type": "stream",
     "text": [
      "RSRS3 交易次数 =  42.5\n",
      "策略净值为=  6.215727416311207\n"
     ]
    }
   ],
   "source": [
    "result3 = RSRS3(indices_rsrs)\n",
    "num = result3.flag.abs().sum() / 2\n",
    "nav = result3.nav[result.shape[0] - 1]\n",
    "ret_year = (nav - 1)\n",
    "print('RSRS3 交易次数 = ',num)\n",
    "print('策略净值为= ',nav)"
   ]
  },
  {
   "cell_type": "code",
   "execution_count": 47,
   "metadata": {},
   "outputs": [
    {
     "name": "stdout",
     "output_type": "stream",
     "text": [
      "RSRS4 交易次数 =  32.5\n",
      "策略净值为=  7.103808176509251\n"
     ]
    }
   ],
   "source": [
    "result4 = RSRS4(indices_rsrs)\n",
    "num = result4.flag.abs().sum() / 2\n",
    "nav = result4.nav[result.shape[0] - 1]\n",
    "ret_year = (nav - 1)\n",
    "print('RSRS4 交易次数 = ',num)\n",
    "print('策略净值为= ',nav)"
   ]
  },
  {
   "cell_type": "code",
   "execution_count": 50,
   "metadata": {},
   "outputs": [
    {
     "data": {
      "image/png": "[encoded data removed]",
      "text/plain": [
       "<Figure size 1080x288 with 1 Axes>"
      ]
     },
     "metadata": {
      "needs_background": "light"
     },
     "output_type": "display_data"
    }
   ],
   "source": [
    "#xtick = np.arange(0,result.shape[0],int(result.shape[0] / 7))\n",
    "#xticklabel = pd.Series(result.index.date[xtick])\n",
    "xticklabel = result.index.get_level_values(level=0).to_series().apply(lambda x: x.strftime(\"%Y-%m-%d\")[2:16])\n",
    "\n",
    "plt.figure(figsize=(15,4))\n",
    "fig = plt.axes()\n",
    "plt.plot(np.arange(result.shape[0]), result.nav,label = 'RSRS1',linewidth = 2)\n",
    "plt.plot(np.arange(result.shape[0]), result2.nav,label = 'RSRS2',linewidth = 2)\n",
    "plt.plot(np.arange(result.shape[0]), result3.nav,label = 'RSRS3',linewidth = 2)\n",
    "plt.plot(np.arange(result.shape[0]), result4.nav,label = 'RSRS4',linewidth = 2)\n",
    "plt.plot(np.arange(result.shape[0]), indices_rsrs.close / indices_rsrs.close[0], label = codelist[0], linewidth = 2)\n",
    "fig.set_xticks(range(0, len(xticklabel), \n",
    "                     round(len(xticklabel) / 12)))\n",
    "fig.set_xticklabels(xticklabel[::round(len(xticklabel) / 12)],\n",
    "                    rotation = 45)\n",
    "plt.legend()\n",
    "plt.show()"
   ]
  },
  {
   "cell_type": "code",
   "execution_count": null,
   "metadata": {},
   "outputs": [],
   "source": []
  },
  {
   "cell_type": "code",
   "execution_count": null,
   "metadata": {},
   "outputs": [],
   "source": []
  }
 ],
 "metadata": {
  "kernelspec": {
   "display_name": "Python 3",
   "language": "python",
   "name": "python3"
  },
  "language_info": {
   "codemirror_mode": {
    "name": "ipython",
    "version": 3
   },
   "file_extension": ".py",
   "mimetype": "text/x-python",
   "name": "python",
   "nbconvert_exporter": "python",
   "pygments_lexer": "ipython3",
   "version": "3.8.5"
  }
 },
 "nbformat": 4,
 "nbformat_minor": 2
}
