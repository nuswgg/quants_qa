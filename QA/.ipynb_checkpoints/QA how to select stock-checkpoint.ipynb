{
 "cells": [
  {
   "cell_type": "code",
   "execution_count": 157,
   "metadata": {},
   "outputs": [],
   "source": [
    "import QUANTAXIS as QA\n",
    "import pandas as pd\n",
    "# import talib\n",
    "import datetime"
   ]
  },
  {
   "cell_type": "code",
   "execution_count": 89,
   "metadata": {},
   "outputs": [],
   "source": [
    "from numba import jit"
   ]
  },
  {
   "cell_type": "code",
   "execution_count": 2,
   "metadata": {},
   "outputs": [],
   "source": [
    "# 写个指标 so easy\n",
    "def ifup20(data):\n",
    "    # QA内建指标计算 Python原生代码\n",
    "    return (QA.MA(data.close, 5)-QA.MA(data.close, 20)).dropna() > 0\n",
    "\n",
    "def ifup20_TA(data):\n",
    "    # TA-lib计算\n",
    "    return (TA_MA(data.close, 5)-TA_MA(data.close, 20)).dropna() > 0"
   ]
  },
  {
   "cell_type": "code",
   "execution_count": 3,
   "metadata": {},
   "outputs": [],
   "source": [
    "blk = QA.QA_fetch_stock_block_adv()"
   ]
  },
  {
   "cell_type": "code",
   "execution_count": 4,
   "metadata": {},
   "outputs": [],
   "source": [
    "hs300 = blk.get_block('沪深300').code"
   ]
  },
  {
   "cell_type": "code",
   "execution_count": 5,
   "metadata": {},
   "outputs": [],
   "source": [
    "today = datetime.date.today().strftime('%Y-%m-%d')"
   ]
  },
  {
   "cell_type": "code",
   "execution_count": 15,
   "metadata": {},
   "outputs": [],
   "source": [
    "# data = QA.QA_fetch_stock_day_adv(hs300,'2020-01-01','2020-09-14')\n",
    "data = QA.QA_fetch_stock_day_adv('000001','2020-01-01',today).to_qfq()"
   ]
  },
  {
   "cell_type": "code",
   "execution_count": 291,
   "metadata": {},
   "outputs": [],
   "source": [
    "    # 获取所有股票列表\n",
    "    cn_stk_list = QA.QA_fetch_stock_list()\n",
    "    # 排除ST和退市股\n",
    "    cn_stk_list = cn_stk_list[~cn_stk_list['name'].str.contains('ST|退')]\n",
    "    # 获取20天交易日\n",
    "    today = datetime.date.today()\n",
    "    delta = datetime.timedelta(days=150)\n",
    "    start = (today - delta).strftime('%Y-%m-%d')\n",
    "    end = today.strftime('%Y-%m-%d')\n",
    "    code_list = cn_stk_list.code.to_list()\n",
    "    stk_day_all = QA.QA_fetch_stock_day_adv(code_list,start,end).to_qfq()"
   ]
  },
  {
   "cell_type": "code",
   "execution_count": null,
   "metadata": {},
   "outputs": [],
   "source": []
  },
  {
   "cell_type": "markdown",
   "metadata": {},
   "source": [
    "# 计算基础数据"
   ]
  },
  {
   "cell_type": "code",
   "execution_count": 214,
   "metadata": {},
   "outputs": [],
   "source": [
    "def cacl_base_data(data):\n",
    "    temp = {\n",
    "        'open':data.open,\n",
    "        'high':data.high,\n",
    "        'low': data.low,\n",
    "        'close': data.close,\n",
    "        'volume': data.volume,\n",
    "        'amount':data.amount\n",
    "    }\n",
    "    #多日涨幅  统计过去1，2，3，4，5，6，7，8，9天的涨幅\n",
    "    drzf = {'zf{}'.format(i): data.close.pct_change(i)*100 for i in range(10)[1:10]}\n",
    "    temp.update(drzf)\n",
    "    \n",
    "    #多日emas\n",
    "    emas = {'ema{}'.format(n): QA.EMA(data.close,n) for n in [5,10,15,20,30,40,60,80,100,120,240]}\n",
    "    temp.update(emas)\n",
    "    \n",
    "    #多日波动幅度\n",
    "    mazf = {'mazf{}'.format(n): QA.MA(data.close.pct_change(1)*100,n) for n in [5,10,15,20,30,40,60,80,100,120,240]}\n",
    "    temp.update(mazf)\n",
    "    \n",
    "    #量能均值\n",
    "    mavol = {'mavol{}'.format(n): QA.MA(data.volume,n) for n in [10,20,60,120,240]}\n",
    "    temp.update(mavol)\n",
    "    \n",
    "    #成交额均线\n",
    "    maamo = {'maamo{}'.format(n): QA.MA(data.amount,n) for n in [10,20,60,120,240]}\n",
    "    temp.update(maamo)\n",
    "    \n",
    "    return pd.DataFrame(temp)    "
   ]
  },
  {
   "cell_type": "code",
   "execution_count": 215,
   "metadata": {},
   "outputs": [
    {
     "name": "stdout",
     "output_type": "stream",
     "text": [
      "0:00:00.640221\n"
     ]
    }
   ],
   "source": [
    "start_time = datetime.datetime.now()\n",
    "stk_day_all.apply(lambda x:cacl_base_data(x))\n",
    "end_time = datetime.datetime.now()\n",
    "print(end_time - start_time)"
   ]
  },
  {
   "cell_type": "markdown",
   "metadata": {},
   "source": [
    "# 选择妖股"
   ]
  },
  {
   "cell_type": "code",
   "execution_count": 223,
   "metadata": {},
   "outputs": [],
   "source": [
    "def f(data):\n",
    "#     return pd.DataFrame({'zf{}'.format(i): data.close.pct_change(i)*100 for i in range(10)[1:10]})\n",
    "    return pd.DataFrame({'zf1': data.close.pct_change(1)*100,'zf2': data.close.pct_change(2)*100,'zf3': data.close.pct_change(3)*100})"
   ]
  },
  {
   "cell_type": "code",
   "execution_count": 224,
   "metadata": {},
   "outputs": [
    {
     "name": "stdout",
     "output_type": "stream",
     "text": [
      "0:00:12.371899\n"
     ]
    }
   ],
   "source": [
    "start_time = datetime.datetime.now()\n",
    "ind_base_data = stk_day_all.add_func(f)  #84sec\n",
    "# stk_day_all.apply(lambda x:f(x))\n",
    "#涨幅最大的20只\n",
    "tt = ind_base_data.loc['2021-03-05'].max(axis=1).sort_values(ascending=False).head(20)\n",
    "end_time = datetime.datetime.now()\n",
    "print(end_time - start_time)"
   ]
  },
  {
   "cell_type": "code",
   "execution_count": 234,
   "metadata": {},
   "outputs": [
    {
     "name": "stdout",
     "output_type": "stream",
     "text": [
      "0:00:02.475387\n"
     ]
    }
   ],
   "source": [
    "start_time = datetime.datetime.now()\n",
    "test = stk_day_all.close.groupby(level=1).apply(lambda x:x.pct_change())\n",
    "end_time = datetime.datetime.now()\n",
    "print(end_time - start_time)"
   ]
  },
  {
   "cell_type": "code",
   "execution_count": 242,
   "metadata": {},
   "outputs": [
    {
     "name": "stdout",
     "output_type": "stream",
     "text": [
      "Wall time: 2.81 s\n"
     ]
    },
    {
     "data": {
      "text/plain": [
       "date        code  \n",
       "2021-02-18  000001         NaN\n",
       "            000002         NaN\n",
       "            000004         NaN\n",
       "            000005         NaN\n",
       "            000006         NaN\n",
       "                        ...   \n",
       "2021-03-15  688777   -0.053763\n",
       "            688788   -0.033625\n",
       "            688819   -0.024326\n",
       "            688981   -0.034304\n",
       "            689009   -0.046135\n",
       "Name: close, Length: 71504, dtype: float64"
      ]
     },
     "execution_count": 242,
     "metadata": {},
     "output_type": "execute_result"
    }
   ],
   "source": [
    "# %time stk_day_all.close.groupby(level=1).apply(lambda x:x.pct_change())"
   ]
  },
  {
   "cell_type": "code",
   "execution_count": 238,
   "metadata": {},
   "outputs": [
    {
     "name": "stdout",
     "output_type": "stream",
     "text": [
      "0:00:00.021941\n"
     ]
    }
   ],
   "source": [
    "start_time = datetime.datetime.now()\n",
    "tt = stk_day_all.groupby(level=1)['close'].pct_change()\n",
    "end_time = datetime.datetime.now()\n",
    "print(end_time - start_time)"
   ]
  },
  {
   "cell_type": "code",
   "execution_count": 246,
   "metadata": {},
   "outputs": [
    {
     "name": "stdout",
     "output_type": "stream",
     "text": [
      "Wall time: 19.9 ms\n"
     ]
    },
    {
     "data": {
      "text/plain": [
       "date        code  \n",
       "2021-02-18  000001         NaN\n",
       "            000002         NaN\n",
       "            000004         NaN\n",
       "            000005         NaN\n",
       "            000006         NaN\n",
       "                        ...   \n",
       "2021-03-15  688777   -0.057963\n",
       "            688788   -0.036735\n",
       "            688819    0.014354\n",
       "            688981    0.017710\n",
       "            689009   -0.010880\n",
       "Name: close, Length: 71504, dtype: float64"
      ]
     },
     "execution_count": 246,
     "metadata": {},
     "output_type": "execute_result"
    }
   ],
   "source": [
    "%time stk_day_all.groupby(level=1)['close'].pct_change(3)"
   ]
  },
  {
   "cell_type": "markdown",
   "metadata": {},
   "source": [
    "## 传入整个Datastruct"
   ]
  },
  {
   "cell_type": "code",
   "execution_count": 292,
   "metadata": {},
   "outputs": [],
   "source": [
    "#多日涨幅\n",
    "def drzf(data):\n",
    "    return pd.DataFrame(zip(data.groupby(level=1)['close'].pct_change(1),\\\n",
    "                            data.groupby(level=1)['close'].pct_change(2),\n",
    "                           data.groupby(level=1)['close'].pct_change(3),\n",
    "                           data.groupby(level=1)['close'].pct_change(4),\n",
    "                           data.groupby(level=1)['close'].pct_change(5),\n",
    "                           data.groupby(level=1)['close'].pct_change(6),\n",
    "                           data.groupby(level=1)['close'].pct_change(7),),index=data.index)"
   ]
  },
  {
   "cell_type": "code",
   "execution_count": 293,
   "metadata": {
    "scrolled": true
   },
   "outputs": [
    {
     "name": "stderr",
     "output_type": "stream",
     "text": [
      "d:\\ProgramData\\Anaconda3\\lib\\site-packages\\QUANTAXIS\\QAData\\base_datastruct.py:841: FutureWarning: The `squeeze` parameter is deprecated and will be removed in a future version.\n",
      "  return self.data.groupby(\n"
     ]
    },
    {
     "name": "stdout",
     "output_type": "stream",
     "text": [
      "Wall time: 1.08 s\n"
     ]
    },
    {
     "data": {
      "text/html": [
       "<div>\n",
       "<style scoped>\n",
       "    .dataframe tbody tr th:only-of-type {\n",
       "        vertical-align: middle;\n",
       "    }\n",
       "\n",
       "    .dataframe tbody tr th {\n",
       "        vertical-align: top;\n",
       "    }\n",
       "\n",
       "    .dataframe thead th {\n",
       "        text-align: right;\n",
       "    }\n",
       "</style>\n",
       "<table border=\"1\" class=\"dataframe\">\n",
       "  <thead>\n",
       "    <tr style=\"text-align: right;\">\n",
       "      <th></th>\n",
       "      <th></th>\n",
       "      <th>0</th>\n",
       "      <th>1</th>\n",
       "      <th>2</th>\n",
       "      <th>3</th>\n",
       "      <th>4</th>\n",
       "      <th>5</th>\n",
       "      <th>6</th>\n",
       "    </tr>\n",
       "    <tr>\n",
       "      <th>date</th>\n",
       "      <th>code</th>\n",
       "      <th></th>\n",
       "      <th></th>\n",
       "      <th></th>\n",
       "      <th></th>\n",
       "      <th></th>\n",
       "      <th></th>\n",
       "      <th></th>\n",
       "    </tr>\n",
       "  </thead>\n",
       "  <tbody>\n",
       "    <tr>\n",
       "      <th rowspan=\"5\" valign=\"top\">2020-10-19</th>\n",
       "      <th>000001</th>\n",
       "      <td>NaN</td>\n",
       "      <td>NaN</td>\n",
       "      <td>NaN</td>\n",
       "      <td>NaN</td>\n",
       "      <td>NaN</td>\n",
       "      <td>NaN</td>\n",
       "      <td>NaN</td>\n",
       "    </tr>\n",
       "    <tr>\n",
       "      <th>000002</th>\n",
       "      <td>NaN</td>\n",
       "      <td>NaN</td>\n",
       "      <td>NaN</td>\n",
       "      <td>NaN</td>\n",
       "      <td>NaN</td>\n",
       "      <td>NaN</td>\n",
       "      <td>NaN</td>\n",
       "    </tr>\n",
       "    <tr>\n",
       "      <th>000004</th>\n",
       "      <td>NaN</td>\n",
       "      <td>NaN</td>\n",
       "      <td>NaN</td>\n",
       "      <td>NaN</td>\n",
       "      <td>NaN</td>\n",
       "      <td>NaN</td>\n",
       "      <td>NaN</td>\n",
       "    </tr>\n",
       "    <tr>\n",
       "      <th>000005</th>\n",
       "      <td>NaN</td>\n",
       "      <td>NaN</td>\n",
       "      <td>NaN</td>\n",
       "      <td>NaN</td>\n",
       "      <td>NaN</td>\n",
       "      <td>NaN</td>\n",
       "      <td>NaN</td>\n",
       "    </tr>\n",
       "    <tr>\n",
       "      <th>000006</th>\n",
       "      <td>NaN</td>\n",
       "      <td>NaN</td>\n",
       "      <td>NaN</td>\n",
       "      <td>NaN</td>\n",
       "      <td>NaN</td>\n",
       "      <td>NaN</td>\n",
       "      <td>NaN</td>\n",
       "    </tr>\n",
       "    <tr>\n",
       "      <th>...</th>\n",
       "      <th>...</th>\n",
       "      <td>...</td>\n",
       "      <td>...</td>\n",
       "      <td>...</td>\n",
       "      <td>...</td>\n",
       "      <td>...</td>\n",
       "      <td>...</td>\n",
       "      <td>...</td>\n",
       "    </tr>\n",
       "    <tr>\n",
       "      <th rowspan=\"5\" valign=\"top\">2021-03-15</th>\n",
       "      <th>688777</th>\n",
       "      <td>-0.053763</td>\n",
       "      <td>-0.071180</td>\n",
       "      <td>-0.057963</td>\n",
       "      <td>-0.050151</td>\n",
       "      <td>-0.100249</td>\n",
       "      <td>-0.148253</td>\n",
       "      <td>-0.172287</td>\n",
       "    </tr>\n",
       "    <tr>\n",
       "      <th>688788</th>\n",
       "      <td>-0.033625</td>\n",
       "      <td>-0.036553</td>\n",
       "      <td>-0.036735</td>\n",
       "      <td>-0.051552</td>\n",
       "      <td>-0.090633</td>\n",
       "      <td>-0.119134</td>\n",
       "      <td>-0.112061</td>\n",
       "    </tr>\n",
       "    <tr>\n",
       "      <th>688819</th>\n",
       "      <td>-0.024326</td>\n",
       "      <td>0.006557</td>\n",
       "      <td>0.014354</td>\n",
       "      <td>0.015279</td>\n",
       "      <td>0.000449</td>\n",
       "      <td>-0.023898</td>\n",
       "      <td>-0.017219</td>\n",
       "    </tr>\n",
       "    <tr>\n",
       "      <th>688981</th>\n",
       "      <td>-0.034304</td>\n",
       "      <td>-0.035473</td>\n",
       "      <td>0.017710</td>\n",
       "      <td>0.021253</td>\n",
       "      <td>-0.016237</td>\n",
       "      <td>-0.047505</td>\n",
       "      <td>-0.060192</td>\n",
       "    </tr>\n",
       "    <tr>\n",
       "      <th>689009</th>\n",
       "      <td>-0.046135</td>\n",
       "      <td>-0.024921</td>\n",
       "      <td>-0.010880</td>\n",
       "      <td>0.001620</td>\n",
       "      <td>-0.061627</td>\n",
       "      <td>-0.131985</td>\n",
       "      <td>-0.126466</td>\n",
       "    </tr>\n",
       "  </tbody>\n",
       "</table>\n",
       "<p>390167 rows × 7 columns</p>\n",
       "</div>"
      ],
      "text/plain": [
       "                          0         1         2         3         4         5  \\\n",
       "date       code                                                                 \n",
       "2020-10-19 000001       NaN       NaN       NaN       NaN       NaN       NaN   \n",
       "           000002       NaN       NaN       NaN       NaN       NaN       NaN   \n",
       "           000004       NaN       NaN       NaN       NaN       NaN       NaN   \n",
       "           000005       NaN       NaN       NaN       NaN       NaN       NaN   \n",
       "           000006       NaN       NaN       NaN       NaN       NaN       NaN   \n",
       "...                     ...       ...       ...       ...       ...       ...   \n",
       "2021-03-15 688777 -0.053763 -0.071180 -0.057963 -0.050151 -0.100249 -0.148253   \n",
       "           688788 -0.033625 -0.036553 -0.036735 -0.051552 -0.090633 -0.119134   \n",
       "           688819 -0.024326  0.006557  0.014354  0.015279  0.000449 -0.023898   \n",
       "           688981 -0.034304 -0.035473  0.017710  0.021253 -0.016237 -0.047505   \n",
       "           689009 -0.046135 -0.024921 -0.010880  0.001620 -0.061627 -0.131985   \n",
       "\n",
       "                          6  \n",
       "date       code              \n",
       "2020-10-19 000001       NaN  \n",
       "           000002       NaN  \n",
       "           000004       NaN  \n",
       "           000005       NaN  \n",
       "           000006       NaN  \n",
       "...                     ...  \n",
       "2021-03-15 688777 -0.172287  \n",
       "           688788 -0.112061  \n",
       "           688819 -0.017219  \n",
       "           688981 -0.060192  \n",
       "           689009 -0.126466  \n",
       "\n",
       "[390167 rows x 7 columns]"
      ]
     },
     "execution_count": 293,
     "metadata": {},
     "output_type": "execute_result"
    }
   ],
   "source": [
    "%time stk_day_all.apply(lambda x:drzf(x))\n",
    "# delta=26 192 ms\n",
    "# delta = 150  1.08 s"
   ]
  },
  {
   "cell_type": "code",
   "execution_count": null,
   "metadata": {},
   "outputs": [],
   "source": []
  },
  {
   "cell_type": "markdown",
   "metadata": {},
   "source": [
    "## Using QA MA"
   ]
  },
  {
   "cell_type": "code",
   "execution_count": 315,
   "metadata": {},
   "outputs": [],
   "source": [
    "def MAs(data):\n",
    "    return pd.DataFrame(zip(data.close,\n",
    "                            QA.MA(data.close,5),\n",
    "                           QA.MA(data.close,10),\n",
    "                           QA.MA(data.close,15),\n",
    "                           QA.MA(data.close,20),\n",
    "                           QA.MA(data.close,30),\n",
    "                           QA.MA(data.close,40),\n",
    "                           QA.MA(data.close,60),\n",
    "                           QA.MA(data.close,80)),index=data.index)\n",
    "#     return pd.DataFrame(QA.MA(data.close,5))"
   ]
  },
  {
   "cell_type": "code",
   "execution_count": 316,
   "metadata": {},
   "outputs": [
    {
     "name": "stderr",
     "output_type": "stream",
     "text": [
      "d:\\ProgramData\\Anaconda3\\lib\\site-packages\\QUANTAXIS\\QAData\\base_datastruct.py:841: FutureWarning: The `squeeze` parameter is deprecated and will be removed in a future version.\n",
      "  return self.data.groupby(\n"
     ]
    },
    {
     "name": "stdout",
     "output_type": "stream",
     "text": [
      "Wall time: 8 s\n"
     ]
    },
    {
     "data": {
      "text/html": [
       "<div>\n",
       "<style scoped>\n",
       "    .dataframe tbody tr th:only-of-type {\n",
       "        vertical-align: middle;\n",
       "    }\n",
       "\n",
       "    .dataframe tbody tr th {\n",
       "        vertical-align: top;\n",
       "    }\n",
       "\n",
       "    .dataframe thead th {\n",
       "        text-align: right;\n",
       "    }\n",
       "</style>\n",
       "<table border=\"1\" class=\"dataframe\">\n",
       "  <thead>\n",
       "    <tr style=\"text-align: right;\">\n",
       "      <th></th>\n",
       "      <th></th>\n",
       "      <th>0</th>\n",
       "      <th>1</th>\n",
       "      <th>2</th>\n",
       "      <th>3</th>\n",
       "      <th>4</th>\n",
       "    </tr>\n",
       "    <tr>\n",
       "      <th>date</th>\n",
       "      <th>code</th>\n",
       "      <th></th>\n",
       "      <th></th>\n",
       "      <th></th>\n",
       "      <th></th>\n",
       "      <th></th>\n",
       "    </tr>\n",
       "  </thead>\n",
       "  <tbody>\n",
       "    <tr>\n",
       "      <th rowspan=\"5\" valign=\"top\">2020-10-19</th>\n",
       "      <th>000001</th>\n",
       "      <td>17.48</td>\n",
       "      <td>NaN</td>\n",
       "      <td>NaN</td>\n",
       "      <td>NaN</td>\n",
       "      <td>NaN</td>\n",
       "    </tr>\n",
       "    <tr>\n",
       "      <th>000002</th>\n",
       "      <td>27.74</td>\n",
       "      <td>NaN</td>\n",
       "      <td>NaN</td>\n",
       "      <td>NaN</td>\n",
       "      <td>NaN</td>\n",
       "    </tr>\n",
       "    <tr>\n",
       "      <th>000004</th>\n",
       "      <td>25.85</td>\n",
       "      <td>NaN</td>\n",
       "      <td>NaN</td>\n",
       "      <td>NaN</td>\n",
       "      <td>NaN</td>\n",
       "    </tr>\n",
       "    <tr>\n",
       "      <th>000005</th>\n",
       "      <td>2.67</td>\n",
       "      <td>NaN</td>\n",
       "      <td>NaN</td>\n",
       "      <td>NaN</td>\n",
       "      <td>NaN</td>\n",
       "    </tr>\n",
       "    <tr>\n",
       "      <th>000006</th>\n",
       "      <td>6.22</td>\n",
       "      <td>NaN</td>\n",
       "      <td>NaN</td>\n",
       "      <td>NaN</td>\n",
       "      <td>NaN</td>\n",
       "    </tr>\n",
       "    <tr>\n",
       "      <th>...</th>\n",
       "      <th>...</th>\n",
       "      <td>...</td>\n",
       "      <td>...</td>\n",
       "      <td>...</td>\n",
       "      <td>...</td>\n",
       "      <td>...</td>\n",
       "    </tr>\n",
       "    <tr>\n",
       "      <th rowspan=\"5\" valign=\"top\">2021-03-15</th>\n",
       "      <th>688777</th>\n",
       "      <td>72.16</td>\n",
       "      <td>75.736</td>\n",
       "      <td>81.637</td>\n",
       "      <td>82.487333</td>\n",
       "      <td>83.0140</td>\n",
       "    </tr>\n",
       "    <tr>\n",
       "      <th>688788</th>\n",
       "      <td>101.74</td>\n",
       "      <td>105.102</td>\n",
       "      <td>109.967</td>\n",
       "      <td>114.175333</td>\n",
       "      <td>116.8510</td>\n",
       "    </tr>\n",
       "    <tr>\n",
       "      <th>688819</th>\n",
       "      <td>44.52</td>\n",
       "      <td>44.424</td>\n",
       "      <td>44.801</td>\n",
       "      <td>44.930667</td>\n",
       "      <td>45.3595</td>\n",
       "    </tr>\n",
       "    <tr>\n",
       "      <th>688981</th>\n",
       "      <td>55.74</td>\n",
       "      <td>56.120</td>\n",
       "      <td>57.225</td>\n",
       "      <td>57.080000</td>\n",
       "      <td>56.8880</td>\n",
       "    </tr>\n",
       "    <tr>\n",
       "      <th>689009</th>\n",
       "      <td>61.82</td>\n",
       "      <td>62.850</td>\n",
       "      <td>66.752</td>\n",
       "      <td>69.440000</td>\n",
       "      <td>75.2565</td>\n",
       "    </tr>\n",
       "  </tbody>\n",
       "</table>\n",
       "<p>390167 rows × 5 columns</p>\n",
       "</div>"
      ],
      "text/plain": [
       "                        0        1        2           3         4\n",
       "date       code                                                  \n",
       "2020-10-19 000001   17.48      NaN      NaN         NaN       NaN\n",
       "           000002   27.74      NaN      NaN         NaN       NaN\n",
       "           000004   25.85      NaN      NaN         NaN       NaN\n",
       "           000005    2.67      NaN      NaN         NaN       NaN\n",
       "           000006    6.22      NaN      NaN         NaN       NaN\n",
       "...                   ...      ...      ...         ...       ...\n",
       "2021-03-15 688777   72.16   75.736   81.637   82.487333   83.0140\n",
       "           688788  101.74  105.102  109.967  114.175333  116.8510\n",
       "           688819   44.52   44.424   44.801   44.930667   45.3595\n",
       "           688981   55.74   56.120   57.225   57.080000   56.8880\n",
       "           689009   61.82   62.850   66.752   69.440000   75.2565\n",
       "\n",
       "[390167 rows x 5 columns]"
      ]
     },
     "execution_count": 316,
     "metadata": {},
     "output_type": "execute_result"
    }
   ],
   "source": [
    "%time stk_day_all.add_func(ma5)"
   ]
  },
  {
   "cell_type": "code",
   "execution_count": 301,
   "metadata": {},
   "outputs": [
    {
     "name": "stdout",
     "output_type": "stream",
     "text": [
      "Wall time: 3.49 s\n"
     ]
    },
    {
     "data": {
      "text/plain": [
       "date        code  \n",
       "2020-10-19  000001        NaN\n",
       "            000002        NaN\n",
       "            000004        NaN\n",
       "            000005        NaN\n",
       "            000006        NaN\n",
       "                       ...   \n",
       "2021-03-15  688777     75.736\n",
       "            688788    105.102\n",
       "            688819     44.424\n",
       "            688981     56.120\n",
       "            689009     62.850\n",
       "Name: close, Length: 390167, dtype: float64"
      ]
     },
     "execution_count": 301,
     "metadata": {},
     "output_type": "execute_result"
    }
   ],
   "source": [
    "%time stk_day_all.close.groupby(level=1).apply(lambda x:x.rolling(5).mean())"
   ]
  },
  {
   "cell_type": "code",
   "execution_count": 305,
   "metadata": {},
   "outputs": [
    {
     "name": "stdout",
     "output_type": "stream",
     "text": [
      "Wall time: 2.82 s\n"
     ]
    },
    {
     "data": {
      "text/plain": [
       "date        code  \n",
       "2020-10-19  000001           NaN\n",
       "            000002           NaN\n",
       "            000004           NaN\n",
       "            000005           NaN\n",
       "            000006           NaN\n",
       "                         ...    \n",
       "2021-03-15  688777     91.996500\n",
       "            688788    133.861667\n",
       "            688819           NaN\n",
       "            688981     57.303000\n",
       "            689009     82.039167\n",
       "Name: close, Length: 390167, dtype: float64"
      ]
     },
     "execution_count": 305,
     "metadata": {},
     "output_type": "execute_result"
    }
   ],
   "source": [
    "%time stk_day_all.groupby(level=1)['close'].apply(lambda x:x.rolling(60).mean())"
   ]
  },
  {
   "cell_type": "code",
   "execution_count": 311,
   "metadata": {},
   "outputs": [],
   "source": [
    "# QA vs min\n",
    "# 6.76 s vs 13.7 s\n",
    "# def MAs(data):\n",
    "#     return pd.DataFrame(zip(data.groupby(level=1)['close'].apply(lambda x:x.rolling(5).mean()),\n",
    "#                            data.groupby(level=1)['close'].apply(lambda x:x.rolling(10).mean()),\n",
    "#                            data.groupby(level=1)['close'].apply(lambda x:x.rolling(15).mean()),\n",
    "#                            data.groupby(level=1)['close'].apply(lambda x:x.rolling(20).mean())),index=data.index)"
   ]
  },
  {
   "cell_type": "code",
   "execution_count": 312,
   "metadata": {},
   "outputs": [
    {
     "name": "stderr",
     "output_type": "stream",
     "text": [
      "d:\\ProgramData\\Anaconda3\\lib\\site-packages\\QUANTAXIS\\QAData\\base_datastruct.py:841: FutureWarning: The `squeeze` parameter is deprecated and will be removed in a future version.\n",
      "  return self.data.groupby(\n"
     ]
    },
    {
     "name": "stdout",
     "output_type": "stream",
     "text": [
      "Wall time: 13.7 s\n"
     ]
    },
    {
     "data": {
      "text/html": [
       "<div>\n",
       "<style scoped>\n",
       "    .dataframe tbody tr th:only-of-type {\n",
       "        vertical-align: middle;\n",
       "    }\n",
       "\n",
       "    .dataframe tbody tr th {\n",
       "        vertical-align: top;\n",
       "    }\n",
       "\n",
       "    .dataframe thead th {\n",
       "        text-align: right;\n",
       "    }\n",
       "</style>\n",
       "<table border=\"1\" class=\"dataframe\">\n",
       "  <thead>\n",
       "    <tr style=\"text-align: right;\">\n",
       "      <th></th>\n",
       "      <th></th>\n",
       "      <th>0</th>\n",
       "      <th>1</th>\n",
       "      <th>2</th>\n",
       "      <th>3</th>\n",
       "    </tr>\n",
       "    <tr>\n",
       "      <th>date</th>\n",
       "      <th>code</th>\n",
       "      <th></th>\n",
       "      <th></th>\n",
       "      <th></th>\n",
       "      <th></th>\n",
       "    </tr>\n",
       "  </thead>\n",
       "  <tbody>\n",
       "    <tr>\n",
       "      <th rowspan=\"5\" valign=\"top\">2020-10-19</th>\n",
       "      <th>000001</th>\n",
       "      <td>NaN</td>\n",
       "      <td>NaN</td>\n",
       "      <td>NaN</td>\n",
       "      <td>NaN</td>\n",
       "    </tr>\n",
       "    <tr>\n",
       "      <th>000002</th>\n",
       "      <td>NaN</td>\n",
       "      <td>NaN</td>\n",
       "      <td>NaN</td>\n",
       "      <td>NaN</td>\n",
       "    </tr>\n",
       "    <tr>\n",
       "      <th>000004</th>\n",
       "      <td>NaN</td>\n",
       "      <td>NaN</td>\n",
       "      <td>NaN</td>\n",
       "      <td>NaN</td>\n",
       "    </tr>\n",
       "    <tr>\n",
       "      <th>000005</th>\n",
       "      <td>NaN</td>\n",
       "      <td>NaN</td>\n",
       "      <td>NaN</td>\n",
       "      <td>NaN</td>\n",
       "    </tr>\n",
       "    <tr>\n",
       "      <th>000006</th>\n",
       "      <td>NaN</td>\n",
       "      <td>NaN</td>\n",
       "      <td>NaN</td>\n",
       "      <td>NaN</td>\n",
       "    </tr>\n",
       "    <tr>\n",
       "      <th>...</th>\n",
       "      <th>...</th>\n",
       "      <td>...</td>\n",
       "      <td>...</td>\n",
       "      <td>...</td>\n",
       "      <td>...</td>\n",
       "    </tr>\n",
       "    <tr>\n",
       "      <th rowspan=\"5\" valign=\"top\">2021-03-15</th>\n",
       "      <th>688777</th>\n",
       "      <td>75.736</td>\n",
       "      <td>81.637</td>\n",
       "      <td>82.487333</td>\n",
       "      <td>83.0140</td>\n",
       "    </tr>\n",
       "    <tr>\n",
       "      <th>688788</th>\n",
       "      <td>105.102</td>\n",
       "      <td>109.967</td>\n",
       "      <td>114.175333</td>\n",
       "      <td>116.8510</td>\n",
       "    </tr>\n",
       "    <tr>\n",
       "      <th>688819</th>\n",
       "      <td>44.424</td>\n",
       "      <td>44.801</td>\n",
       "      <td>44.930667</td>\n",
       "      <td>45.3595</td>\n",
       "    </tr>\n",
       "    <tr>\n",
       "      <th>688981</th>\n",
       "      <td>56.120</td>\n",
       "      <td>57.225</td>\n",
       "      <td>57.080000</td>\n",
       "      <td>56.8880</td>\n",
       "    </tr>\n",
       "    <tr>\n",
       "      <th>689009</th>\n",
       "      <td>62.850</td>\n",
       "      <td>66.752</td>\n",
       "      <td>69.440000</td>\n",
       "      <td>75.2565</td>\n",
       "    </tr>\n",
       "  </tbody>\n",
       "</table>\n",
       "<p>390167 rows × 4 columns</p>\n",
       "</div>"
      ],
      "text/plain": [
       "                         0        1           2         3\n",
       "date       code                                          \n",
       "2020-10-19 000001      NaN      NaN         NaN       NaN\n",
       "           000002      NaN      NaN         NaN       NaN\n",
       "           000004      NaN      NaN         NaN       NaN\n",
       "           000005      NaN      NaN         NaN       NaN\n",
       "           000006      NaN      NaN         NaN       NaN\n",
       "...                    ...      ...         ...       ...\n",
       "2021-03-15 688777   75.736   81.637   82.487333   83.0140\n",
       "           688788  105.102  109.967  114.175333  116.8510\n",
       "           688819   44.424   44.801   44.930667   45.3595\n",
       "           688981   56.120   57.225   57.080000   56.8880\n",
       "           689009   62.850   66.752   69.440000   75.2565\n",
       "\n",
       "[390167 rows x 4 columns]"
      ]
     },
     "execution_count": 312,
     "metadata": {},
     "output_type": "execute_result"
    }
   ],
   "source": [
    "# %time stk_day_all.apply(lambda x:MAs(x))"
   ]
  },
  {
   "cell_type": "code",
   "execution_count": null,
   "metadata": {},
   "outputs": [],
   "source": []
  },
  {
   "cell_type": "code",
   "execution_count": null,
   "metadata": {},
   "outputs": [],
   "source": []
  },
  {
   "cell_type": "code",
   "execution_count": 282,
   "metadata": {},
   "outputs": [],
   "source": [
    "def MAs(data):\n",
    "    return data.rolling(5).mean(),data.rolling(10).mean(),data.rolling(15).mean()"
   ]
  },
  {
   "cell_type": "code",
   "execution_count": 283,
   "metadata": {
    "scrolled": true
   },
   "outputs": [
    {
     "name": "stdout",
     "output_type": "stream",
     "text": [
      "Wall time: 2.19 s\n"
     ]
    },
    {
     "data": {
      "text/plain": [
       "code\n",
       "000001    ([nan, nan, nan, nan, 22.924, 22.482, 21.988, ...\n",
       "000002    ([nan, nan, nan, nan, 29.916000000000004, 30.5...\n",
       "000004    ([nan, nan, nan, nan, 18.682, 18.848, 18.91399...\n",
       "000005    ([nan, nan, nan, nan, 2.084, 2.112, 2.13000000...\n",
       "000006    ([nan, nan, nan, nan, 5.1240000000000006, 5.20...\n",
       "                                ...                        \n",
       "688676    ([nan, nan, nan, nan, 20.014000000000003], [na...\n",
       "605122    ([nan, nan, nan, nan], [nan, nan, nan, nan], [...\n",
       "300952    ([nan, nan, nan], [nan, nan, nan], [nan, nan, ...\n",
       "688083    ([nan, nan, nan], [nan, nan, nan], [nan, nan, ...\n",
       "688667                 ([nan, nan], [nan, nan], [nan, nan])\n",
       "Name: close, Length: 3994, dtype: object"
      ]
     },
     "execution_count": 283,
     "metadata": {},
     "output_type": "execute_result"
    }
   ],
   "source": [
    "# %time stk_day_all.groupby(level=1)['close'].apply(lambda x:x.rolling(5).mean())  #1.96 s\n",
    "%time stk_day_all.groupby(level=1)['close'].apply(lambda x:MAs(x))  "
   ]
  },
  {
   "cell_type": "code",
   "execution_count": null,
   "metadata": {},
   "outputs": [],
   "source": []
  },
  {
   "cell_type": "code",
   "execution_count": null,
   "metadata": {},
   "outputs": [],
   "source": []
  },
  {
   "cell_type": "code",
   "execution_count": null,
   "metadata": {},
   "outputs": [],
   "source": []
  },
  {
   "cell_type": "markdown",
   "metadata": {},
   "source": [
    "## 传入groupby dataset"
   ]
  },
  {
   "cell_type": "code",
   "execution_count": 255,
   "metadata": {},
   "outputs": [],
   "source": [
    "def drzf(data):\n",
    "    return pd.DataFrame(zip(*(data.pct_change(i) for i in range(10)[1:])))"
   ]
  },
  {
   "cell_type": "code",
   "execution_count": 257,
   "metadata": {},
   "outputs": [
    {
     "name": "stderr",
     "output_type": "stream",
     "text": [
      "d:\\ProgramData\\Anaconda3\\lib\\site-packages\\QUANTAXIS\\QAData\\base_datastruct.py:841: FutureWarning: The `squeeze` parameter is deprecated and will be removed in a future version.\n",
      "  return self.data.groupby(\n"
     ]
    },
    {
     "name": "stdout",
     "output_type": "stream",
     "text": [
      "Wall time: 15.1 s\n"
     ]
    },
    {
     "data": {
      "text/html": [
       "<div>\n",
       "<style scoped>\n",
       "    .dataframe tbody tr th:only-of-type {\n",
       "        vertical-align: middle;\n",
       "    }\n",
       "\n",
       "    .dataframe tbody tr th {\n",
       "        vertical-align: top;\n",
       "    }\n",
       "\n",
       "    .dataframe thead th {\n",
       "        text-align: right;\n",
       "    }\n",
       "</style>\n",
       "<table border=\"1\" class=\"dataframe\">\n",
       "  <thead>\n",
       "    <tr style=\"text-align: right;\">\n",
       "      <th></th>\n",
       "      <th>0</th>\n",
       "      <th>1</th>\n",
       "      <th>2</th>\n",
       "      <th>3</th>\n",
       "      <th>4</th>\n",
       "      <th>5</th>\n",
       "      <th>6</th>\n",
       "      <th>7</th>\n",
       "      <th>8</th>\n",
       "    </tr>\n",
       "  </thead>\n",
       "  <tbody>\n",
       "    <tr>\n",
       "      <th>0</th>\n",
       "      <td>NaN</td>\n",
       "      <td>NaN</td>\n",
       "      <td>NaN</td>\n",
       "      <td>NaN</td>\n",
       "      <td>NaN</td>\n",
       "      <td>NaN</td>\n",
       "      <td>NaN</td>\n",
       "      <td>NaN</td>\n",
       "      <td>NaN</td>\n",
       "    </tr>\n",
       "    <tr>\n",
       "      <th>1</th>\n",
       "      <td>-0.018519</td>\n",
       "      <td>NaN</td>\n",
       "      <td>NaN</td>\n",
       "      <td>NaN</td>\n",
       "      <td>NaN</td>\n",
       "      <td>NaN</td>\n",
       "      <td>NaN</td>\n",
       "      <td>NaN</td>\n",
       "      <td>NaN</td>\n",
       "    </tr>\n",
       "    <tr>\n",
       "      <th>2</th>\n",
       "      <td>-0.061635</td>\n",
       "      <td>-0.079012</td>\n",
       "      <td>NaN</td>\n",
       "      <td>NaN</td>\n",
       "      <td>NaN</td>\n",
       "      <td>NaN</td>\n",
       "      <td>NaN</td>\n",
       "      <td>NaN</td>\n",
       "      <td>NaN</td>\n",
       "    </tr>\n",
       "    <tr>\n",
       "      <th>3</th>\n",
       "      <td>-0.020107</td>\n",
       "      <td>-0.080503</td>\n",
       "      <td>-0.097531</td>\n",
       "      <td>NaN</td>\n",
       "      <td>NaN</td>\n",
       "      <td>NaN</td>\n",
       "      <td>NaN</td>\n",
       "      <td>NaN</td>\n",
       "      <td>NaN</td>\n",
       "    </tr>\n",
       "    <tr>\n",
       "      <th>4</th>\n",
       "      <td>0.010488</td>\n",
       "      <td>-0.009830</td>\n",
       "      <td>-0.070860</td>\n",
       "      <td>-0.088066</td>\n",
       "      <td>NaN</td>\n",
       "      <td>NaN</td>\n",
       "      <td>NaN</td>\n",
       "      <td>NaN</td>\n",
       "      <td>NaN</td>\n",
       "    </tr>\n",
       "    <tr>\n",
       "      <th>...</th>\n",
       "      <td>...</td>\n",
       "      <td>...</td>\n",
       "      <td>...</td>\n",
       "      <td>...</td>\n",
       "      <td>...</td>\n",
       "      <td>...</td>\n",
       "      <td>...</td>\n",
       "      <td>...</td>\n",
       "      <td>...</td>\n",
       "    </tr>\n",
       "    <tr>\n",
       "      <th>0</th>\n",
       "      <td>NaN</td>\n",
       "      <td>NaN</td>\n",
       "      <td>NaN</td>\n",
       "      <td>NaN</td>\n",
       "      <td>NaN</td>\n",
       "      <td>NaN</td>\n",
       "      <td>NaN</td>\n",
       "      <td>NaN</td>\n",
       "      <td>NaN</td>\n",
       "    </tr>\n",
       "    <tr>\n",
       "      <th>1</th>\n",
       "      <td>0.097800</td>\n",
       "      <td>NaN</td>\n",
       "      <td>NaN</td>\n",
       "      <td>NaN</td>\n",
       "      <td>NaN</td>\n",
       "      <td>NaN</td>\n",
       "      <td>NaN</td>\n",
       "      <td>NaN</td>\n",
       "      <td>NaN</td>\n",
       "    </tr>\n",
       "    <tr>\n",
       "      <th>2</th>\n",
       "      <td>-0.109310</td>\n",
       "      <td>-0.022200</td>\n",
       "      <td>NaN</td>\n",
       "      <td>NaN</td>\n",
       "      <td>NaN</td>\n",
       "      <td>NaN</td>\n",
       "      <td>NaN</td>\n",
       "      <td>NaN</td>\n",
       "      <td>NaN</td>\n",
       "    </tr>\n",
       "    <tr>\n",
       "      <th>0</th>\n",
       "      <td>NaN</td>\n",
       "      <td>NaN</td>\n",
       "      <td>NaN</td>\n",
       "      <td>NaN</td>\n",
       "      <td>NaN</td>\n",
       "      <td>NaN</td>\n",
       "      <td>NaN</td>\n",
       "      <td>NaN</td>\n",
       "      <td>NaN</td>\n",
       "    </tr>\n",
       "    <tr>\n",
       "      <th>1</th>\n",
       "      <td>-0.172771</td>\n",
       "      <td>NaN</td>\n",
       "      <td>NaN</td>\n",
       "      <td>NaN</td>\n",
       "      <td>NaN</td>\n",
       "      <td>NaN</td>\n",
       "      <td>NaN</td>\n",
       "      <td>NaN</td>\n",
       "      <td>NaN</td>\n",
       "    </tr>\n",
       "  </tbody>\n",
       "</table>\n",
       "<p>71504 rows × 9 columns</p>\n",
       "</div>"
      ],
      "text/plain": [
       "           0         1         2         3   4   5   6   7   8\n",
       "0        NaN       NaN       NaN       NaN NaN NaN NaN NaN NaN\n",
       "1  -0.018519       NaN       NaN       NaN NaN NaN NaN NaN NaN\n",
       "2  -0.061635 -0.079012       NaN       NaN NaN NaN NaN NaN NaN\n",
       "3  -0.020107 -0.080503 -0.097531       NaN NaN NaN NaN NaN NaN\n",
       "4   0.010488 -0.009830 -0.070860 -0.088066 NaN NaN NaN NaN NaN\n",
       "..       ...       ...       ...       ...  ..  ..  ..  ..  ..\n",
       "0        NaN       NaN       NaN       NaN NaN NaN NaN NaN NaN\n",
       "1   0.097800       NaN       NaN       NaN NaN NaN NaN NaN NaN\n",
       "2  -0.109310 -0.022200       NaN       NaN NaN NaN NaN NaN NaN\n",
       "0        NaN       NaN       NaN       NaN NaN NaN NaN NaN NaN\n",
       "1  -0.172771       NaN       NaN       NaN NaN NaN NaN NaN NaN\n",
       "\n",
       "[71504 rows x 9 columns]"
      ]
     },
     "execution_count": 257,
     "metadata": {},
     "output_type": "execute_result"
    }
   ],
   "source": [
    "%time stk_day_all.groupby(level=1)['close'].apply(lambda x:drzf(x))"
   ]
  },
  {
   "cell_type": "code",
   "execution_count": null,
   "metadata": {},
   "outputs": [],
   "source": []
  },
  {
   "cell_type": "code",
   "execution_count": 218,
   "metadata": {},
   "outputs": [
    {
     "data": {
      "text/plain": [
       "date        code  \n",
       "2021-03-05  002647    102.551020\n",
       "            603222     84.362934\n",
       "            603126     77.454545\n",
       "            300234     73.076923\n",
       "            300312     66.190476\n",
       "            688059     65.456013\n",
       "            601038     63.606911\n",
       "            600010     57.575758\n",
       "            002658     55.787476\n",
       "            688308     54.871795\n",
       "            601127     54.075547\n",
       "            300293     44.675325\n",
       "            600295     43.646409\n",
       "            300022     41.646489\n",
       "            002378     41.085271\n",
       "            600714     40.892193\n",
       "            002636     39.610390\n",
       "            603032     37.692308\n",
       "            300722     34.524089\n",
       "            002554     33.484163\n",
       "dtype: float64"
      ]
     },
     "execution_count": 218,
     "metadata": {},
     "output_type": "execute_result"
    }
   ],
   "source": [
    "ind_base_data.loc['2021-03-05'].max(axis=1).sort_values(ascending=False).head(20)"
   ]
  },
  {
   "cell_type": "code",
   "execution_count": 168,
   "metadata": {},
   "outputs": [
    {
     "data": {
      "text/html": [
       "<div>\n",
       "<style scoped>\n",
       "    .dataframe tbody tr th:only-of-type {\n",
       "        vertical-align: middle;\n",
       "    }\n",
       "\n",
       "    .dataframe tbody tr th {\n",
       "        vertical-align: top;\n",
       "    }\n",
       "\n",
       "    .dataframe thead th {\n",
       "        text-align: right;\n",
       "    }\n",
       "</style>\n",
       "<table border=\"1\" class=\"dataframe\">\n",
       "  <thead>\n",
       "    <tr style=\"text-align: right;\">\n",
       "      <th></th>\n",
       "      <th></th>\n",
       "      <th>zf1</th>\n",
       "      <th>zf2</th>\n",
       "      <th>zf3</th>\n",
       "      <th>zf4</th>\n",
       "      <th>zf5</th>\n",
       "      <th>zf6</th>\n",
       "      <th>zf7</th>\n",
       "      <th>zf8</th>\n",
       "      <th>zf9</th>\n",
       "    </tr>\n",
       "    <tr>\n",
       "      <th>date</th>\n",
       "      <th>code</th>\n",
       "      <th></th>\n",
       "      <th></th>\n",
       "      <th></th>\n",
       "      <th></th>\n",
       "      <th></th>\n",
       "      <th></th>\n",
       "      <th></th>\n",
       "      <th></th>\n",
       "      <th></th>\n",
       "    </tr>\n",
       "  </thead>\n",
       "  <tbody>\n",
       "    <tr>\n",
       "      <th rowspan=\"5\" valign=\"top\">2021-02-18</th>\n",
       "      <th>000001</th>\n",
       "      <td>NaN</td>\n",
       "      <td>NaN</td>\n",
       "      <td>NaN</td>\n",
       "      <td>NaN</td>\n",
       "      <td>NaN</td>\n",
       "      <td>NaN</td>\n",
       "      <td>NaN</td>\n",
       "      <td>NaN</td>\n",
       "      <td>NaN</td>\n",
       "    </tr>\n",
       "    <tr>\n",
       "      <th>000002</th>\n",
       "      <td>23.497942</td>\n",
       "      <td>NaN</td>\n",
       "      <td>NaN</td>\n",
       "      <td>NaN</td>\n",
       "      <td>NaN</td>\n",
       "      <td>NaN</td>\n",
       "      <td>NaN</td>\n",
       "      <td>NaN</td>\n",
       "      <td>NaN</td>\n",
       "    </tr>\n",
       "    <tr>\n",
       "      <th>000004</th>\n",
       "      <td>-40.086638</td>\n",
       "      <td>-26.008230</td>\n",
       "      <td>NaN</td>\n",
       "      <td>NaN</td>\n",
       "      <td>NaN</td>\n",
       "      <td>NaN</td>\n",
       "      <td>NaN</td>\n",
       "      <td>NaN</td>\n",
       "      <td>NaN</td>\n",
       "    </tr>\n",
       "    <tr>\n",
       "      <th>000005</th>\n",
       "      <td>-88.932147</td>\n",
       "      <td>-93.368877</td>\n",
       "      <td>-91.810700</td>\n",
       "      <td>NaN</td>\n",
       "      <td>NaN</td>\n",
       "      <td>NaN</td>\n",
       "      <td>NaN</td>\n",
       "      <td>NaN</td>\n",
       "      <td>NaN</td>\n",
       "    </tr>\n",
       "    <tr>\n",
       "      <th>000006</th>\n",
       "      <td>150.251256</td>\n",
       "      <td>-72.302558</td>\n",
       "      <td>-83.405531</td>\n",
       "      <td>-79.506173</td>\n",
       "      <td>NaN</td>\n",
       "      <td>NaN</td>\n",
       "      <td>NaN</td>\n",
       "      <td>NaN</td>\n",
       "      <td>NaN</td>\n",
       "    </tr>\n",
       "    <tr>\n",
       "      <th>...</th>\n",
       "      <th>...</th>\n",
       "      <td>...</td>\n",
       "      <td>...</td>\n",
       "      <td>...</td>\n",
       "      <td>...</td>\n",
       "      <td>...</td>\n",
       "      <td>...</td>\n",
       "      <td>...</td>\n",
       "      <td>...</td>\n",
       "      <td>...</td>\n",
       "    </tr>\n",
       "    <tr>\n",
       "      <th rowspan=\"5\" valign=\"top\">2021-03-15</th>\n",
       "      <th>688777</th>\n",
       "      <td>307.453416</td>\n",
       "      <td>-83.784270</td>\n",
       "      <td>217.745487</td>\n",
       "      <td>181.654957</td>\n",
       "      <td>-43.975155</td>\n",
       "      <td>378.197482</td>\n",
       "      <td>269.293756</td>\n",
       "      <td>-1.823129</td>\n",
       "      <td>300.666297</td>\n",
       "    </tr>\n",
       "    <tr>\n",
       "      <th>688788</th>\n",
       "      <td>40.992239</td>\n",
       "      <td>474.477696</td>\n",
       "      <td>-77.137079</td>\n",
       "      <td>347.996477</td>\n",
       "      <td>297.111632</td>\n",
       "      <td>-21.009317</td>\n",
       "      <td>574.221339</td>\n",
       "      <td>420.675537</td>\n",
       "      <td>38.421769</td>\n",
       "    </tr>\n",
       "    <tr>\n",
       "      <th>688819</th>\n",
       "      <td>-56.241400</td>\n",
       "      <td>-38.303769</td>\n",
       "      <td>151.383399</td>\n",
       "      <td>-89.995506</td>\n",
       "      <td>96.036988</td>\n",
       "      <td>73.770492</td>\n",
       "      <td>-65.434783</td>\n",
       "      <td>195.029821</td>\n",
       "      <td>127.840328</td>\n",
       "    </tr>\n",
       "    <tr>\n",
       "      <th>688981</th>\n",
       "      <td>25.202156</td>\n",
       "      <td>-45.213289</td>\n",
       "      <td>-22.754989</td>\n",
       "      <td>214.737436</td>\n",
       "      <td>-87.474157</td>\n",
       "      <td>145.442536</td>\n",
       "      <td>117.564403</td>\n",
       "      <td>-56.723602</td>\n",
       "      <td>269.383698</td>\n",
       "    </tr>\n",
       "    <tr>\n",
       "      <th>689009</th>\n",
       "      <td>10.907786</td>\n",
       "      <td>38.858940</td>\n",
       "      <td>-39.237271</td>\n",
       "      <td>-14.329268</td>\n",
       "      <td>249.068323</td>\n",
       "      <td>-86.107865</td>\n",
       "      <td>172.214883</td>\n",
       "      <td>141.295863</td>\n",
       "      <td>-52.003106</td>\n",
       "    </tr>\n",
       "  </tbody>\n",
       "</table>\n",
       "<p>71504 rows × 9 columns</p>\n",
       "</div>"
      ],
      "text/plain": [
       "                          zf1         zf2         zf3         zf4         zf5  \\\n",
       "date       code                                                                 \n",
       "2021-02-18 000001         NaN         NaN         NaN         NaN         NaN   \n",
       "           000002   23.497942         NaN         NaN         NaN         NaN   \n",
       "           000004  -40.086638  -26.008230         NaN         NaN         NaN   \n",
       "           000005  -88.932147  -93.368877  -91.810700         NaN         NaN   \n",
       "           000006  150.251256  -72.302558  -83.405531  -79.506173         NaN   \n",
       "...                       ...         ...         ...         ...         ...   \n",
       "2021-03-15 688777  307.453416  -83.784270  217.745487  181.654957  -43.975155   \n",
       "           688788   40.992239  474.477696  -77.137079  347.996477  297.111632   \n",
       "           688819  -56.241400  -38.303769  151.383399  -89.995506   96.036988   \n",
       "           688981   25.202156  -45.213289  -22.754989  214.737436  -87.474157   \n",
       "           689009   10.907786   38.858940  -39.237271  -14.329268  249.068323   \n",
       "\n",
       "                          zf6         zf7         zf8         zf9  \n",
       "date       code                                                    \n",
       "2021-02-18 000001         NaN         NaN         NaN         NaN  \n",
       "           000002         NaN         NaN         NaN         NaN  \n",
       "           000004         NaN         NaN         NaN         NaN  \n",
       "           000005         NaN         NaN         NaN         NaN  \n",
       "           000006         NaN         NaN         NaN         NaN  \n",
       "...                       ...         ...         ...         ...  \n",
       "2021-03-15 688777  378.197482  269.293756   -1.823129  300.666297  \n",
       "           688788  -21.009317  574.221339  420.675537   38.421769  \n",
       "           688819   73.770492  -65.434783  195.029821  127.840328  \n",
       "           688981  145.442536  117.564403  -56.723602  269.383698  \n",
       "           689009  -86.107865  172.214883  141.295863  -52.003106  \n",
       "\n",
       "[71504 rows x 9 columns]"
      ]
     },
     "execution_count": 168,
     "metadata": {},
     "output_type": "execute_result"
    }
   ],
   "source": [
    "stk_day_all.apply(lambda x:f(x))"
   ]
  },
  {
   "cell_type": "code",
   "execution_count": 23,
   "metadata": {},
   "outputs": [],
   "source": [
    "def drzf(data):\n",
    "    temp = {\n",
    "        'open':data.open,\n",
    "        'high':data.high,\n",
    "        'low': data.low,\n",
    "        'close': data.close,\n",
    "        'volume': data.volume,\n",
    "        'amount':data.amount\n",
    "    }\n",
    "    #多日涨幅  统计过去1，2，3，4，5，6，7，8，9天的涨幅\n",
    "#     drzf = {'zf{}'.format(i): data.close.pct_change(i)*100 for i in range(10)[1:10]}\n",
    "    drzf = {'zf1': data.close.pct_change(1)*100 }\n",
    "    temp.update(drzf)\n",
    "    return pd.DataFrame(temp)"
   ]
  },
  {
   "cell_type": "code",
   "execution_count": 17,
   "metadata": {},
   "outputs": [],
   "source": []
  },
  {
   "cell_type": "code",
   "execution_count": 204,
   "metadata": {},
   "outputs": [],
   "source": []
  },
  {
   "cell_type": "code",
   "execution_count": 19,
   "metadata": {},
   "outputs": [],
   "source": []
  },
  {
   "cell_type": "code",
   "execution_count": 20,
   "metadata": {},
   "outputs": [],
   "source": []
  },
  {
   "cell_type": "markdown",
   "metadata": {},
   "source": [
    "## 低效率"
   ]
  },
  {
   "cell_type": "code",
   "execution_count": 12,
   "metadata": {},
   "outputs": [
    {
     "name": "stderr",
     "output_type": "stream",
     "text": [
      "d:\\ProgramData\\Anaconda3\\lib\\site-packages\\QUANTAXIS\\QAData\\base_datastruct.py:841: FutureWarning: The `squeeze` parameter is deprecated and will be removed in a future version.\n",
      "  return self.data.groupby(\n"
     ]
    },
    {
     "name": "stdout",
     "output_type": "stream",
     "text": [
      "44.1 s ± 564 ms per loop (mean ± std. dev. of 7 runs, 1 loop each)\n"
     ]
    }
   ],
   "source": [
    "%%timeit\n",
    "stk_day_all = QA.QA_fetch_stock_day_adv(code_list,start,end)\n",
    "ind_base_data = stk_day_all.add_func(drzf)\n",
    "#涨幅最大的20只\n",
    "ind_base_data.loc['2021-03-05'].max(axis=1).sort_values(ascending=False).head(20)"
   ]
  },
  {
   "cell_type": "code",
   "execution_count": 15,
   "metadata": {},
   "outputs": [
    {
     "name": "stderr",
     "output_type": "stream",
     "text": [
      "d:\\ProgramData\\Anaconda3\\lib\\site-packages\\QUANTAXIS\\QAData\\base_datastruct.py:841: FutureWarning: The `squeeze` parameter is deprecated and will be removed in a future version.\n",
      "  return self.data.groupby(\n"
     ]
    },
    {
     "data": {
      "text/plain": [
       "datetime.timedelta(seconds=45, microseconds=140500)"
      ]
     },
     "execution_count": 15,
     "metadata": {},
     "output_type": "execute_result"
    }
   ],
   "source": [
    "start_time = datetime.datetime.now()\n",
    "stk_day_all = QA.QA_fetch_stock_day_adv(code_list,start,end)\n",
    "ind_base_data = stk_day_all.add_func(drzf)\n",
    "#涨幅最大的20只\n",
    "tt = ind_base_data.loc['2021-03-05'].max(axis=1).sort_values(ascending=False).head(20)\n",
    "end_time = datetime.datetime.now()\n",
    "end_time - start_time"
   ]
  },
  {
   "cell_type": "code",
   "execution_count": 28,
   "metadata": {},
   "outputs": [
    {
     "data": {
      "text/html": [
       "<div>\n",
       "<style scoped>\n",
       "    .dataframe tbody tr th:only-of-type {\n",
       "        vertical-align: middle;\n",
       "    }\n",
       "\n",
       "    .dataframe tbody tr th {\n",
       "        vertical-align: top;\n",
       "    }\n",
       "\n",
       "    .dataframe thead th {\n",
       "        text-align: right;\n",
       "    }\n",
       "</style>\n",
       "<table border=\"1\" class=\"dataframe\">\n",
       "  <thead>\n",
       "    <tr style=\"text-align: right;\">\n",
       "      <th></th>\n",
       "      <th></th>\n",
       "      <th>open</th>\n",
       "      <th>high</th>\n",
       "      <th>low</th>\n",
       "      <th>close</th>\n",
       "      <th>volume</th>\n",
       "      <th>amount</th>\n",
       "    </tr>\n",
       "    <tr>\n",
       "      <th>date</th>\n",
       "      <th>code</th>\n",
       "      <th></th>\n",
       "      <th></th>\n",
       "      <th></th>\n",
       "      <th></th>\n",
       "      <th></th>\n",
       "      <th></th>\n",
       "    </tr>\n",
       "  </thead>\n",
       "  <tbody>\n",
       "    <tr>\n",
       "      <th rowspan=\"5\" valign=\"top\">2021-02-18</th>\n",
       "      <th>000001</th>\n",
       "      <td>24.00</td>\n",
       "      <td>24.55</td>\n",
       "      <td>23.48</td>\n",
       "      <td>24.30</td>\n",
       "      <td>1505230.0</td>\n",
       "      <td>3.619388e+09</td>\n",
       "    </tr>\n",
       "    <tr>\n",
       "      <th>000002</th>\n",
       "      <td>28.95</td>\n",
       "      <td>30.13</td>\n",
       "      <td>28.95</td>\n",
       "      <td>30.01</td>\n",
       "      <td>996922.0</td>\n",
       "      <td>2.956989e+09</td>\n",
       "    </tr>\n",
       "    <tr>\n",
       "      <th>000004</th>\n",
       "      <td>17.21</td>\n",
       "      <td>18.07</td>\n",
       "      <td>17.21</td>\n",
       "      <td>17.98</td>\n",
       "      <td>23204.0</td>\n",
       "      <td>4.136155e+07</td>\n",
       "    </tr>\n",
       "    <tr>\n",
       "      <th>000005</th>\n",
       "      <td>1.91</td>\n",
       "      <td>1.99</td>\n",
       "      <td>1.91</td>\n",
       "      <td>1.99</td>\n",
       "      <td>64388.0</td>\n",
       "      <td>1.259473e+07</td>\n",
       "    </tr>\n",
       "    <tr>\n",
       "      <th>000006</th>\n",
       "      <td>4.88</td>\n",
       "      <td>5.02</td>\n",
       "      <td>4.88</td>\n",
       "      <td>4.98</td>\n",
       "      <td>70781.0</td>\n",
       "      <td>3.511906e+07</td>\n",
       "    </tr>\n",
       "    <tr>\n",
       "      <th>...</th>\n",
       "      <th>...</th>\n",
       "      <td>...</td>\n",
       "      <td>...</td>\n",
       "      <td>...</td>\n",
       "      <td>...</td>\n",
       "      <td>...</td>\n",
       "      <td>...</td>\n",
       "    </tr>\n",
       "    <tr>\n",
       "      <th rowspan=\"5\" valign=\"top\">2021-03-15</th>\n",
       "      <th>688777</th>\n",
       "      <td>75.80</td>\n",
       "      <td>75.80</td>\n",
       "      <td>71.00</td>\n",
       "      <td>72.16</td>\n",
       "      <td>17443.0</td>\n",
       "      <td>1.268197e+08</td>\n",
       "    </tr>\n",
       "    <tr>\n",
       "      <th>688788</th>\n",
       "      <td>105.20</td>\n",
       "      <td>105.79</td>\n",
       "      <td>101.17</td>\n",
       "      <td>101.74</td>\n",
       "      <td>4391.0</td>\n",
       "      <td>4.510496e+07</td>\n",
       "    </tr>\n",
       "    <tr>\n",
       "      <th>688819</th>\n",
       "      <td>45.81</td>\n",
       "      <td>45.83</td>\n",
       "      <td>44.30</td>\n",
       "      <td>44.52</td>\n",
       "      <td>43681.0</td>\n",
       "      <td>1.958270e+08</td>\n",
       "    </tr>\n",
       "    <tr>\n",
       "      <th>688981</th>\n",
       "      <td>57.20</td>\n",
       "      <td>57.20</td>\n",
       "      <td>55.40</td>\n",
       "      <td>55.74</td>\n",
       "      <td>226351.0</td>\n",
       "      <td>1.272870e+09</td>\n",
       "    </tr>\n",
       "    <tr>\n",
       "      <th>689009</th>\n",
       "      <td>65.78</td>\n",
       "      <td>66.88</td>\n",
       "      <td>60.51</td>\n",
       "      <td>61.82</td>\n",
       "      <td>22240.0</td>\n",
       "      <td>1.428158e+08</td>\n",
       "    </tr>\n",
       "  </tbody>\n",
       "</table>\n",
       "<p>71504 rows × 6 columns</p>\n",
       "</div>"
      ],
      "text/plain": [
       "                     open    high     low   close     volume        amount\n",
       "date       code                                                           \n",
       "2021-02-18 000001   24.00   24.55   23.48   24.30  1505230.0  3.619388e+09\n",
       "           000002   28.95   30.13   28.95   30.01   996922.0  2.956989e+09\n",
       "           000004   17.21   18.07   17.21   17.98    23204.0  4.136155e+07\n",
       "           000005    1.91    1.99    1.91    1.99    64388.0  1.259473e+07\n",
       "           000006    4.88    5.02    4.88    4.98    70781.0  3.511906e+07\n",
       "...                   ...     ...     ...     ...        ...           ...\n",
       "2021-03-15 688777   75.80   75.80   71.00   72.16    17443.0  1.268197e+08\n",
       "           688788  105.20  105.79  101.17  101.74     4391.0  4.510496e+07\n",
       "           688819   45.81   45.83   44.30   44.52    43681.0  1.958270e+08\n",
       "           688981   57.20   57.20   55.40   55.74   226351.0  1.272870e+09\n",
       "           689009   65.78   66.88   60.51   61.82    22240.0  1.428158e+08\n",
       "\n",
       "[71504 rows x 6 columns]"
      ]
     },
     "execution_count": 28,
     "metadata": {},
     "output_type": "execute_result"
    }
   ],
   "source": [
    "stk_day_all.data"
   ]
  },
  {
   "cell_type": "markdown",
   "metadata": {},
   "source": [
    "# 使用Numba加速"
   ]
  },
  {
   "cell_type": "code",
   "execution_count": 106,
   "metadata": {},
   "outputs": [],
   "source": [
    "# @jit(nopython=True)\n",
    "# def f(sn):\n",
    "#     return pd.DataFrame(sn.pct_change(),index=sn.index,columns=['zf1'])\n",
    "# #     return pd.DataFrame(zip(sn.pct_change(i) for i in range(10)))"
   ]
  },
  {
   "cell_type": "code",
   "execution_count": 107,
   "metadata": {},
   "outputs": [],
   "source": [
    "# start_time = datetime.datetime.now()\n",
    "# stk_day_all.apply(lambda x:f(x.close))\n",
    "# end_time = datetime.datetime.now()\n",
    "# print(end_time - start_time)"
   ]
  },
  {
   "cell_type": "markdown",
   "metadata": {},
   "source": [
    "# 生产基础数据"
   ]
  },
  {
   "cell_type": "markdown",
   "metadata": {},
   "source": [
    "## 多日涨幅"
   ]
  },
  {
   "cell_type": "code",
   "execution_count": 181,
   "metadata": {},
   "outputs": [],
   "source": [
    "# sn.pct_change(1),sn.pct_change(2),sn.pct_change(3),sn.pct_change(4),sn.pct_change(5),sn.pct_change(6)\n",
    "def drzf(sn):\n",
    "    return pd.DataFrame(zip(*(sn.pct_change(n) for n in range(7)[1:])),index=sn.index,columns=['zf{}'.format(i) for i in range(7)[1:]])\n",
    "#     return pd.DataFrame(zip(sn.pct_change(1),sn.pct_change(2),sn.pct_change(3),sn.pct_change(4),sn.pct_change(5),sn.pct_change(6)),index=sn.index,columns=['zf{}'.format(i) for i in range(7)[1:]])\n",
    "#     return pd.DataFrame(zip(sn.pct_change(i) for i in range(10)))"
   ]
  },
  {
   "cell_type": "code",
   "execution_count": 182,
   "metadata": {},
   "outputs": [
    {
     "data": {
      "text/html": [
       "<div>\n",
       "<style scoped>\n",
       "    .dataframe tbody tr th:only-of-type {\n",
       "        vertical-align: middle;\n",
       "    }\n",
       "\n",
       "    .dataframe tbody tr th {\n",
       "        vertical-align: top;\n",
       "    }\n",
       "\n",
       "    .dataframe thead th {\n",
       "        text-align: right;\n",
       "    }\n",
       "</style>\n",
       "<table border=\"1\" class=\"dataframe\">\n",
       "  <thead>\n",
       "    <tr style=\"text-align: right;\">\n",
       "      <th></th>\n",
       "      <th></th>\n",
       "      <th>zf1</th>\n",
       "      <th>zf2</th>\n",
       "      <th>zf3</th>\n",
       "      <th>zf4</th>\n",
       "      <th>zf5</th>\n",
       "      <th>zf6</th>\n",
       "    </tr>\n",
       "    <tr>\n",
       "      <th>date</th>\n",
       "      <th>code</th>\n",
       "      <th></th>\n",
       "      <th></th>\n",
       "      <th></th>\n",
       "      <th></th>\n",
       "      <th></th>\n",
       "      <th></th>\n",
       "    </tr>\n",
       "  </thead>\n",
       "  <tbody>\n",
       "    <tr>\n",
       "      <th rowspan=\"5\" valign=\"top\">2021-02-18</th>\n",
       "      <th>000001</th>\n",
       "      <td>NaN</td>\n",
       "      <td>NaN</td>\n",
       "      <td>NaN</td>\n",
       "      <td>NaN</td>\n",
       "      <td>NaN</td>\n",
       "      <td>NaN</td>\n",
       "    </tr>\n",
       "    <tr>\n",
       "      <th>000002</th>\n",
       "      <td>0.234979</td>\n",
       "      <td>NaN</td>\n",
       "      <td>NaN</td>\n",
       "      <td>NaN</td>\n",
       "      <td>NaN</td>\n",
       "      <td>NaN</td>\n",
       "    </tr>\n",
       "    <tr>\n",
       "      <th>000004</th>\n",
       "      <td>-0.400866</td>\n",
       "      <td>-0.260082</td>\n",
       "      <td>NaN</td>\n",
       "      <td>NaN</td>\n",
       "      <td>NaN</td>\n",
       "      <td>NaN</td>\n",
       "    </tr>\n",
       "    <tr>\n",
       "      <th>000005</th>\n",
       "      <td>-0.889321</td>\n",
       "      <td>-0.933689</td>\n",
       "      <td>-0.918107</td>\n",
       "      <td>NaN</td>\n",
       "      <td>NaN</td>\n",
       "      <td>NaN</td>\n",
       "    </tr>\n",
       "    <tr>\n",
       "      <th>000006</th>\n",
       "      <td>1.502513</td>\n",
       "      <td>-0.723026</td>\n",
       "      <td>-0.834055</td>\n",
       "      <td>-0.795062</td>\n",
       "      <td>NaN</td>\n",
       "      <td>NaN</td>\n",
       "    </tr>\n",
       "    <tr>\n",
       "      <th>...</th>\n",
       "      <th>...</th>\n",
       "      <td>...</td>\n",
       "      <td>...</td>\n",
       "      <td>...</td>\n",
       "      <td>...</td>\n",
       "      <td>...</td>\n",
       "      <td>...</td>\n",
       "    </tr>\n",
       "    <tr>\n",
       "      <th rowspan=\"5\" valign=\"top\">2021-03-15</th>\n",
       "      <th>688777</th>\n",
       "      <td>3.074534</td>\n",
       "      <td>-0.837843</td>\n",
       "      <td>2.177455</td>\n",
       "      <td>1.816550</td>\n",
       "      <td>-0.439752</td>\n",
       "      <td>3.781975</td>\n",
       "    </tr>\n",
       "    <tr>\n",
       "      <th>688788</th>\n",
       "      <td>0.409922</td>\n",
       "      <td>4.744777</td>\n",
       "      <td>-0.771371</td>\n",
       "      <td>3.479965</td>\n",
       "      <td>2.971116</td>\n",
       "      <td>-0.210093</td>\n",
       "    </tr>\n",
       "    <tr>\n",
       "      <th>688819</th>\n",
       "      <td>-0.562414</td>\n",
       "      <td>-0.383038</td>\n",
       "      <td>1.513834</td>\n",
       "      <td>-0.899955</td>\n",
       "      <td>0.960370</td>\n",
       "      <td>0.737705</td>\n",
       "    </tr>\n",
       "    <tr>\n",
       "      <th>688981</th>\n",
       "      <td>0.252022</td>\n",
       "      <td>-0.452133</td>\n",
       "      <td>-0.227550</td>\n",
       "      <td>2.147374</td>\n",
       "      <td>-0.874742</td>\n",
       "      <td>1.454425</td>\n",
       "    </tr>\n",
       "    <tr>\n",
       "      <th>689009</th>\n",
       "      <td>0.109078</td>\n",
       "      <td>0.388589</td>\n",
       "      <td>-0.392373</td>\n",
       "      <td>-0.143293</td>\n",
       "      <td>2.490683</td>\n",
       "      <td>-0.861079</td>\n",
       "    </tr>\n",
       "  </tbody>\n",
       "</table>\n",
       "<p>71504 rows × 6 columns</p>\n",
       "</div>"
      ],
      "text/plain": [
       "                        zf1       zf2       zf3       zf4       zf5       zf6\n",
       "date       code                                                              \n",
       "2021-02-18 000001       NaN       NaN       NaN       NaN       NaN       NaN\n",
       "           000002  0.234979       NaN       NaN       NaN       NaN       NaN\n",
       "           000004 -0.400866 -0.260082       NaN       NaN       NaN       NaN\n",
       "           000005 -0.889321 -0.933689 -0.918107       NaN       NaN       NaN\n",
       "           000006  1.502513 -0.723026 -0.834055 -0.795062       NaN       NaN\n",
       "...                     ...       ...       ...       ...       ...       ...\n",
       "2021-03-15 688777  3.074534 -0.837843  2.177455  1.816550 -0.439752  3.781975\n",
       "           688788  0.409922  4.744777 -0.771371  3.479965  2.971116 -0.210093\n",
       "           688819 -0.562414 -0.383038  1.513834 -0.899955  0.960370  0.737705\n",
       "           688981  0.252022 -0.452133 -0.227550  2.147374 -0.874742  1.454425\n",
       "           689009  0.109078  0.388589 -0.392373 -0.143293  2.490683 -0.861079\n",
       "\n",
       "[71504 rows x 6 columns]"
      ]
     },
     "execution_count": 182,
     "metadata": {},
     "output_type": "execute_result"
    }
   ],
   "source": [
    "# base_data = \n",
    "stk_day_all.apply(lambda x:drzf(x.close))"
   ]
  },
  {
   "cell_type": "code",
   "execution_count": 176,
   "metadata": {},
   "outputs": [
    {
     "data": {
      "text/plain": [
       "date        code  \n",
       "2021-03-05  600519    729.535461\n",
       "            601888    172.795455\n",
       "            600763    113.661836\n",
       "            600809    108.045614\n",
       "            000661    107.809278\n",
       "            688169     90.762115\n",
       "            000596     77.760870\n",
       "            000858     68.041451\n",
       "            600436     67.665854\n",
       "            600309     64.742515\n",
       "            000568     62.555556\n",
       "            002371     59.660000\n",
       "            000799     59.588496\n",
       "            002594     53.547222\n",
       "            603236     51.452026\n",
       "            600745     49.308057\n",
       "            300751     48.123768\n",
       "            002304     47.624324\n",
       "            601799     46.415617\n",
       "            002352     46.365854\n",
       "dtype: float64"
      ]
     },
     "execution_count": 176,
     "metadata": {},
     "output_type": "execute_result"
    }
   ],
   "source": [
    "base_data.loc['2021-03-05'].max(axis=1).sort_values(ascending=False).head(20)"
   ]
  },
  {
   "cell_type": "code",
   "execution_count": 145,
   "metadata": {},
   "outputs": [
    {
     "name": "stdout",
     "output_type": "stream",
     "text": [
      "0:00:00.181549\n"
     ]
    }
   ],
   "source": [
    "# performance checking\n",
    "start_time = datetime.datetime.now()\n",
    "stk_day_all.apply(lambda x:drzf(x.close))\n",
    "end_time = datetime.datetime.now()\n",
    "print(end_time - start_time)\n",
    "# 00.179523"
   ]
  },
  {
   "cell_type": "markdown",
   "metadata": {},
   "source": [
    "# emas"
   ]
  },
  {
   "cell_type": "code",
   "execution_count": 212,
   "metadata": {},
   "outputs": [],
   "source": [
    "def emas(data):\n",
    "    return pd.DataFrame({'ema5':QA.EMA(data.close,5)})\n",
    "#多日emas\n",
    "#     return pd.DataFrame({'ema{}'.format(n): QA.EMA(data.close,n) for n in [5,10,15,20,30,40,60,80,100,120,240]})"
   ]
  },
  {
   "cell_type": "code",
   "execution_count": 206,
   "metadata": {},
   "outputs": [
    {
     "data": {
      "text/plain": [
       "date        code  \n",
       "2021-02-18  000001     24.30\n",
       "            000002     30.01\n",
       "            000004     17.98\n",
       "            000005      1.99\n",
       "            000006      4.98\n",
       "                       ...  \n",
       "2021-03-15  688777     72.16\n",
       "            688788    101.74\n",
       "            688819     44.52\n",
       "            688981     55.74\n",
       "            689009     61.82\n",
       "Name: close, Length: 71504, dtype: float64"
      ]
     },
     "execution_count": 206,
     "metadata": {},
     "output_type": "execute_result"
    }
   ],
   "source": [
    "stk_day_all.close"
   ]
  },
  {
   "cell_type": "code",
   "execution_count": 151,
   "metadata": {},
   "outputs": [
    {
     "name": "stdout",
     "output_type": "stream",
     "text": [
      "0:00:00.288775\n"
     ]
    }
   ],
   "source": [
    "start_time = datetime.datetime.now()\n",
    "test = stk_day_all.apply(lambda x:emas(x))\n",
    "end_time = datetime.datetime.now()\n",
    "print(end_time - start_time)"
   ]
  },
  {
   "cell_type": "code",
   "execution_count": 213,
   "metadata": {},
   "outputs": [
    {
     "data": {
      "text/html": [
       "<div>\n",
       "<style scoped>\n",
       "    .dataframe tbody tr th:only-of-type {\n",
       "        vertical-align: middle;\n",
       "    }\n",
       "\n",
       "    .dataframe tbody tr th {\n",
       "        vertical-align: top;\n",
       "    }\n",
       "\n",
       "    .dataframe thead th {\n",
       "        text-align: right;\n",
       "    }\n",
       "</style>\n",
       "<table border=\"1\" class=\"dataframe\">\n",
       "  <thead>\n",
       "    <tr style=\"text-align: right;\">\n",
       "      <th></th>\n",
       "      <th></th>\n",
       "      <th>ema5</th>\n",
       "    </tr>\n",
       "    <tr>\n",
       "      <th>date</th>\n",
       "      <th>code</th>\n",
       "      <th></th>\n",
       "    </tr>\n",
       "  </thead>\n",
       "  <tbody>\n",
       "    <tr>\n",
       "      <th rowspan=\"11\" valign=\"top\">2021-03-15</th>\n",
       "      <th>000001</th>\n",
       "      <td>55.480510</td>\n",
       "    </tr>\n",
       "    <tr>\n",
       "      <th>000002</th>\n",
       "      <td>47.467007</td>\n",
       "    </tr>\n",
       "    <tr>\n",
       "      <th>000004</th>\n",
       "      <td>37.331338</td>\n",
       "    </tr>\n",
       "    <tr>\n",
       "      <th>000005</th>\n",
       "      <td>25.644225</td>\n",
       "    </tr>\n",
       "    <tr>\n",
       "      <th>000006</th>\n",
       "      <td>18.859483</td>\n",
       "    </tr>\n",
       "    <tr>\n",
       "      <th>...</th>\n",
       "      <td>...</td>\n",
       "    </tr>\n",
       "    <tr>\n",
       "      <th>688777</th>\n",
       "      <td>106.288514</td>\n",
       "    </tr>\n",
       "    <tr>\n",
       "      <th>688788</th>\n",
       "      <td>104.772343</td>\n",
       "    </tr>\n",
       "    <tr>\n",
       "      <th>688819</th>\n",
       "      <td>84.688229</td>\n",
       "    </tr>\n",
       "    <tr>\n",
       "      <th>688981</th>\n",
       "      <td>75.038819</td>\n",
       "    </tr>\n",
       "    <tr>\n",
       "      <th>689009</th>\n",
       "      <td>70.632546</td>\n",
       "    </tr>\n",
       "  </tbody>\n",
       "</table>\n",
       "<p>3902 rows × 1 columns</p>\n",
       "</div>"
      ],
      "text/plain": [
       "                         ema5\n",
       "date       code              \n",
       "2021-03-15 000001   55.480510\n",
       "           000002   47.467007\n",
       "           000004   37.331338\n",
       "           000005   25.644225\n",
       "           000006   18.859483\n",
       "...                       ...\n",
       "           688777  106.288514\n",
       "           688788  104.772343\n",
       "           688819   84.688229\n",
       "           688981   75.038819\n",
       "           689009   70.632546\n",
       "\n",
       "[3902 rows x 1 columns]"
      ]
     },
     "execution_count": 213,
     "metadata": {},
     "output_type": "execute_result"
    }
   ],
   "source": [
    "stk_day_all.apply(lambda x:emas(x)).loc['2021-03-15\t']\n"
   ]
  },
  {
   "cell_type": "markdown",
   "metadata": {},
   "source": [
    "## 平均涨幅"
   ]
  },
  {
   "cell_type": "code",
   "execution_count": 178,
   "metadata": {},
   "outputs": [],
   "source": [
    "def mazf(data):\n",
    "#多日波动幅度\n",
    "    return pd.DataFrame({'mazf{}'.format(n): QA.MA(QA.ABS(data.close.pct_change(1)*100),n) for n in [5,10,15,20,30,40,60,80,100,120,240]}) "
   ]
  },
  {
   "cell_type": "code",
   "execution_count": 163,
   "metadata": {},
   "outputs": [
    {
     "name": "stdout",
     "output_type": "stream",
     "text": [
      "0:00:00.170544\n"
     ]
    }
   ],
   "source": [
    "start_time = datetime.datetime.now()\n",
    "stk_day_all.apply(lambda x:mazf(x))\n",
    "end_time = datetime.datetime.now()\n",
    "print(end_time - start_time)"
   ]
  },
  {
   "cell_type": "code",
   "execution_count": 179,
   "metadata": {},
   "outputs": [
    {
     "data": {
      "text/html": [
       "<div>\n",
       "<style scoped>\n",
       "    .dataframe tbody tr th:only-of-type {\n",
       "        vertical-align: middle;\n",
       "    }\n",
       "\n",
       "    .dataframe tbody tr th {\n",
       "        vertical-align: top;\n",
       "    }\n",
       "\n",
       "    .dataframe thead th {\n",
       "        text-align: right;\n",
       "    }\n",
       "</style>\n",
       "<table border=\"1\" class=\"dataframe\">\n",
       "  <thead>\n",
       "    <tr style=\"text-align: right;\">\n",
       "      <th></th>\n",
       "      <th></th>\n",
       "      <th>mazf5</th>\n",
       "      <th>mazf10</th>\n",
       "      <th>mazf15</th>\n",
       "      <th>mazf20</th>\n",
       "      <th>mazf30</th>\n",
       "      <th>mazf40</th>\n",
       "      <th>mazf60</th>\n",
       "      <th>mazf80</th>\n",
       "      <th>mazf100</th>\n",
       "      <th>mazf120</th>\n",
       "      <th>mazf240</th>\n",
       "    </tr>\n",
       "    <tr>\n",
       "      <th>date</th>\n",
       "      <th>code</th>\n",
       "      <th></th>\n",
       "      <th></th>\n",
       "      <th></th>\n",
       "      <th></th>\n",
       "      <th></th>\n",
       "      <th></th>\n",
       "      <th></th>\n",
       "      <th></th>\n",
       "      <th></th>\n",
       "      <th></th>\n",
       "      <th></th>\n",
       "    </tr>\n",
       "  </thead>\n",
       "  <tbody>\n",
       "    <tr>\n",
       "      <th rowspan=\"5\" valign=\"top\">2021-02-18</th>\n",
       "      <th>000001</th>\n",
       "      <td>NaN</td>\n",
       "      <td>NaN</td>\n",
       "      <td>NaN</td>\n",
       "      <td>NaN</td>\n",
       "      <td>NaN</td>\n",
       "      <td>NaN</td>\n",
       "      <td>NaN</td>\n",
       "      <td>NaN</td>\n",
       "      <td>NaN</td>\n",
       "      <td>NaN</td>\n",
       "      <td>NaN</td>\n",
       "    </tr>\n",
       "    <tr>\n",
       "      <th>000002</th>\n",
       "      <td>NaN</td>\n",
       "      <td>NaN</td>\n",
       "      <td>NaN</td>\n",
       "      <td>NaN</td>\n",
       "      <td>NaN</td>\n",
       "      <td>NaN</td>\n",
       "      <td>NaN</td>\n",
       "      <td>NaN</td>\n",
       "      <td>NaN</td>\n",
       "      <td>NaN</td>\n",
       "      <td>NaN</td>\n",
       "    </tr>\n",
       "    <tr>\n",
       "      <th>000004</th>\n",
       "      <td>NaN</td>\n",
       "      <td>NaN</td>\n",
       "      <td>NaN</td>\n",
       "      <td>NaN</td>\n",
       "      <td>NaN</td>\n",
       "      <td>NaN</td>\n",
       "      <td>NaN</td>\n",
       "      <td>NaN</td>\n",
       "      <td>NaN</td>\n",
       "      <td>NaN</td>\n",
       "      <td>NaN</td>\n",
       "    </tr>\n",
       "    <tr>\n",
       "      <th>000005</th>\n",
       "      <td>NaN</td>\n",
       "      <td>NaN</td>\n",
       "      <td>NaN</td>\n",
       "      <td>NaN</td>\n",
       "      <td>NaN</td>\n",
       "      <td>NaN</td>\n",
       "      <td>NaN</td>\n",
       "      <td>NaN</td>\n",
       "      <td>NaN</td>\n",
       "      <td>NaN</td>\n",
       "      <td>NaN</td>\n",
       "    </tr>\n",
       "    <tr>\n",
       "      <th>000006</th>\n",
       "      <td>NaN</td>\n",
       "      <td>NaN</td>\n",
       "      <td>NaN</td>\n",
       "      <td>NaN</td>\n",
       "      <td>NaN</td>\n",
       "      <td>NaN</td>\n",
       "      <td>NaN</td>\n",
       "      <td>NaN</td>\n",
       "      <td>NaN</td>\n",
       "      <td>NaN</td>\n",
       "      <td>NaN</td>\n",
       "    </tr>\n",
       "    <tr>\n",
       "      <th>...</th>\n",
       "      <th>...</th>\n",
       "      <td>...</td>\n",
       "      <td>...</td>\n",
       "      <td>...</td>\n",
       "      <td>...</td>\n",
       "      <td>...</td>\n",
       "      <td>...</td>\n",
       "      <td>...</td>\n",
       "      <td>...</td>\n",
       "      <td>...</td>\n",
       "      <td>...</td>\n",
       "      <td>...</td>\n",
       "    </tr>\n",
       "    <tr>\n",
       "      <th rowspan=\"5\" valign=\"top\">2021-03-15</th>\n",
       "      <th>688777</th>\n",
       "      <td>470.885972</td>\n",
       "      <td>356.509933</td>\n",
       "      <td>265.538084</td>\n",
       "      <td>214.971227</td>\n",
       "      <td>215.183404</td>\n",
       "      <td>199.512431</td>\n",
       "      <td>178.635882</td>\n",
       "      <td>164.573926</td>\n",
       "      <td>159.267334</td>\n",
       "      <td>148.771692</td>\n",
       "      <td>173.077941</td>\n",
       "    </tr>\n",
       "    <tr>\n",
       "      <th>688788</th>\n",
       "      <td>463.062681</td>\n",
       "      <td>355.326287</td>\n",
       "      <td>263.730399</td>\n",
       "      <td>215.569368</td>\n",
       "      <td>216.056313</td>\n",
       "      <td>199.391403</td>\n",
       "      <td>177.868521</td>\n",
       "      <td>164.237673</td>\n",
       "      <td>159.474608</td>\n",
       "      <td>147.761085</td>\n",
       "      <td>173.122843</td>\n",
       "    </tr>\n",
       "    <tr>\n",
       "      <th>688819</th>\n",
       "      <td>472.039298</td>\n",
       "      <td>330.139766</td>\n",
       "      <td>258.073513</td>\n",
       "      <td>214.523949</td>\n",
       "      <td>216.363215</td>\n",
       "      <td>199.844264</td>\n",
       "      <td>177.886077</td>\n",
       "      <td>164.037655</td>\n",
       "      <td>158.074120</td>\n",
       "      <td>147.680841</td>\n",
       "      <td>172.009633</td>\n",
       "    </tr>\n",
       "    <tr>\n",
       "      <th>688981</th>\n",
       "      <td>105.181887</td>\n",
       "      <td>325.318485</td>\n",
       "      <td>254.049152</td>\n",
       "      <td>213.683563</td>\n",
       "      <td>215.722985</td>\n",
       "      <td>199.037866</td>\n",
       "      <td>176.970833</td>\n",
       "      <td>161.589607</td>\n",
       "      <td>156.485738</td>\n",
       "      <td>145.162968</td>\n",
       "      <td>172.034381</td>\n",
       "    </tr>\n",
       "    <tr>\n",
       "      <th>689009</th>\n",
       "      <td>88.159400</td>\n",
       "      <td>324.131884</td>\n",
       "      <td>249.777147</td>\n",
       "      <td>213.413205</td>\n",
       "      <td>207.075332</td>\n",
       "      <td>197.992355</td>\n",
       "      <td>175.169027</td>\n",
       "      <td>160.994926</td>\n",
       "      <td>155.837792</td>\n",
       "      <td>144.626336</td>\n",
       "      <td>171.826968</td>\n",
       "    </tr>\n",
       "  </tbody>\n",
       "</table>\n",
       "<p>71504 rows × 11 columns</p>\n",
       "</div>"
      ],
      "text/plain": [
       "                        mazf5      mazf10      mazf15      mazf20      mazf30  \\\n",
       "date       code                                                                 \n",
       "2021-02-18 000001         NaN         NaN         NaN         NaN         NaN   \n",
       "           000002         NaN         NaN         NaN         NaN         NaN   \n",
       "           000004         NaN         NaN         NaN         NaN         NaN   \n",
       "           000005         NaN         NaN         NaN         NaN         NaN   \n",
       "           000006         NaN         NaN         NaN         NaN         NaN   \n",
       "...                       ...         ...         ...         ...         ...   \n",
       "2021-03-15 688777  470.885972  356.509933  265.538084  214.971227  215.183404   \n",
       "           688788  463.062681  355.326287  263.730399  215.569368  216.056313   \n",
       "           688819  472.039298  330.139766  258.073513  214.523949  216.363215   \n",
       "           688981  105.181887  325.318485  254.049152  213.683563  215.722985   \n",
       "           689009   88.159400  324.131884  249.777147  213.413205  207.075332   \n",
       "\n",
       "                       mazf40      mazf60      mazf80     mazf100     mazf120  \\\n",
       "date       code                                                                 \n",
       "2021-02-18 000001         NaN         NaN         NaN         NaN         NaN   \n",
       "           000002         NaN         NaN         NaN         NaN         NaN   \n",
       "           000004         NaN         NaN         NaN         NaN         NaN   \n",
       "           000005         NaN         NaN         NaN         NaN         NaN   \n",
       "           000006         NaN         NaN         NaN         NaN         NaN   \n",
       "...                       ...         ...         ...         ...         ...   \n",
       "2021-03-15 688777  199.512431  178.635882  164.573926  159.267334  148.771692   \n",
       "           688788  199.391403  177.868521  164.237673  159.474608  147.761085   \n",
       "           688819  199.844264  177.886077  164.037655  158.074120  147.680841   \n",
       "           688981  199.037866  176.970833  161.589607  156.485738  145.162968   \n",
       "           689009  197.992355  175.169027  160.994926  155.837792  144.626336   \n",
       "\n",
       "                      mazf240  \n",
       "date       code                \n",
       "2021-02-18 000001         NaN  \n",
       "           000002         NaN  \n",
       "           000004         NaN  \n",
       "           000005         NaN  \n",
       "           000006         NaN  \n",
       "...                       ...  \n",
       "2021-03-15 688777  173.077941  \n",
       "           688788  173.122843  \n",
       "           688819  172.009633  \n",
       "           688981  172.034381  \n",
       "           689009  171.826968  \n",
       "\n",
       "[71504 rows x 11 columns]"
      ]
     },
     "execution_count": 179,
     "metadata": {},
     "output_type": "execute_result"
    }
   ],
   "source": [
    "stk_day_all.apply(lambda x:mazf(x))"
   ]
  },
  {
   "cell_type": "code",
   "execution_count": 177,
   "metadata": {},
   "outputs": [],
   "source": [
    "# ind_base_data = stk_day_all.add_func(drzf)"
   ]
  },
  {
   "cell_type": "code",
   "execution_count": 130,
   "metadata": {
    "scrolled": true
   },
   "outputs": [
    {
     "data": {
      "text/plain": [
       "date        code  \n",
       "2021-03-05  002647    102.551020\n",
       "            603222     84.362934\n",
       "            603126     77.454545\n",
       "            300234     73.076923\n",
       "            300312     66.190476\n",
       "            688059     65.456013\n",
       "            601038     63.606911\n",
       "            600010     57.575758\n",
       "            002658     55.787476\n",
       "            688308     54.871795\n",
       "dtype: float64"
      ]
     },
     "execution_count": 130,
     "metadata": {},
     "output_type": "execute_result"
    }
   ],
   "source": [
    "#涨幅最大的20只\n",
    "ind_base_data.loc['2021-03-05'].max(axis=1).sort_values(ascending=False).head(20)"
   ]
  },
  {
   "cell_type": "code",
   "execution_count": 131,
   "metadata": {},
   "outputs": [
    {
     "data": {
      "text/plain": [
       "date        code  \n",
       "2021-03-05  300948   -36.629934\n",
       "            300945   -36.611374\n",
       "            300949   -33.256881\n",
       "            603799   -32.865787\n",
       "            600763   -31.932894\n",
       "            688619   -31.670504\n",
       "            003038   -29.525399\n",
       "            605133   -29.063205\n",
       "            300595   -27.415144\n",
       "            300951   -26.923077\n",
       "            605077   -26.686707\n",
       "            300896   -26.536313\n",
       "            688179   -26.345756\n",
       "            603338   -25.854786\n",
       "            600438   -25.816733\n",
       "            002597   -25.450902\n",
       "            601015   -25.306893\n",
       "            002460   -25.089360\n",
       "            600989   -24.926829\n",
       "            601899   -24.812030\n",
       "dtype: float64"
      ]
     },
     "execution_count": 131,
     "metadata": {},
     "output_type": "execute_result"
    }
   ],
   "source": [
    "# 跌幅最大的20只\n",
    "ind_base_data.loc['2021-03-05'].min(axis=1).sort_values(ascending=True).head(20)"
   ]
  },
  {
   "cell_type": "code",
   "execution_count": 202,
   "metadata": {},
   "outputs": [
    {
     "data": {
      "text/plain": [
       "date        code  \n",
       "2021-02-18  000001         NaN\n",
       "            000002    0.234979\n",
       "2021-02-19  000001   -0.205265\n",
       "            000002    0.251153\n",
       "2021-02-22  000001   -0.250000\n",
       "            000002    0.328418\n",
       "2021-02-23  000001   -0.262361\n",
       "            000002    0.368445\n",
       "2021-02-24  000001   -0.261579\n",
       "            000002    0.353339\n",
       "2021-02-25  000001   -0.263421\n",
       "            000002    0.493436\n",
       "2021-02-26  000001   -0.351925\n",
       "            000002    0.548176\n",
       "2021-03-01  000001   -0.351964\n",
       "            000002    0.554779\n",
       "2021-03-02  000001   -0.350825\n",
       "            000002    0.537644\n",
       "2021-03-03  000001   -0.308801\n",
       "            000002    0.455889\n",
       "2021-03-04  000001   -0.315821\n",
       "            000002    0.426265\n",
       "2021-03-05  000001   -0.316611\n",
       "            000002    0.411817\n",
       "2021-03-08  000001   -0.315155\n",
       "            000002    0.444444\n",
       "2021-03-09  000001   -0.331731\n",
       "            000002    0.487770\n",
       "2021-03-10  000001   -0.342360\n",
       "            000002    0.504412\n",
       "2021-03-11  000001   -0.306940\n",
       "            000002    0.464504\n",
       "2021-03-12  000001   -0.310433\n",
       "            000002    0.466015\n",
       "2021-03-15  000001   -0.314068\n",
       "            000002    0.455556\n",
       "Name: close, dtype: float64"
      ]
     },
     "execution_count": 202,
     "metadata": {},
     "output_type": "execute_result"
    }
   ],
   "source": [
    "sample = QA.QA_fetch_stock_day_adv(['000001','000002'],start,end).to_qfq()\n",
    "# sample = QA.QA_fetch_stock_day_adv('000001',start,end).to_qfq()\n",
    "sample.close.pct_change()"
   ]
  },
  {
   "cell_type": "code",
   "execution_count": 200,
   "metadata": {},
   "outputs": [
    {
     "data": {
      "text/plain": [
       "QUANTAXIS.QAData.QADataStruct.QA_DataStruct_Stock_day"
      ]
     },
     "execution_count": 200,
     "metadata": {},
     "output_type": "execute_result"
    }
   ],
   "source": []
  },
  {
   "cell_type": "markdown",
   "metadata": {},
   "source": [
    "# 选择板块"
   ]
  },
  {
   "cell_type": "code",
   "execution_count": 83,
   "metadata": {},
   "outputs": [
    {
     "ename": "SyntaxError",
     "evalue": "invalid syntax (<ipython-input-83-3708913aa175>, line 1)",
     "output_type": "error",
     "traceback": [
      "\u001b[1;36m  File \u001b[1;32m\"<ipython-input-83-3708913aa175>\"\u001b[1;36m, line \u001b[1;32m1\u001b[0m\n\u001b[1;33m    QA.\u001b[0m\n\u001b[1;37m       ^\u001b[0m\n\u001b[1;31mSyntaxError\u001b[0m\u001b[1;31m:\u001b[0m invalid syntax\n"
     ]
    }
   ],
   "source": [
    "QA."
   ]
  },
  {
   "cell_type": "code",
   "execution_count": null,
   "metadata": {},
   "outputs": [],
   "source": []
  },
  {
   "cell_type": "code",
   "execution_count": null,
   "metadata": {},
   "outputs": [],
   "source": []
  },
  {
   "cell_type": "code",
   "execution_count": null,
   "metadata": {},
   "outputs": [],
   "source": []
  },
  {
   "cell_type": "code",
   "execution_count": 17,
   "metadata": {
    "scrolled": true
   },
   "outputs": [
    {
     "data": {
      "text/plain": [
       "date\n",
       "2019-11-28     978.0\n",
       "2019-11-29    1031.0\n",
       "2019-12-02    1101.0\n",
       "2019-12-03    1423.0\n",
       "2019-12-04    1583.0\n",
       "2019-12-05    2164.0\n",
       "2019-12-06    2508.0\n",
       "2019-12-09    2618.0\n",
       "2019-12-10    2651.0\n",
       "2019-12-11    2558.0\n",
       "2019-12-12    2272.0\n",
       "2019-12-13    2809.0\n",
       "2019-12-16    3228.0\n",
       "2019-12-17    3446.0\n",
       "2019-12-18    3452.0\n",
       "2019-12-19    3476.0\n",
       "2019-12-20    3353.0\n",
       "2019-12-23    2366.0\n",
       "2019-12-24    2933.0\n",
       "2019-12-25    2867.0\n",
       "2019-12-26    3021.0\n",
       "2019-12-27    2774.0\n",
       "2019-12-30    2716.0\n",
       "2019-12-31    2861.0\n",
       "2020-01-02    3271.0\n",
       "2020-01-03    3298.0\n",
       "2020-01-06    3266.0\n",
       "Name: close, dtype: float64"
      ]
     },
     "execution_count": 17,
     "metadata": {},
     "output_type": "execute_result"
    }
   ],
   "source": [
    "import QUANTAXIS as QA\n",
    "\n",
    "#获取全市场股票 list格式\n",
    "code  = QA.QA_fetch_stock_list_adv().code.tolist()\n",
    "\n",
    "# 获取全市场数据 QADataStruct格式\n",
    "\n",
    "data =  QA.QA_fetch_stock_day_adv(code,  '2019-11-01','2020-01-06')\n",
    "\n",
    "# 写个指标 so easy\n",
    "def ifup20(data):\n",
    "    return (data.close-QA.MA(data.close, 20)).dropna() > 0\n",
    "\n",
    "# apply到 QADataStruct上\n",
    "\n",
    "ind = data.add_func(ifup20)\n",
    "\n",
    "# 对于指标groupby 日期 求和\n",
    "\n",
    "ind.dropna().groupby(level=0).sum()"
   ]
  },
  {
   "cell_type": "code",
   "execution_count": 34,
   "metadata": {},
   "outputs": [
    {
     "data": {
      "text/plain": [
       "code\n",
       "000001    True\n",
       "000002    True\n",
       "000004    True\n",
       "000005    True\n",
       "000006    True\n",
       "000008    True\n",
       "000009    True\n",
       "000010    True\n",
       "000011    True\n",
       "000012    True\n",
       "000014    True\n",
       "000016    True\n",
       "000017    True\n",
       "000019    True\n",
       "000020    True\n",
       "000021    True\n",
       "000023    True\n",
       "000025    True\n",
       "000026    True\n",
       "000027    True\n",
       "000028    True\n",
       "000030    True\n",
       "000031    True\n",
       "000032    True\n",
       "000036    True\n",
       "000040    True\n",
       "000042    True\n",
       "000045    True\n",
       "000046    True\n",
       "000048    True\n",
       "          ... \n",
       "688023    True\n",
       "688128    True\n",
       "688199    True\n",
       "688202    True\n",
       "688389    True\n",
       "300800    True\n",
       "688021    True\n",
       "688288    True\n",
       "688299    True\n",
       "688363    True\n",
       "300080    True\n",
       "300749    True\n",
       "688166    True\n",
       "002453    True\n",
       "002542    True\n",
       "300796    True\n",
       "688101    True\n",
       "688300    True\n",
       "300803    True\n",
       "688138    True\n",
       "300805    True\n",
       "688196    True\n",
       "601916    True\n",
       "688310    True\n",
       "688358    True\n",
       "002323    True\n",
       "688357    True\n",
       "688399    True\n",
       "300810    True\n",
       "688198    True\n",
       "Name: close, Length: 3266, dtype: bool"
      ]
     },
     "execution_count": 34,
     "metadata": {},
     "output_type": "execute_result"
    }
   ],
   "source": [
    "t=ind['2020-01-06']\n",
    "t[t==True]"
   ]
  },
  {
   "cell_type": "code",
   "execution_count": 1,
   "metadata": {},
   "outputs": [],
   "source": [
    "#!/usr/bin/env python3\n",
    "\n",
    "import datetime\n",
    "import os\n",
    "\n",
    "import pandas as pd\n",
    "\n",
    "import QUANTAXIS as QA\n",
    "\n",
    "# code_list = QA.QA_fetch_stock_list().index.tolist()\n",
    "code_list = [\"000001\", \"600000\"]\n",
    "current_date = str(datetime.date.today())\n",
    "current_daily_bar = pd.DataFrame()\n",
    "# 前置数据时间点\n",
    "start_date = QA.QA_util_get_pre_trade_date(current_date, n=100)\n",
    "# 前置数据准备\n",
    "daily_data = QA.QA_fetch_stock_day_adv(\n",
    "    code=code_list, start=start_date, end=current_date\n",
    ").to_qfq()\n",
    "\n",
    "# 方便计算，数据转换为相应透视数据\n",
    "closes = daily_data.pivot(\"close\")\n",
    "highs = daily_data.pivot(\"high\")\n",
    "lows = daily_data.pivot(\"low\")\n",
    "\n",
    "\n",
    "def get_short_strength(\n",
    "    highs: pd.DataFrame, lows: pd.DataFrame, closes: pd.DataFrame, period: int = 27\n",
    ") -> pd.Series:\n",
    "    \"\"\"\n",
    "    计算空方力量\n",
    "\n",
    "    :param highs: high 透视数据\n",
    "    :param closes: close 透视数据\n",
    "    :param period: 周期\n",
    "    \"\"\"\n",
    "    A = highs.apply(QA.HHV, N=period, axis=0)\n",
    "    B = lows.apply(QA.LLV, N=period, axis=0)\n",
    "    return 100 * (A.iloc[-1] - closes.ffill().iloc[-1]) / (A.iloc[-1] - B.iloc[-1])\n",
    "\n",
    "\n",
    "def get_long_strength(\n",
    "    highs: pd.DataFrame, lows: pd.DataFrame, closes: pd.DataFrame, period: int = 27\n",
    ") -> pd.Series:\n",
    "    \"\"\"\n",
    "    计算多方力量\n",
    "    \"\"\"\n",
    "    A = highs.apply(QA.HHV, N=period, axis=0)\n",
    "    B = lows.apply(QA.LLV, N=period, axis=0)\n",
    "    C = ((closes - B) / (A - B)).apply(QA.QAIndicator.base.SMA, N=5, M=1, axis=0) * 100\n",
    "    return (3 * C - 2 * C.apply(QA.QAIndicator.base.SMA, N=3, M=1)).iloc[-1]\n",
    "\n",
    "\n",
    "def get_RSV(\n",
    "    highs: pd.DataFrame, lows: pd.DataFrame, closes: pd.DataFrame, period: int = 30\n",
    ") -> pd.DataFrame:\n",
    "    \"\"\"\n",
    "    计算 RSV 值\n",
    "    \"\"\"\n",
    "    return (\n",
    "        100\n",
    "        * (closes - lows.apply(QA.LLV, N=period, axis=0))\n",
    "        / (highs.apply(QA.HHV, N=period, axis=0) - lows.apply(QA.LLV, N=period, axis=0))\n",
    "    )\n",
    "\n",
    "\n",
    "def get_KDJ(\n",
    "    highs: pd.DataFrame,\n",
    "    lows: pd.DataFrame,\n",
    "    closes: pd.DataFrame,\n",
    "    period: int = 30,\n",
    "    M1: int = 3,\n",
    "    M2: int = 3,\n",
    ") -> dict:\n",
    "    \"\"\"\n",
    "    获取 KDJ 值\n",
    "    \"\"\"\n",
    "    RSV = get_RSV(highs, lows, closes, period)\n",
    "    KDJ_K = RSV.apply(QA.QAIndicator.base.SMA, N=3, M=1, axis=0)\n",
    "    KDJ_D = KDJ_K.apply(QA.QAIndicator.base.SMA, N=3, M=1, axis=0)\n",
    "    KDJ_J = 3 * KDJ_K - 2 * KDJ_D\n",
    "    return {\"KDJ_K\": KDJ_K, \"KDJ_D\": KDJ_D, \"KDJ_J\": KDJ_J}"
   ]
  },
  {
   "cell_type": "code",
   "execution_count": null,
   "metadata": {},
   "outputs": [],
   "source": []
  }
 ],
 "metadata": {
  "kernelspec": {
   "display_name": "Python 3",
   "language": "python",
   "name": "python3"
  },
  "language_info": {
   "codemirror_mode": {
    "name": "ipython",
    "version": 3
   },
   "file_extension": ".py",
   "mimetype": "text/x-python",
   "name": "python",
   "nbconvert_exporter": "python",
   "pygments_lexer": "ipython3",
   "version": "3.8.5"
  }
 },
 "nbformat": 4,
 "nbformat_minor": 2
}
