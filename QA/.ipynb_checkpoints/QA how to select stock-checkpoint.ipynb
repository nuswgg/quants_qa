{
 "cells": [
  {
   "cell_type": "code",
   "execution_count": 10,
   "metadata": {},
   "outputs": [],
   "source": [
    "import QUANTAXIS as QA\n",
    "import pandas as pd\n",
    "# import talib\n",
    "import datetime"
   ]
  },
  {
   "cell_type": "code",
   "execution_count": 2,
   "metadata": {},
   "outputs": [],
   "source": [
    "# 写个指标 so easy\n",
    "def ifup20(data):\n",
    "    # QA内建指标计算 Python原生代码\n",
    "    return (QA.MA(data.close, 5)-QA.MA(data.close, 20)).dropna() > 0\n",
    "\n",
    "def ifup20_TA(data):\n",
    "    # TA-lib计算\n",
    "    return (TA_MA(data.close, 5)-TA_MA(data.close, 20)).dropna() > 0"
   ]
  },
  {
   "cell_type": "code",
   "execution_count": 4,
   "metadata": {},
   "outputs": [],
   "source": [
    "blk = QA.QA_fetch_stock_block_adv()"
   ]
  },
  {
   "cell_type": "code",
   "execution_count": 5,
   "metadata": {},
   "outputs": [],
   "source": [
    "hs300 = blk.get_block('沪深300').code"
   ]
  },
  {
   "cell_type": "code",
   "execution_count": 21,
   "metadata": {},
   "outputs": [],
   "source": [
    "today = datetime.date.today().strftime('%Y-%m-%d')"
   ]
  },
  {
   "cell_type": "code",
   "execution_count": 22,
   "metadata": {},
   "outputs": [
    {
     "data": {
      "text/plain": [
       "'2021-03-08'"
      ]
     },
     "execution_count": 22,
     "metadata": {},
     "output_type": "execute_result"
    }
   ],
   "source": [
    "today"
   ]
  },
  {
   "cell_type": "code",
   "execution_count": 42,
   "metadata": {},
   "outputs": [],
   "source": [
    "# data = QA.QA_fetch_stock_day_adv(hs300,'2020-01-01','2020-09-14')\n",
    "data = QA.QA_fetch_stock_day_adv('000001','2020-01-01',today).to_qfq()"
   ]
  },
  {
   "cell_type": "code",
   "execution_count": 24,
   "metadata": {},
   "outputs": [],
   "source": [
    "def drzf(data): #多日涨幅  统计过去1，2，3，4，5，6，7，8，9天的涨幅\n",
    "    \n",
    "    temp = {\n",
    "        'open':data.open,\n",
    "        'high':data.high,\n",
    "        'low': data.low,\n",
    "        'close': data.close,\n",
    "        'volume': data.volume\n",
    "    }\n",
    "    #多日涨幅  统计过去1，2，3，4，5，6，7，8，9天的涨幅\n",
    "    y = {'close{}'.format(i): data.close.pct_change(i) for i in range(10)} \n",
    "    temp.update(y)\n",
    "    return pd.DataFrame(temp)"
   ]
  },
  {
   "cell_type": "code",
   "execution_count": 61,
   "metadata": {},
   "outputs": [],
   "source": [
    "def all_para(data):\n",
    "    temp = {\n",
    "        'open':data.open,\n",
    "        'high':data.high,\n",
    "        'low': data.low,\n",
    "        'close': data.close,\n",
    "        'volume': data.volume\n",
    "    }\n",
    "    #多日涨幅  统计过去1，2，3，4，5，6，7，8，9天的涨幅\n",
    "    drzf = {'zf{}'.format(i): data.close.pct_change(i)*100 for i in range(10)[1:10]}\n",
    "    temp.update(drzf)\n",
    "    \n",
    "    #多日emas\n",
    "    emas = {'ema{}'.format(n): QA.EMA(data.close,n) for n in [5,10,15,20,30,40,60,80,100,120,240]}\n",
    "    temp.update(emas)\n",
    "    \n",
    "    #多日波动幅度\n",
    "    mazf = {'mazf{}'.format(n): QA.MA(data.close.pct_change(1)*100,n) for n in [5,10,15,20,30,40,60,80,100,120,240]}\n",
    "    temp.update(mazf)\n",
    "    \n",
    "    #量能均值\n",
    "#     mavol = {'mav{}'.format(n): QA.MA(DA)}\n",
    "    \n",
    "    return pd.DataFrame(temp)    "
   ]
  },
  {
   "cell_type": "code",
   "execution_count": 62,
   "metadata": {
    "scrolled": true
   },
   "outputs": [
    {
     "ename": "TypeError",
     "evalue": "MA() takes 2 positional arguments but 12 were given",
     "output_type": "error",
     "traceback": [
      "\u001b[1;31m---------------------------------------------------------------------------\u001b[0m",
      "\u001b[1;31mTypeError\u001b[0m                                 Traceback (most recent call last)",
      "\u001b[1;32md:\\ProgramData\\Anaconda3\\lib\\site-packages\\pandas\\core\\groupby\\groupby.py\u001b[0m in \u001b[0;36mapply\u001b[1;34m(self, func, *args, **kwargs)\u001b[0m\n\u001b[0;32m    893\u001b[0m             \u001b[1;32mtry\u001b[0m\u001b[1;33m:\u001b[0m\u001b[1;33m\u001b[0m\u001b[1;33m\u001b[0m\u001b[0m\n\u001b[1;32m--> 894\u001b[1;33m                 \u001b[0mresult\u001b[0m \u001b[1;33m=\u001b[0m \u001b[0mself\u001b[0m\u001b[1;33m.\u001b[0m\u001b[0m_python_apply_general\u001b[0m\u001b[1;33m(\u001b[0m\u001b[0mf\u001b[0m\u001b[1;33m,\u001b[0m \u001b[0mself\u001b[0m\u001b[1;33m.\u001b[0m\u001b[0m_selected_obj\u001b[0m\u001b[1;33m)\u001b[0m\u001b[1;33m\u001b[0m\u001b[1;33m\u001b[0m\u001b[0m\n\u001b[0m\u001b[0;32m    895\u001b[0m             \u001b[1;32mexcept\u001b[0m \u001b[0mTypeError\u001b[0m\u001b[1;33m:\u001b[0m\u001b[1;33m\u001b[0m\u001b[1;33m\u001b[0m\u001b[0m\n",
      "\u001b[1;32md:\\ProgramData\\Anaconda3\\lib\\site-packages\\pandas\\core\\groupby\\groupby.py\u001b[0m in \u001b[0;36m_python_apply_general\u001b[1;34m(self, f, data)\u001b[0m\n\u001b[0;32m    927\u001b[0m         \"\"\"\n\u001b[1;32m--> 928\u001b[1;33m         \u001b[0mkeys\u001b[0m\u001b[1;33m,\u001b[0m \u001b[0mvalues\u001b[0m\u001b[1;33m,\u001b[0m \u001b[0mmutated\u001b[0m \u001b[1;33m=\u001b[0m \u001b[0mself\u001b[0m\u001b[1;33m.\u001b[0m\u001b[0mgrouper\u001b[0m\u001b[1;33m.\u001b[0m\u001b[0mapply\u001b[0m\u001b[1;33m(\u001b[0m\u001b[0mf\u001b[0m\u001b[1;33m,\u001b[0m \u001b[0mdata\u001b[0m\u001b[1;33m,\u001b[0m \u001b[0mself\u001b[0m\u001b[1;33m.\u001b[0m\u001b[0maxis\u001b[0m\u001b[1;33m)\u001b[0m\u001b[1;33m\u001b[0m\u001b[1;33m\u001b[0m\u001b[0m\n\u001b[0m\u001b[0;32m    929\u001b[0m \u001b[1;33m\u001b[0m\u001b[0m\n",
      "\u001b[1;32md:\\ProgramData\\Anaconda3\\lib\\site-packages\\pandas\\core\\groupby\\ops.py\u001b[0m in \u001b[0;36mapply\u001b[1;34m(self, f, data, axis)\u001b[0m\n\u001b[0;32m    236\u001b[0m             \u001b[0mgroup_axes\u001b[0m \u001b[1;33m=\u001b[0m \u001b[0mgroup\u001b[0m\u001b[1;33m.\u001b[0m\u001b[0maxes\u001b[0m\u001b[1;33m\u001b[0m\u001b[1;33m\u001b[0m\u001b[0m\n\u001b[1;32m--> 237\u001b[1;33m             \u001b[0mres\u001b[0m \u001b[1;33m=\u001b[0m \u001b[0mf\u001b[0m\u001b[1;33m(\u001b[0m\u001b[0mgroup\u001b[0m\u001b[1;33m)\u001b[0m\u001b[1;33m\u001b[0m\u001b[1;33m\u001b[0m\u001b[0m\n\u001b[0m\u001b[0;32m    238\u001b[0m             \u001b[1;32mif\u001b[0m \u001b[1;32mnot\u001b[0m \u001b[0m_is_indexed_like\u001b[0m\u001b[1;33m(\u001b[0m\u001b[0mres\u001b[0m\u001b[1;33m,\u001b[0m \u001b[0mgroup_axes\u001b[0m\u001b[1;33m,\u001b[0m \u001b[0maxis\u001b[0m\u001b[1;33m)\u001b[0m\u001b[1;33m:\u001b[0m\u001b[1;33m\u001b[0m\u001b[1;33m\u001b[0m\u001b[0m\n",
      "\u001b[1;32m<ipython-input-61-e531d05980df>\u001b[0m in \u001b[0;36mall_para\u001b[1;34m(data)\u001b[0m\n\u001b[0;32m     18\u001b[0m \u001b[1;31m#     mazf = {'mazf{}'.format(n): QA.MA(data.close.pct_change(1)*100,n) for n in [5,10,15,20,30,40,60,80,100,120,240]}\u001b[0m\u001b[1;33m\u001b[0m\u001b[1;33m\u001b[0m\u001b[1;33m\u001b[0m\u001b[0m\n\u001b[1;32m---> 19\u001b[1;33m     \u001b[0mmazf\u001b[0m \u001b[1;33m=\u001b[0m \u001b[1;33m{\u001b[0m\u001b[1;34m'mazf'\u001b[0m\u001b[1;33m:\u001b[0m \u001b[0mQA\u001b[0m\u001b[1;33m.\u001b[0m\u001b[0mMA\u001b[0m\u001b[1;33m(\u001b[0m\u001b[0mdata\u001b[0m\u001b[1;33m.\u001b[0m\u001b[0mclose\u001b[0m\u001b[1;33m.\u001b[0m\u001b[0mpct_change\u001b[0m\u001b[1;33m(\u001b[0m\u001b[1;36m1\u001b[0m\u001b[1;33m)\u001b[0m\u001b[1;33m*\u001b[0m\u001b[1;36m100\u001b[0m\u001b[1;33m,\u001b[0m \u001b[1;36m5\u001b[0m\u001b[1;33m,\u001b[0m\u001b[1;36m10\u001b[0m\u001b[1;33m,\u001b[0m\u001b[1;36m15\u001b[0m\u001b[1;33m,\u001b[0m\u001b[1;36m20\u001b[0m\u001b[1;33m,\u001b[0m\u001b[1;36m30\u001b[0m\u001b[1;33m,\u001b[0m\u001b[1;36m40\u001b[0m\u001b[1;33m,\u001b[0m\u001b[1;36m60\u001b[0m\u001b[1;33m,\u001b[0m\u001b[1;36m80\u001b[0m\u001b[1;33m,\u001b[0m\u001b[1;36m100\u001b[0m\u001b[1;33m,\u001b[0m\u001b[1;36m120\u001b[0m\u001b[1;33m,\u001b[0m\u001b[1;36m240\u001b[0m\u001b[1;33m)\u001b[0m\u001b[1;33m}\u001b[0m\u001b[1;33m\u001b[0m\u001b[1;33m\u001b[0m\u001b[0m\n\u001b[0m\u001b[0;32m     20\u001b[0m     \u001b[0mtemp\u001b[0m\u001b[1;33m.\u001b[0m\u001b[0mupdate\u001b[0m\u001b[1;33m(\u001b[0m\u001b[0mmazf\u001b[0m\u001b[1;33m)\u001b[0m\u001b[1;33m\u001b[0m\u001b[1;33m\u001b[0m\u001b[0m\n",
      "\u001b[1;31mTypeError\u001b[0m: MA() takes 2 positional arguments but 12 were given",
      "\nDuring handling of the above exception, another exception occurred:\n",
      "\u001b[1;31mTypeError\u001b[0m                                 Traceback (most recent call last)",
      "\u001b[1;32m<ipython-input-62-9ac2c3e3d81d>\u001b[0m in \u001b[0;36m<module>\u001b[1;34m\u001b[0m\n\u001b[1;32m----> 1\u001b[1;33m \u001b[0mind\u001b[0m \u001b[1;33m=\u001b[0m \u001b[0mdata\u001b[0m\u001b[1;33m.\u001b[0m\u001b[0madd_func\u001b[0m\u001b[1;33m(\u001b[0m\u001b[0mall_para\u001b[0m\u001b[1;33m)\u001b[0m\u001b[1;33m\u001b[0m\u001b[1;33m\u001b[0m\u001b[0m\n\u001b[0m",
      "\u001b[1;32md:\\ProgramData\\Anaconda3\\lib\\site-packages\\QUANTAXIS\\QAData\\base_datastruct.py\u001b[0m in \u001b[0;36madd_func\u001b[1;34m(self, func, *arg, **kwargs)\u001b[0m\n\u001b[0;32m   1043\u001b[0m         \"\"\"\n\u001b[0;32m   1044\u001b[0m \u001b[1;33m\u001b[0m\u001b[0m\n\u001b[1;32m-> 1045\u001b[1;33m         \u001b[1;32mreturn\u001b[0m \u001b[0mself\u001b[0m\u001b[1;33m.\u001b[0m\u001b[0mgroupby\u001b[0m\u001b[1;33m(\u001b[0m\u001b[0mlevel\u001b[0m\u001b[1;33m=\u001b[0m\u001b[1;36m1\u001b[0m\u001b[1;33m,\u001b[0m \u001b[0msort\u001b[0m\u001b[1;33m=\u001b[0m\u001b[1;32mFalse\u001b[0m\u001b[1;33m)\u001b[0m\u001b[1;33m.\u001b[0m\u001b[0mapply\u001b[0m\u001b[1;33m(\u001b[0m\u001b[0mfunc\u001b[0m\u001b[1;33m,\u001b[0m \u001b[1;33m*\u001b[0m\u001b[0marg\u001b[0m\u001b[1;33m,\u001b[0m \u001b[1;33m**\u001b[0m\u001b[0mkwargs\u001b[0m\u001b[1;33m)\u001b[0m\u001b[1;33m\u001b[0m\u001b[1;33m\u001b[0m\u001b[0m\n\u001b[0m\u001b[0;32m   1046\u001b[0m \u001b[1;33m\u001b[0m\u001b[0m\n\u001b[0;32m   1047\u001b[0m     \u001b[1;32mdef\u001b[0m \u001b[0madd_funcx\u001b[0m\u001b[1;33m(\u001b[0m\u001b[0mself\u001b[0m\u001b[1;33m,\u001b[0m \u001b[0mfunc\u001b[0m\u001b[1;33m,\u001b[0m \u001b[1;33m*\u001b[0m\u001b[0marg\u001b[0m\u001b[1;33m,\u001b[0m \u001b[1;33m**\u001b[0m\u001b[0mkwargs\u001b[0m\u001b[1;33m)\u001b[0m\u001b[1;33m:\u001b[0m\u001b[1;33m\u001b[0m\u001b[1;33m\u001b[0m\u001b[0m\n",
      "\u001b[1;32md:\\ProgramData\\Anaconda3\\lib\\site-packages\\pandas\\core\\groupby\\groupby.py\u001b[0m in \u001b[0;36mapply\u001b[1;34m(self, func, *args, **kwargs)\u001b[0m\n\u001b[0;32m    903\u001b[0m \u001b[1;33m\u001b[0m\u001b[0m\n\u001b[0;32m    904\u001b[0m                 \u001b[1;32mwith\u001b[0m \u001b[0mgroup_selection_context\u001b[0m\u001b[1;33m(\u001b[0m\u001b[0mself\u001b[0m\u001b[1;33m)\u001b[0m\u001b[1;33m:\u001b[0m\u001b[1;33m\u001b[0m\u001b[1;33m\u001b[0m\u001b[0m\n\u001b[1;32m--> 905\u001b[1;33m                     \u001b[1;32mreturn\u001b[0m \u001b[0mself\u001b[0m\u001b[1;33m.\u001b[0m\u001b[0m_python_apply_general\u001b[0m\u001b[1;33m(\u001b[0m\u001b[0mf\u001b[0m\u001b[1;33m,\u001b[0m \u001b[0mself\u001b[0m\u001b[1;33m.\u001b[0m\u001b[0m_selected_obj\u001b[0m\u001b[1;33m)\u001b[0m\u001b[1;33m\u001b[0m\u001b[1;33m\u001b[0m\u001b[0m\n\u001b[0m\u001b[0;32m    906\u001b[0m \u001b[1;33m\u001b[0m\u001b[0m\n\u001b[0;32m    907\u001b[0m         \u001b[1;32mreturn\u001b[0m \u001b[0mresult\u001b[0m\u001b[1;33m\u001b[0m\u001b[1;33m\u001b[0m\u001b[0m\n",
      "\u001b[1;32md:\\ProgramData\\Anaconda3\\lib\\site-packages\\pandas\\core\\groupby\\groupby.py\u001b[0m in \u001b[0;36m_python_apply_general\u001b[1;34m(self, f, data)\u001b[0m\n\u001b[0;32m    926\u001b[0m             \u001b[0mdata\u001b[0m \u001b[0mafter\u001b[0m \u001b[0mapplying\u001b[0m \u001b[0mf\u001b[0m\u001b[1;33m\u001b[0m\u001b[1;33m\u001b[0m\u001b[0m\n\u001b[0;32m    927\u001b[0m         \"\"\"\n\u001b[1;32m--> 928\u001b[1;33m         \u001b[0mkeys\u001b[0m\u001b[1;33m,\u001b[0m \u001b[0mvalues\u001b[0m\u001b[1;33m,\u001b[0m \u001b[0mmutated\u001b[0m \u001b[1;33m=\u001b[0m \u001b[0mself\u001b[0m\u001b[1;33m.\u001b[0m\u001b[0mgrouper\u001b[0m\u001b[1;33m.\u001b[0m\u001b[0mapply\u001b[0m\u001b[1;33m(\u001b[0m\u001b[0mf\u001b[0m\u001b[1;33m,\u001b[0m \u001b[0mdata\u001b[0m\u001b[1;33m,\u001b[0m \u001b[0mself\u001b[0m\u001b[1;33m.\u001b[0m\u001b[0maxis\u001b[0m\u001b[1;33m)\u001b[0m\u001b[1;33m\u001b[0m\u001b[1;33m\u001b[0m\u001b[0m\n\u001b[0m\u001b[0;32m    929\u001b[0m \u001b[1;33m\u001b[0m\u001b[0m\n\u001b[0;32m    930\u001b[0m         return self._wrap_applied_output(\n",
      "\u001b[1;32md:\\ProgramData\\Anaconda3\\lib\\site-packages\\pandas\\core\\groupby\\ops.py\u001b[0m in \u001b[0;36mapply\u001b[1;34m(self, f, data, axis)\u001b[0m\n\u001b[0;32m    235\u001b[0m             \u001b[1;31m# group might be modified\u001b[0m\u001b[1;33m\u001b[0m\u001b[1;33m\u001b[0m\u001b[1;33m\u001b[0m\u001b[0m\n\u001b[0;32m    236\u001b[0m             \u001b[0mgroup_axes\u001b[0m \u001b[1;33m=\u001b[0m \u001b[0mgroup\u001b[0m\u001b[1;33m.\u001b[0m\u001b[0maxes\u001b[0m\u001b[1;33m\u001b[0m\u001b[1;33m\u001b[0m\u001b[0m\n\u001b[1;32m--> 237\u001b[1;33m             \u001b[0mres\u001b[0m \u001b[1;33m=\u001b[0m \u001b[0mf\u001b[0m\u001b[1;33m(\u001b[0m\u001b[0mgroup\u001b[0m\u001b[1;33m)\u001b[0m\u001b[1;33m\u001b[0m\u001b[1;33m\u001b[0m\u001b[0m\n\u001b[0m\u001b[0;32m    238\u001b[0m             \u001b[1;32mif\u001b[0m \u001b[1;32mnot\u001b[0m \u001b[0m_is_indexed_like\u001b[0m\u001b[1;33m(\u001b[0m\u001b[0mres\u001b[0m\u001b[1;33m,\u001b[0m \u001b[0mgroup_axes\u001b[0m\u001b[1;33m,\u001b[0m \u001b[0maxis\u001b[0m\u001b[1;33m)\u001b[0m\u001b[1;33m:\u001b[0m\u001b[1;33m\u001b[0m\u001b[1;33m\u001b[0m\u001b[0m\n\u001b[0;32m    239\u001b[0m                 \u001b[0mmutated\u001b[0m \u001b[1;33m=\u001b[0m \u001b[1;32mTrue\u001b[0m\u001b[1;33m\u001b[0m\u001b[1;33m\u001b[0m\u001b[0m\n",
      "\u001b[1;32m<ipython-input-61-e531d05980df>\u001b[0m in \u001b[0;36mall_para\u001b[1;34m(data)\u001b[0m\n\u001b[0;32m     17\u001b[0m     \u001b[1;31m#多日波动幅度\u001b[0m\u001b[1;33m\u001b[0m\u001b[1;33m\u001b[0m\u001b[1;33m\u001b[0m\u001b[0m\n\u001b[0;32m     18\u001b[0m \u001b[1;31m#     mazf = {'mazf{}'.format(n): QA.MA(data.close.pct_change(1)*100,n) for n in [5,10,15,20,30,40,60,80,100,120,240]}\u001b[0m\u001b[1;33m\u001b[0m\u001b[1;33m\u001b[0m\u001b[1;33m\u001b[0m\u001b[0m\n\u001b[1;32m---> 19\u001b[1;33m     \u001b[0mmazf\u001b[0m \u001b[1;33m=\u001b[0m \u001b[1;33m{\u001b[0m\u001b[1;34m'mazf'\u001b[0m\u001b[1;33m:\u001b[0m \u001b[0mQA\u001b[0m\u001b[1;33m.\u001b[0m\u001b[0mMA\u001b[0m\u001b[1;33m(\u001b[0m\u001b[0mdata\u001b[0m\u001b[1;33m.\u001b[0m\u001b[0mclose\u001b[0m\u001b[1;33m.\u001b[0m\u001b[0mpct_change\u001b[0m\u001b[1;33m(\u001b[0m\u001b[1;36m1\u001b[0m\u001b[1;33m)\u001b[0m\u001b[1;33m*\u001b[0m\u001b[1;36m100\u001b[0m\u001b[1;33m,\u001b[0m \u001b[1;36m5\u001b[0m\u001b[1;33m,\u001b[0m\u001b[1;36m10\u001b[0m\u001b[1;33m,\u001b[0m\u001b[1;36m15\u001b[0m\u001b[1;33m,\u001b[0m\u001b[1;36m20\u001b[0m\u001b[1;33m,\u001b[0m\u001b[1;36m30\u001b[0m\u001b[1;33m,\u001b[0m\u001b[1;36m40\u001b[0m\u001b[1;33m,\u001b[0m\u001b[1;36m60\u001b[0m\u001b[1;33m,\u001b[0m\u001b[1;36m80\u001b[0m\u001b[1;33m,\u001b[0m\u001b[1;36m100\u001b[0m\u001b[1;33m,\u001b[0m\u001b[1;36m120\u001b[0m\u001b[1;33m,\u001b[0m\u001b[1;36m240\u001b[0m\u001b[1;33m)\u001b[0m\u001b[1;33m}\u001b[0m\u001b[1;33m\u001b[0m\u001b[1;33m\u001b[0m\u001b[0m\n\u001b[0m\u001b[0;32m     20\u001b[0m     \u001b[0mtemp\u001b[0m\u001b[1;33m.\u001b[0m\u001b[0mupdate\u001b[0m\u001b[1;33m(\u001b[0m\u001b[0mmazf\u001b[0m\u001b[1;33m)\u001b[0m\u001b[1;33m\u001b[0m\u001b[1;33m\u001b[0m\u001b[0m\n\u001b[0;32m     21\u001b[0m \u001b[1;33m\u001b[0m\u001b[0m\n",
      "\u001b[1;31mTypeError\u001b[0m: MA() takes 2 positional arguments but 12 were given"
     ]
    }
   ],
   "source": [
    "ind = data.add_func(all_para)"
   ]
  },
  {
   "cell_type": "code",
   "execution_count": 41,
   "metadata": {},
   "outputs": [
    {
     "data": {
      "text/plain": [
       "36"
      ]
     },
     "execution_count": 41,
     "metadata": {},
     "output_type": "execute_result"
    }
   ],
   "source": [
    "ind.shape[1]"
   ]
  },
  {
   "cell_type": "code",
   "execution_count": null,
   "metadata": {},
   "outputs": [],
   "source": []
  },
  {
   "cell_type": "code",
   "execution_count": null,
   "metadata": {},
   "outputs": [],
   "source": []
  },
  {
   "cell_type": "code",
   "execution_count": null,
   "metadata": {},
   "outputs": [],
   "source": []
  },
  {
   "cell_type": "code",
   "execution_count": 17,
   "metadata": {
    "scrolled": true
   },
   "outputs": [
    {
     "data": {
      "text/plain": [
       "date\n",
       "2019-11-28     978.0\n",
       "2019-11-29    1031.0\n",
       "2019-12-02    1101.0\n",
       "2019-12-03    1423.0\n",
       "2019-12-04    1583.0\n",
       "2019-12-05    2164.0\n",
       "2019-12-06    2508.0\n",
       "2019-12-09    2618.0\n",
       "2019-12-10    2651.0\n",
       "2019-12-11    2558.0\n",
       "2019-12-12    2272.0\n",
       "2019-12-13    2809.0\n",
       "2019-12-16    3228.0\n",
       "2019-12-17    3446.0\n",
       "2019-12-18    3452.0\n",
       "2019-12-19    3476.0\n",
       "2019-12-20    3353.0\n",
       "2019-12-23    2366.0\n",
       "2019-12-24    2933.0\n",
       "2019-12-25    2867.0\n",
       "2019-12-26    3021.0\n",
       "2019-12-27    2774.0\n",
       "2019-12-30    2716.0\n",
       "2019-12-31    2861.0\n",
       "2020-01-02    3271.0\n",
       "2020-01-03    3298.0\n",
       "2020-01-06    3266.0\n",
       "Name: close, dtype: float64"
      ]
     },
     "execution_count": 17,
     "metadata": {},
     "output_type": "execute_result"
    }
   ],
   "source": [
    "import QUANTAXIS as QA\n",
    "\n",
    "#获取全市场股票 list格式\n",
    "code  = QA.QA_fetch_stock_list_adv().code.tolist()\n",
    "\n",
    "# 获取全市场数据 QADataStruct格式\n",
    "\n",
    "data =  QA.QA_fetch_stock_day_adv(code,  '2019-11-01','2020-01-06')\n",
    "\n",
    "# 写个指标 so easy\n",
    "def ifup20(data):\n",
    "    return (data.close-QA.MA(data.close, 20)).dropna() > 0\n",
    "\n",
    "# apply到 QADataStruct上\n",
    "\n",
    "ind = data.add_func(ifup20)\n",
    "\n",
    "# 对于指标groupby 日期 求和\n",
    "\n",
    "ind.dropna().groupby(level=0).sum()"
   ]
  },
  {
   "cell_type": "code",
   "execution_count": 34,
   "metadata": {},
   "outputs": [
    {
     "data": {
      "text/plain": [
       "code\n",
       "000001    True\n",
       "000002    True\n",
       "000004    True\n",
       "000005    True\n",
       "000006    True\n",
       "000008    True\n",
       "000009    True\n",
       "000010    True\n",
       "000011    True\n",
       "000012    True\n",
       "000014    True\n",
       "000016    True\n",
       "000017    True\n",
       "000019    True\n",
       "000020    True\n",
       "000021    True\n",
       "000023    True\n",
       "000025    True\n",
       "000026    True\n",
       "000027    True\n",
       "000028    True\n",
       "000030    True\n",
       "000031    True\n",
       "000032    True\n",
       "000036    True\n",
       "000040    True\n",
       "000042    True\n",
       "000045    True\n",
       "000046    True\n",
       "000048    True\n",
       "          ... \n",
       "688023    True\n",
       "688128    True\n",
       "688199    True\n",
       "688202    True\n",
       "688389    True\n",
       "300800    True\n",
       "688021    True\n",
       "688288    True\n",
       "688299    True\n",
       "688363    True\n",
       "300080    True\n",
       "300749    True\n",
       "688166    True\n",
       "002453    True\n",
       "002542    True\n",
       "300796    True\n",
       "688101    True\n",
       "688300    True\n",
       "300803    True\n",
       "688138    True\n",
       "300805    True\n",
       "688196    True\n",
       "601916    True\n",
       "688310    True\n",
       "688358    True\n",
       "002323    True\n",
       "688357    True\n",
       "688399    True\n",
       "300810    True\n",
       "688198    True\n",
       "Name: close, Length: 3266, dtype: bool"
      ]
     },
     "execution_count": 34,
     "metadata": {},
     "output_type": "execute_result"
    }
   ],
   "source": [
    "t=ind['2020-01-06']\n",
    "t[t==True]"
   ]
  },
  {
   "cell_type": "code",
   "execution_count": 1,
   "metadata": {},
   "outputs": [],
   "source": [
    "#!/usr/bin/env python3\n",
    "\n",
    "import datetime\n",
    "import os\n",
    "\n",
    "import pandas as pd\n",
    "\n",
    "import QUANTAXIS as QA\n",
    "\n",
    "# code_list = QA.QA_fetch_stock_list().index.tolist()\n",
    "code_list = [\"000001\", \"600000\"]\n",
    "current_date = str(datetime.date.today())\n",
    "current_daily_bar = pd.DataFrame()\n",
    "# 前置数据时间点\n",
    "start_date = QA.QA_util_get_pre_trade_date(current_date, n=100)\n",
    "# 前置数据准备\n",
    "daily_data = QA.QA_fetch_stock_day_adv(\n",
    "    code=code_list, start=start_date, end=current_date\n",
    ").to_qfq()\n",
    "\n",
    "# 方便计算，数据转换为相应透视数据\n",
    "closes = daily_data.pivot(\"close\")\n",
    "highs = daily_data.pivot(\"high\")\n",
    "lows = daily_data.pivot(\"low\")\n",
    "\n",
    "\n",
    "def get_short_strength(\n",
    "    highs: pd.DataFrame, lows: pd.DataFrame, closes: pd.DataFrame, period: int = 27\n",
    ") -> pd.Series:\n",
    "    \"\"\"\n",
    "    计算空方力量\n",
    "\n",
    "    :param highs: high 透视数据\n",
    "    :param closes: close 透视数据\n",
    "    :param period: 周期\n",
    "    \"\"\"\n",
    "    A = highs.apply(QA.HHV, N=period, axis=0)\n",
    "    B = lows.apply(QA.LLV, N=period, axis=0)\n",
    "    return 100 * (A.iloc[-1] - closes.ffill().iloc[-1]) / (A.iloc[-1] - B.iloc[-1])\n",
    "\n",
    "\n",
    "def get_long_strength(\n",
    "    highs: pd.DataFrame, lows: pd.DataFrame, closes: pd.DataFrame, period: int = 27\n",
    ") -> pd.Series:\n",
    "    \"\"\"\n",
    "    计算多方力量\n",
    "    \"\"\"\n",
    "    A = highs.apply(QA.HHV, N=period, axis=0)\n",
    "    B = lows.apply(QA.LLV, N=period, axis=0)\n",
    "    C = ((closes - B) / (A - B)).apply(QA.QAIndicator.base.SMA, N=5, M=1, axis=0) * 100\n",
    "    return (3 * C - 2 * C.apply(QA.QAIndicator.base.SMA, N=3, M=1)).iloc[-1]\n",
    "\n",
    "\n",
    "def get_RSV(\n",
    "    highs: pd.DataFrame, lows: pd.DataFrame, closes: pd.DataFrame, period: int = 30\n",
    ") -> pd.DataFrame:\n",
    "    \"\"\"\n",
    "    计算 RSV 值\n",
    "    \"\"\"\n",
    "    return (\n",
    "        100\n",
    "        * (closes - lows.apply(QA.LLV, N=period, axis=0))\n",
    "        / (highs.apply(QA.HHV, N=period, axis=0) - lows.apply(QA.LLV, N=period, axis=0))\n",
    "    )\n",
    "\n",
    "\n",
    "def get_KDJ(\n",
    "    highs: pd.DataFrame,\n",
    "    lows: pd.DataFrame,\n",
    "    closes: pd.DataFrame,\n",
    "    period: int = 30,\n",
    "    M1: int = 3,\n",
    "    M2: int = 3,\n",
    ") -> dict:\n",
    "    \"\"\"\n",
    "    获取 KDJ 值\n",
    "    \"\"\"\n",
    "    RSV = get_RSV(highs, lows, closes, period)\n",
    "    KDJ_K = RSV.apply(QA.QAIndicator.base.SMA, N=3, M=1, axis=0)\n",
    "    KDJ_D = KDJ_K.apply(QA.QAIndicator.base.SMA, N=3, M=1, axis=0)\n",
    "    KDJ_J = 3 * KDJ_K - 2 * KDJ_D\n",
    "    return {\"KDJ_K\": KDJ_K, \"KDJ_D\": KDJ_D, \"KDJ_J\": KDJ_J}"
   ]
  },
  {
   "cell_type": "code",
   "execution_count": null,
   "metadata": {},
   "outputs": [],
   "source": []
  }
 ],
 "metadata": {
  "kernelspec": {
   "display_name": "Python 3",
   "language": "python",
   "name": "python3"
  },
  "language_info": {
   "codemirror_mode": {
    "name": "ipython",
    "version": 3
   },
   "file_extension": ".py",
   "mimetype": "text/x-python",
   "name": "python",
   "nbconvert_exporter": "python",
   "pygments_lexer": "ipython3",
   "version": "3.8.5"
  }
 },
 "nbformat": 4,
 "nbformat_minor": 2
}
