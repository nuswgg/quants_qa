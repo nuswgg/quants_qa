{
 "cells": [
  {
   "cell_type": "markdown",
   "metadata": {},
   "source": [
    "# MACD"
   ]
  },
  {
   "cell_type": "code",
   "execution_count": 2,
   "metadata": {},
   "outputs": [
    {
     "name": "stdout",
     "output_type": "stream",
     "text": [
      "jqdatasdk not installed\n"
     ]
    }
   ],
   "source": [
    "# https://github.com/QUANTAXIS/QUANTAXIS/issues/1335\n",
    "from QAStrategy import QAStrategyCTABase \n",
    "from QIFIAccount import QIFI_Account \n",
    "import QUANTAXIS as QA\n",
    "from qaenv import eventmq_amqp, eventmq_ip, eventmq_password, eventmq_port,eventmq_username, mongo_ip, mongo_uri \n",
    "import pandas as pd"
   ]
  },
  {
   "cell_type": "code",
   "execution_count": 3,
   "metadata": {},
   "outputs": [],
   "source": [
    "\n",
    "#示例策略 \n",
    "class macd(QAStrategyCTABase):   \n",
    "    def on_bar(self, bar):\n",
    "        #print(bar)        \n",
    "        if len(self.market_data)> 26:            \n",
    "            res = self.calc_macd()                        \n",
    "            ex = QA.CROSS(res['MACD'], 0)            \n",
    "            ec = QA.CROSS(0, res['MACD'])           \n",
    "            if ex.iloc[-1]> 0:                \n",
    "                print('sendorder')                \n",
    "                self.send_order('BUY', 'OPEN', price=bar['close'], volume= 1)            \n",
    "        elif ec.iloc[-1]>0:                \n",
    "              print('sendorder')                \n",
    "              self.send_order('SELL', 'CLOSE', price=bar['close'], volume= 1)        \n",
    "    def calc_macd(self): \n",
    "        macd = QA.QA_indicator_MACD(self.market_data)        \n",
    "        return macd.tail()"
   ]
  },
  {
   "cell_type": "code",
   "execution_count": null,
   "metadata": {},
   "outputs": [],
   "source": [
    "strategy = macd(code='000001', frequence='1Day', strategy_id='autest', start='2019-10-01') \n",
    "# 运行模拟盘 \n",
    "strategy.run_sim()"
   ]
  }
 ],
 "metadata": {
  "kernelspec": {
   "display_name": "Python 3",
   "language": "python",
   "name": "python3"
  },
  "language_info": {
   "codemirror_mode": {
    "name": "ipython",
    "version": 3
   },
   "file_extension": ".py",
   "mimetype": "text/x-python",
   "name": "python",
   "nbconvert_exporter": "python",
   "pygments_lexer": "ipython3",
   "version": "3.8.5"
  }
 },
 "nbformat": 4,
 "nbformat_minor": 4
}
