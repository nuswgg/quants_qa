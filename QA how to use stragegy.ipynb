{
 "cells": [
  {
   "cell_type": "code",
   "execution_count": 11,
   "metadata": {},
   "outputs": [],
   "source": [
    "import QUANTAXIS as QA"
   ]
  },
  {
   "cell_type": "code",
   "execution_count": 12,
   "metadata": {},
   "outputs": [],
   "source": [
    "import QAStrategy\n",
    "from QAStrategy.qactabase import QAStrategyCTABase"
   ]
  },
  {
   "cell_type": "code",
   "execution_count": 13,
   "metadata": {},
   "outputs": [],
   "source": [
    "class x(QAStrategyCTABase):\n",
    "    def on_bar(self, data):\n",
    "        \n",
    "        print(data)"
   ]
  },
  {
   "cell_type": "markdown",
   "metadata": {},
   "source": [
    "Create new Account"
   ]
  },
  {
   "cell_type": "code",
   "execution_count": 14,
   "metadata": {},
   "outputs": [],
   "source": [
    "account = x(code= 'rb2005',frequence='1min', strategy_id='testfordebug4')"
   ]
  },
  {
   "cell_type": "code",
   "execution_count": 8,
   "metadata": {},
   "outputs": [
    {
     "ename": "AttributeError",
     "evalue": "'x' object has no attribute 'running_mode'",
     "output_type": "error",
     "traceback": [
      "\u001b[1;31m---------------------------------------------------------------------------\u001b[0m",
      "\u001b[1;31mAttributeError\u001b[0m                            Traceback (most recent call last)",
      "\u001b[1;32m<ipython-input-8-70c664bd95aa>\u001b[0m in \u001b[0;36m<module>\u001b[1;34m\u001b[0m\n\u001b[1;32m----> 1\u001b[1;33m \u001b[0maccount\u001b[0m\u001b[1;33m.\u001b[0m\u001b[0msend_order\u001b[0m\u001b[1;33m(\u001b[0m\u001b[1;34m'BUY'\u001b[0m\u001b[1;33m,\u001b[0m\u001b[1;34m'OPEN'\u001b[0m\u001b[1;33m,\u001b[0m\u001b[1;36m3350\u001b[0m\u001b[1;33m,\u001b[0m \u001b[1;36m1\u001b[0m\u001b[1;33m)\u001b[0m\u001b[1;33m\u001b[0m\u001b[0m\n\u001b[0m",
      "\u001b[1;32md:\\programdata\\anaconda3\\lib\\site-packages\\QAStrategy\\qactabase.py\u001b[0m in \u001b[0;36msend_order\u001b[1;34m(self, direction, offset, price, volume, order_id, code)\u001b[0m\n\u001b[0;32m    722\u001b[0m             \u001b[0mprice\u001b[0m \u001b[1;33m=\u001b[0m \u001b[0mprice\u001b[0m\u001b[1;33m.\u001b[0m\u001b[0mvalues\u001b[0m\u001b[1;33m[\u001b[0m\u001b[1;36m0\u001b[0m\u001b[1;33m]\u001b[0m\u001b[1;33m\u001b[0m\u001b[0m\n\u001b[0;32m    723\u001b[0m \u001b[1;33m\u001b[0m\u001b[0m\n\u001b[1;32m--> 724\u001b[1;33m         \u001b[1;32mif\u001b[0m \u001b[0mself\u001b[0m\u001b[1;33m.\u001b[0m\u001b[0mrunning_mode\u001b[0m \u001b[1;33m==\u001b[0m \u001b[1;34m'sim'\u001b[0m\u001b[1;33m:\u001b[0m\u001b[1;33m\u001b[0m\u001b[0m\n\u001b[0m\u001b[0;32m    725\u001b[0m             \u001b[1;31m# 在此处拦截无法下单的订单\u001b[0m\u001b[1;33m\u001b[0m\u001b[1;33m\u001b[0m\u001b[0m\n\u001b[0;32m    726\u001b[0m             \u001b[1;32mif\u001b[0m \u001b[1;33m(\u001b[0m\u001b[0mdirection\u001b[0m \u001b[1;33m==\u001b[0m \u001b[1;34m'BUY'\u001b[0m \u001b[1;32mand\u001b[0m \u001b[0mself\u001b[0m\u001b[1;33m.\u001b[0m\u001b[0mlatest_price\u001b[0m\u001b[1;33m[\u001b[0m\u001b[0mcode\u001b[0m\u001b[1;33m]\u001b[0m \u001b[1;33m<=\u001b[0m \u001b[0mprice\u001b[0m\u001b[1;33m)\u001b[0m \u001b[1;32mor\u001b[0m \u001b[1;33m(\u001b[0m\u001b[0mdirection\u001b[0m \u001b[1;33m==\u001b[0m \u001b[1;34m'SELL'\u001b[0m \u001b[1;32mand\u001b[0m \u001b[0mself\u001b[0m\u001b[1;33m.\u001b[0m\u001b[0mlatest_price\u001b[0m\u001b[1;33m[\u001b[0m\u001b[0mcode\u001b[0m\u001b[1;33m]\u001b[0m \u001b[1;33m>=\u001b[0m \u001b[0mprice\u001b[0m\u001b[1;33m)\u001b[0m\u001b[1;33m:\u001b[0m\u001b[1;33m\u001b[0m\u001b[0m\n",
      "\u001b[1;31mAttributeError\u001b[0m: 'x' object has no attribute 'running_mode'"
     ]
    }
   ],
   "source": [
    "account.send_order('BUY','OPEN',3350, 1)"
   ]
  },
  {
   "cell_type": "code",
   "execution_count": 10,
   "metadata": {},
   "outputs": [
    {
     "data": {
      "text/plain": [
       "['BarsSinceEntryLong',\n",
       " 'BarsSinceEntryShort',\n",
       " 'EntryPriceLong',\n",
       " 'EntryPriceShort',\n",
       " '__class__',\n",
       " '__delattr__',\n",
       " '__dict__',\n",
       " '__dir__',\n",
       " '__doc__',\n",
       " '__eq__',\n",
       " '__format__',\n",
       " '__ge__',\n",
       " '__getattribute__',\n",
       " '__gt__',\n",
       " '__hash__',\n",
       " '__init__',\n",
       " '__init_subclass__',\n",
       " '__le__',\n",
       " '__lt__',\n",
       " '__module__',\n",
       " '__ne__',\n",
       " '__new__',\n",
       " '__reduce__',\n",
       " '__reduce_ex__',\n",
       " '__repr__',\n",
       " '__setattr__',\n",
       " '__sizeof__',\n",
       " '__str__',\n",
       " '__subclasshook__',\n",
       " '__weakref__',\n",
       " '_debug_sim',\n",
       " '_on_1min_bar',\n",
       " 'add_subscriber',\n",
       " 'bar_id',\n",
       " 'callback',\n",
       " 'check_order',\n",
       " 'control_status',\n",
       " 'daily_func',\n",
       " 'debug',\n",
       " 'debug_currenttick',\n",
       " 'debug_histick',\n",
       " 'debug_sim',\n",
       " 'debug_t0',\n",
       " 'force_close',\n",
       " 'get_cash',\n",
       " 'get_code',\n",
       " 'get_code_marketdata',\n",
       " 'get_current_marketdata',\n",
       " 'get_exchange',\n",
       " 'get_positions',\n",
       " 'ind2str',\n",
       " 'load_strategy',\n",
       " 'market_data',\n",
       " 'market_datetime',\n",
       " 'old_data',\n",
       " 'on_15min_bar',\n",
       " 'on_1min_bar',\n",
       " 'on_30min_bar',\n",
       " 'on_5min_bar',\n",
       " 'on_bar',\n",
       " 'on_dailyclose',\n",
       " 'on_dailyopen',\n",
       " 'on_deal',\n",
       " 'on_ordererror',\n",
       " 'on_sync',\n",
       " 'on_tick',\n",
       " 'order_handler',\n",
       " 'plot',\n",
       " 'receive_simpledeal',\n",
       " 'risk_check',\n",
       " 'run',\n",
       " 'run_backtest',\n",
       " 'run_sim',\n",
       " 'second_callback',\n",
       " 'send_order',\n",
       " 'subscribe_data',\n",
       " 'subscribe_multi',\n",
       " 'subscriber_list',\n",
       " 'tick_callback',\n",
       " 'upcoming_data',\n",
       " 'update',\n",
       " 'update_account',\n",
       " 'user_init',\n",
       " 'x1']"
      ]
     },
     "execution_count": 10,
     "metadata": {},
     "output_type": "execute_result"
    }
   ],
   "source": [
    "dir(QAStrategyCTABase)"
   ]
  },
  {
   "cell_type": "code",
   "execution_count": 17,
   "metadata": {},
   "outputs": [],
   "source": [
    "from QAStrategy.qastockbase import QAStrategyStockBase"
   ]
  },
  {
   "cell_type": "code",
   "execution_count": 19,
   "metadata": {},
   "outputs": [],
   "source": [
    "#example\n",
    "import random\n",
    "class strategy(QAStrategyStockBase):\n",
    "    def on_bar(self, data):\n",
    "        print(data)\n",
    "\n",
    "        \n",
    "        code = data.name[1]\n",
    "        pos = self.get_positions(code)\n",
    "        print('---------------under is 当前全市场的market_data --------------')\n",
    "        \n",
    "        print(self.get_current_marketdata())\n",
    "        print('---------------under is 当前品种的market_data --------------')\n",
    "        print(self.get_code_marketdata(code))\n",
    "        print(code)\n",
    "        \n",
    "        \n",
    "        \n",
    "        if random.random() > 0.5:\n",
    "            self.send_order('BUY', 'OPEN', code, price=data['close'], volume=1000)\n",
    "        else:\n",
    "            if pos.volume_long > 0:\n",
    "                self.send_order('SELL', 'CLOSE', code, price=data['close'], volume=pos.volume_long)\n",
    "            \n",
    "        print('---------------under is 账户情况和持仓情况 -------------------')\n",
    "        print(self.get_positions(code).message)\n",
    "        print(self.acc.history_table)\n",
    "            \n",
    "        #print(self.running_time)\n",
    "        input()"
   ]
  },
  {
   "cell_type": "code",
   "execution_count": null,
   "metadata": {},
   "outputs": [],
   "source": [
    "#example \n",
    "from QAStrategy import QAStrategyCTABase\n",
    "import QUANTAXIS as QA\n",
    "\n",
    "class CCI(QAStrategyCTABase):\n",
    "    def on_bar(self, bar):\n",
    "        \"\"\"你的大部分策略逻辑都是在此写的\n",
    "        \"\"\"\n",
    "        res = self.cci()  \n",
    "        print(res.iloc[-1])\n",
    "        if res.CCI[-1] < -100:\n",
    "            print('LONG')\n",
    "            if self.positions.volume_long == 0:\n",
    "                self.send_order('BUY', 'OPEN', price=bar['close'], volume=1)\n",
    "            if self.positions.volume_short > 0:\n",
    "                self.send_order('BUY', 'CLOSE', price=bar['close'], volume=1)\n",
    "\n",
    "        elif res.CCI[-1] > 100:\n",
    "            print('SHORT')\n",
    "            if self.positions.volume_short == 0:\n",
    "                self.send_order('SELL', 'OPEN', price=bar['close'], volume=1)\n",
    "            if self.positions.volume_long > 0:\n",
    "                self.send_order('SELL', 'CLOSE', price=bar['close'], volume=1)\n",
    "\n",
    "    def cci(self,):\n",
    "        \"\"\"你可以自定义你想要的函数\n",
    "        \"\"\"\n",
    "        return QA.QA_indicator_CCI(self.market_data, 61)\n",
    "\n",
    "\n",
    "strategy = CCI(code='rb2005', frequence='1min',\n",
    "                strategy_id='a3916de0-bd28-4b9c-bea1-94d91f1744ac')\n",
    "strategy.run_backtest()"
   ]
  },
  {
   "cell_type": "code",
   "execution_count": null,
   "metadata": {},
   "outputs": [],
   "source": []
  },
  {
   "cell_type": "code",
   "execution_count": null,
   "metadata": {},
   "outputs": [],
   "source": []
  }
 ],
 "metadata": {
  "kernelspec": {
   "display_name": "Python 3",
   "language": "python",
   "name": "python3"
  },
  "language_info": {
   "codemirror_mode": {
    "name": "ipython",
    "version": 3
   },
   "file_extension": ".py",
   "mimetype": "text/x-python",
   "name": "python",
   "nbconvert_exporter": "python",
   "pygments_lexer": "ipython3",
   "version": "3.6.3"
  }
 },
 "nbformat": 4,
 "nbformat_minor": 2
}
