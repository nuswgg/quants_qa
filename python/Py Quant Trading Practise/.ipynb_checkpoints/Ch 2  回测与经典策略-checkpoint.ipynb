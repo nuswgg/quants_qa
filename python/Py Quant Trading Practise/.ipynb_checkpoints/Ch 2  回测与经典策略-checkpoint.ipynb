{
 "cells": [
  {
   "cell_type": "markdown",
   "metadata": {},
   "source": [
    "# 第二章"
   ]
  },
  {
   "cell_type": "code",
   "execution_count": 1,
   "metadata": {},
   "outputs": [],
   "source": [
    "# !pip install pandas_datareader"
   ]
  },
  {
   "cell_type": "code",
   "execution_count": 2,
   "metadata": {},
   "outputs": [],
   "source": [
    "#导入必要的库\n",
    "from pandas_datareader import data as dt\n",
    "import pandas as pd\n",
    "import numpy as np\n",
    "import matplotlib.pyplot as plt\n",
    "import seaborn as sns"
   ]
  },
  {
   "cell_type": "code",
   "execution_count": 3,
   "metadata": {},
   "outputs": [],
   "source": [
    "import QUANTAXIS as QA"
   ]
  },
  {
   "cell_type": "code",
   "execution_count": 4,
   "metadata": {},
   "outputs": [],
   "source": [
    "#指定下载股票的日期范围\n",
    "start_date = '2020-01-01'\n",
    "end_date = '2020-03-20'\n",
    "#使用yahoo数据源\n",
    "# zgpa = dt.DataReader('601318.ss','yahoo',start_date,end_date)"
   ]
  },
  {
   "cell_type": "code",
   "execution_count": 5,
   "metadata": {},
   "outputs": [],
   "source": [
    "zgpa = QA.QA_fetch_stock_day_adv('601318',start_date,end_date).data"
   ]
  },
  {
   "cell_type": "code",
   "execution_count": 6,
   "metadata": {},
   "outputs": [],
   "source": [
    "zgpa = zgpa.droplevel('code')"
   ]
  },
  {
   "cell_type": "code",
   "execution_count": 7,
   "metadata": {},
   "outputs": [
    {
     "data": {
      "text/html": [
       "<div>\n",
       "<style scoped>\n",
       "    .dataframe tbody tr th:only-of-type {\n",
       "        vertical-align: middle;\n",
       "    }\n",
       "\n",
       "    .dataframe tbody tr th {\n",
       "        vertical-align: top;\n",
       "    }\n",
       "\n",
       "    .dataframe thead th {\n",
       "        text-align: right;\n",
       "    }\n",
       "</style>\n",
       "<table border=\"1\" class=\"dataframe\">\n",
       "  <thead>\n",
       "    <tr style=\"text-align: right;\">\n",
       "      <th></th>\n",
       "      <th>open</th>\n",
       "      <th>high</th>\n",
       "      <th>low</th>\n",
       "      <th>close</th>\n",
       "      <th>volume</th>\n",
       "      <th>amount</th>\n",
       "    </tr>\n",
       "    <tr>\n",
       "      <th>date</th>\n",
       "      <th></th>\n",
       "      <th></th>\n",
       "      <th></th>\n",
       "      <th></th>\n",
       "      <th></th>\n",
       "      <th></th>\n",
       "    </tr>\n",
       "  </thead>\n",
       "  <tbody>\n",
       "    <tr>\n",
       "      <th>2020-01-02</th>\n",
       "      <td>85.90</td>\n",
       "      <td>86.79</td>\n",
       "      <td>85.88</td>\n",
       "      <td>86.12</td>\n",
       "      <td>778252.0</td>\n",
       "      <td>6.712531e+09</td>\n",
       "    </tr>\n",
       "    <tr>\n",
       "      <th>2020-01-03</th>\n",
       "      <td>86.81</td>\n",
       "      <td>86.88</td>\n",
       "      <td>85.90</td>\n",
       "      <td>86.20</td>\n",
       "      <td>594980.0</td>\n",
       "      <td>5.137312e+09</td>\n",
       "    </tr>\n",
       "    <tr>\n",
       "      <th>2020-01-06</th>\n",
       "      <td>85.92</td>\n",
       "      <td>86.87</td>\n",
       "      <td>85.50</td>\n",
       "      <td>85.60</td>\n",
       "      <td>636448.0</td>\n",
       "      <td>5.487968e+09</td>\n",
       "    </tr>\n",
       "    <tr>\n",
       "      <th>2020-01-07</th>\n",
       "      <td>86.01</td>\n",
       "      <td>86.46</td>\n",
       "      <td>85.67</td>\n",
       "      <td>86.15</td>\n",
       "      <td>452188.0</td>\n",
       "      <td>3.886450e+09</td>\n",
       "    </tr>\n",
       "    <tr>\n",
       "      <th>2020-01-08</th>\n",
       "      <td>85.98</td>\n",
       "      <td>85.98</td>\n",
       "      <td>84.50</td>\n",
       "      <td>85.00</td>\n",
       "      <td>628053.0</td>\n",
       "      <td>5.347387e+09</td>\n",
       "    </tr>\n",
       "  </tbody>\n",
       "</table>\n",
       "</div>"
      ],
      "text/plain": [
       "             open   high    low  close    volume        amount\n",
       "date                                                          \n",
       "2020-01-02  85.90  86.79  85.88  86.12  778252.0  6.712531e+09\n",
       "2020-01-03  86.81  86.88  85.90  86.20  594980.0  5.137312e+09\n",
       "2020-01-06  85.92  86.87  85.50  85.60  636448.0  5.487968e+09\n",
       "2020-01-07  86.01  86.46  85.67  86.15  452188.0  3.886450e+09\n",
       "2020-01-08  85.98  85.98  84.50  85.00  628053.0  5.347387e+09"
      ]
     },
     "execution_count": 7,
     "metadata": {},
     "output_type": "execute_result"
    }
   ],
   "source": [
    "# 检查数据\n",
    "zgpa.head()"
   ]
  },
  {
   "cell_type": "code",
   "execution_count": 8,
   "metadata": {},
   "outputs": [],
   "source": [
    "# 信号\n",
    "#建立一个新数据\n",
    "zgpa_signal = pd.DataFrame(index=zgpa.index)\n",
    "zgpa_signal['price'] = zgpa['close']\n",
    "#增加一个字段显示价格变化\n",
    "zgpa_signal['diff'] = zgpa_signal['price'].diff()\n",
    "#数据清理\n",
    "zgpa_signal = zgpa_signal.fillna(0.0)\n",
    "#对数据进行分类，股价上涨或保持，则为0\n",
    "zgpa_signal['signal'] = np.where(zgpa_signal['diff'] >=0, 0, 1)\n",
    "#根据信号变化进行下单\n",
    "zgpa_signal['order'] = zgpa_signal['signal'].diff()*100"
   ]
  },
  {
   "cell_type": "code",
   "execution_count": 9,
   "metadata": {},
   "outputs": [],
   "source": [
    "# #创建交易信号\n",
    "# #建立一个新数据\n",
    "# zgpa_signal = pd.DataFrame(index=zgpa.index)\n",
    "# zgpa_signal['price'] = zgpa['Adj Close']\n",
    "# #增加一个字段显示价格变化\n",
    "# zgpa_signal['diff'] = zgpa_signal['price'].diff()\n",
    "# #数据清理\n",
    "# zgpa_signal = zgpa_signal.fillna(0.0)\n",
    "# #对数据进行分类，股价上涨或保持，则为0\n",
    "# zgpa_signal['signal'] = np.where(zgpa_signal['diff'] >=0, 0, 1)\n",
    "# #根据信号变化进行下单\n",
    "# zgpa_signal['order'] = zgpa_signal['signal'].diff()*100"
   ]
  },
  {
   "cell_type": "code",
   "execution_count": 10,
   "metadata": {},
   "outputs": [
    {
     "data": {
      "text/html": [
       "<div>\n",
       "<style scoped>\n",
       "    .dataframe tbody tr th:only-of-type {\n",
       "        vertical-align: middle;\n",
       "    }\n",
       "\n",
       "    .dataframe tbody tr th {\n",
       "        vertical-align: top;\n",
       "    }\n",
       "\n",
       "    .dataframe thead th {\n",
       "        text-align: right;\n",
       "    }\n",
       "</style>\n",
       "<table border=\"1\" class=\"dataframe\">\n",
       "  <thead>\n",
       "    <tr style=\"text-align: right;\">\n",
       "      <th></th>\n",
       "      <th>price</th>\n",
       "      <th>diff</th>\n",
       "      <th>signal</th>\n",
       "      <th>order</th>\n",
       "    </tr>\n",
       "    <tr>\n",
       "      <th>date</th>\n",
       "      <th></th>\n",
       "      <th></th>\n",
       "      <th></th>\n",
       "      <th></th>\n",
       "    </tr>\n",
       "  </thead>\n",
       "  <tbody>\n",
       "    <tr>\n",
       "      <th>2020-01-02</th>\n",
       "      <td>86.12</td>\n",
       "      <td>0.00</td>\n",
       "      <td>0</td>\n",
       "      <td>NaN</td>\n",
       "    </tr>\n",
       "    <tr>\n",
       "      <th>2020-01-03</th>\n",
       "      <td>86.20</td>\n",
       "      <td>0.08</td>\n",
       "      <td>0</td>\n",
       "      <td>0.0</td>\n",
       "    </tr>\n",
       "    <tr>\n",
       "      <th>2020-01-06</th>\n",
       "      <td>85.60</td>\n",
       "      <td>-0.60</td>\n",
       "      <td>1</td>\n",
       "      <td>100.0</td>\n",
       "    </tr>\n",
       "    <tr>\n",
       "      <th>2020-01-07</th>\n",
       "      <td>86.15</td>\n",
       "      <td>0.55</td>\n",
       "      <td>0</td>\n",
       "      <td>-100.0</td>\n",
       "    </tr>\n",
       "    <tr>\n",
       "      <th>2020-01-08</th>\n",
       "      <td>85.00</td>\n",
       "      <td>-1.15</td>\n",
       "      <td>1</td>\n",
       "      <td>100.0</td>\n",
       "    </tr>\n",
       "  </tbody>\n",
       "</table>\n",
       "</div>"
      ],
      "text/plain": [
       "            price  diff  signal  order\n",
       "date                                  \n",
       "2020-01-02  86.12  0.00       0    NaN\n",
       "2020-01-03  86.20  0.08       0    0.0\n",
       "2020-01-06  85.60 -0.60       1  100.0\n",
       "2020-01-07  86.15  0.55       0 -100.0\n",
       "2020-01-08  85.00 -1.15       1  100.0"
      ]
     },
     "execution_count": 10,
     "metadata": {},
     "output_type": "execute_result"
    }
   ],
   "source": [
    "zgpa_signal.head()"
   ]
  },
  {
   "cell_type": "markdown",
   "metadata": {},
   "source": [
    "## 回测"
   ]
  },
  {
   "cell_type": "code",
   "execution_count": 11,
   "metadata": {},
   "outputs": [],
   "source": [
    "# 给2万的初始资金\n",
    "initial_cash = 20000\n",
    "#增加一个字段，代表交易股票的市值\n",
    "zgpa_signal['stock'] = zgpa_signal['order']*zgpa_signal['price']\n",
    "#两次买卖订单变化只差就是仓仓位的变化，\n",
    "#持仓股票数量变化乘以现价，就是交易产生的现金流\n",
    "#用初始资金减去现金变化的累加，就是剩余的现金\n",
    "zgpa_signal['cash'] = initial_cash - (zgpa_signal['order'].diff()*zgpa_signal['price']).cumsum()\n",
    "#股票市值+剩余现金 = 总资产\n",
    "zgpa_signal['total'] = zgpa_signal['stock'] + zgpa_signal['cash']"
   ]
  },
  {
   "cell_type": "markdown",
   "metadata": {},
   "source": [
    "展示资产变化"
   ]
  },
  {
   "cell_type": "code",
   "execution_count": 12,
   "metadata": {},
   "outputs": [
    {
     "data": {
      "image/png": "[encoded data removed]",
      "text/plain": [
       "<Figure size 720x432 with 1 Axes>"
      ]
     },
     "metadata": {
      "needs_background": "light"
     },
     "output_type": "display_data"
    }
   ],
   "source": [
    "plt.figure(figsize=(10,6))\n",
    "#分别绘制总资产和持仓市值变化\n",
    "plt.plot(zgpa_signal['total'])\n",
    "plt.plot(zgpa_signal['order'].cumsum()*zgpa_signal['price'],'--',label='stock value')\n",
    "#增加网格，调整一下图注的位置\n",
    "plt.grid()\n",
    "plt.legend(loc='center right')\n",
    "plt.show()"
   ]
  },
  {
   "cell_type": "markdown",
   "metadata": {},
   "source": [
    "## 2.2 经典策略之移动平均策略"
   ]
  },
  {
   "cell_type": "markdown",
   "metadata": {},
   "source": [
    "### 2.2.1 单一移动平均"
   ]
  },
  {
   "cell_type": "code",
   "execution_count": 13,
   "metadata": {
    "scrolled": true
   },
   "outputs": [],
   "source": [
    "# 使用10日均线\n",
    "period = 10\n",
    "# 设置一个空列表，用来存储每10天的价格\n",
    "avg_10 = []\n",
    "# 再设置一个空列表，用来存储每10天的均价\n",
    "avg_value = []\n",
    "# 设置一个循环\n",
    "for price in zgpa['close']:\n",
    "    avg_10.append(price)\n",
    "    #保持10个价格\n",
    "    if len(avg_10) > period:\n",
    "        del avg_10[0]\n",
    "    # 将10天数据的均值传入avg_value列表\n",
    "    avg_value.append(np.mean(avg_10))\n",
    "# 把计算好的10日均价写到股票价格数据表中\n",
    "zgpa = zgpa.assign(avg_10 = pd.Series(avg_value,index = zgpa.index))"
   ]
  },
  {
   "cell_type": "code",
   "execution_count": 14,
   "metadata": {},
   "outputs": [
    {
     "data": {
      "text/html": [
       "<div>\n",
       "<style scoped>\n",
       "    .dataframe tbody tr th:only-of-type {\n",
       "        vertical-align: middle;\n",
       "    }\n",
       "\n",
       "    .dataframe tbody tr th {\n",
       "        vertical-align: top;\n",
       "    }\n",
       "\n",
       "    .dataframe thead th {\n",
       "        text-align: right;\n",
       "    }\n",
       "</style>\n",
       "<table border=\"1\" class=\"dataframe\">\n",
       "  <thead>\n",
       "    <tr style=\"text-align: right;\">\n",
       "      <th></th>\n",
       "      <th>open</th>\n",
       "      <th>high</th>\n",
       "      <th>low</th>\n",
       "      <th>close</th>\n",
       "      <th>volume</th>\n",
       "      <th>amount</th>\n",
       "      <th>avg_10</th>\n",
       "    </tr>\n",
       "    <tr>\n",
       "      <th>date</th>\n",
       "      <th></th>\n",
       "      <th></th>\n",
       "      <th></th>\n",
       "      <th></th>\n",
       "      <th></th>\n",
       "      <th></th>\n",
       "      <th></th>\n",
       "    </tr>\n",
       "  </thead>\n",
       "  <tbody>\n",
       "    <tr>\n",
       "      <th>2020-01-02</th>\n",
       "      <td>85.90</td>\n",
       "      <td>86.79</td>\n",
       "      <td>85.88</td>\n",
       "      <td>86.12</td>\n",
       "      <td>778252.0</td>\n",
       "      <td>6.712531e+09</td>\n",
       "      <td>86.120000</td>\n",
       "    </tr>\n",
       "    <tr>\n",
       "      <th>2020-01-03</th>\n",
       "      <td>86.81</td>\n",
       "      <td>86.88</td>\n",
       "      <td>85.90</td>\n",
       "      <td>86.20</td>\n",
       "      <td>594980.0</td>\n",
       "      <td>5.137312e+09</td>\n",
       "      <td>86.160000</td>\n",
       "    </tr>\n",
       "    <tr>\n",
       "      <th>2020-01-06</th>\n",
       "      <td>85.92</td>\n",
       "      <td>86.87</td>\n",
       "      <td>85.50</td>\n",
       "      <td>85.60</td>\n",
       "      <td>636448.0</td>\n",
       "      <td>5.487968e+09</td>\n",
       "      <td>85.973333</td>\n",
       "    </tr>\n",
       "    <tr>\n",
       "      <th>2020-01-07</th>\n",
       "      <td>86.01</td>\n",
       "      <td>86.46</td>\n",
       "      <td>85.67</td>\n",
       "      <td>86.15</td>\n",
       "      <td>452188.0</td>\n",
       "      <td>3.886450e+09</td>\n",
       "      <td>86.017500</td>\n",
       "    </tr>\n",
       "    <tr>\n",
       "      <th>2020-01-08</th>\n",
       "      <td>85.98</td>\n",
       "      <td>85.98</td>\n",
       "      <td>84.50</td>\n",
       "      <td>85.00</td>\n",
       "      <td>628053.0</td>\n",
       "      <td>5.347387e+09</td>\n",
       "      <td>85.814000</td>\n",
       "    </tr>\n",
       "  </tbody>\n",
       "</table>\n",
       "</div>"
      ],
      "text/plain": [
       "             open   high    low  close    volume        amount     avg_10\n",
       "date                                                                     \n",
       "2020-01-02  85.90  86.79  85.88  86.12  778252.0  6.712531e+09  86.120000\n",
       "2020-01-03  86.81  86.88  85.90  86.20  594980.0  5.137312e+09  86.160000\n",
       "2020-01-06  85.92  86.87  85.50  85.60  636448.0  5.487968e+09  85.973333\n",
       "2020-01-07  86.01  86.46  85.67  86.15  452188.0  3.886450e+09  86.017500\n",
       "2020-01-08  85.98  85.98  84.50  85.00  628053.0  5.347387e+09  85.814000"
      ]
     },
     "execution_count": 14,
     "metadata": {},
     "output_type": "execute_result"
    }
   ],
   "source": [
    "zgpa.head()"
   ]
  },
  {
   "cell_type": "markdown",
   "metadata": {},
   "source": [
    "**展示**"
   ]
  },
  {
   "cell_type": "code",
   "execution_count": 15,
   "metadata": {},
   "outputs": [
    {
     "data": {
      "image/png": "[encoded data removed]",
      "text/plain": [
       "<Figure size 720x432 with 1 Axes>"
      ]
     },
     "metadata": {
      "needs_background": "light"
     },
     "output_type": "display_data"
    }
   ],
   "source": [
    "# 设置图形尺寸为 10*6\n",
    "plt.figure(figsize = (10,6))\n",
    "# 绘制股价变化\n",
    "plt.plot(zgpa['close'], lw=2, c='k', label = 'price')\n",
    "# 绘制10日均线\n",
    "plt.plot(zgpa['avg_10'],'--',lw=2,c='b', label = 'ma10')\n",
    "plt.legend()\n",
    "plt.grid()\n",
    "plt.show()"
   ]
  },
  {
   "cell_type": "markdown",
   "metadata": {},
   "source": [
    "###  双移动平均策略 (2.2.2)"
   ]
  },
  {
   "cell_type": "code",
   "execution_count": 16,
   "metadata": {},
   "outputs": [
    {
     "data": {
      "text/html": [
       "<div>\n",
       "<style scoped>\n",
       "    .dataframe tbody tr th:only-of-type {\n",
       "        vertical-align: middle;\n",
       "    }\n",
       "\n",
       "    .dataframe tbody tr th {\n",
       "        vertical-align: top;\n",
       "    }\n",
       "\n",
       "    .dataframe thead th {\n",
       "        text-align: right;\n",
       "    }\n",
       "</style>\n",
       "<table border=\"1\" class=\"dataframe\">\n",
       "  <thead>\n",
       "    <tr style=\"text-align: right;\">\n",
       "      <th></th>\n",
       "      <th>signal</th>\n",
       "      <th>avg_5</th>\n",
       "      <th>avg_10</th>\n",
       "      <th>order</th>\n",
       "    </tr>\n",
       "    <tr>\n",
       "      <th>date</th>\n",
       "      <th></th>\n",
       "      <th></th>\n",
       "      <th></th>\n",
       "      <th></th>\n",
       "    </tr>\n",
       "  </thead>\n",
       "  <tbody>\n",
       "    <tr>\n",
       "      <th>2020-03-09</th>\n",
       "      <td>1</td>\n",
       "      <td>80.314</td>\n",
       "      <td>79.868</td>\n",
       "      <td>0.0</td>\n",
       "    </tr>\n",
       "    <tr>\n",
       "      <th>2020-03-10</th>\n",
       "      <td>1</td>\n",
       "      <td>80.252</td>\n",
       "      <td>79.767</td>\n",
       "      <td>0.0</td>\n",
       "    </tr>\n",
       "    <tr>\n",
       "      <th>2020-03-11</th>\n",
       "      <td>1</td>\n",
       "      <td>79.766</td>\n",
       "      <td>79.599</td>\n",
       "      <td>0.0</td>\n",
       "    </tr>\n",
       "    <tr>\n",
       "      <th>2020-03-12</th>\n",
       "      <td>0</td>\n",
       "      <td>78.606</td>\n",
       "      <td>79.285</td>\n",
       "      <td>-1.0</td>\n",
       "    </tr>\n",
       "    <tr>\n",
       "      <th>2020-03-13</th>\n",
       "      <td>0</td>\n",
       "      <td>77.366</td>\n",
       "      <td>78.984</td>\n",
       "      <td>0.0</td>\n",
       "    </tr>\n",
       "    <tr>\n",
       "      <th>2020-03-16</th>\n",
       "      <td>0</td>\n",
       "      <td>76.138</td>\n",
       "      <td>78.226</td>\n",
       "      <td>0.0</td>\n",
       "    </tr>\n",
       "    <tr>\n",
       "      <th>2020-03-17</th>\n",
       "      <td>0</td>\n",
       "      <td>74.730</td>\n",
       "      <td>77.491</td>\n",
       "      <td>0.0</td>\n",
       "    </tr>\n",
       "    <tr>\n",
       "      <th>2020-03-18</th>\n",
       "      <td>0</td>\n",
       "      <td>73.074</td>\n",
       "      <td>76.420</td>\n",
       "      <td>0.0</td>\n",
       "    </tr>\n",
       "    <tr>\n",
       "      <th>2020-03-19</th>\n",
       "      <td>0</td>\n",
       "      <td>71.306</td>\n",
       "      <td>74.956</td>\n",
       "      <td>0.0</td>\n",
       "    </tr>\n",
       "    <tr>\n",
       "      <th>2020-03-20</th>\n",
       "      <td>0</td>\n",
       "      <td>70.164</td>\n",
       "      <td>73.765</td>\n",
       "      <td>0.0</td>\n",
       "    </tr>\n",
       "  </tbody>\n",
       "</table>\n",
       "</div>"
      ],
      "text/plain": [
       "            signal   avg_5  avg_10  order\n",
       "date                                     \n",
       "2020-03-09       1  80.314  79.868    0.0\n",
       "2020-03-10       1  80.252  79.767    0.0\n",
       "2020-03-11       1  79.766  79.599    0.0\n",
       "2020-03-12       0  78.606  79.285   -1.0\n",
       "2020-03-13       0  77.366  78.984    0.0\n",
       "2020-03-16       0  76.138  78.226    0.0\n",
       "2020-03-17       0  74.730  77.491    0.0\n",
       "2020-03-18       0  73.074  76.420    0.0\n",
       "2020-03-19       0  71.306  74.956    0.0\n",
       "2020-03-20       0  70.164  73.765    0.0"
      ]
     },
     "execution_count": 16,
     "metadata": {},
     "output_type": "execute_result"
    }
   ],
   "source": [
    "# 建立一个新数据表，命名为strategy\n",
    "strategy = pd.DataFrame(index=zgpa.index)\n",
    "# 添加一个signal字段，用来存储交易信号\n",
    "strategy['signal'] = 0\n",
    "#  ma5\n",
    "strategy['avg_5'] = zgpa['close'].rolling(5).mean()\n",
    "strategy['avg_10'] = zgpa['close'].rolling(10).mean()\n",
    "# 交易信号\n",
    "strategy['signal'] = np.where(strategy['avg_5']>strategy['avg_10'],1,0)\n",
    "strategy['order'] = strategy['signal'].diff()\n",
    "strategy.tail(10)"
   ]
  },
  {
   "cell_type": "code",
   "execution_count": 19,
   "metadata": {
    "scrolled": true
   },
   "outputs": [
    {
     "data": {
      "text/plain": [
       "date\n",
       "2020-01-16    85.55\n",
       "2020-02-13    80.45\n",
       "2020-03-06    80.91\n",
       "Name: close, dtype: float64"
      ]
     },
     "execution_count": 19,
     "metadata": {},
     "output_type": "execute_result"
    }
   ],
   "source": [
    "zgpa['close'][strategy.order==1]"
   ]
  },
  {
   "cell_type": "code",
   "execution_count": 27,
   "metadata": {},
   "outputs": [
    {
     "data": {
      "image/png": "[encoded data removed]",
      "text/plain": [
       "<Figure size 720x360 with 1 Axes>"
      ]
     },
     "metadata": {
      "needs_background": "light"
     },
     "output_type": "display_data"
    }
   ],
   "source": [
    "plt.figure(figsize=(10,5))\n",
    "# 用实线画股价\n",
    "plt.plot(zgpa['close'],lw=2,label='price')\n",
    "# 用虚线画avg_5\n",
    "plt.plot(strategy['avg_5'],lw=2,ls='--',label='avg_5')\n",
    "# 使用-.画avg_10\n",
    "plt.plot(strategy['avg_10'],lw=2,ls='-.',label='avg_10')\n",
    "plt.scatter(strategy.loc[strategy.order==1].index,\n",
    "            zgpa['close'][strategy.order==1],\n",
    "           marker='^',s=80,color='g',label='buy')\n",
    "plt.scatter(strategy.loc[strategy.order==-1].index,\n",
    "            zgpa['close'][strategy.order==1],\n",
    "           marker='v',s=80,color='g',label='sell')\n",
    "plt.legend()\n",
    "plt.grid()\n",
    "plt.show()"
   ]
  },
  {
   "cell_type": "code",
   "execution_count": null,
   "metadata": {},
   "outputs": [],
   "source": [
    "对双移动均线进行回测"
   ]
  },
  {
   "cell_type": "code",
   "execution_count": null,
   "metadata": {},
   "outputs": [],
   "source": []
  },
  {
   "cell_type": "code",
   "execution_count": null,
   "metadata": {},
   "outputs": [],
   "source": []
  },
  {
   "cell_type": "code",
   "execution_count": null,
   "metadata": {},
   "outputs": [],
   "source": []
  }
 ],
 "metadata": {
  "kernelspec": {
   "display_name": "Python 3",
   "language": "python",
   "name": "python3"
  },
  "language_info": {
   "codemirror_mode": {
    "name": "ipython",
    "version": 3
   },
   "file_extension": ".py",
   "mimetype": "text/x-python",
   "name": "python",
   "nbconvert_exporter": "python",
   "pygments_lexer": "ipython3",
   "version": "3.8.5"
  },
  "toc": {
   "base_numbering": 1,
   "nav_menu": {},
   "number_sections": true,
   "sideBar": true,
   "skip_h1_title": false,
   "title_cell": "Table of Contents",
   "title_sidebar": "Contents",
   "toc_cell": false,
   "toc_position": {},
   "toc_section_display": true,
   "toc_window_display": false
  }
 },
 "nbformat": 4,
 "nbformat_minor": 4
}
