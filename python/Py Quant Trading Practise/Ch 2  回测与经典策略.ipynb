{
 "cells": [
  {
   "cell_type": "markdown",
   "metadata": {},
   "source": [
    "# 第二章"
   ]
  },
  {
   "cell_type": "code",
   "execution_count": 2,
   "metadata": {},
   "outputs": [],
   "source": [
    "# !pip install pandas_datareader"
   ]
  },
  {
   "cell_type": "code",
   "execution_count": 3,
   "metadata": {},
   "outputs": [],
   "source": [
    "#导入必要的库\n",
    "from pandas_datareader import data as dt\n",
    "import pandas as pd\n",
    "import numpy as np\n",
    "import matplotlib.pyplot as plt\n",
    "import seaborn as sns"
   ]
  },
  {
   "cell_type": "code",
   "execution_count": 4,
   "metadata": {},
   "outputs": [],
   "source": [
    "#指定下载股票的日期范围\n",
    "start_date = '2020-01-01'\n",
    "end_date = '2020-03-20'\n",
    "#使用yahoo数据源\n",
    "zgpa = dt.DataReader('601318.ss','yahoo',start_date,end_date)"
   ]
  },
  {
   "cell_type": "code",
   "execution_count": 5,
   "metadata": {},
   "outputs": [
    {
     "data": {
      "text/html": [
       "<div>\n",
       "<style scoped>\n",
       "    .dataframe tbody tr th:only-of-type {\n",
       "        vertical-align: middle;\n",
       "    }\n",
       "\n",
       "    .dataframe tbody tr th {\n",
       "        vertical-align: top;\n",
       "    }\n",
       "\n",
       "    .dataframe thead th {\n",
       "        text-align: right;\n",
       "    }\n",
       "</style>\n",
       "<table border=\"1\" class=\"dataframe\">\n",
       "  <thead>\n",
       "    <tr style=\"text-align: right;\">\n",
       "      <th></th>\n",
       "      <th>High</th>\n",
       "      <th>Low</th>\n",
       "      <th>Open</th>\n",
       "      <th>Close</th>\n",
       "      <th>Volume</th>\n",
       "      <th>Adj Close</th>\n",
       "    </tr>\n",
       "    <tr>\n",
       "      <th>Date</th>\n",
       "      <th></th>\n",
       "      <th></th>\n",
       "      <th></th>\n",
       "      <th></th>\n",
       "      <th></th>\n",
       "      <th></th>\n",
       "    </tr>\n",
       "  </thead>\n",
       "  <tbody>\n",
       "    <tr>\n",
       "      <th>2020-01-02</th>\n",
       "      <td>86.790001</td>\n",
       "      <td>85.879997</td>\n",
       "      <td>85.900002</td>\n",
       "      <td>86.120003</td>\n",
       "      <td>77825207</td>\n",
       "      <td>80.861595</td>\n",
       "    </tr>\n",
       "    <tr>\n",
       "      <th>2020-01-03</th>\n",
       "      <td>86.879997</td>\n",
       "      <td>85.900002</td>\n",
       "      <td>86.809998</td>\n",
       "      <td>86.199997</td>\n",
       "      <td>59498001</td>\n",
       "      <td>80.936707</td>\n",
       "    </tr>\n",
       "    <tr>\n",
       "      <th>2020-01-06</th>\n",
       "      <td>86.870003</td>\n",
       "      <td>85.500000</td>\n",
       "      <td>85.919998</td>\n",
       "      <td>85.599998</td>\n",
       "      <td>63644804</td>\n",
       "      <td>80.373352</td>\n",
       "    </tr>\n",
       "    <tr>\n",
       "      <th>2020-01-07</th>\n",
       "      <td>86.459999</td>\n",
       "      <td>85.669998</td>\n",
       "      <td>86.010002</td>\n",
       "      <td>86.150002</td>\n",
       "      <td>45218832</td>\n",
       "      <td>80.889771</td>\n",
       "    </tr>\n",
       "    <tr>\n",
       "      <th>2020-01-08</th>\n",
       "      <td>85.000000</td>\n",
       "      <td>85.000000</td>\n",
       "      <td>85.000000</td>\n",
       "      <td>85.000000</td>\n",
       "      <td>62805311</td>\n",
       "      <td>79.809990</td>\n",
       "    </tr>\n",
       "  </tbody>\n",
       "</table>\n",
       "</div>"
      ],
      "text/plain": [
       "                 High        Low       Open      Close    Volume  Adj Close\n",
       "Date                                                                       \n",
       "2020-01-02  86.790001  85.879997  85.900002  86.120003  77825207  80.861595\n",
       "2020-01-03  86.879997  85.900002  86.809998  86.199997  59498001  80.936707\n",
       "2020-01-06  86.870003  85.500000  85.919998  85.599998  63644804  80.373352\n",
       "2020-01-07  86.459999  85.669998  86.010002  86.150002  45218832  80.889771\n",
       "2020-01-08  85.000000  85.000000  85.000000  85.000000  62805311  79.809990"
      ]
     },
     "execution_count": 5,
     "metadata": {},
     "output_type": "execute_result"
    }
   ],
   "source": [
    "# 检查数据\n",
    "zgpa.head()"
   ]
  },
  {
   "cell_type": "code",
   "execution_count": 24,
   "metadata": {},
   "outputs": [],
   "source": [
    "#创建交易信号\n",
    "#建立一个新数据\n",
    "zgpa_signal = pd.DataFrame(index=zgpa.index)\n",
    "zgpa_signal['price'] = zgpa['Adj Close']\n",
    "#增加一个字段显示价格变化\n",
    "zgpa_signal['diff'] = zgpa_signal['price'].diff()\n",
    "#数据清理\n",
    "zgpa_signal = zgpa_signal.fillna(0.0)\n",
    "#对数据进行分类，股价上涨或保持，则为0\n",
    "zgpa_signal['signal'] = np.where(zgpa_signal['diff'] >=0, 0, 1)\n",
    "#根据信号变化进行下单\n",
    "zgpa_signal['order'] = zgpa_signal['signal'].diff()*100"
   ]
  },
  {
   "cell_type": "code",
   "execution_count": 20,
   "metadata": {},
   "outputs": [
    {
     "data": {
      "text/html": [
       "<div>\n",
       "<style scoped>\n",
       "    .dataframe tbody tr th:only-of-type {\n",
       "        vertical-align: middle;\n",
       "    }\n",
       "\n",
       "    .dataframe tbody tr th {\n",
       "        vertical-align: top;\n",
       "    }\n",
       "\n",
       "    .dataframe thead th {\n",
       "        text-align: right;\n",
       "    }\n",
       "</style>\n",
       "<table border=\"1\" class=\"dataframe\">\n",
       "  <thead>\n",
       "    <tr style=\"text-align: right;\">\n",
       "      <th></th>\n",
       "      <th>price</th>\n",
       "      <th>diff</th>\n",
       "      <th>signal</th>\n",
       "      <th>order</th>\n",
       "    </tr>\n",
       "    <tr>\n",
       "      <th>Date</th>\n",
       "      <th></th>\n",
       "      <th></th>\n",
       "      <th></th>\n",
       "      <th></th>\n",
       "    </tr>\n",
       "  </thead>\n",
       "  <tbody>\n",
       "    <tr>\n",
       "      <th>2020-01-02</th>\n",
       "      <td>80.861595</td>\n",
       "      <td>0.000000</td>\n",
       "      <td>0</td>\n",
       "      <td>NaN</td>\n",
       "    </tr>\n",
       "    <tr>\n",
       "      <th>2020-01-03</th>\n",
       "      <td>80.936707</td>\n",
       "      <td>0.075111</td>\n",
       "      <td>0</td>\n",
       "      <td>0.0</td>\n",
       "    </tr>\n",
       "    <tr>\n",
       "      <th>2020-01-06</th>\n",
       "      <td>80.373352</td>\n",
       "      <td>-0.563354</td>\n",
       "      <td>1</td>\n",
       "      <td>100.0</td>\n",
       "    </tr>\n",
       "    <tr>\n",
       "      <th>2020-01-07</th>\n",
       "      <td>80.889771</td>\n",
       "      <td>0.516418</td>\n",
       "      <td>0</td>\n",
       "      <td>-100.0</td>\n",
       "    </tr>\n",
       "    <tr>\n",
       "      <th>2020-01-08</th>\n",
       "      <td>79.809990</td>\n",
       "      <td>-1.079781</td>\n",
       "      <td>1</td>\n",
       "      <td>100.0</td>\n",
       "    </tr>\n",
       "  </tbody>\n",
       "</table>\n",
       "</div>"
      ],
      "text/plain": [
       "                price      diff  signal  order\n",
       "Date                                          \n",
       "2020-01-02  80.861595  0.000000       0    NaN\n",
       "2020-01-03  80.936707  0.075111       0    0.0\n",
       "2020-01-06  80.373352 -0.563354       1  100.0\n",
       "2020-01-07  80.889771  0.516418       0 -100.0\n",
       "2020-01-08  79.809990 -1.079781       1  100.0"
      ]
     },
     "execution_count": 20,
     "metadata": {},
     "output_type": "execute_result"
    }
   ],
   "source": [
    "zgpa_signal.head()"
   ]
  },
  {
   "cell_type": "markdown",
   "metadata": {},
   "source": [
    "## 回测"
   ]
  },
  {
   "cell_type": "code",
   "execution_count": 25,
   "metadata": {},
   "outputs": [],
   "source": [
    "# 给2万的初始资金\n",
    "initial_cash = 20000\n",
    "#增加一个字段，代表交易股票的市值\n",
    "zgpa_signal['stock'] = zgpa_signal['order']*zgpa_signal['price']\n",
    "#两次买卖订单变化只差就是仓仓位的变化，\n",
    "#持仓股票数量变化乘以现价，就是交易产生的现金流\n",
    "#用初始资金减去现金变化的累加，就是剩余的现金\n",
    "zgpa_signal['cash'] = initial_cash - (zgpa_signal['order'].diff()*zgpa_signal['price']).cumsum()\n",
    "#股票市值+剩余现金 = 总资产\n",
    "zgpa_signal['total'] = zgpa_signal['stock'] + zgpa_signal['cash']"
   ]
  },
  {
   "cell_type": "markdown",
   "metadata": {},
   "source": [
    "展示资产变化"
   ]
  },
  {
   "cell_type": "code",
   "execution_count": 32,
   "metadata": {},
   "outputs": [
    {
     "data": {
      "image/png": "[encoded data removed]",
      "text/plain": [
       "<Figure size 720x432 with 1 Axes>"
      ]
     },
     "metadata": {
      "needs_background": "light"
     },
     "output_type": "display_data"
    }
   ],
   "source": [
    "plt.figure(figsize=(10,6))\n",
    "#分别绘制总资产和持仓市值变化\n",
    "plt.plot(zgpa_signal['total'])\n",
    "plt.plot(zgpa_signal['order'].cumsum()*zgpa_signal['price'],'--',label='stock value')\n",
    "#增加网格，调整一下图注的位置\n",
    "plt.grid()\n",
    "plt.legend(loc='center right')\n",
    "plt.show()"
   ]
  },
  {
   "cell_type": "markdown",
   "metadata": {},
   "source": [
    "## 2.2 经典策略之移动平均策略"
   ]
  },
  {
   "cell_type": "markdown",
   "metadata": {},
   "source": [
    "### 2.2.1 单一移动平均"
   ]
  },
  {
   "cell_type": "code",
   "execution_count": 38,
   "metadata": {
    "scrolled": true
   },
   "outputs": [],
   "source": [
    "# 使用10日均线\n",
    "period = 10\n",
    "# 设置一个空列表，用来存储每10天的价格\n",
    "avg_10 = []\n",
    "# 再设置一个空列表，用来存储每10天的均价\n",
    "avg_value = []\n",
    "# 设置一个循环\n",
    "for price in zgpa['Adj Close']:\n",
    "    avg_10.append(price)\n",
    "    #保持10个价格\n",
    "    if len(avg_10) > period:\n",
    "        del avg_10[0]\n",
    "    # 将10天数据的均值传入avg_value列表\n",
    "    avg_value.append(np.mean(avg_10))\n",
    "# 把计算好的10日均价写到股票价格数据表中\n",
    "zgpa = zgpa.assign(avg_10 = pd.Series(avg_value,index = zgpa.index))"
   ]
  },
  {
   "cell_type": "code",
   "execution_count": 39,
   "metadata": {},
   "outputs": [
    {
     "data": {
      "text/html": [
       "<div>\n",
       "<style scoped>\n",
       "    .dataframe tbody tr th:only-of-type {\n",
       "        vertical-align: middle;\n",
       "    }\n",
       "\n",
       "    .dataframe tbody tr th {\n",
       "        vertical-align: top;\n",
       "    }\n",
       "\n",
       "    .dataframe thead th {\n",
       "        text-align: right;\n",
       "    }\n",
       "</style>\n",
       "<table border=\"1\" class=\"dataframe\">\n",
       "  <thead>\n",
       "    <tr style=\"text-align: right;\">\n",
       "      <th></th>\n",
       "      <th>High</th>\n",
       "      <th>Low</th>\n",
       "      <th>Open</th>\n",
       "      <th>Close</th>\n",
       "      <th>Volume</th>\n",
       "      <th>Adj Close</th>\n",
       "      <th>avg_10</th>\n",
       "    </tr>\n",
       "    <tr>\n",
       "      <th>Date</th>\n",
       "      <th></th>\n",
       "      <th></th>\n",
       "      <th></th>\n",
       "      <th></th>\n",
       "      <th></th>\n",
       "      <th></th>\n",
       "      <th></th>\n",
       "    </tr>\n",
       "  </thead>\n",
       "  <tbody>\n",
       "    <tr>\n",
       "      <th>2020-01-02</th>\n",
       "      <td>86.790001</td>\n",
       "      <td>85.879997</td>\n",
       "      <td>85.900002</td>\n",
       "      <td>86.120003</td>\n",
       "      <td>77825207</td>\n",
       "      <td>80.861595</td>\n",
       "      <td>80.861595</td>\n",
       "    </tr>\n",
       "    <tr>\n",
       "      <th>2020-01-03</th>\n",
       "      <td>86.879997</td>\n",
       "      <td>85.900002</td>\n",
       "      <td>86.809998</td>\n",
       "      <td>86.199997</td>\n",
       "      <td>59498001</td>\n",
       "      <td>80.936707</td>\n",
       "      <td>80.899151</td>\n",
       "    </tr>\n",
       "    <tr>\n",
       "      <th>2020-01-06</th>\n",
       "      <td>86.870003</td>\n",
       "      <td>85.500000</td>\n",
       "      <td>85.919998</td>\n",
       "      <td>85.599998</td>\n",
       "      <td>63644804</td>\n",
       "      <td>80.373352</td>\n",
       "      <td>80.723885</td>\n",
       "    </tr>\n",
       "    <tr>\n",
       "      <th>2020-01-07</th>\n",
       "      <td>86.459999</td>\n",
       "      <td>85.669998</td>\n",
       "      <td>86.010002</td>\n",
       "      <td>86.150002</td>\n",
       "      <td>45218832</td>\n",
       "      <td>80.889771</td>\n",
       "      <td>80.765356</td>\n",
       "    </tr>\n",
       "    <tr>\n",
       "      <th>2020-01-08</th>\n",
       "      <td>85.000000</td>\n",
       "      <td>85.000000</td>\n",
       "      <td>85.000000</td>\n",
       "      <td>85.000000</td>\n",
       "      <td>62805311</td>\n",
       "      <td>79.809990</td>\n",
       "      <td>80.574283</td>\n",
       "    </tr>\n",
       "  </tbody>\n",
       "</table>\n",
       "</div>"
      ],
      "text/plain": [
       "                 High        Low       Open      Close    Volume  Adj Close  \\\n",
       "Date                                                                          \n",
       "2020-01-02  86.790001  85.879997  85.900002  86.120003  77825207  80.861595   \n",
       "2020-01-03  86.879997  85.900002  86.809998  86.199997  59498001  80.936707   \n",
       "2020-01-06  86.870003  85.500000  85.919998  85.599998  63644804  80.373352   \n",
       "2020-01-07  86.459999  85.669998  86.010002  86.150002  45218832  80.889771   \n",
       "2020-01-08  85.000000  85.000000  85.000000  85.000000  62805311  79.809990   \n",
       "\n",
       "               avg_10  \n",
       "Date                   \n",
       "2020-01-02  80.861595  \n",
       "2020-01-03  80.899151  \n",
       "2020-01-06  80.723885  \n",
       "2020-01-07  80.765356  \n",
       "2020-01-08  80.574283  "
      ]
     },
     "execution_count": 39,
     "metadata": {},
     "output_type": "execute_result"
    }
   ],
   "source": [
    "zgpa.head()"
   ]
  },
  {
   "cell_type": "markdown",
   "metadata": {},
   "source": [
    "**展示**"
   ]
  },
  {
   "cell_type": "code",
   "execution_count": 47,
   "metadata": {},
   "outputs": [
    {
     "data": {
      "image/png": "[encoded data removed]",
      "text/plain": [
       "<Figure size 720x432 with 1 Axes>"
      ]
     },
     "metadata": {
      "needs_background": "light"
     },
     "output_type": "display_data"
    }
   ],
   "source": [
    "# 设置图形尺寸为 10*6\n",
    "plt.figure(figsize = (10,6))\n",
    "# 绘制股价变化\n",
    "plt.plot(zgpa['Adj Close'], lw=2, c='k', label = 'price')\n",
    "# 绘制10日均线\n",
    "plt.plot(zgpa['avg_10'],'--',lw=2,c='b', label = 'ma10')\n",
    "plt.legend()\n",
    "plt.grid()\n",
    "plt.show()"
   ]
  },
  {
   "cell_type": "markdown",
   "metadata": {},
   "source": [
    "### 2.2.2 双移动平均策略"
   ]
  },
  {
   "cell_type": "code",
   "execution_count": null,
   "metadata": {},
   "outputs": [],
   "source": [
    "# 建立一个新数据表，命名为strategy\n",
    "strategy = pd.DataFrame(index=zgpa.index)\n",
    "# 添加一个signal字段，用来存储交易信号\n"
   ]
  },
  {
   "cell_type": "code",
   "execution_count": null,
   "metadata": {},
   "outputs": [],
   "source": []
  },
  {
   "cell_type": "code",
   "execution_count": null,
   "metadata": {},
   "outputs": [],
   "source": []
  }
 ],
 "metadata": {
  "kernelspec": {
   "display_name": "Python 3",
   "language": "python",
   "name": "python3"
  },
  "language_info": {
   "codemirror_mode": {
    "name": "ipython",
    "version": 3
   },
   "file_extension": ".py",
   "mimetype": "text/x-python",
   "name": "python",
   "nbconvert_exporter": "python",
   "pygments_lexer": "ipython3",
   "version": "3.8.5"
  }
 },
 "nbformat": 4,
 "nbformat_minor": 4
}
