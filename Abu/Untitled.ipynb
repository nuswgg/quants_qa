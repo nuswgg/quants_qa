{
 "cells": [
  {
   "cell_type": "code",
   "execution_count": 4,
   "metadata": {},
   "outputs": [
    {
     "ename": "ImportError",
     "evalue": "cannot import name 'widget_loop_back' from 'abupy' (d:\\ProgramData\\Anaconda3\\lib\\site-packages\\abupy\\__init__.py)",
     "output_type": "error",
     "traceback": [
      "\u001b[1;31m---------------------------------------------------------------------------\u001b[0m",
      "\u001b[1;31mImportError\u001b[0m                               Traceback (most recent call last)",
      "\u001b[1;32m<ipython-input-4-b7ef97eb4a49>\u001b[0m in \u001b[0;36m<module>\u001b[1;34m\u001b[0m\n\u001b[0;32m      1\u001b[0m \u001b[0mget_ipython\u001b[0m\u001b[1;33m(\u001b[0m\u001b[1;33m)\u001b[0m\u001b[1;33m.\u001b[0m\u001b[0mrun_line_magic\u001b[0m\u001b[1;33m(\u001b[0m\u001b[1;34m'matplotlib'\u001b[0m\u001b[1;33m,\u001b[0m \u001b[1;34m'inline'\u001b[0m\u001b[1;33m)\u001b[0m\u001b[1;33m\u001b[0m\u001b[1;33m\u001b[0m\u001b[0m\n\u001b[0;32m      2\u001b[0m \u001b[1;32mimport\u001b[0m \u001b[0mabupy\u001b[0m\u001b[1;33m\u001b[0m\u001b[1;33m\u001b[0m\u001b[0m\n\u001b[1;32m----> 3\u001b[1;33m \u001b[1;32mfrom\u001b[0m \u001b[0mabupy\u001b[0m \u001b[1;32mimport\u001b[0m \u001b[0mwidget_loop_back\u001b[0m\u001b[1;33m\u001b[0m\u001b[1;33m\u001b[0m\u001b[0m\n\u001b[0m\u001b[0;32m      4\u001b[0m \u001b[0mwidget_loop_back\u001b[0m\u001b[1;33m.\u001b[0m\u001b[0mshow_ui\u001b[0m\u001b[1;33m(\u001b[0m\u001b[1;33m)\u001b[0m\u001b[1;33m\u001b[0m\u001b[1;33m\u001b[0m\u001b[0m\n",
      "\u001b[1;31mImportError\u001b[0m: cannot import name 'widget_loop_back' from 'abupy' (d:\\ProgramData\\Anaconda3\\lib\\site-packages\\abupy\\__init__.py)"
     ]
    }
   ],
   "source": [
    "%matplotlib inline\n",
    "import abupy\n",
    "from abupy import widget_loop_back\n",
    "widget_loop_back.show_ui()"
   ]
  },
  {
   "cell_type": "code",
   "execution_count": 2,
   "metadata": {},
   "outputs": [
    {
     "ename": "ModuleNotFoundError",
     "evalue": "No module named 'widget_loop_back'",
     "output_type": "error",
     "traceback": [
      "\u001b[1;31m---------------------------------------------------------------------------\u001b[0m",
      "\u001b[1;31mModuleNotFoundError\u001b[0m                       Traceback (most recent call last)",
      "\u001b[1;32m<ipython-input-2-11d71c05e4af>\u001b[0m in \u001b[0;36m<module>\u001b[1;34m\u001b[0m\n\u001b[1;32m----> 1\u001b[1;33m \u001b[1;32mimport\u001b[0m \u001b[0mwidget_loop_back\u001b[0m\u001b[1;33m\u001b[0m\u001b[1;33m\u001b[0m\u001b[0m\n\u001b[0m\u001b[0;32m      2\u001b[0m \u001b[0mwidget_loop_back\u001b[0m\u001b[1;33m.\u001b[0m\u001b[0mshow_ui\u001b[0m\u001b[1;33m(\u001b[0m\u001b[1;33m)\u001b[0m\u001b[1;33m\u001b[0m\u001b[1;33m\u001b[0m\u001b[0m\n",
      "\u001b[1;31mModuleNotFoundError\u001b[0m: No module named 'widget_loop_back'"
     ]
    }
   ],
   "source": []
  },
  {
   "cell_type": "code",
   "execution_count": 9,
   "metadata": {},
   "outputs": [],
   "source": [
    "# 基础库导入，注意第一次运行时会比较慢，要做数据的解压等处理操作\n",
    "from __future__ import print_function\n",
    "from __future__ import division\n",
    "\n",
    "import warnings\n",
    "warnings.filterwarnings('ignore')\n",
    "warnings.simplefilter('ignore')\n",
    "    \n",
    "import numpy as np\n",
    "import pandas as pd\n",
    "import matplotlib.pyplot as plt\n",
    "%matplotlib inline\n",
    "import os\n",
    "import sys\n",
    "# 使用insert 0即只使用github，避免交叉使用了pip安装的abupy，导致的版本不一致问题\n",
    "sys.path.insert(0, os.path.abspath('../'))\n",
    "import abupy"
   ]
  },
  {
   "cell_type": "code",
   "execution_count": 10,
   "metadata": {},
   "outputs": [
    {
     "name": "stderr",
     "output_type": "stream",
     "text": [
      "enable example env will only read RomDataBu/csv\n"
     ]
    }
   ],
   "source": [
    "# 使用沙盒数据，目的是和书中一样的数据环境\n",
    "abupy.env.enable_example_env_ipython()"
   ]
  },
  {
   "cell_type": "code",
   "execution_count": 11,
   "metadata": {},
   "outputs": [
    {
     "data": {
      "text/plain": [
       "True"
      ]
     },
     "execution_count": 11,
     "metadata": {},
     "output_type": "execute_result"
    }
   ],
   "source": [
    "from abupy import ABuSymbolPd\n",
    "ABuSymbolPd.make_kl_df('usJD') is None"
   ]
  },
  {
   "cell_type": "code",
   "execution_count": 15,
   "metadata": {},
   "outputs": [
    {
     "name": "stderr",
     "output_type": "stream",
     "text": [
      "disable example env\n",
      "HTTPConnectionPool(host='gp.baidu.com', port=80): Max retries exceeded with url: /stocks/stockkline?from=android&os_ver=21&format=json&vv=3.3.0&uid=&BDUSS=&cuid=dbsssainux79kp6ukep5ic22nj4alayqv7crr3jn&channel=default_channel&device=OPPOR9&logid=1611980160&actionid=1611980094&device_net_type=wifi&period=day&stock_code=usJD&fq_type=front (Caused by NewConnectionError('<urllib3.connection.HTTPConnection object at 0x00000216DD1E10A0>: Failed to establish a new connection: [WinError 10061] 由于目标计算机积极拒绝，无法连接。'))\n",
      "Traceback (most recent call last):\n",
      "  File \"d:\\ProgramData\\Anaconda3\\lib\\site-packages\\urllib3\\connection.py\", line 159, in _new_conn\n",
      "    conn = connection.create_connection(\n",
      "  File \"d:\\ProgramData\\Anaconda3\\lib\\site-packages\\urllib3\\util\\connection.py\", line 84, in create_connection\n",
      "    raise err\n",
      "  File \"d:\\ProgramData\\Anaconda3\\lib\\site-packages\\urllib3\\util\\connection.py\", line 74, in create_connection\n",
      "    sock.connect(sa)\n",
      "ConnectionRefusedError: [WinError 10061] 由于目标计算机积极拒绝，无法连接。\n",
      "\n",
      "During handling of the above exception, another exception occurred:\n",
      "\n",
      "Traceback (most recent call last):\n",
      "  File \"d:\\ProgramData\\Anaconda3\\lib\\site-packages\\urllib3\\connectionpool.py\", line 670, in urlopen\n",
      "    httplib_response = self._make_request(\n",
      "  File \"d:\\ProgramData\\Anaconda3\\lib\\site-packages\\urllib3\\connectionpool.py\", line 392, in _make_request\n",
      "    conn.request(method, url, **httplib_request_kw)\n",
      "  File \"d:\\ProgramData\\Anaconda3\\lib\\http\\client.py\", line 1255, in request\n",
      "    self._send_request(method, url, body, headers, encode_chunked)\n",
      "  File \"d:\\ProgramData\\Anaconda3\\lib\\http\\client.py\", line 1301, in _send_request\n",
      "    self.endheaders(body, encode_chunked=encode_chunked)\n",
      "  File \"d:\\ProgramData\\Anaconda3\\lib\\http\\client.py\", line 1250, in endheaders\n",
      "    self._send_output(message_body, encode_chunked=encode_chunked)\n",
      "  File \"d:\\ProgramData\\Anaconda3\\lib\\http\\client.py\", line 1010, in _send_output\n",
      "    self.send(msg)\n",
      "  File \"d:\\ProgramData\\Anaconda3\\lib\\http\\client.py\", line 950, in send\n",
      "    self.connect()\n",
      "  File \"d:\\ProgramData\\Anaconda3\\lib\\site-packages\\urllib3\\connection.py\", line 187, in connect\n",
      "    conn = self._new_conn()\n",
      "  File \"d:\\ProgramData\\Anaconda3\\lib\\site-packages\\urllib3\\connection.py\", line 171, in _new_conn\n",
      "    raise NewConnectionError(\n",
      "urllib3.exceptions.NewConnectionError: <urllib3.connection.HTTPConnection object at 0x00000216DD1E10A0>: Failed to establish a new connection: [WinError 10061] 由于目标计算机积极拒绝，无法连接。\n",
      "\n",
      "During handling of the above exception, another exception occurred:\n",
      "\n",
      "Traceback (most recent call last):\n",
      "  File \"d:\\ProgramData\\Anaconda3\\lib\\site-packages\\requests\\adapters.py\", line 439, in send\n",
      "    resp = conn.urlopen(\n",
      "  File \"d:\\ProgramData\\Anaconda3\\lib\\site-packages\\urllib3\\connectionpool.py\", line 726, in urlopen\n",
      "    retries = retries.increment(\n",
      "  File \"d:\\ProgramData\\Anaconda3\\lib\\site-packages\\urllib3\\util\\retry.py\", line 446, in increment\n",
      "    raise MaxRetryError(_pool, url, error or ResponseError(cause))\n",
      "urllib3.exceptions.MaxRetryError: HTTPConnectionPool(host='gp.baidu.com', port=80): Max retries exceeded with url: /stocks/stockkline?from=android&os_ver=21&format=json&vv=3.3.0&uid=&BDUSS=&cuid=dbsssainux79kp6ukep5ic22nj4alayqv7crr3jn&channel=default_channel&device=OPPOR9&logid=1611980160&actionid=1611980094&device_net_type=wifi&period=day&stock_code=usJD&fq_type=front (Caused by NewConnectionError('<urllib3.connection.HTTPConnection object at 0x00000216DD1E10A0>: Failed to establish a new connection: [WinError 10061] 由于目标计算机积极拒绝，无法连接。'))\n",
      "\n",
      "During handling of the above exception, another exception occurred:\n",
      "\n",
      "Traceback (most recent call last):\n",
      "  File \"d:\\ProgramData\\Anaconda3\\lib\\site-packages\\abupy\\MarketBu\\ABuNetWork.py\", line 43, in get\n",
      "    resp = requests.get(url=url, params=params, headers=headers, **kwargs)\n",
      "  File \"d:\\ProgramData\\Anaconda3\\lib\\site-packages\\requests\\api.py\", line 76, in get\n",
      "    return request('get', url, params=params, **kwargs)\n",
      "  File \"d:\\ProgramData\\Anaconda3\\lib\\site-packages\\requests\\api.py\", line 61, in request\n",
      "    return session.request(method=method, url=url, **kwargs)\n",
      "  File \"d:\\ProgramData\\Anaconda3\\lib\\site-packages\\requests\\sessions.py\", line 530, in request\n",
      "    resp = self.send(prep, **send_kwargs)\n",
      "  File \"d:\\ProgramData\\Anaconda3\\lib\\site-packages\\requests\\sessions.py\", line 643, in send\n",
      "    r = adapter.send(request, **kwargs)\n",
      "  File \"d:\\ProgramData\\Anaconda3\\lib\\site-packages\\requests\\adapters.py\", line 516, in send\n",
      "    raise ConnectionError(e, request=request)\n",
      "requests.exceptions.ConnectionError: HTTPConnectionPool(host='gp.baidu.com', port=80): Max retries exceeded with url: /stocks/stockkline?from=android&os_ver=21&format=json&vv=3.3.0&uid=&BDUSS=&cuid=dbsssainux79kp6ukep5ic22nj4alayqv7crr3jn&channel=default_channel&device=OPPOR9&logid=1611980160&actionid=1611980094&device_net_type=wifi&period=day&stock_code=usJD&fq_type=front (Caused by NewConnectionError('<urllib3.connection.HTTPConnection object at 0x00000216DD1E10A0>: Failed to establish a new connection: [WinError 10061] 由于目标计算机积极拒绝，无法连接。'))\n",
      "HTTPConnectionPool(host='gp.baidu.com', port=80): Max retries exceeded with url: /stocks/stockkline?from=android&os_ver=21&format=json&vv=3.3.0&uid=&BDUSS=&cuid=dbsssainux79kp6ukep5ic22nj4alayqv7crr3jn&channel=default_channel&device=OPPOR9&logid=1611980160&actionid=1611980094&device_net_type=wifi&period=day&stock_code=usJD&fq_type=front (Caused by NewConnectionError('<urllib3.connection.HTTPConnection object at 0x00000216E6301580>: Failed to establish a new connection: [WinError 10061] 由于目标计算机积极拒绝，无法连接。'))\n",
      "Traceback (most recent call last):\n",
      "  File \"d:\\ProgramData\\Anaconda3\\lib\\site-packages\\urllib3\\connection.py\", line 159, in _new_conn\n",
      "    conn = connection.create_connection(\n",
      "  File \"d:\\ProgramData\\Anaconda3\\lib\\site-packages\\urllib3\\util\\connection.py\", line 84, in create_connection\n",
      "    raise err\n",
      "  File \"d:\\ProgramData\\Anaconda3\\lib\\site-packages\\urllib3\\util\\connection.py\", line 74, in create_connection\n",
      "    sock.connect(sa)\n",
      "ConnectionRefusedError: [WinError 10061] 由于目标计算机积极拒绝，无法连接。\n",
      "\n",
      "During handling of the above exception, another exception occurred:\n",
      "\n",
      "Traceback (most recent call last):\n",
      "  File \"d:\\ProgramData\\Anaconda3\\lib\\site-packages\\urllib3\\connectionpool.py\", line 670, in urlopen\n",
      "    httplib_response = self._make_request(\n",
      "  File \"d:\\ProgramData\\Anaconda3\\lib\\site-packages\\urllib3\\connectionpool.py\", line 392, in _make_request\n",
      "    conn.request(method, url, **httplib_request_kw)\n",
      "  File \"d:\\ProgramData\\Anaconda3\\lib\\http\\client.py\", line 1255, in request\n",
      "    self._send_request(method, url, body, headers, encode_chunked)\n",
      "  File \"d:\\ProgramData\\Anaconda3\\lib\\http\\client.py\", line 1301, in _send_request\n",
      "    self.endheaders(body, encode_chunked=encode_chunked)\n",
      "  File \"d:\\ProgramData\\Anaconda3\\lib\\http\\client.py\", line 1250, in endheaders\n",
      "    self._send_output(message_body, encode_chunked=encode_chunked)\n",
      "  File \"d:\\ProgramData\\Anaconda3\\lib\\http\\client.py\", line 1010, in _send_output\n",
      "    self.send(msg)\n",
      "  File \"d:\\ProgramData\\Anaconda3\\lib\\http\\client.py\", line 950, in send\n",
      "    self.connect()\n",
      "  File \"d:\\ProgramData\\Anaconda3\\lib\\site-packages\\urllib3\\connection.py\", line 187, in connect\n",
      "    conn = self._new_conn()\n",
      "  File \"d:\\ProgramData\\Anaconda3\\lib\\site-packages\\urllib3\\connection.py\", line 171, in _new_conn\n",
      "    raise NewConnectionError(\n",
      "urllib3.exceptions.NewConnectionError: <urllib3.connection.HTTPConnection object at 0x00000216E6301580>: Failed to establish a new connection: [WinError 10061] 由于目标计算机积极拒绝，无法连接。\n",
      "\n",
      "During handling of the above exception, another exception occurred:\n",
      "\n",
      "Traceback (most recent call last):\n",
      "  File \"d:\\ProgramData\\Anaconda3\\lib\\site-packages\\requests\\adapters.py\", line 439, in send\n",
      "    resp = conn.urlopen(\n",
      "  File \"d:\\ProgramData\\Anaconda3\\lib\\site-packages\\urllib3\\connectionpool.py\", line 726, in urlopen\n",
      "    retries = retries.increment(\n",
      "  File \"d:\\ProgramData\\Anaconda3\\lib\\site-packages\\urllib3\\util\\retry.py\", line 446, in increment\n",
      "    raise MaxRetryError(_pool, url, error or ResponseError(cause))\n",
      "urllib3.exceptions.MaxRetryError: HTTPConnectionPool(host='gp.baidu.com', port=80): Max retries exceeded with url: /stocks/stockkline?from=android&os_ver=21&format=json&vv=3.3.0&uid=&BDUSS=&cuid=dbsssainux79kp6ukep5ic22nj4alayqv7crr3jn&channel=default_channel&device=OPPOR9&logid=1611980160&actionid=1611980094&device_net_type=wifi&period=day&stock_code=usJD&fq_type=front (Caused by NewConnectionError('<urllib3.connection.HTTPConnection object at 0x00000216E6301580>: Failed to establish a new connection: [WinError 10061] 由于目标计算机积极拒绝，无法连接。'))\n",
      "\n",
      "During handling of the above exception, another exception occurred:\n",
      "\n",
      "Traceback (most recent call last):\n",
      "  File \"d:\\ProgramData\\Anaconda3\\lib\\site-packages\\abupy\\MarketBu\\ABuNetWork.py\", line 43, in get\n",
      "    resp = requests.get(url=url, params=params, headers=headers, **kwargs)\n",
      "  File \"d:\\ProgramData\\Anaconda3\\lib\\site-packages\\requests\\api.py\", line 76, in get\n",
      "    return request('get', url, params=params, **kwargs)\n",
      "  File \"d:\\ProgramData\\Anaconda3\\lib\\site-packages\\requests\\api.py\", line 61, in request\n",
      "    return session.request(method=method, url=url, **kwargs)\n",
      "  File \"d:\\ProgramData\\Anaconda3\\lib\\site-packages\\requests\\sessions.py\", line 530, in request\n",
      "    resp = self.send(prep, **send_kwargs)\n",
      "  File \"d:\\ProgramData\\Anaconda3\\lib\\site-packages\\requests\\sessions.py\", line 643, in send\n",
      "    r = adapter.send(request, **kwargs)\n",
      "  File \"d:\\ProgramData\\Anaconda3\\lib\\site-packages\\requests\\adapters.py\", line 516, in send\n",
      "    raise ConnectionError(e, request=request)\n",
      "requests.exceptions.ConnectionError: HTTPConnectionPool(host='gp.baidu.com', port=80): Max retries exceeded with url: /stocks/stockkline?from=android&os_ver=21&format=json&vv=3.3.0&uid=&BDUSS=&cuid=dbsssainux79kp6ukep5ic22nj4alayqv7crr3jn&channel=default_channel&device=OPPOR9&logid=1611980160&actionid=1611980094&device_net_type=wifi&period=day&stock_code=usJD&fq_type=front (Caused by NewConnectionError('<urllib3.connection.HTTPConnection object at 0x00000216E6301580>: Failed to establish a new connection: [WinError 10061] 由于目标计算机积极拒绝，无法连接。'))\n"
     ]
    },
    {
     "name": "stderr",
     "output_type": "stream",
     "text": [
      "HTTPConnectionPool(host='gp.baidu.com', port=80): Max retries exceeded with url: /stocks/stockkline?from=android&os_ver=21&format=json&vv=3.3.0&uid=&BDUSS=&cuid=dbsssainux79kp6ukep5ic22nj4alayqv7crr3jn&channel=default_channel&device=OPPOR9&logid=1611980160&actionid=1611980094&device_net_type=wifi&period=day&stock_code=usJD&fq_type=front (Caused by NewConnectionError('<urllib3.connection.HTTPConnection object at 0x00000216E6301D30>: Failed to establish a new connection: [WinError 10061] 由于目标计算机积极拒绝，无法连接。'))\n",
      "Traceback (most recent call last):\n",
      "  File \"d:\\ProgramData\\Anaconda3\\lib\\site-packages\\urllib3\\connection.py\", line 159, in _new_conn\n",
      "    conn = connection.create_connection(\n",
      "  File \"d:\\ProgramData\\Anaconda3\\lib\\site-packages\\urllib3\\util\\connection.py\", line 84, in create_connection\n",
      "    raise err\n",
      "  File \"d:\\ProgramData\\Anaconda3\\lib\\site-packages\\urllib3\\util\\connection.py\", line 74, in create_connection\n",
      "    sock.connect(sa)\n",
      "ConnectionRefusedError: [WinError 10061] 由于目标计算机积极拒绝，无法连接。\n",
      "\n",
      "During handling of the above exception, another exception occurred:\n",
      "\n",
      "Traceback (most recent call last):\n",
      "  File \"d:\\ProgramData\\Anaconda3\\lib\\site-packages\\urllib3\\connectionpool.py\", line 670, in urlopen\n",
      "    httplib_response = self._make_request(\n",
      "  File \"d:\\ProgramData\\Anaconda3\\lib\\site-packages\\urllib3\\connectionpool.py\", line 392, in _make_request\n",
      "    conn.request(method, url, **httplib_request_kw)\n",
      "  File \"d:\\ProgramData\\Anaconda3\\lib\\http\\client.py\", line 1255, in request\n",
      "    self._send_request(method, url, body, headers, encode_chunked)\n",
      "  File \"d:\\ProgramData\\Anaconda3\\lib\\http\\client.py\", line 1301, in _send_request\n",
      "    self.endheaders(body, encode_chunked=encode_chunked)\n",
      "  File \"d:\\ProgramData\\Anaconda3\\lib\\http\\client.py\", line 1250, in endheaders\n",
      "    self._send_output(message_body, encode_chunked=encode_chunked)\n",
      "  File \"d:\\ProgramData\\Anaconda3\\lib\\http\\client.py\", line 1010, in _send_output\n",
      "    self.send(msg)\n",
      "  File \"d:\\ProgramData\\Anaconda3\\lib\\http\\client.py\", line 950, in send\n",
      "    self.connect()\n",
      "  File \"d:\\ProgramData\\Anaconda3\\lib\\site-packages\\urllib3\\connection.py\", line 187, in connect\n",
      "    conn = self._new_conn()\n",
      "  File \"d:\\ProgramData\\Anaconda3\\lib\\site-packages\\urllib3\\connection.py\", line 171, in _new_conn\n",
      "    raise NewConnectionError(\n",
      "urllib3.exceptions.NewConnectionError: <urllib3.connection.HTTPConnection object at 0x00000216E6301D30>: Failed to establish a new connection: [WinError 10061] 由于目标计算机积极拒绝，无法连接。\n",
      "\n",
      "During handling of the above exception, another exception occurred:\n",
      "\n",
      "Traceback (most recent call last):\n",
      "  File \"d:\\ProgramData\\Anaconda3\\lib\\site-packages\\requests\\adapters.py\", line 439, in send\n",
      "    resp = conn.urlopen(\n",
      "  File \"d:\\ProgramData\\Anaconda3\\lib\\site-packages\\urllib3\\connectionpool.py\", line 726, in urlopen\n",
      "    retries = retries.increment(\n",
      "  File \"d:\\ProgramData\\Anaconda3\\lib\\site-packages\\urllib3\\util\\retry.py\", line 446, in increment\n",
      "    raise MaxRetryError(_pool, url, error or ResponseError(cause))\n",
      "urllib3.exceptions.MaxRetryError: HTTPConnectionPool(host='gp.baidu.com', port=80): Max retries exceeded with url: /stocks/stockkline?from=android&os_ver=21&format=json&vv=3.3.0&uid=&BDUSS=&cuid=dbsssainux79kp6ukep5ic22nj4alayqv7crr3jn&channel=default_channel&device=OPPOR9&logid=1611980160&actionid=1611980094&device_net_type=wifi&period=day&stock_code=usJD&fq_type=front (Caused by NewConnectionError('<urllib3.connection.HTTPConnection object at 0x00000216E6301D30>: Failed to establish a new connection: [WinError 10061] 由于目标计算机积极拒绝，无法连接。'))\n",
      "\n",
      "During handling of the above exception, another exception occurred:\n",
      "\n",
      "Traceback (most recent call last):\n",
      "  File \"d:\\ProgramData\\Anaconda3\\lib\\site-packages\\abupy\\MarketBu\\ABuNetWork.py\", line 43, in get\n",
      "    resp = requests.get(url=url, params=params, headers=headers, **kwargs)\n",
      "  File \"d:\\ProgramData\\Anaconda3\\lib\\site-packages\\requests\\api.py\", line 76, in get\n",
      "    return request('get', url, params=params, **kwargs)\n",
      "  File \"d:\\ProgramData\\Anaconda3\\lib\\site-packages\\requests\\api.py\", line 61, in request\n",
      "    return session.request(method=method, url=url, **kwargs)\n",
      "  File \"d:\\ProgramData\\Anaconda3\\lib\\site-packages\\requests\\sessions.py\", line 530, in request\n",
      "    resp = self.send(prep, **send_kwargs)\n",
      "  File \"d:\\ProgramData\\Anaconda3\\lib\\site-packages\\requests\\sessions.py\", line 643, in send\n",
      "    r = adapter.send(request, **kwargs)\n",
      "  File \"d:\\ProgramData\\Anaconda3\\lib\\site-packages\\requests\\adapters.py\", line 516, in send\n",
      "    raise ConnectionError(e, request=request)\n",
      "requests.exceptions.ConnectionError: HTTPConnectionPool(host='gp.baidu.com', port=80): Max retries exceeded with url: /stocks/stockkline?from=android&os_ver=21&format=json&vv=3.3.0&uid=&BDUSS=&cuid=dbsssainux79kp6ukep5ic22nj4alayqv7crr3jn&channel=default_channel&device=OPPOR9&logid=1611980160&actionid=1611980094&device_net_type=wifi&period=day&stock_code=usJD&fq_type=front (Caused by NewConnectionError('<urllib3.connection.HTTPConnection object at 0x00000216E6301D30>: Failed to establish a new connection: [WinError 10061] 由于目标计算机积极拒绝，无法连接。'))\n",
      "enable example env will only read RomDataBu/csv\n"
     ]
    }
   ],
   "source": [
    "abupy.env.disable_example_env_ipython()\n",
    "us_jd = ABuSymbolPd.make_kl_df('usJD')\n",
    "# 再次开启沙盒环境，本节的示例都是在沙盒数据环境下运行\n",
    "abupy.env.enable_example_env_ipython()\n",
    "tail = None\n",
    "if us_jd is not None:\n",
    "    tail = us_jd.tail()\n",
    "tail"
   ]
  },
  {
   "cell_type": "code",
   "execution_count": null,
   "metadata": {},
   "outputs": [],
   "source": []
  },
  {
   "cell_type": "code",
   "execution_count": null,
   "metadata": {},
   "outputs": [],
   "source": []
  },
  {
   "cell_type": "code",
   "execution_count": null,
   "metadata": {},
   "outputs": [],
   "source": []
  }
 ],
 "metadata": {
  "kernelspec": {
   "display_name": "Python 3",
   "language": "python",
   "name": "python3"
  },
  "language_info": {
   "codemirror_mode": {
    "name": "ipython",
    "version": 3
   },
   "file_extension": ".py",
   "mimetype": "text/x-python",
   "name": "python",
   "nbconvert_exporter": "python",
   "pygments_lexer": "ipython3",
   "version": "3.8.5"
  }
 },
 "nbformat": 4,
 "nbformat_minor": 4
}
